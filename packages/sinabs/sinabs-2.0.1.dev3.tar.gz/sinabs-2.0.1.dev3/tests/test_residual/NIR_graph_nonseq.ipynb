{
 "cells": [
  {
   "cell_type": "code",
   "execution_count": 1,
   "metadata": {},
   "outputs": [],
   "source": [
    "import torch\n",
    "import torch.nn as nn\n",
    "from sinabs import to_nir\n",
    "import networkx as nx\n",
    "import matplotlib.pyplot as plt"
   ]
  },
  {
   "cell_type": "code",
   "execution_count": 2,
   "metadata": {},
   "outputs": [],
   "source": [
    "class NonSeq(nn.Module):\n",
    "    def __init__(self, *args, **kwargs) -> None:\n",
    "        super().__init__(*args, **kwargs)\n",
    "                                      # input tensor   /  output tensor\n",
    "        self.fc1 = nn.Linear(100, 50) # Size([1, 100]) /  Size([1, 50])\n",
    "        self.fc2 = nn.Linear(50, 50)  # Size([1, 50])  /  Size([1, 50])\n",
    "        self.fc3 = nn.Linear(50, 50)  # Size([1, 50])  /  Size([1, 50])\n",
    "        self.fc4 = nn.Linear(50, 30)  # Size([1, 50])  /  Size([1, 30])\n",
    "        self.fc5 = nn.Linear(30, 2)   # Size([1, 30])  /  Size([1, 2])\n",
    "\n",
    "    def forward(self, x):\n",
    "\n",
    "        out1 = self.fc1(x)\n",
    "        out2 = self.fc2(out1)\n",
    "        out3 = self.fc3(out2)\n",
    "        out4 = self.fc4(out3 + out2)\n",
    "        out5 = self.fc5(out4)\n",
    "\n",
    "        return out5\n",
    "\n",
    "ann = NonSeq()\n"
   ]
  },
  {
   "cell_type": "code",
   "execution_count": 3,
   "metadata": {},
   "outputs": [
    {
     "name": "stdout",
     "output_type": "stream",
     "text": [
      "7\n"
     ]
    }
   ],
   "source": [
    "ann_graph = [\n",
    "    ('input', 'fc1'),\n",
    "    ('fc1', 'fc2'),\n",
    "    ('fc2', 'fc3'),\n",
    "    ('fc2', 'fc4'),\n",
    "    ('fc3', 'fc4'),\n",
    "    ('fc4', 'fc5'),\n",
    "    ('fc5', 'output'),\n",
    "]\n",
    "\n",
    "print(len(ann_graph))"
   ]
  },
  {
   "cell_type": "code",
   "execution_count": 4,
   "metadata": {},
   "outputs": [],
   "source": [
    "# g_ideal = nx.DiGraph(ann_graph)\n",
    "# nx.draw(g_ideal, with_labels = True)\n",
    "# plt.show()"
   ]
  },
  {
   "cell_type": "code",
   "execution_count": 5,
   "metadata": {},
   "outputs": [
    {
     "name": "stdout",
     "output_type": "stream",
     "text": [
      "=================================\n",
      "> input_data: torch.Size([1, 100])\n",
      "  creating Node: Tensor_0(1, 100) <inp>\n",
      "  returning Node: fc1 <inp>\n",
      "> output_data: torch.Size([1, 50])\n",
      "  returning Node: fc1 <out>\n",
      "  creating Node: Tensor_1(1, 50) <out>\n",
      "\n",
      "\n",
      "> input_data: torch.Size([1, 50])\n",
      "  returning Node: Tensor_1(1, 50) <inp>\n",
      "  returning Node: fc2 <inp>\n",
      "> output_data: torch.Size([1, 50])\n",
      "  returning Node: fc2 <out>\n",
      "  creating Node: Tensor_2(1, 50) <out>\n",
      "\n",
      "\n",
      "> input_data: torch.Size([1, 50])\n",
      "  returning Node: Tensor_2(1, 50) <inp>\n",
      "  returning Node: fc3 <inp>\n",
      "> output_data: torch.Size([1, 50])\n",
      "  returning Node: fc3 <out>\n",
      "  creating Node: Tensor_3(1, 50) <out>\n",
      "\n",
      "\n",
      "> input_data: torch.Size([1, 50])\n",
      "  creating Node: Tensor_4(1, 50) <inp>\n",
      "  returning Node: fc4 <inp>\n",
      "> output_data: torch.Size([1, 30])\n",
      "  returning Node: fc4 <out>\n",
      "  creating Node: Tensor_5(1, 30) <out>\n",
      "\n",
      "\n",
      "> input_data: torch.Size([1, 30])\n",
      "  returning Node: Tensor_5(1, 30) <inp>\n",
      "  returning Node: fc5 <inp>\n",
      "> output_data: torch.Size([1, 2])\n",
      "  returning Node: fc5 <out>\n",
      "  creating Node: Tensor_6(1, 2) <out>\n",
      "\n",
      "\n",
      "> input_data: torch.Size([1, 100])\n",
      "> output_data: torch.Size([1, 2])\n",
      "\n",
      "\n",
      "++++++++++++++++++++++++++++++++\n",
      "  returning Node: fc1 \n",
      "  returning Node: fc2 \n",
      "  returning Node: fc2 \n",
      "  returning Node: fc3 \n",
      "  returning Node: fc4 \n",
      "  returning Node: fc5 \n",
      "-------------extract_nir_graph_v2(extract_torch_graph()) (wrong)---------------\n",
      ">>>>  fc1\n",
      ">>>>  fc2\n",
      ">>>>  fc3\n",
      ">>>>  fc4\n",
      ">>>>  fc5\n",
      "```mermaid\n",
      "graph TD;\n",
      "fc1 --> fc2;\n",
      "fc2 --> fc3;\n",
      "fc3;\n",
      "fc4 --> fc5;\n",
      "fc5;\n",
      "\n",
      "```\n",
      " <class 'nirtorch.graph.Graph'>\n",
      "--------------------------------------------------------\n",
      "0: 1\n",
      "1: 6 [('input', 'fc1'), ('fc1', 'fc2'), ('fc2', 'fc3'), ('fc3', 'output'), ('fc4', 'fc5'), ('fc5', 'output')]\n",
      "2: 6\n"
     ]
    }
   ],
   "source": [
    "nir_graph = to_nir(ann, torch.randn(1, 100))"
   ]
  },
  {
   "cell_type": "code",
   "execution_count": 6,
   "metadata": {},
   "outputs": [],
   "source": [
    "# g_nir = nx.DiGraph(nir_graph.edges)\n",
    "# nx.draw(g_nir, with_labels = True)\n",
    "# plt.show()"
   ]
  }
 ],
 "metadata": {
  "kernelspec": {
   "display_name": "speck-rescnn",
   "language": "python",
   "name": "python3"
  },
  "language_info": {
   "codemirror_mode": {
    "name": "ipython",
    "version": 3
   },
   "file_extension": ".py",
   "mimetype": "text/x-python",
   "name": "python",
   "nbconvert_exporter": "python",
   "pygments_lexer": "ipython3",
   "version": "3.11.3"
  }
 },
 "nbformat": 4,
 "nbformat_minor": 2
}
