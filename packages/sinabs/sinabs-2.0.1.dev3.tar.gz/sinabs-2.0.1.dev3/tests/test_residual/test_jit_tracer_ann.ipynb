{
 "cells": [
  {
   "cell_type": "code",
   "execution_count": 10,
   "metadata": {},
   "outputs": [],
   "source": [
    "import torch\n",
    "import torch.nn as nn"
   ]
  },
  {
   "cell_type": "code",
   "execution_count": 11,
   "metadata": {},
   "outputs": [],
   "source": [
    "class NonSeq(nn.Module):\n",
    "    def __init__(self, *args, **kwargs) -> None:\n",
    "        super().__init__(*args, **kwargs)\n",
    "        self.fc1 = nn.Linear(100, 50)\n",
    "        self.fc2 = nn.Linear(50, 50)\n",
    "        self.fc3 = nn.Linear(50, 50)\n",
    "        self.fc4 = nn.Linear(50, 30)\n",
    "        self.fc5 = nn.Linear(30, 2)\n",
    "\n",
    "    def forward(self, x):\n",
    "        out1 = self.fc1(x)\n",
    "        out2 = self.fc2(out1)\n",
    "        out3 = self.fc3(out2)\n",
    "        out4 = self.fc4(out3 + out2)\n",
    "        out5 = self.fc5(out4)\n",
    "        return out5\n",
    "\n",
    "model = NonSeq()"
   ]
  },
  {
   "cell_type": "code",
   "execution_count": 12,
   "metadata": {},
   "outputs": [],
   "source": [
    "dummy_input = torch.randn(1, 100)"
   ]
  },
  {
   "cell_type": "code",
   "execution_count": 13,
   "metadata": {},
   "outputs": [],
   "source": [
    "trace = torch.jit.trace(model, dummy_input)"
   ]
  },
  {
   "cell_type": "code",
   "execution_count": 14,
   "metadata": {},
   "outputs": [],
   "source": [
    "trace_output = trace(dummy_input)"
   ]
  },
  {
   "cell_type": "code",
   "execution_count": 15,
   "metadata": {},
   "outputs": [
    {
     "name": "stdout",
     "output_type": "stream",
     "text": [
      "graph(%self.1 : __torch__.___torch_mangle_15.NonSeq,\n",
      "      %x : Float(1, 100, strides=[100, 1], requires_grad=0, device=cpu)):\n",
      "  %fc5 : __torch__.torch.nn.modules.linear.___torch_mangle_14.Linear = prim::GetAttr[name=\"fc5\"](%self.1)\n",
      "  %fc4 : __torch__.torch.nn.modules.linear.___torch_mangle_13.Linear = prim::GetAttr[name=\"fc4\"](%self.1)\n",
      "  %fc3 : __torch__.torch.nn.modules.linear.___torch_mangle_12.Linear = prim::GetAttr[name=\"fc3\"](%self.1)\n",
      "  %fc2 : __torch__.torch.nn.modules.linear.___torch_mangle_11.Linear = prim::GetAttr[name=\"fc2\"](%self.1)\n",
      "  %fc1 : __torch__.torch.nn.modules.linear.___torch_mangle_10.Linear = prim::GetAttr[name=\"fc1\"](%self.1)\n",
      "  %61 : Tensor = prim::CallMethod[name=\"forward\"](%fc1, %x)\n",
      "  %62 : Tensor = prim::CallMethod[name=\"forward\"](%fc2, %61)\n",
      "  %63 : Tensor = prim::CallMethod[name=\"forward\"](%fc3, %62)\n",
      "  %32 : int = prim::Constant[value=1]() # /tmp/ipykernel_16069/242438593.py:14:0\n",
      "  %input.5 : Float(1, 50, strides=[50, 1], requires_grad=1, device=cpu) = aten::add(%63, %62, %32) # /tmp/ipykernel_16069/242438593.py:14:0\n",
      "  %64 : Tensor = prim::CallMethod[name=\"forward\"](%fc4, %input.5)\n",
      "  %65 : Tensor = prim::CallMethod[name=\"forward\"](%fc5, %64)\n",
      "  return (%65)\n",
      "\n"
     ]
    }
   ],
   "source": [
    "print(trace.graph)"
   ]
  },
  {
   "cell_type": "code",
   "execution_count": 16,
   "metadata": {},
   "outputs": [
    {
     "name": "stdout",
     "output_type": "stream",
     "text": [
      "def forward(self,\n",
      "    x: Tensor) -> Tensor:\n",
      "  fc5 = self.fc5\n",
      "  fc4 = self.fc4\n",
      "  fc3 = self.fc3\n",
      "  fc2 = self.fc2\n",
      "  fc1 = self.fc1\n",
      "  _0 = (fc2).forward((fc1).forward(x, ), )\n",
      "  input = torch.add((fc3).forward(_0, ), _0)\n",
      "  _1 = (fc5).forward((fc4).forward(input, ), )\n",
      "  return _1\n",
      " <class 'str'>\n"
     ]
    }
   ],
   "source": [
    "print(trace.code, type(trace.code))"
   ]
  },
  {
   "cell_type": "code",
   "execution_count": 19,
   "metadata": {},
   "outputs": [
    {
     "name": "stdout",
     "output_type": "stream",
     "text": [
      "(%fc5 : __torch__.torch.nn.modules.linear.___torch_mangle_14.Linear = prim::GetAttr[name=\"fc5\"](%self.1)\n",
      ", fc5 defined in (%fc5 : __torch__.torch.nn.modules.linear.___torch_mangle_14.Linear = prim::GetAttr[name=\"fc5\"](%self.1)\n",
      "))\n",
      "(%fc4 : __torch__.torch.nn.modules.linear.___torch_mangle_13.Linear = prim::GetAttr[name=\"fc4\"](%self.1)\n",
      ", fc4 defined in (%fc4 : __torch__.torch.nn.modules.linear.___torch_mangle_13.Linear = prim::GetAttr[name=\"fc4\"](%self.1)\n",
      "))\n",
      "(%fc3 : __torch__.torch.nn.modules.linear.___torch_mangle_12.Linear = prim::GetAttr[name=\"fc3\"](%self.1)\n",
      ", fc3 defined in (%fc3 : __torch__.torch.nn.modules.linear.___torch_mangle_12.Linear = prim::GetAttr[name=\"fc3\"](%self.1)\n",
      "))\n",
      "(%fc2 : __torch__.torch.nn.modules.linear.___torch_mangle_11.Linear = prim::GetAttr[name=\"fc2\"](%self.1)\n",
      ", fc2 defined in (%fc2 : __torch__.torch.nn.modules.linear.___torch_mangle_11.Linear = prim::GetAttr[name=\"fc2\"](%self.1)\n",
      "))\n",
      "(%fc1 : __torch__.torch.nn.modules.linear.___torch_mangle_10.Linear = prim::GetAttr[name=\"fc1\"](%self.1)\n",
      ", fc1 defined in (%fc1 : __torch__.torch.nn.modules.linear.___torch_mangle_10.Linear = prim::GetAttr[name=\"fc1\"](%self.1)\n",
      "))\n",
      "(%61 : Tensor = prim::CallMethod[name=\"forward\"](%fc1, %x)\n",
      ", 61 defined in (%61 : Tensor = prim::CallMethod[name=\"forward\"](%fc1, %x)\n",
      "))\n",
      "(%62 : Tensor = prim::CallMethod[name=\"forward\"](%fc2, %61)\n",
      ", 62 defined in (%62 : Tensor = prim::CallMethod[name=\"forward\"](%fc2, %61)\n",
      "))\n",
      "(%63 : Tensor = prim::CallMethod[name=\"forward\"](%fc3, %62)\n",
      ", 63 defined in (%63 : Tensor = prim::CallMethod[name=\"forward\"](%fc3, %62)\n",
      "))\n",
      "(%32 : int = prim::Constant[value=1]() # /tmp/ipykernel_16069/242438593.py:14:0\n",
      ", 32 defined in (%32 : int = prim::Constant[value=1]() # /tmp/ipykernel_16069/242438593.py:14:0\n",
      "))\n",
      "(%input.5 : Float(1, 50, strides=[50, 1], requires_grad=1, device=cpu) = aten::add(%63, %62, %32) # /tmp/ipykernel_16069/242438593.py:14:0\n",
      ", input.5 defined in (%input.5 : Float(1, 50, strides=[50, 1], requires_grad=1, device=cpu) = aten::add(%63, %62, %32) # /tmp/ipykernel_16069/242438593.py:14:0\n",
      "))\n",
      "(%64 : Tensor = prim::CallMethod[name=\"forward\"](%fc4, %input.5)\n",
      ", 64 defined in (%64 : Tensor = prim::CallMethod[name=\"forward\"](%fc4, %input.5)\n",
      "))\n",
      "(%65 : Tensor = prim::CallMethod[name=\"forward\"](%fc5, %64)\n",
      ", 65 defined in (%65 : Tensor = prim::CallMethod[name=\"forward\"](%fc5, %64)\n",
      "))\n"
     ]
    }
   ],
   "source": [
    "edges = []\n",
    "for node in trace.graph.nodes():\n",
    "    for next_node in node.outputs():\n",
    "        edges.append((node, next_node))\n",
    "        print(edges[-1])"
   ]
  }
 ],
 "metadata": {
  "kernelspec": {
   "display_name": "speck-rescnn",
   "language": "python",
   "name": "python3"
  },
  "language_info": {
   "codemirror_mode": {
    "name": "ipython",
    "version": 3
   },
   "file_extension": ".py",
   "mimetype": "text/x-python",
   "name": "python",
   "nbconvert_exporter": "python",
   "pygments_lexer": "ipython3",
   "version": "3.11.3"
  }
 },
 "nbformat": 4,
 "nbformat_minor": 2
}
