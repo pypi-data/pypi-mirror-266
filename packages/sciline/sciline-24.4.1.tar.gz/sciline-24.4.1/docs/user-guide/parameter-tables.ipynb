{
 "cells": [
  {
   "attachments": {},
   "cell_type": "markdown",
   "metadata": {},
   "source": [
    "# Parameter Tables\n",
    "\n",
    "## Overview\n",
    "\n",
    "Parameter tables provide a mechanism for repeating parts of or all of a computation with different values for one or more parameters.\n",
    "This allows for a variety of use cases, similar to *map*, *reduce*, and *groupby* operations in other systems.\n",
    "We illustrate each of these in the follow three chapters."
   ]
  },
  {
   "cell_type": "markdown",
   "metadata": {},
   "source": [
    "## Computing results for series of parameters\n",
    "\n",
    "This chapter illustrates how to implement *map* operations with Sciline.\n",
    "\n",
    "Starting with the model workflow introduced in [Getting Started](getting-started.ipynb), we can replace the fixed `Filename` parameter with a series of filenames listed in a [ParamTable](../generated/classes/sciline.ParamTable.rst):"
   ]
  },
  {
   "cell_type": "code",
   "execution_count": null,
   "metadata": {},
   "outputs": [],
   "source": [
    "from typing import NewType\n",
    "import sciline\n",
    "\n",
    "_fake_filesytem = {\n",
    "    'file102.txt': [1, 2, float('nan'), 3],\n",
    "    'file103.txt': [1, 2, 3, 4],\n",
    "    'file104.txt': [1, 2, 3, 4, 5],\n",
    "    'file105.txt': [1, 2, 3],\n",
    "}\n",
    "\n",
    "# 1. Define domain types\n",
    "\n",
    "Filename = NewType('Filename', str)\n",
    "RawData = NewType('RawData', dict)\n",
    "CleanedData = NewType('CleanedData', list)\n",
    "ScaleFactor = NewType('ScaleFactor', float)\n",
    "Result = NewType('Result', float)\n",
    "\n",
    "\n",
    "# 2. Define providers\n",
    "\n",
    "\n",
    "def load(filename: Filename) -> RawData:\n",
    "    \"\"\"Load the data from the filename.\"\"\"\n",
    "\n",
    "    data = _fake_filesytem[filename]\n",
    "    return RawData({'data': data, 'meta': {'filename': filename}})\n",
    "\n",
    "\n",
    "def clean(raw_data: RawData) -> CleanedData:\n",
    "    \"\"\"Clean the data, removing NaNs.\"\"\"\n",
    "    import math\n",
    "\n",
    "    return CleanedData([x for x in raw_data['data'] if not math.isnan(x)])\n",
    "\n",
    "\n",
    "def process(data: CleanedData, param: ScaleFactor) -> Result:\n",
    "    \"\"\"Process the data, multiplying the sum by the scale factor.\"\"\"\n",
    "    return Result(sum(data) * param)\n",
    "\n",
    "\n",
    "# 3. Create pipeline\n",
    "\n",
    "# 3.a Providers and normal parameters\n",
    "providers = [load, clean, process]\n",
    "params = {ScaleFactor: 2.0}\n",
    "\n",
    "# 3.b Parameter table\n",
    "RunID = NewType('RunID', int)\n",
    "run_ids = [102, 103, 104, 105]\n",
    "filenames = [f'file{i}.txt' for i in run_ids]\n",
    "param_table = sciline.ParamTable(RunID, {Filename: filenames}, index=run_ids)"
   ]
  },
  {
   "cell_type": "markdown",
   "metadata": {},
   "source": [
    "Note how steps 1.) and 2.) are identical to those from the example without parameter table.\n",
    "Above we have created the following parameter table:"
   ]
  },
  {
   "cell_type": "code",
   "execution_count": null,
   "metadata": {},
   "outputs": [],
   "source": [
    "param_table"
   ]
  },
  {
   "cell_type": "markdown",
   "metadata": {},
   "source": [
    "We can now create the pipeline and set the parameter table:"
   ]
  },
  {
   "cell_type": "code",
   "execution_count": null,
   "metadata": {},
   "outputs": [],
   "source": [
    "# 3.c Setup pipeline\n",
    "pipeline = sciline.Pipeline(providers, params=params)\n",
    "pipeline.set_param_table(param_table)"
   ]
  },
  {
   "cell_type": "markdown",
   "metadata": {},
   "source": [
    "Then we can compute `Result` for each index in the parameter table:"
   ]
  },
  {
   "cell_type": "code",
   "execution_count": null,
   "metadata": {},
   "outputs": [],
   "source": [
    "pipeline.compute(sciline.Series[RunID, Result])"
   ]
  },
  {
   "cell_type": "markdown",
   "metadata": {},
   "source": [
    "\n",
    "`sciline.Series` is a special `dict`-like type that signals to Sciline that the values of the series are based on values from one or more columns of a parameter table.\n",
    "The parameter table is identified using the first argument to `Series`, in this case `RunID`.\n",
    "The second argument specifies the result to be computed.\n",
    "\n",
    "We can also visualize the task graph for computing the series of `Result` values:"
   ]
  },
  {
   "cell_type": "code",
   "execution_count": null,
   "metadata": {},
   "outputs": [],
   "source": [
    "pipeline.visualize(sciline.Series[RunID, Result])"
   ]
  },
  {
   "cell_type": "markdown",
   "metadata": {},
   "source": [
    "Nodes that depend on values from a parameter table are drawn with the parameter index name (the row dimension of the parameter table) and value given in parenthesis.\n",
    "The dashed arrow indicates and internal transformation that gathers result from each branch and combines them into a single output, here `Series[RunID, Result]`.\n",
    "\n",
    "<div class=\"alert alert-info\">\n",
    "\n",
    "Note\n",
    "\n",
    "With long parameter tables, graphs can get messy and hard to read.\n",
    "Try using `visualize(..., compact=True)`.\n",
    "\n",
    "The `compact=True` option to yields a much more compact representation.\n",
    "Instead of drawing every intermediate result and provider for each parameter, we then represent each parameter-dependent result as a single \"3D box\" node, representing all nodes for different values of the respective parameter.\n",
    "\n",
    "</div>"
   ]
  },
  {
   "cell_type": "markdown",
   "metadata": {},
   "source": [
    "## Combining intermediate results from series of parameters\n",
    "\n",
    "This chapter illustrates how to implement *reduce* operations with Sciline.\n",
    "\n",
    "Instead of requesting a series of results as above, we can also build pipelines with providers that depend on such series.\n",
    "We can create a new pipeline, or extend the existing one by inserting a new provider:\n"
   ]
  },
  {
   "cell_type": "code",
   "execution_count": null,
   "metadata": {},
   "outputs": [],
   "source": [
    "MergedResult = NewType('MergedResult', float)\n",
    "\n",
    "\n",
    "def merge_runs(runs: sciline.Series[RunID, Result]) -> MergedResult:\n",
    "    return MergedResult(sum(runs.values()))\n",
    "\n",
    "\n",
    "pipeline.insert(merge_runs)\n",
    "graph = pipeline.get(MergedResult)\n",
    "graph.visualize()"
   ]
  },
  {
   "cell_type": "markdown",
   "metadata": {},
   "source": [
    "Note that this is identical to the example in the previous section, except for the last two nodes in the graph.\n",
    "The computation now returns a single result:"
   ]
  },
  {
   "cell_type": "code",
   "execution_count": null,
   "metadata": {},
   "outputs": [],
   "source": [
    "graph.compute()"
   ]
  },
  {
   "cell_type": "markdown",
   "metadata": {},
   "source": [
    "This is useful if we need to continue computation after gathering results without setting up a second pipeline."
   ]
  },
  {
   "cell_type": "markdown",
   "metadata": {},
   "source": [
    "## Grouping intermediate results based on secondary parameters\n",
    "\n",
    "This chapter illustrates how to implement *groupby* operations with Sciline.\n",
    "\n",
    "Continuing from the examples for *map* and *reduce*, we can introduce a secondary parameter in the table, such as the material of the sample:"
   ]
  },
  {
   "cell_type": "code",
   "execution_count": null,
   "metadata": {},
   "outputs": [],
   "source": [
    "Material = NewType('Material', str)\n",
    "\n",
    "# 3.a Providers and normal parameters\n",
    "providers = [load, clean, process, merge_runs]\n",
    "params = {ScaleFactor: 2.0}\n",
    "\n",
    "# 3.b Parameter table\n",
    "run_ids = [102, 103, 104, 105]\n",
    "sample = ['diamond', 'graphite', 'graphite', 'graphite']\n",
    "filenames = [f'file{i}.txt' for i in run_ids]\n",
    "param_table = sciline.ParamTable(\n",
    "    RunID, {Filename: filenames, Material: sample}, index=run_ids\n",
    ")\n",
    "param_table"
   ]
  },
  {
   "cell_type": "code",
   "execution_count": null,
   "metadata": {},
   "outputs": [],
   "source": [
    "# 3.c Setup pipeline\n",
    "pipeline = sciline.Pipeline(providers, params=params)\n",
    "pipeline.set_param_table(param_table)"
   ]
  },
  {
   "cell_type": "markdown",
   "metadata": {},
   "source": [
    "We can now compute `MergedResult` for a series of \"materials\":"
   ]
  },
  {
   "cell_type": "code",
   "execution_count": null,
   "metadata": {},
   "outputs": [],
   "source": [
    "pipeline.compute(sciline.Series[Material, MergedResult])"
   ]
  },
  {
   "cell_type": "markdown",
   "metadata": {},
   "source": [
    "The computation looks as show below.\n",
    "Note how the initial steps of the computation depend on the `RunID` parameter, while later steps depend on `Material`:\n",
    "The files for each run ID have been grouped by their material and then merged:"
   ]
  },
  {
   "cell_type": "code",
   "execution_count": null,
   "metadata": {},
   "outputs": [],
   "source": [
    "pipeline.visualize(sciline.Series[Material, MergedResult])"
   ]
  },
  {
   "cell_type": "markdown",
   "metadata": {},
   "source": [
    "## More examples"
   ]
  },
  {
   "cell_type": "markdown",
   "metadata": {},
   "source": [
    "### Using tables for series of parameters\n",
    "\n",
    "Sometimes the parameter of interest is the index of a parameter table itself.\n",
    "If there are no further parameters, the param table may have no columns (aside from the index).\n",
    "In this case we can bypass the manual creation of a parameter table and use the [Pipeline.set_param_series](../generated/classes/sciline.Pipeline.rst#sciline.Pipeline.set_param_series) function instead:"
   ]
  },
  {
   "cell_type": "code",
   "execution_count": null,
   "metadata": {},
   "outputs": [],
   "source": [
    "from typing import NewType\n",
    "import sciline as sl\n",
    "\n",
    "Param = NewType(\"Param\", int)\n",
    "Sum = NewType(\"Sum\", float)\n",
    "\n",
    "\n",
    "def compute(x: Param) -> float:\n",
    "    return 0.5 * x\n",
    "\n",
    "\n",
    "def gather(x: sl.Series[Param, float]) -> Sum:\n",
    "    return Sum(sum(x.values()))\n",
    "\n",
    "\n",
    "pl = sl.Pipeline([gather, compute])\n",
    "pl.set_param_series(Param, [1, 4, 9])\n",
    "pl.visualize(Sum)"
   ]
  },
  {
   "cell_type": "markdown",
   "metadata": {},
   "source": [
    "Note that `pl.set_param_series(Param, [1, 4, 9])` above is equivalent to `pl.set_param_table(sl.ParamTable(Param, columns={}, index=[1, 4, 9]))`."
   ]
  },
  {
   "cell_type": "code",
   "execution_count": null,
   "metadata": {},
   "outputs": [],
   "source": [
    "pl.compute(Sum)"
   ]
  },
  {
   "cell_type": "markdown",
   "metadata": {},
   "source": [
    "### Combining multiple parameters from same table"
   ]
  },
  {
   "cell_type": "code",
   "execution_count": null,
   "metadata": {},
   "outputs": [],
   "source": [
    "import sciline as sl\n",
    "\n",
    "Sum = NewType(\"Sum\", float)\n",
    "Param1 = NewType(\"Param1\", int)\n",
    "Param2 = NewType(\"Param2\", int)\n",
    "Row = NewType(\"Run\", int)\n",
    "\n",
    "\n",
    "def gather(\n",
    "    x: sl.Series[Row, float],\n",
    ") -> Sum:\n",
    "    return Sum(sum(x.values()))\n",
    "\n",
    "\n",
    "def product(x: Param1, y: Param2) -> float:\n",
    "    return x / y\n",
    "\n",
    "\n",
    "pl = sl.Pipeline([gather, product])\n",
    "pl.set_param_table(sl.ParamTable(Row, {Param1: [1, 4, 9], Param2: [1, 2, 3]}))\n",
    "\n",
    "pl.visualize(Sum)"
   ]
  },
  {
   "cell_type": "code",
   "execution_count": null,
   "metadata": {},
   "outputs": [],
   "source": [
    "pl.compute(Sum)"
   ]
  },
  {
   "cell_type": "markdown",
   "metadata": {},
   "source": [
    "### Diamond graphs"
   ]
  },
  {
   "cell_type": "code",
   "execution_count": null,
   "metadata": {},
   "outputs": [],
   "source": [
    "Sum = NewType(\"Sum\", float)\n",
    "Param = NewType(\"Param\", int)\n",
    "Param1 = NewType(\"Param1\", int)\n",
    "Param2 = NewType(\"Param2\", int)\n",
    "Row = NewType(\"Run\", int)\n",
    "\n",
    "\n",
    "def gather(x: sl.Series[Row, float]) -> Sum:\n",
    "    return Sum(sum(x.values()))\n",
    "\n",
    "\n",
    "def to_param1(x: Param) -> Param1:\n",
    "    return Param1(x)\n",
    "\n",
    "\n",
    "def to_param2(x: Param) -> Param2:\n",
    "    return Param2(x)\n",
    "\n",
    "\n",
    "def product(x: Param1, y: Param2) -> float:\n",
    "    return x * y\n",
    "\n",
    "\n",
    "pl = sl.Pipeline([gather, product, to_param1, to_param2])\n",
    "pl.set_param_table(sl.ParamTable(Row, {Param: [1, 2, 3]}))\n",
    "pl.visualize(Sum)"
   ]
  },
  {
   "cell_type": "markdown",
   "metadata": {},
   "source": [
    "### Combining parameters from different tables"
   ]
  },
  {
   "cell_type": "code",
   "execution_count": null,
   "metadata": {},
   "outputs": [],
   "source": [
    "import sciline as sl\n",
    "\n",
    "List1 = NewType(\"List1\", float)\n",
    "List2 = NewType(\"List2\", float)\n",
    "Param1 = NewType(\"Param1\", int)\n",
    "Param2 = NewType(\"Param2\", int)\n",
    "Row1 = NewType(\"Row1\", int)\n",
    "Row2 = NewType(\"Row2\", int)\n",
    "\n",
    "\n",
    "def gather1(x: sl.Series[Row1, float]) -> List1:\n",
    "    return List1(list(x.values()))\n",
    "\n",
    "\n",
    "def gather2(x: sl.Series[Row2, List1]) -> List2:\n",
    "    return List2(list(x.values()))\n",
    "\n",
    "\n",
    "def product(x: Param1, y: Param2) -> float:\n",
    "    return x * y\n",
    "\n",
    "\n",
    "pl = sl.Pipeline([gather1, gather2, product])\n",
    "pl.set_param_table(sl.ParamTable(Row1, {Param1: [1, 4, 9]}))\n",
    "pl.set_param_table(sl.ParamTable(Row2, {Param2: [1, 2]}))\n",
    "\n",
    "pl.visualize(List2)"
   ]
  },
  {
   "cell_type": "markdown",
   "metadata": {},
   "source": [
    "Note how intermediates such as `float(Row1, Row2)` depend on two parameters, i.e., we are dealing with a 2-D array of branches in the graph."
   ]
  },
  {
   "cell_type": "code",
   "execution_count": null,
   "metadata": {},
   "outputs": [],
   "source": [
    "pl.compute(List2)"
   ]
  }
 ],
 "metadata": {
  "kernelspec": {
   "display_name": "Python 3 (ipykernel)",
   "language": "python",
   "name": "python3"
  },
  "language_info": {
   "codemirror_mode": {
    "name": "ipython",
    "version": 3
   },
   "file_extension": ".py",
   "mimetype": "text/x-python",
   "name": "python",
   "nbconvert_exporter": "python",
   "pygments_lexer": "ipython3",
   "version": "3.10.12"
  }
 },
 "nbformat": 4,
 "nbformat_minor": 4
}
