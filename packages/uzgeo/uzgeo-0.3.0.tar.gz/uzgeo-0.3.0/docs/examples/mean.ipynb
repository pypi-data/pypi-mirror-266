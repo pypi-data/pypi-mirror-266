{
 "cells": [
  {
   "cell_type": "code",
   "execution_count": 2,
   "metadata": {},
   "outputs": [
    {
     "name": "stdout",
     "output_type": "stream",
     "text": [
      "Mean of the numbers: 4.8\n"
     ]
    }
   ],
   "source": [
    "numbers = [1, 5, 5, 6, 7]\n",
    "\n",
    "mean = sum(numbers) / len(numbers)\n",
    "\n",
    "print(\"Mean of the numbers:\", mean)"
   ]
  },
  {
   "cell_type": "code",
   "execution_count": 3,
   "metadata": {},
   "outputs": [
    {
     "name": "stdout",
     "output_type": "stream",
     "text": [
      "Mean: 4.8\n"
     ]
    }
   ],
   "source": [
    "from uzgeo.common import calculate_average\n",
    "\n",
    "mean_value = calculate_average(numbers)\n",
    "\n",
    "print(\"Mean:\", mean_value)"
   ]
  }
 ],
 "metadata": {
  "kernelspec": {
   "display_name": "UZVB",
   "language": "python",
   "name": "python3"
  },
  "language_info": {
   "codemirror_mode": {
    "name": "ipython",
    "version": 3
   },
   "file_extension": ".py",
   "mimetype": "text/x-python",
   "name": "python",
   "nbconvert_exporter": "python",
   "pygments_lexer": "ipython3",
   "version": "3.11.7"
  }
 },
 "nbformat": 4,
 "nbformat_minor": 2
}
