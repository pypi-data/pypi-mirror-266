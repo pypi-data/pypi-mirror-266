{
 "cells": [
  {
   "cell_type": "markdown",
   "id": "0",
   "metadata": {},
   "source": [
    "# Lab 5\n",
    "\n",
    "[![image](https://colab.research.google.com/assets/colab-badge.svg)](https://colab.research.google.com/github/giswqs/geohey/blob/main/docs/labs/lab5.ipynb)\n",
    "\n",
    "## Submission instructions\n",
    "\n",
    "1. Download the notebook from https://geohey.gishub.org/labs/lab5\n",
    "2. Complete the lab questions\n",
    "3. Restart Kernel and Run All Cells\n",
    "4. Upload the notebook to your GitHub repository\n",
    "5. Make sure the notebook has an `Open In Colab` badge. Click on the badge to make sure your notebook can be opened in Colab.\n",
    "6. Submit the link to the notebook on your GitHub repository to Canvas"
   ]
  },
  {
   "cell_type": "markdown",
   "id": "1",
   "metadata": {},
   "source": [
    "## Question 1\n",
    "\n",
    "**Person:** Use a dictionary to store information about a person you know. Store their first name, last name, age, and the city in which they live. You should have keys such as first_name, last_name, age, and city. Print each piece of information stored in your dictionary."
   ]
  },
  {
   "cell_type": "code",
   "execution_count": 78,
   "id": "2",
   "metadata": {},
   "outputs": [
    {
     "name": "stdout",
     "output_type": "stream",
     "text": [
      "first_name: Yuze\n",
      "last_name: Li\n",
      "age: 24\n",
      "city: Knoxville\n"
     ]
    }
   ],
   "source": [
    "person_info = {\n",
    "    \"first_name\": \"Yuze\",\n",
    "    \"last_name\": \"Li\",\n",
    "    \"age\": 24,\n",
    "    \"city\": \"Knoxville\"\n",
    "}\n",
    "\n",
    "for key, value in person_info.items():\n",
    "    print(f\"{key}: {value}\")\n"
   ]
  },
  {
   "cell_type": "markdown",
   "id": "3",
   "metadata": {},
   "source": [
    "## Question 2\n",
    "\n",
    "**Favorite Numbers:** Use a dictionary to store people’s favorite numbers. Think of five names, and use them as keys in your dictionary. Think of a favorite number for each person, and store each as a value in your dictionary. Print each person’s name and their favorite number. For even more fun, poll a few friends and get some actual data for your program."
   ]
  },
  {
   "cell_type": "code",
   "execution_count": 79,
   "id": "4",
   "metadata": {},
   "outputs": [
    {
     "name": "stdout",
     "output_type": "stream",
     "text": [
      "Ted's favorite number is 6\n",
      "Bob's favorite number is 2\n",
      "Zed's favorite number is 15\n",
      "Allen's favorite number is 9\n",
      "Tom's favorite number is 13\n"
     ]
    }
   ],
   "source": [
    "favorite_numbers = {\n",
    "    \"Ted\": 6,\n",
    "    \"Bob\": 2,\n",
    "    \"Zed\": 15,\n",
    "    \"Allen\": 9,\n",
    "    \"Tom\": 13\n",
    "}\n",
    "\n",
    "for name, number in favorite_numbers.items():\n",
    "    print(f\"{name}'s favorite number is {number}\")\n"
   ]
  },
  {
   "cell_type": "markdown",
   "id": "5",
   "metadata": {},
   "source": [
    "## Question 3\n",
    "\n",
    "**Glossary:** A Python dictionary can be used to model an actual dictionary. However, to avoid confusion, let’s call it a glossary.\n",
    "\n",
    "- Think of five programming words you’ve learned about in the previous chapters. Use these words as the keys in your glossary, and store their meanings as values.\n",
    "- Print each word and its meaning as neatly formatted output. You might print the word followed by a colon and then its meaning, or print the word on one line and then print its meaning indented on a second line. Use the newline character (\\n) to insert a blank line between each word-meaning pair in your output."
   ]
  },
  {
   "cell_type": "code",
   "execution_count": 80,
   "id": "6",
   "metadata": {},
   "outputs": [
    {
     "name": "stdout",
     "output_type": "stream",
     "text": [
      "variable:\n",
      "    Contains some known or unknown amounts of information that may be related to each other.\n",
      "\n",
      "function:\n",
      "    A block of organized, reusable code that is used to perform a single, related action.\n",
      "\n",
      "loop:\n",
      "    A programming construct that repeats a group of commands.\n",
      "\n",
      "dictionary:\n",
      "    A collection of key-value pairs and information. \n",
      "\n",
      "list:\n",
      "    An ordered collection of items which is changeable and allows duplicate members.\n",
      "\n"
     ]
    }
   ],
   "source": [
    "glossary = {\n",
    "    \"variable\": \"Contains some known or unknown amounts of information that may be related to each other.\",\n",
    "    \"function\": \"A block of organized, reusable code that is used to perform a single, related action.\",\n",
    "    \"loop\": \"A programming construct that repeats a group of commands.\",\n",
    "    \"dictionary\": \"A collection of key-value pairs and information. \",\n",
    "    \"list\": \"An ordered collection of items which is changeable and allows duplicate members.\"\n",
    "}\n",
    "\n",
    "for term, meaning in glossary.items():\n",
    "    print(f\"{term}:\\n    {meaning}\\n\")\n"
   ]
  },
  {
   "cell_type": "markdown",
   "id": "7",
   "metadata": {},
   "source": [
    "## Question 4\n",
    "\n",
    "**Glossary 2:** Now that you know how to loop through a dictionary, clean up the code from Question 3 by replacing your series of print() calls with a loop that runs through the dictionary’s keys and values. When you’re sure that your loop works, add five more Python terms to your glossary. When you run your program again, these new words and meanings should automatically be included in the output."
   ]
  },
  {
   "cell_type": "code",
   "execution_count": 81,
   "id": "8",
   "metadata": {},
   "outputs": [
    {
     "name": "stdout",
     "output_type": "stream",
     "text": [
      "variable:\n",
      "    Contains some known or unknown amounts of information that may be related to each other.\n",
      "\n",
      "function:\n",
      "    A block of organized, reusable code that is used to perform a single, related action.\n",
      "\n",
      "loop:\n",
      "    A programming construct that repeats a group of commands.\n",
      "\n",
      "dictionary:\n",
      "    A collection of key-value pairs and information. \n",
      "\n",
      "list:\n",
      "    An ordered collection of items which is changeable and allows duplicate members.\n",
      "\n",
      "class:\n",
      "    A blueprint for creating objects (a particular data structure), providing initial values for state (member variables) and implementations of behavior (member functions or methods).\n",
      "\n",
      "inheritance:\n",
      "    A mechanism in which one class acquires the properties (methods and fields) of another.\n",
      "\n",
      "module:\n",
      "    A file containing Python definitions and statements. The file name is the module name with the suffix .py added.\n",
      "\n",
      "generator:\n",
      "     A special type of iterator that is defined with a function using the 'yield' keyword. It generates values on the fly and consumes less memory.\n",
      "\n",
      "syntax:\n",
      "    The set of rules that defines the combinations of symbols that are considered to be correctly structured programs in that language.\n",
      "\n"
     ]
    }
   ],
   "source": [
    "glossary.update({\n",
    "    \"class\": \"A blueprint for creating objects (a particular data structure), providing initial values for state (member variables) and implementations of behavior (member functions or methods).\",\n",
    "    \"inheritance\": \"A mechanism in which one class acquires the properties (methods and fields) of another.\",\n",
    "    \"module\": \"A file containing Python definitions and statements. The file name is the module name with the suffix .py added.\",\n",
    "    \"generator\": \" A special type of iterator that is defined with a function using the 'yield' keyword. It generates values on the fly and consumes less memory.\",\n",
    "    \"syntax\": \"The set of rules that defines the combinations of symbols that are considered to be correctly structured programs in that language.\"\n",
    "})\n",
    "\n",
    "for term, meaning in glossary.items():\n",
    "    print(f\"{term}:\\n    {meaning}\\n\")\n",
    "\n"
   ]
  },
  {
   "cell_type": "markdown",
   "id": "9",
   "metadata": {},
   "source": [
    "## Question 5\n",
    "\n",
    "**Rivers:** Make a dictionary containing three major rivers and the country each river runs through. One key-value pair might be 'nile': 'egypt'.\n",
    "\n",
    "- Use a loop to print a sentence about each river, such as _The Nile runs through Egypt._\n",
    "- Use a loop to print the name of each river included in the dictionary.\n",
    "- Use a loop to print the name of each country included in the dictionary."
   ]
  },
  {
   "cell_type": "code",
   "execution_count": 82,
   "id": "10",
   "metadata": {},
   "outputs": [
    {
     "name": "stdout",
     "output_type": "stream",
     "text": [
      "Sentences about each river:\n",
      "The Nile runs through Egypt.\n",
      "The Amazon runs through Brazil.\n",
      "The Yangtze runs through China.\n",
      "\n",
      "\n",
      "Names of the rivers:\n",
      "Nile\n",
      "Amazon\n",
      "Yangtze\n",
      "\n",
      "\n",
      "Names of the countries:\n",
      "Egypt\n",
      "Brazil\n",
      "China\n"
     ]
    }
   ],
   "source": [
    "rivers = {\n",
    "    \"Nile\": \"Egypt\",\n",
    "    \"Amazon\": \"Brazil\",\n",
    "    \"Yangtze\": \"China\"\n",
    "}\n",
    "\n",
    "print(\"Sentences about each river:\")\n",
    "for river, country in rivers.items():\n",
    "    print(f\"The {river} runs through {country}.\")\n",
    "\n",
    "print(\"\\n\")\n",
    "\n",
    "print(\"Names of the rivers:\")\n",
    "for river in rivers.keys():\n",
    "    print(river)\n",
    "\n",
    "print(\"\\n\")\n",
    "\n",
    "print(\"Names of the countries:\")\n",
    "for country in rivers.values():\n",
    "    print(country)\n"
   ]
  },
  {
   "cell_type": "markdown",
   "id": "11",
   "metadata": {},
   "source": [
    "## Question 6\n",
    "\n",
    "**Cities:** Make a dictionary called `cities`. Use the names of three cities as keys in your dictionary. Create a dictionary of information about each city and include the country that the city is in, its approximate population, and one fact about that city. The keys for each city’s dictionary should be something like `country`, `population`, and `fact`. Print the name of each city and all of the information you have stored about it."
   ]
  },
  {
   "cell_type": "code",
   "execution_count": 83,
   "id": "12",
   "metadata": {},
   "outputs": [
    {
     "name": "stdout",
     "output_type": "stream",
     "text": [
      "Tokyo:\n",
      "  Country: Japan\n",
      "  Population: 13.515 million\n",
      "  Fact: The capital of Japan.\n",
      "\n",
      "\n",
      "Paris:\n",
      "  Country: France\n",
      "  Population: 2.161 million\n",
      "  Fact: The capital of Japan France.\n",
      "\n",
      "\n",
      "Washington DC:\n",
      "  Country: United States\n",
      "  Population: 8.419 million\n",
      "  Fact: The capital of United States.\n",
      "\n",
      "\n"
     ]
    }
   ],
   "source": [
    "cities = {\n",
    "    \"Tokyo\": {\n",
    "        \"country\": \"Japan\",\n",
    "        \"population\": \"13.515 million\",\n",
    "        \"fact\": \"The capital of Japan.\"\n",
    "    },\n",
    "    \"Paris\": {\n",
    "        \"country\": \"France\",\n",
    "        \"population\": \"2.161 million\",\n",
    "        \"fact\": \"The capital of Japan France.\"\n",
    "    },\n",
    "    \"Washington DC\": {\n",
    "        \"country\": \"United States\",\n",
    "        \"population\": \"8.419 million\",\n",
    "        \"fact\": \"The capital of United States.\"\n",
    "    }\n",
    "}\n",
    "\n",
    "for city, info in cities.items():\n",
    "    print(f\"{city}:\")\n",
    "    for key, value in info.items():\n",
    "        print(f\"  {key.capitalize()}: {value}\")\n",
    "    print(\"\\n\")\n"
   ]
  },
  {
   "cell_type": "markdown",
   "id": "13",
   "metadata": {},
   "source": [
    "## Question 7\n",
    "\n",
    "**Rental Car:** Write a program that asks the user what kind of rental car they would like. Print a message about that car, such as “Let me see if I can find you a Subaru.”"
   ]
  },
  {
   "cell_type": "code",
   "execution_count": 84,
   "id": "14",
   "metadata": {},
   "outputs": [
    {
     "name": "stdout",
     "output_type": "stream",
     "text": [
      "Let me see if I can find you a Subaru .\n"
     ]
    }
   ],
   "source": [
    "rental_car_info = (\"Subaru \")\n",
    "\n",
    "print(f\"Let me see if I can find you a {rental_car_info}.\")\n"
   ]
  },
  {
   "cell_type": "markdown",
   "id": "15",
   "metadata": {},
   "source": [
    "## Question 8\n",
    "\n",
    "**Restaurant Seating:** Write a program that asks the user how many people are in their dinner group. If the answer is more than eight, print a message saying they’ll have to wait for a table. Otherwise, report that their table is ready."
   ]
  },
  {
   "cell_type": "code",
   "execution_count": 85,
   "id": "16",
   "metadata": {},
   "outputs": [
    {
     "name": "stdout",
     "output_type": "stream",
     "text": [
      "You'll have to wait for a table.\n"
     ]
    }
   ],
   "source": [
    "number_of_people = int(\"9\")\n",
    "\n",
    "if number_of_people > 8:\n",
    "    print(\"You'll have to wait for a table.\")\n",
    "else:\n",
    "    print(\"Your table is ready.\")\n"
   ]
  },
  {
   "cell_type": "markdown",
   "id": "17",
   "metadata": {},
   "source": [
    "## Question 9\n",
    "\n",
    "**Multiples of Ten:** Ask the user for a number, and then report whether the number is a multiple of 10 or not."
   ]
  },
  {
   "cell_type": "code",
   "execution_count": 86,
   "id": "18",
   "metadata": {},
   "outputs": [
    {
     "name": "stdout",
     "output_type": "stream",
     "text": [
      "10 is a multiple of 10.\n"
     ]
    }
   ],
   "source": [
    "number = int(\"10\")\n",
    "\n",
    "if number % 10 == 0:\n",
    "    print(f\"{number} is a multiple of 10.\")\n",
    "else:\n",
    "    print(f\"{number} is not a multiple of 10.\")\n"
   ]
  },
  {
   "cell_type": "markdown",
   "id": "19",
   "metadata": {},
   "source": [
    "## Question 10\n",
    "\n",
    "**Pizza Toppings:** Write a loop that prompts the user to enter a series of pizza toppings until they enter a 'quit' value. As they enter each topping, print a message saying you’ll add that topping to their pizza."
   ]
  },
  {
   "cell_type": "code",
   "execution_count": 87,
   "id": "20",
   "metadata": {},
   "outputs": [
    {
     "name": "stdout",
     "output_type": "stream",
     "text": [
      "Adding Tomato to your pizza.\n"
     ]
    }
   ],
   "source": [
    "toppings = [\"Tomato\"]\n",
    "\n",
    "for topping in toppings:\n",
    "    if topping.lower() == 'quit':\n",
    "        break\n",
    "    print(f\"Adding {topping} to your pizza.\")\n"
   ]
  },
  {
   "cell_type": "markdown",
   "id": "21",
   "metadata": {},
   "source": [
    "## Question 11\n",
    "\n",
    "**Message:** Write a function called `display_message()` that prints one sentence telling everyone what you are learning about in this chapter. Call the function, and make sure the message displays correctly."
   ]
  },
  {
   "cell_type": "code",
   "execution_count": 88,
   "id": "22",
   "metadata": {},
   "outputs": [
    {
     "name": "stdout",
     "output_type": "stream",
     "text": [
      "In this chapter, I am learning about geo spatial functions in Python.\n"
     ]
    }
   ],
   "source": [
    "def display_message():\n",
    "    print(\"In this chapter, I am learning about geo spatial functions in Python.\")\n",
    "\n",
    "display_message()\n"
   ]
  },
  {
   "cell_type": "markdown",
   "id": "23",
   "metadata": {},
   "source": [
    "## Question 12\n",
    "\n",
    "**Favorite Book:** Write a function called `favorite_book()` that accepts one parameter, title. The function should print a message, such as `One of my favorite books is Alice in Wonderland`. Call the function, making sure to include a book title as an argument in the function call."
   ]
  },
  {
   "cell_type": "code",
   "execution_count": 89,
   "id": "24",
   "metadata": {},
   "outputs": [
    {
     "name": "stdout",
     "output_type": "stream",
     "text": [
      "One of my favorite books is Yashe.\n"
     ]
    }
   ],
   "source": [
    "def favorite_book(title):\n",
    "    print(f\"One of my favorite books is {title}.\")\n",
    "\n",
    "favorite_book(\"Yashe\")\n"
   ]
  },
  {
   "cell_type": "markdown",
   "id": "25",
   "metadata": {},
   "source": [
    "## Question 13\n",
    "\n",
    "**T-Shirt:** Write a function called `make_shirt()` that accepts a size and the text of a message that should be printed on the shirt. The function should print a sentence summarizing the size of the shirt and the message printed on it.\n",
    "\n",
    "Call the function once using positional arguments to make a shirt. Call the function a second time using keyword arguments."
   ]
  },
  {
   "cell_type": "code",
   "execution_count": 90,
   "id": "26",
   "metadata": {},
   "outputs": [
    {
     "name": "stdout",
     "output_type": "stream",
     "text": [
      "The size of the shirt is M and the message printed on it is: 'Nike'.\n",
      "The size of the shirt is L and the message printed on it is: 'Adidas'.\n"
     ]
    }
   ],
   "source": [
    "def make_shirt(size, message):\n",
    "    print(f\"The size of the shirt is {size} and the message printed on it is: '{message}'.\")\n",
    "\n",
    "make_shirt('M', 'Nike')\n",
    "\n",
    "make_shirt(message='Adidas', size='L')\n"
   ]
  },
  {
   "cell_type": "markdown",
   "id": "27",
   "metadata": {},
   "source": [
    "## Question 14\n",
    "\n",
    "**Large Shirts:** Modify the `make_shirt()` function so that shirts are large by default with a message that reads _I love Python_. Make a large shirt and a medium shirt with the default message, and a shirt of any size with a different message."
   ]
  },
  {
   "cell_type": "code",
   "execution_count": 91,
   "id": "28",
   "metadata": {},
   "outputs": [
    {
     "name": "stdout",
     "output_type": "stream",
     "text": [
      "The size of the shirt is L and the message printed on it is: 'I love Python.'.\n",
      "The size of the shirt is M and the message printed on it is: 'I love Python.'.\n",
      "The size of the shirt is S and the message printed on it is: 'I love coding.'.\n"
     ]
    }
   ],
   "source": [
    "def make_shirt(size='L', message='I love Python.'):\n",
    "    print(f\"The size of the shirt is {size} and the message printed on it is: '{message}'.\")\n",
    "\n",
    "make_shirt()\n",
    "\n",
    "make_shirt(size='M')\n",
    "\n",
    "make_shirt(size='S', message='I love coding.')\n"
   ]
  },
  {
   "cell_type": "markdown",
   "id": "29",
   "metadata": {},
   "source": [
    "## Question 15\n",
    "\n",
    "**Cities:** Write a function called `describe_city()` that accepts the name of a city and its country. The function should print a simple sentence, such as `Reykjavik is in Iceland`. Give the parameter for the country a default value. Call your function for three different cities, at least one of which is not in the default country."
   ]
  },
  {
   "cell_type": "code",
   "execution_count": 92,
   "id": "30",
   "metadata": {},
   "outputs": [
    {
     "name": "stdout",
     "output_type": "stream",
     "text": [
      "Reykjavik is in Iceland.\n",
      "Akureyri is in Iceland.\n",
      "Beijing is in China.\n"
     ]
    }
   ],
   "source": [
    "def describe_city(city, country='Iceland'):\n",
    "    print(f\"{city} is in {country}.\")\n",
    "\n",
    "describe_city('Reykjavik')\n",
    "describe_city('Akureyri')\n",
    "describe_city('Beijing', 'China')\n"
   ]
  },
  {
   "cell_type": "markdown",
   "id": "31",
   "metadata": {},
   "source": [
    "## Question 16\n",
    "\n",
    "**City Names:** Write a function called `city_country()` that takes in the name of a city and its country. The function should return a string formatted like this:\n",
    "\n",
    "```text\n",
    "Santiago, Chile\n",
    "```\n",
    "\n",
    "Call your function with at least three city-country pairs, and print the values that are returned."
   ]
  },
  {
   "cell_type": "code",
   "execution_count": 93,
   "id": "32",
   "metadata": {},
   "outputs": [
    {
     "name": "stdout",
     "output_type": "stream",
     "text": [
      "Santiago, Chile\n",
      "Paris, France\n",
      "Tokyo, Japan\n"
     ]
    }
   ],
   "source": [
    "def city_country(city, country):\n",
    "    return f\"{city}, {country}\"\n",
    "\n",
    "print(city_country('Santiago', 'Chile'))\n",
    "print(city_country('Paris', 'France'))\n",
    "print(city_country('Tokyo', 'Japan'))\n"
   ]
  },
  {
   "cell_type": "markdown",
   "id": "33",
   "metadata": {},
   "source": [
    "## Question 17\n",
    "\n",
    "**Album:** Write a function called `make_album()` that builds a dictionary describing a music album. The function should take in an artist name and an album title, and it should return a dictionary containing these two pieces of information. Use the function to make three dictionaries representing different albums. Print each return value to show that the dictionaries are storing the album information correctly.\n",
    "\n",
    "Use None to add an optional parameter to make_album() that allows you to store the number of songs on an album. If the calling line includes a value for the number of songs, add that value to the album’s dictionary. Make at least one new function call that includes the number of songs on an album."
   ]
  },
  {
   "cell_type": "code",
   "execution_count": 94,
   "id": "34",
   "metadata": {},
   "outputs": [
    {
     "name": "stdout",
     "output_type": "stream",
     "text": [
      "{'artist': 'The Beatles', 'album': 'Oh my love'}\n",
      "{'artist': 'Led Zeppelin', 'album': 'Led Zeppelin IV'}\n",
      "{'artist': 'Pink Floyd', 'album': 'The Dark Side of the Moon'}\n",
      "{'artist': 'Nirvana', 'album': 'Nevermind', 'songs': 4}\n"
     ]
    }
   ],
   "source": [
    "def make_album(artist_name, album_title, number_of_songs=None):\n",
    "    album_dict = {\"artist\": artist_name, \"album\": album_title}\n",
    "    if number_of_songs:\n",
    "        album_dict[\"songs\"] = number_of_songs\n",
    "    return album_dict\n",
    "\n",
    "album1 = make_album(\"The Beatles\", \"Oh my love\")\n",
    "album2 = make_album(\"Led Zeppelin\", \"Led Zeppelin IV\")\n",
    "album3 = make_album(\"Pink Floyd\", \"The Dark Side of the Moon\")\n",
    "\n",
    "print(album1)\n",
    "print(album2)\n",
    "print(album3)\n",
    "\n",
    "album4 = make_album(\"Nirvana\", \"Nevermind\", number_of_songs=4)\n",
    "print(album4)\n"
   ]
  },
  {
   "cell_type": "markdown",
   "id": "35",
   "metadata": {},
   "source": [
    "## Question 18\n",
    "\n",
    "**User Albums:** Start with your program from Question 17. Write a `while` loop that allows users to enter an album’s artist and title. Once you have that information, call `make_album()` with the user’s input and print the dictionary that’s created. Be sure to include a quit value in the `while` loop."
   ]
  },
  {
   "cell_type": "code",
   "execution_count": 95,
   "id": "36",
   "metadata": {},
   "outputs": [
    {
     "name": "stdout",
     "output_type": "stream",
     "text": [
      "{'artist': 'The Beatles', 'album': 'Oh my love'}\n",
      "{'artist': 'Led Zeppelin', 'album': 'Led Zeppelin IV'}\n",
      "See you!\n"
     ]
    }
   ],
   "source": [
    "def make_album(artist_name, album_title, number_of_songs=None):\n",
    "    \"\"\"Build a dictionary containing album information.\"\"\"\n",
    "    album_dict = {\"artist\": artist_name, \"album\": album_title}\n",
    "    if number_of_songs:\n",
    "        album_dict[\"songs\"] = number_of_songs\n",
    "    return album_dict\n",
    "\n",
    "user_albums = [\n",
    "    (\"The Beatles\", \"Oh my love\"),\n",
    "    (\"Led Zeppelin\", \"Led Zeppelin IV\"),\n",
    "    (\"quit\", \"quit\") \n",
    "]\n",
    "\n",
    "for artist, title in user_albums:\n",
    "    if artist.lower() == 'quit' or title.lower() == 'quit':\n",
    "        print(\"See you!\")\n",
    "        break\n",
    "    else:\n",
    "        album = make_album(artist, title)\n",
    "        print(album)\n",
    "\n"
   ]
  },
  {
   "cell_type": "markdown",
   "id": "37",
   "metadata": {},
   "source": [
    "## Question 19\n",
    "\n",
    "**Messages:** Make a list containing a series of short text messages. Pass the list to a function called `show_messages()`, which prints each text message."
   ]
  },
  {
   "cell_type": "code",
   "execution_count": 96,
   "id": "38",
   "metadata": {},
   "outputs": [
    {
     "name": "stdout",
     "output_type": "stream",
     "text": [
      "Hello, how are you?\n",
      "Goodbye!\n",
      "Have a great day!\n",
      "Thank you!.\n"
     ]
    }
   ],
   "source": [
    "def show_messages(messages):\n",
    "    for message in messages:\n",
    "        print(message)\n",
    "\n",
    "text_messages = [\"Hello, how are you?\", \"Goodbye!\", \"Have a great day!\", \"Thank you!.\"]\n",
    "\n",
    "show_messages(text_messages)\n"
   ]
  },
  {
   "cell_type": "markdown",
   "id": "39",
   "metadata": {},
   "source": [
    "## Question 20\n",
    "\n",
    "**Sending Messages:** Start with a copy of your program from Question 19. Write a function called `send_messages()` that prints each text message and moves each message to a new list called `sent_messages` as it’s printed. After calling the function, print both of your lists to make sure the messages were moved correctly."
   ]
  },
  {
   "cell_type": "code",
   "execution_count": 97,
   "id": "40",
   "metadata": {},
   "outputs": [
    {
     "name": "stdout",
     "output_type": "stream",
     "text": [
      "Thank you\n",
      "Have a great day!\n",
      "Goodbye!\n",
      "Hello, how are you?\n",
      "\n",
      "Original messages:\n",
      "['Hello, how are you?', 'Goodbye!', 'Have a great day!', 'Thank you']\n",
      "Sent messages:\n",
      "['Thank you', 'Have a great day!', 'Goodbye!', 'Hello, how are you?']\n"
     ]
    }
   ],
   "source": [
    "def send_messages(messages):\n",
    "    sent_messages = []\n",
    "    while messages:\n",
    "        current_message = messages.pop()\n",
    "        print(current_message)\n",
    "        sent_messages.append(current_message)\n",
    "    return sent_messages\n",
    "\n",
    "text_messages = [\"Hello, how are you?\", \"Goodbye!\", \"Have a great day!\", \"Thank you\"]\n",
    "sent_messages = send_messages(text_messages[:])\n",
    "\n",
    "print(\"\\nOriginal messages:\")\n",
    "print(text_messages)\n",
    "print(\"Sent messages:\")\n",
    "print(sent_messages)\n"
   ]
  },
  {
   "cell_type": "markdown",
   "id": "41",
   "metadata": {},
   "source": [
    "## Question 21\n",
    "\n",
    "**Learning Python:** Open a blank file in your text editor and write a few lines summarizing what you’ve learned about Python so far. Start each line with the phrase _In Python you can. . .._ Save the file as _learning_python.txt_ in the same directory as your exercises from this chapter. Write a program that reads the file and prints what you wrote three times. Print the contents once by reading in the entire file, once by looping over the file object, and once by storing the lines in a list and then working with them outside the _with_ block."
   ]
  },
  {
   "cell_type": "code",
   "execution_count": 98,
   "id": "42",
   "metadata": {},
   "outputs": [
    {
     "name": "stdout",
     "output_type": "stream",
     "text": [
      "Reading the entire file at once:\n",
      "In Python you can get a more relaxed programming experience and it will be helpful for you in all aspects. For example, web development, machine learning and artificial intelligence, scripting and automation, software development, and game development.\n",
      "\n",
      "Looping over the file object:\n",
      "In Python you can get a more relaxed programming experience and it will be helpful for you in all aspects. For example, web development, machine learning and artificial intelligence, scripting and automation, software development, and game development.\n",
      "\n",
      "Storing the lines in a list and working with them outside the 'with' block:\n",
      "In Python you can get a more relaxed programming experience and it will be helpful for you in all aspects. For example, web development, machine learning and artificial intelligence, scripting and automation, software development, and game development.\n"
     ]
    }
   ],
   "source": [
    "filename = 'learning_python.txt'\n",
    "\n",
    "with open(filename) as file_object:\n",
    "    contents = file_object.read()\n",
    "print(\"Reading the entire file at once:\")\n",
    "print(contents)\n",
    "\n",
    "print(\"\\nLooping over the file object:\")\n",
    "with open(filename) as file_object:\n",
    "    for line in file_object:\n",
    "        print(line.rstrip())\n",
    "\n",
    "print(\"\\nStoring the lines in a list and working with them outside the 'with' block:\")\n",
    "with open(filename) as file_object:\n",
    "    lines = file_object.readlines()\n",
    "\n",
    "for line in lines:\n",
    "    print(line.rstrip())\n"
   ]
  },
  {
   "cell_type": "markdown",
   "id": "43",
   "metadata": {},
   "source": [
    "## Question 22\n",
    "\n",
    "**Learning C:** You can use the replace() method to replace any word in a string with a different word. Here’s a quick example showing how to replace 'dog' with 'cat' in a sentence:\n",
    "\n",
    "```text\n",
    "message = \"I really like dogs.\"\n",
    "message.replace('dog', 'cat')\n",
    "'I really like cats.'\n",
    "```\n",
    "\n",
    "Read in each line from the file you just created, _learning_python.txt_, and replace the word _Python_ with the name of another language, such as _C_. Print each modified line to the screen."
   ]
  },
  {
   "cell_type": "code",
   "execution_count": 99,
   "id": "44",
   "metadata": {},
   "outputs": [
    {
     "name": "stdout",
     "output_type": "stream",
     "text": [
      "In C you can get a more relaxed programming experience and it will be helpful for you in all aspects. For example, web development, machine learning and artificial intelligence, scripting and automation, software development, and game development.\n"
     ]
    }
   ],
   "source": [
    "filename = 'learning_python.txt'\n",
    "\n",
    "with open(filename) as file_object:\n",
    "    lines = file_object.readlines()\n",
    "\n",
    "for line in lines:\n",
    "    modified_line = line.replace('Python', 'C')\n",
    "    print(modified_line.rstrip())\n"
   ]
  },
  {
   "cell_type": "markdown",
   "id": "45",
   "metadata": {},
   "source": [
    "## Question 23\n",
    "\n",
    "**Guest:** Write a program that prompts the user for their name. When they respond, write their name to a file called guest.txt."
   ]
  },
  {
   "cell_type": "code",
   "execution_count": 100,
   "id": "46",
   "metadata": {},
   "outputs": [
    {
     "name": "stdout",
     "output_type": "stream",
     "text": [
      "Uz has been written to guest.txt.\n"
     ]
    }
   ],
   "source": [
    "user_name = \"Uz\"  \n",
    "\n",
    "with open(\"guest.txt\", \"w\") as file:\n",
    "    file.write(user_name)\n",
    "\n",
    "print(f\"{user_name} has been written to guest.txt.\")\n",
    "\n"
   ]
  },
  {
   "cell_type": "markdown",
   "id": "47",
   "metadata": {},
   "source": [
    "## Question 24\n",
    "\n",
    "**Guest Book:** Write a while loop that prompts users for their name. When they enter their name, print a greeting to the screen and add a line recording their visit in a file called guest_book.txt. Make sure each entry appears on a new line in the file."
   ]
  },
  {
   "cell_type": "code",
   "execution_count": 101,
   "id": "48",
   "metadata": {},
   "outputs": [
    {
     "name": "stdout",
     "output_type": "stream",
     "text": [
      "Hello, Alice! Welcome to our event.\n",
      "Hello, Bob! Welcome to our event.\n",
      "Hello, Charlie! Welcome to our event.\n"
     ]
    }
   ],
   "source": [
    "user_names = [\"Alice\", \"Bob\", \"Charlie\"]\n",
    "\n",
    "file_path = \"guest_book.txt\"\n",
    "\n",
    "with open(file_path, \"a\") as file:  \n",
    "    for user_name in user_names:\n",
    "        greeting = f\"Hello, {user_name}! Welcome to our event.\"\n",
    "        print(greeting) \n",
    "        file.write(f\"{user_name}\\n\")\n"
   ]
  },
  {
   "cell_type": "markdown",
   "id": "49",
   "metadata": {},
   "source": [
    "## Question 25\n",
    "\n",
    "**Programming Poll:** Write a while loop that asks people why they like programming. Each time someone enters a reason, add their reason to a file that stores all the responses."
   ]
  },
  {
   "cell_type": "code",
   "execution_count": 102,
   "id": "50",
   "metadata": {},
   "outputs": [
    {
     "name": "stdout",
     "output_type": "stream",
     "text": [
      "Reasons have been added to programming_reasons.txt.\n"
     ]
    }
   ],
   "source": [
    "reasons = [\n",
    "    \"convenient.\",\n",
    "    \"class requirements\",\n",
    "    \"app/web creating\"\n",
    "]\n",
    "\n",
    "file_path = \"programming_reasons.txt\"\n",
    "\n",
    "with open(file_path, \"a\") as file:\n",
    "    for reason in reasons:\n",
    "        file.write(f\"{reason}\\n\")\n",
    "\n",
    "print(f\"Reasons have been added to {file_path}.\")\n",
    "\n"
   ]
  },
  {
   "cell_type": "markdown",
   "id": "51",
   "metadata": {},
   "source": [
    "## Question 26\n",
    "\n",
    "**Addition:** One common problem when prompting for numerical input occurs when people provide text instead of numbers. When you try to convert the input to an int, you’ll get a ValueError. Write a program that prompts for two numbers. Add them together and print the result. Catch the ValueError if either input value is not a number, and print a friendly error message. Test your program by entering two numbers and then by entering some text instead of a number."
   ]
  },
  {
   "cell_type": "code",
   "execution_count": 103,
   "id": "52",
   "metadata": {},
   "outputs": [
    {
     "name": "stdout",
     "output_type": "stream",
     "text": [
      "The sum of 4 and 5 is 9.\n",
      "Error: Both inputs must be numbers. Please try again.\n"
     ]
    }
   ],
   "source": [
    "def add_numbers():\n",
    "    inputs = [(\"4\", \"5\"), (\"three\", \"7\")] \n",
    "    \n",
    "    for input_pair in inputs:\n",
    "        try:\n",
    "            num1 = int(input_pair[0])\n",
    "            num2 = int(input_pair[1])\n",
    "            result = num1 + num2\n",
    "            print(f\"The sum of {num1} and {num2} is {result}.\")\n",
    "        except ValueError:\n",
    "            print(\"Error: Both inputs must be numbers. Please try again.\")\n",
    "        \n",
    "add_numbers()\n",
    "\n"
   ]
  },
  {
   "cell_type": "markdown",
   "id": "53",
   "metadata": {},
   "source": [
    "## Question 27\n",
    "\n",
    "**Addition Calculator:** Wrap your code from Question 26 in a while loop so the user can continue entering numbers even if they make a mistake and enter text instead of a number."
   ]
  },
  {
   "cell_type": "code",
   "execution_count": 104,
   "id": "54",
   "metadata": {},
   "outputs": [
    {
     "name": "stdout",
     "output_type": "stream",
     "text": [
      "The sum of 3 and 4 is 7.\n",
      "Error: Both inputs must be numbers. Please try again.\n",
      "Error: Both inputs must be numbers. Please try again.\n",
      "The sum of 7 and 8 is 15.\n",
      "Quitting the program.\n"
     ]
    }
   ],
   "source": [
    "inputs = [(\"3\", \"4\"), (\"a\", \"5\"), (\"6\", \"b\"), (\"7\", \"8\"), (\"q\",)] \n",
    "\n",
    "for input_pair in inputs:\n",
    "    try:\n",
    "        if len(input_pair) == 1 and input_pair[0].lower() == 'q':\n",
    "            print(\"Quitting the program.\")\n",
    "            break\n",
    "        num1, num2 = map(int, input_pair)\n",
    "        print(f\"The sum of {num1} and {num2} is {num1 + num2}.\")\n",
    "    except ValueError:\n",
    "        print(\"Error: Both inputs must be numbers. Please try again.\")\n",
    "\n",
    "\n"
   ]
  },
  {
   "cell_type": "markdown",
   "id": "55",
   "metadata": {},
   "source": [
    "## Question 28\n",
    "\n",
    "**Cats and Dogs:** Make two files, _cats.txt_ and _dogs.txt_. Store at least three names of cats in the first file and three names of dogs in the second file. Write a program that tries to read these files and print the contents of the file to the screen. Wrap your code in a `try-except` block to catch the `FileNotFound` error, and print a friendly message if a file is missing. Move one of the files to a different location on your system, and make sure the code in the `except` block executes properly."
   ]
  },
  {
   "cell_type": "code",
   "execution_count": 105,
   "id": "56",
   "metadata": {},
   "outputs": [
    {
     "name": "stdout",
     "output_type": "stream",
     "text": [
      "Contents of cats.txt:\n",
      "Kiki\n",
      "\n",
      "Geegee\n",
      "\n",
      "Dongzhi\n",
      "Contents of dogs.txt:\n",
      "Doudou\n",
      "\n",
      "Vicky\n",
      "\n",
      "Ben\n"
     ]
    }
   ],
   "source": [
    "filenames = ['cats.txt', 'dogs.txt']\n",
    "\n",
    "for filename in filenames:\n",
    "    try:\n",
    "        with open(filename) as file_object:\n",
    "            print(f\"Contents of {filename}:\")\n",
    "            contents = file_object.read()\n",
    "            print(contents)\n",
    "    except FileNotFoundError:\n",
    "        print(f\"Sorry, the file '{filename}' does not exist or cannot be found.\")\n"
   ]
  },
  {
   "cell_type": "markdown",
   "id": "57",
   "metadata": {},
   "source": [
    "## Question 29\n",
    "\n",
    "**Silent Cats and Dogs:** Modify your except block in Question 28 to fail silently if either file is missing."
   ]
  },
  {
   "cell_type": "code",
   "execution_count": 106,
   "id": "58",
   "metadata": {},
   "outputs": [
    {
     "name": "stdout",
     "output_type": "stream",
     "text": [
      "Contents of cats.txt:\n",
      "Kiki\n",
      "\n",
      "Geegee\n",
      "\n",
      "Dongzhi\n",
      "Contents of dogs.txt:\n",
      "Doudou\n",
      "\n",
      "Vicky\n",
      "\n",
      "Ben\n"
     ]
    }
   ],
   "source": [
    "filenames = ['cats.txt', 'dogs.txt']\n",
    "\n",
    "for filename in filenames:\n",
    "    try:\n",
    "        with open(filename) as file_object:\n",
    "            print(f\"Contents of {filename}:\")\n",
    "            contents = file_object.read()\n",
    "            print(contents)\n",
    "    except FileNotFoundError:\n",
    "        pass\n"
   ]
  },
  {
   "cell_type": "markdown",
   "id": "59",
   "metadata": {},
   "source": [
    "## Question 30\n",
    "\n",
    "**Common Words:** Visit Project Gutenberg (<https://gutenberg.org/>) and find a few texts you’d like to analyze. Download the text files for these works, or copy the raw text from your browser into a text file on your computer. You can use the `count()` method to find out how many times a word or phrase appears in a string. For example, the following code counts the number of times 'row' appears in a string:"
   ]
  },
  {
   "cell_type": "code",
   "execution_count": 107,
   "id": "60",
   "metadata": {},
   "outputs": [
    {
     "data": {
      "text/plain": [
       "2"
      ]
     },
     "execution_count": 107,
     "metadata": {},
     "output_type": "execute_result"
    }
   ],
   "source": [
    "line = \"Row, row, row your boat\"\n",
    "line.count(\"row\")"
   ]
  },
  {
   "cell_type": "code",
   "execution_count": 108,
   "id": "61",
   "metadata": {},
   "outputs": [
    {
     "data": {
      "text/plain": [
       "3"
      ]
     },
     "execution_count": 108,
     "metadata": {},
     "output_type": "execute_result"
    }
   ],
   "source": [
    "line.lower().count(\"row\")"
   ]
  },
  {
   "cell_type": "markdown",
   "id": "62",
   "metadata": {},
   "source": [
    "Notice that converting the string to lowercase using lower() catches all appearances of the word you’re looking for, regardless of how it’s formatted.\n",
    "\n",
    "Write a program that reads the files you found at Project Gutenberg and determines how many times the word `the` appears in each text. This will be an approximation because it will also count words such as `then` and `there`. Try counting `the`, with a space in the string, and see how much lower your count is."
   ]
  },
  {
   "cell_type": "code",
   "execution_count": 109,
   "id": "63",
   "metadata": {},
   "outputs": [
    {
     "name": "stdout",
     "output_type": "stream",
     "text": [
      "The word 'the' without spaces appears 11 times in the text.\n",
      "The word 'the' with spaces appears 0 times in the text.\n"
     ]
    }
   ],
   "source": [
    "def main():\n",
    "    text = '''Now the way of life that I preach is a habit to be acquired gradually by long and steady repetition. It is the practice of living for the day only, and for the day's work, Life in day-tight compartments. \"Ah,\" I hear you say, \"that is an easy matter, simple as Elisha's advice!\" Not as I shall urge it, in words which fail to express the depth of my feelings as to its value. I started life in the best of all environments—in a parsonage, one of nine children. A man who has filled Chairs in four universities, has written a successful book, and has been asked to lecture at Yale, is supposed popularly to have brains of a special quality. A few of my intimate friends really know the truth about me, as I know it! Mine, in good faith I say it, are of the most mediocre character. But what about those professorships, etc.? Just habit, a way of life, an outcome of the day's work, the vital importance of which I wish to impress upon you with all the force at my command.'''\n",
    "\n",
    "    occurrences_nonspace = text.lower().split().count(\"the\")\n",
    "\n",
    "    print(f\"The word 'the' without spaces appears {occurrences_nonspace} times in the text.\")\n",
    "\n",
    "    occurrences_space = text.lower().split().count(\" the \")\n",
    "\n",
    "    print(f\"The word 'the' with spaces appears {occurrences_space} times in the text.\")\n",
    "\n",
    "\n",
    "if __name__ == \"__main__\":\n",
    "    main()"
   ]
  }
 ],
 "metadata": {
  "kernelspec": {
   "display_name": "Python 3",
   "language": "python",
   "name": "python3"
  },
  "language_info": {
   "codemirror_mode": {
    "name": "ipython",
    "version": 3
   },
   "file_extension": ".py",
   "mimetype": "text/x-python",
   "name": "python",
   "nbconvert_exporter": "python",
   "pygments_lexer": "ipython3",
   "version": "3.11.7"
  }
 },
 "nbformat": 4,
 "nbformat_minor": 5
}
