{
 "cells": [
  {
   "cell_type": "markdown",
   "metadata": {},
   "source": [
    "[![image](https://colab.research.google.com/assets/colab-badge.svg)](https://colab.research.google.com/github/Younguz/uzgeo/blob/main/docs/examples/introfunction.ipynb)"
   ]
  },
  {
   "cell_type": "markdown",
   "metadata": {},
   "source": [
    "Introduction\n",
    "\n",
    "When you want to use a package, use import to load it."
   ]
  },
  {
   "cell_type": "code",
   "execution_count": 1,
   "metadata": {},
   "outputs": [
    {
     "ename": "IndentationError",
     "evalue": "unindent does not match any outer indentation level (uzgeo.py, line 68)",
     "output_type": "error",
     "traceback": [
      "Traceback \u001b[1;36m(most recent call last)\u001b[0m:\n",
      "\u001b[0m  File \u001b[0;32me:\\Minicoda\\envs\\UZVB\\Lib\\site-packages\\IPython\\core\\interactiveshell.py:3553\u001b[0m in \u001b[0;35mrun_code\u001b[0m\n    exec(code_obj, self.user_global_ns, self.user_ns)\u001b[0m\n",
      "\u001b[0m  Cell \u001b[0;32mIn[1], line 1\u001b[0m\n    import uzgeo\u001b[0m\n",
      "\u001b[1;36m  File \u001b[1;32m~\\uzgeo\\uzgeo\\__init__.py:7\u001b[1;36m\n\u001b[1;33m    from .uzgeo import Map\u001b[1;36m\n",
      "\u001b[1;36m  File \u001b[1;32m~\\uzgeo\\uzgeo\\uzgeo.py:68\u001b[1;36m\u001b[0m\n\u001b[1;33m    def add_shp(self, data, name=\"shp\", **kwargs):\u001b[0m\n\u001b[1;37m                                                  ^\u001b[0m\n\u001b[1;31mIndentationError\u001b[0m\u001b[1;31m:\u001b[0m unindent does not match any outer indentation level\n"
     ]
    }
   ],
   "source": [
    "import uzgeo"
   ]
  },
  {
   "cell_type": "markdown",
   "metadata": {},
   "source": [
    "Print function\n",
    "\n",
    "When you need to use the print function, use it in this way."
   ]
  },
  {
   "cell_type": "code",
   "execution_count": 2,
   "metadata": {},
   "outputs": [
    {
     "name": "stdout",
     "output_type": "stream",
     "text": [
      "what you want to print\n"
     ]
    }
   ],
   "source": [
    "print(\"what you want to print\")"
   ]
  },
  {
   "cell_type": "markdown",
   "metadata": {},
   "source": [
    "When you are trying to find the mean of a number sequence, check the example/Mean. You can know that how to use the function."
   ]
  },
  {
   "cell_type": "markdown",
   "metadata": {},
   "source": [
    "\n",
    "\n",
    "\n",
    "\n",
    "\n",
    "\n",
    "This package can help you quickly create previewable maps and focus on anywhere in the world. Check the usage of map class in the example."
   ]
  },
  {
   "cell_type": "markdown",
   "metadata": {},
   "source": [
    "Here is the method of using add_vector(), the add_vector method is a part of a Python class designed to add vector data layers to a map visualization. It is versatile, accepting data in various formats, including paths to GeoJSON or shapefile formats, GeoJSON dictionaries directly, or geospatial data encapsulated in a GeoPandas GeoDataFrame."
   ]
  },
  {
   "cell_type": "code",
   "execution_count": 2,
   "metadata": {},
   "outputs": [],
   "source": [
    "import geopandas as gpd\n",
    "import json\n",
    "\n",
    "class Map:\n",
    "    # Existing implementation of the Map class\n",
    "\n",
    "    def add_vector(self, data, name=\"Vector\", **kwargs):\n",
    "        \"\"\"Adds a vector layer to the map from any GeoPandas-supported vector data format.\"\"\"\n",
    "        if isinstance(data, gpd.GeoDataFrame):\n",
    "            geojson_data = json.loads(data.to_json())\n",
    "        elif isinstance(data, str):\n",
    "            data = gpd.read_file(data)\n",
    "            geojson_data = json.loads(data.to_json())\n",
    "        elif isinstance(data, dict):\n",
    "            geojson_data = data\n",
    "        else:\n",
    "            raise ValueError(\"Unsupported data format\")\n",
    "\n",
    "        self.add_geojson(geojson_data, name, **kwargs)\n",
    "\n"
   ]
  },
  {
   "cell_type": "markdown",
   "metadata": {},
   "source": [
    "Conclusion\n",
    "\n",
    "This package can help you quickly import some practical functions and solve some troublesome mathematical and geographical problems."
   ]
  }
 ],
 "metadata": {
  "kernelspec": {
   "display_name": "UZVB",
   "language": "python",
   "name": "python3"
  },
  "language_info": {
   "codemirror_mode": {
    "name": "ipython",
    "version": 3
   },
   "file_extension": ".py",
   "mimetype": "text/x-python",
   "name": "python",
   "nbconvert_exporter": "python",
   "pygments_lexer": "ipython3",
   "version": "3.11.7"
  }
 },
 "nbformat": 4,
 "nbformat_minor": 2
}
