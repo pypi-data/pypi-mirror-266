{
 "cells": [
  {
   "cell_type": "markdown",
   "metadata": {},
   "source": [
    "# Data structures\n",
    "\n",
    "The main data structures are:\n",
    "\n",
    "- `Array`: can be thought of as a numpy `ndarray` with a physical unit\n",
    "- `Vector`: a container whose components are Arrays\n",
    "- `Datagroup`: a dictionary of Arrays and/or Vectors\n",
    "- `Dataset`: a dictionary of Datagroups, and can also contain additional metadata\n",
    "\n",
    "This notebook aims to give both a description of each structure,\n",
    "and show how they can be used efficiently to manipulate and explore your simulation data.\n",
    "They aim to have an API which is close to the Python dict and the numpy `ndarray`."
   ]
  },
  {
   "cell_type": "code",
   "execution_count": null,
   "metadata": {},
   "outputs": [],
   "source": [
    "import osyris\n",
    "import numpy as np"
   ]
  },
  {
   "cell_type": "markdown",
   "metadata": {},
   "source": [
    "We load a data output from a star formation simulation"
   ]
  },
  {
   "cell_type": "code",
   "execution_count": null,
   "metadata": {},
   "outputs": [],
   "source": [
    "data = osyris.Dataset(8, path=\"osyrisdata/starformation\").load()"
   ]
  },
  {
   "cell_type": "markdown",
   "metadata": {},
   "source": [
    "## The `Dataset` class\n",
    "\n",
    "The `Dataset` object that has a `__str__` representation,\n",
    "which list all the contents of `data` in an easy manner:"
   ]
  },
  {
   "cell_type": "code",
   "execution_count": null,
   "metadata": {},
   "outputs": [],
   "source": [
    "data"
   ]
  },
  {
   "cell_type": "markdown",
   "metadata": {},
   "source": [
    "The `Dataset` class aims to behave very similarly to a Python `dict`.\n",
    "To access one element of `data`, we index it by using the group names"
   ]
  },
  {
   "cell_type": "code",
   "execution_count": null,
   "metadata": {},
   "outputs": [],
   "source": [
    "data[\"hydro\"]"
   ]
  },
  {
   "cell_type": "markdown",
   "metadata": {},
   "source": [
    "Each entry in the `Dataset` is a `Datagroup`.\n",
    "\n",
    "It is also possible to store additional metadata under the `meta` property"
   ]
  },
  {
   "cell_type": "code",
   "execution_count": null,
   "metadata": {},
   "outputs": [],
   "source": [
    "data.meta"
   ]
  },
  {
   "cell_type": "markdown",
   "metadata": {},
   "source": [
    "## The `Datagroup` class\n",
    "\n",
    "The `Datagroup` can be thought of a Python `dict` of arrays,\n",
    "which enforces shape alignment, so that all members of a `Datagroup` have the same length.\n",
    "\n",
    "The elements of a `Datagroup` can be accessed using the variables names"
   ]
  },
  {
   "cell_type": "code",
   "execution_count": null,
   "metadata": {},
   "outputs": [],
   "source": [
    "data[\"hydro\"][\"density\"]"
   ]
  },
  {
   "cell_type": "markdown",
   "metadata": {},
   "source": [
    "Each entry in the `Datagroup` is an `Array` object, which will be described in detail below.\n",
    "\n",
    "`Dataset` and `Datagroup` both provide standard dictionary iterators,\n",
    "which can be used to loop over their contents:"
   ]
  },
  {
   "cell_type": "code",
   "execution_count": null,
   "metadata": {},
   "outputs": [],
   "source": [
    "data.keys()"
   ]
  },
  {
   "cell_type": "code",
   "execution_count": null,
   "metadata": {},
   "outputs": [],
   "source": [
    "data[\"amr\"].values()"
   ]
  },
  {
   "cell_type": "markdown",
   "metadata": {},
   "source": [
    "Because it ensures all its members have the same length,\n",
    "a `Datagroup` can be sliced along its length"
   ]
  },
  {
   "cell_type": "code",
   "execution_count": null,
   "metadata": {},
   "outputs": [],
   "source": [
    "data[\"hydro\"][10:20]"
   ]
  },
  {
   "cell_type": "markdown",
   "metadata": {},
   "source": [
    "## The `Array` class\n",
    "\n",
    "Each entry in the `Datagroup` dictionary is an `Array` (or `Vector`, see below) object:"
   ]
  },
  {
   "cell_type": "code",
   "execution_count": null,
   "metadata": {},
   "outputs": [],
   "source": [
    "a = data[\"hydro\"][\"density\"]\n",
    "type(a)"
   ]
  },
  {
   "cell_type": "markdown",
   "metadata": {},
   "source": [
    "Its string representation lists the array's key in its parent `Datagroup`,\n",
    "the minimum and maximum values in the array, its physical unit, and the number of elements in the array."
   ]
  },
  {
   "cell_type": "code",
   "execution_count": null,
   "metadata": {},
   "outputs": [],
   "source": [
    "a"
   ]
  },
  {
   "cell_type": "markdown",
   "metadata": {},
   "source": [
    "An `Array` can basically be thought of as a `numpy` array with a physical unit: "
   ]
  },
  {
   "cell_type": "code",
   "execution_count": null,
   "metadata": {},
   "outputs": [],
   "source": [
    "a.values"
   ]
  },
  {
   "cell_type": "code",
   "execution_count": null,
   "metadata": {},
   "outputs": [],
   "source": [
    "a.unit"
   ]
  },
  {
   "cell_type": "markdown",
   "metadata": {},
   "source": [
    "Operations you would normally perform on a numpy array, such as slicing, are supported:"
   ]
  },
  {
   "cell_type": "code",
   "execution_count": null,
   "metadata": {},
   "outputs": [],
   "source": [
    "a[101:255]"
   ]
  },
  {
   "cell_type": "markdown",
   "metadata": {},
   "source": [
    "Note that this returns a view onto the original data, instead of making a copy.\n",
    "\n",
    "Using `numpy`'s `array_function` and `array_ufunc` protocols, `Array` also supports most `numpy` operations, e.g."
   ]
  },
  {
   "cell_type": "code",
   "execution_count": null,
   "metadata": {},
   "outputs": [],
   "source": [
    "np.log10(a)"
   ]
  },
  {
   "cell_type": "code",
   "execution_count": null,
   "metadata": {},
   "outputs": [],
   "source": [
    "np.sum(a)"
   ]
  },
  {
   "cell_type": "markdown",
   "metadata": {},
   "source": [
    "Note that in these cases, a new `Array` is returned, and they are not attached to any `Datagroup`,\n",
    "and therefore do not have a name.\n",
    "To insert a new `Array` into a `Datagroup`, simply use the dictionary syntax"
   ]
  },
  {
   "cell_type": "code",
   "execution_count": null,
   "metadata": {},
   "outputs": [],
   "source": [
    "data[\"hydro\"][\"log_rho\"] = np.log10(a)\n",
    "data[\"hydro\"]"
   ]
  },
  {
   "cell_type": "markdown",
   "metadata": {},
   "source": [
    "### Example: find the system center\n",
    "\n",
    "A simple way to find the centre of our protostellar system is to use the coordinate of the cell with the highest density in the simulation."
   ]
  },
  {
   "cell_type": "code",
   "execution_count": null,
   "metadata": {},
   "outputs": [],
   "source": [
    "ind = np.argmax(data[\"hydro\"][\"density\"])\n",
    "center = data[\"amr\"][\"position\"][ind]\n",
    "center"
   ]
  },
  {
   "cell_type": "markdown",
   "metadata": {},
   "source": [
    "## Array arithmetic and units\n",
    "\n",
    "Units are automatically handled (and conversions carried out) when performing arithmetic on arrays.\n",
    "For instance, we want to compute a new quantity which represents the mass inside each cell.\n",
    "\n",
    "The data density is in `g / cm**3`, while the cell size is in `cm`, giving"
   ]
  },
  {
   "cell_type": "code",
   "execution_count": null,
   "metadata": {},
   "outputs": [],
   "source": [
    "data[\"hydro\"][\"mass\"] = data[\"hydro\"][\"density\"] * (data[\"amr\"][\"dx\"] ** 3)\n",
    "data[\"hydro\"][\"mass\"]"
   ]
  },
  {
   "cell_type": "markdown",
   "metadata": {},
   "source": [
    "This helps to free mental capacity and allows the user to focus on what is important: **doing science**.\n",
    "\n",
    "### Manual unit conversions\n",
    "\n",
    "Sometimes, it is useful to convert from CGS units to other base units:"
   ]
  },
  {
   "cell_type": "code",
   "execution_count": null,
   "metadata": {},
   "outputs": [],
   "source": [
    "data[\"hydro\"][\"mass\"].to(\"M_sun\")"
   ]
  },
  {
   "cell_type": "markdown",
   "metadata": {},
   "source": [
    "Note that in this case a new `Array` is returned. If you want to update the entry in your `Datagroup`, use"
   ]
  },
  {
   "cell_type": "code",
   "execution_count": null,
   "metadata": {},
   "outputs": [],
   "source": [
    "data[\"hydro\"][\"mass\"] = data[\"hydro\"][\"mass\"].to(\"M_sun\")"
   ]
  },
  {
   "cell_type": "markdown",
   "metadata": {},
   "source": [
    "Units are properly handled in operations that involve non-base units by first converting both operands to their base units,\n",
    "before performing the operation.\n",
    "In the following example, we compute the mass from a `density` in `g / cm**3` and a cell size in `au`:"
   ]
  },
  {
   "cell_type": "code",
   "execution_count": null,
   "metadata": {},
   "outputs": [],
   "source": [
    "dx_in_au = data[\"amr\"][\"dx\"].to(\"au\")\n",
    "(data[\"hydro\"][\"density\"] * (dx_in_au**3)).to(\"M_sun\")"
   ]
  },
  {
   "cell_type": "markdown",
   "metadata": {},
   "source": [
    "### Units also provide safety\n",
    "\n",
    "Physical units also provide a certain level of safety around operations.\n",
    "By assigning some quantities to intermediate variables,\n",
    "it is often easy to lose track of the exact quantity (or at least its dimensionality) that a variable represents.\n",
    "\n",
    "Physical units can prevent performing operations on mismatching quantities:"
   ]
  },
  {
   "cell_type": "code",
   "execution_count": null,
   "metadata": {},
   "outputs": [],
   "source": [
    "try:\n",
    "    data[\"hydro\"][\"density\"] + data[\"hydro\"][\"mass\"]\n",
    "except Exception as e:\n",
    "    print(e)"
   ]
  },
  {
   "cell_type": "markdown",
   "metadata": {},
   "source": [
    "Physical units can also help find errors in an analysis workflow,\n",
    "when looking at a final value for a computed star formation rate for example,\n",
    "and realising that the final unit represents a quantity per unit volume,\n",
    "while the user was trying to calculate an integrate rate."
   ]
  },
  {
   "cell_type": "markdown",
   "metadata": {},
   "source": [
    "### Operations with floats\n",
    "\n",
    "Operations with floats are also supported:"
   ]
  },
  {
   "cell_type": "code",
   "execution_count": null,
   "metadata": {},
   "outputs": [],
   "source": [
    "data[\"hydro\"][\"density\"] * 1.0e5"
   ]
  },
  {
   "cell_type": "markdown",
   "metadata": {},
   "source": [
    "## The `Vector` class\n",
    "\n",
    "Datagroups contain scalar variables (such as the gas density above) as well as vector variables.\n",
    "Vector variables have more than one component, represented by a special `Vector` class,\n",
    "which contains one `Array` for each component.\n",
    "\n",
    "A Vector variable can be identified in a Datagroup by the list of components at the end of its string representation `{x,y,z}`:"
   ]
  },
  {
   "cell_type": "code",
   "execution_count": null,
   "metadata": {},
   "outputs": [],
   "source": [
    "data[\"hydro\"][\"velocity\"]"
   ]
  },
  {
   "cell_type": "markdown",
   "metadata": {},
   "source": [
    "The Min and Max values printed above are from the norm of the Vector.\n",
    "The components of the Vector are accessed via the `.x`, `.y`, `.z` properties:"
   ]
  },
  {
   "cell_type": "code",
   "execution_count": null,
   "metadata": {},
   "outputs": [],
   "source": [
    "data[\"hydro\"][\"velocity\"].y"
   ]
  },
  {
   "cell_type": "markdown",
   "metadata": {},
   "source": [
    "The shape of the Vector is the same as the shape of the Array:"
   ]
  },
  {
   "cell_type": "code",
   "execution_count": null,
   "metadata": {},
   "outputs": [],
   "source": [
    "data[\"hydro\"][\"velocity\"].shape == data[\"hydro\"][\"density\"].shape"
   ]
  },
  {
   "cell_type": "markdown",
   "metadata": {},
   "source": [
    "### Vector operations\n",
    "\n",
    "All operations that can be done on Arrays (including Numpy operations) can also be carried out with Vectors:"
   ]
  },
  {
   "cell_type": "code",
   "execution_count": null,
   "metadata": {},
   "outputs": [],
   "source": [
    "data[\"hydro\"][\"velocity\"] + data[\"hydro\"][\"velocity\"]"
   ]
  },
  {
   "cell_type": "code",
   "execution_count": null,
   "metadata": {},
   "outputs": [],
   "source": [
    "np.sum(data[\"hydro\"][\"velocity\"])"
   ]
  },
  {
   "cell_type": "markdown",
   "metadata": {},
   "source": [
    "### Vector - Array operations\n",
    "\n",
    "In operations that combine both Vectors and Arrays, are automatically broadcasted:"
   ]
  },
  {
   "cell_type": "code",
   "execution_count": null,
   "metadata": {},
   "outputs": [],
   "source": [
    "data[\"hydro\"][\"momentum\"] = data[\"hydro\"][\"density\"] * data[\"hydro\"][\"velocity\"]\n",
    "data[\"hydro\"][\"momentum\"]"
   ]
  },
  {
   "cell_type": "markdown",
   "metadata": {},
   "source": [
    "### Dot and cross prodcuts\n",
    "\n",
    "Vectors also provide additionaly functionality, such as `dot` and `cross` products"
   ]
  },
  {
   "cell_type": "code",
   "execution_count": null,
   "metadata": {},
   "outputs": [],
   "source": [
    "data[\"hydro\"][\"velocity\"].dot(data[\"hydro\"][\"velocity\"])"
   ]
  },
  {
   "cell_type": "code",
   "execution_count": null,
   "metadata": {},
   "outputs": [],
   "source": [
    "data[\"amr\"][\"position\"].cross(data[\"hydro\"][\"velocity\"])"
   ]
  }
 ],
 "metadata": {
  "kernelspec": {
   "display_name": "Python 3 (ipykernel)",
   "language": "python",
   "name": "python3"
  },
  "language_info": {
   "codemirror_mode": {
    "name": "ipython",
    "version": 3
   },
   "file_extension": ".py",
   "mimetype": "text/x-python",
   "name": "python",
   "nbconvert_exporter": "python",
   "pygments_lexer": "ipython3",
   "version": "3.9.5"
  }
 },
 "nbformat": 4,
 "nbformat_minor": 4
}
