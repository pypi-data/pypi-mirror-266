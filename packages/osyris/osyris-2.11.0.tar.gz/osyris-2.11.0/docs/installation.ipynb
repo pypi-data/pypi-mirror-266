{
 "cells": [
  {
   "cell_type": "markdown",
   "metadata": {},
   "source": [
    "# Installation\n",
    "\n",
    "There are two ways to install `osyris`: using `pip` and by cloning the source from Github.\n",
    "\n",
    "## Using pip\n",
    "\n",
    "To install using `pip`, simply do"
   ]
  },
  {
   "cell_type": "code",
   "execution_count": null,
   "metadata": {},
   "outputs": [],
   "source": [
    "$ pip install osyris"
   ]
  },
  {
   "cell_type": "markdown",
   "metadata": {},
   "source": [
    "If you have already installed `osyris` in the past, but would like to upgrade, use"
   ]
  },
  {
   "cell_type": "code",
   "execution_count": null,
   "metadata": {},
   "outputs": [],
   "source": [
    "$ pip install osyris --upgrade"
   ]
  },
  {
   "cell_type": "markdown",
   "metadata": {},
   "source": [
    "<div class=\"alert alert-warning\">\n",
    "\n",
    "**Warning**\n",
    "\n",
    "If you are upgrading from an old version to a version >= 2.6.0,\n",
    "and you are getting some strange errors,\n",
    "you may need to update your `config_osyris.py` configuration file in `/home/user/.osyris`.\n",
    "\n",
    "- If you had never touched the configuration file, it is safe to simply delete it (a new one will be created when importing `osyris`).\n",
    "- If you had made changes to the configuration, the easiest is probably to move it to a new location/filename. Then import `osyris` and update the newly created file to incorporate the changes you had made previously.\n",
    "\n",
    "</div>"
   ]
  },
  {
   "cell_type": "markdown",
   "metadata": {},
   "source": [
    "## Cloning the source\n",
    "\n",
    "Clone the osyris repository from [Github](https://github.com/osyris-project/osyris) into your chosen directory.\n",
    "For this tutorial, the directory will be located at `/home/user/software`:"
   ]
  },
  {
   "cell_type": "code",
   "execution_count": null,
   "metadata": {},
   "outputs": [],
   "source": [
    "$ cd /home/user/software\n",
    "$ git clone https://github.com/osyris-project/osyris.git"
   ]
  },
  {
   "cell_type": "markdown",
   "metadata": {},
   "source": [
    "Then just add the path to the `src/osyris` directory to you `PYTHONPATH`:"
   ]
  },
  {
   "cell_type": "code",
   "execution_count": null,
   "metadata": {},
   "outputs": [],
   "source": [
    "$ export PYTHONPATH=/home/user/software/osyris/src/osyris:$PYTHONPATH"
   ]
  },
  {
   "cell_type": "markdown",
   "metadata": {},
   "source": [
    "## Requirements\n",
    "\n",
    "- matplotlib\n",
    "- numpy\n",
    "- numba\n",
    "- pint"
   ]
  }
 ],
 "metadata": {
  "kernelspec": {
   "display_name": "Python 3 (ipykernel)",
   "language": "python",
   "name": "python3"
  },
  "language_info": {
   "codemirror_mode": {
    "name": "ipython",
    "version": 3
   },
   "file_extension": ".py",
   "mimetype": "text/x-python",
   "name": "python",
   "nbconvert_exporter": "python",
   "pygments_lexer": "ipython3",
   "version": "3.9.5"
  },
  "nbsphinx": {
   "execute": "never"
  }
 },
 "nbformat": 4,
 "nbformat_minor": 4
}
