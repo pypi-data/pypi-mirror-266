{
 "cells": [
  {
   "cell_type": "markdown",
   "metadata": {},
   "source": [
    "# Recipes\n",
    "\n",
    "This notebook is a collection of recipes;\n",
    "useful data manipulations or plots commonly used by users."
   ]
  },
  {
   "cell_type": "code",
   "execution_count": null,
   "metadata": {},
   "outputs": [],
   "source": [
    "import osyris\n",
    "import numpy as np\n",
    "import matplotlib.pyplot as plt\n",
    "\n",
    "path = \"osyrisdata/starformation\"\n",
    "data5 = osyris.Dataset(5, path=path).load()\n",
    "data8 = osyris.Dataset(8, path=path).load()"
   ]
  },
  {
   "cell_type": "markdown",
   "metadata": {},
   "source": [
    "## Difference between two snapshots: histograms\n",
    "\n",
    "Here, we want to make a map of the difference in 2D histograms between two snapshots (outputs `5` and `8`).\n",
    "Because we do not necessarily have the same number of cells at the same place,\n",
    "we first have to make uniform 2D maps using the `histogram2d` function,\n",
    "which we can then directly compare.\n",
    "\n",
    "The `histogram2d` function actually returns an object that contains the raw data that was used to create the figure.\n",
    "By using the `plot=False` argument, we can silence the figure generation, and use the data in a custom figure.\n",
    "\n",
    "**Note:** For the comparison to make sense, both histograms have to use the same horizontal and vertical range."
   ]
  },
  {
   "cell_type": "code",
   "execution_count": null,
   "metadata": {},
   "outputs": [],
   "source": [
    "hist5 = osyris.histogram2d(\n",
    "    data5[\"hydro\"][\"density\"],\n",
    "    data5[\"hydro\"][\"B_field\"],\n",
    "    norm=\"log\",\n",
    "    loglog=True,\n",
    "    plot=False,\n",
    ")\n",
    "\n",
    "hist8 = osyris.histogram2d(\n",
    "    data8[\"hydro\"][\"density\"],\n",
    "    data8[\"hydro\"][\"B_field\"],\n",
    "    norm=\"log\",\n",
    "    loglog=True,\n",
    "    plot=False,\n",
    ")\n",
    "\n",
    "# Get x,y coordinates\n",
    "x = hist5.x\n",
    "y = hist5.y\n",
    "\n",
    "# Difference in counts\n",
    "counts5 = np.log10(hist5.layers[0][\"data\"])\n",
    "counts8 = np.log10(hist8.layers[0][\"data\"])\n",
    "diff = (counts5 - counts8) / counts8\n",
    "\n",
    "# Create figure\n",
    "fig, ax = plt.subplots()\n",
    "cf = ax.contourf(x, y, diff, cmap=\"RdBu\", levels=np.linspace(-0.3, 0.3, 11))\n",
    "ax.set_xscale(\"log\")\n",
    "ax.set_yscale(\"log\")\n",
    "cb = plt.colorbar(cf, ax=ax)\n",
    "cb.ax.set_ylabel(\"Relative difference\")"
   ]
  },
  {
   "cell_type": "markdown",
   "metadata": {},
   "source": [
    "## Difference between two snapshots: spatial maps\n",
    "\n",
    "Here, we want to make a map of the difference in density between two snapshots.\n",
    "The `map` function also returns an object that contains the raw data that was used to create the figure.\n",
    "By using the `plot=False` argument, we can silence the figure generation, and use the data in a custom figure.\n",
    "\n",
    "**Note:** For this to make sense, the two outputs have to be centered around the same center point."
   ]
  },
  {
   "cell_type": "code",
   "execution_count": null,
   "metadata": {},
   "outputs": [],
   "source": [
    "# Find center\n",
    "ind = np.argmax(data8[\"hydro\"][\"density\"])\n",
    "center = data8[\"amr\"][\"position\"][ind]\n",
    "\n",
    "dx = 2000 * osyris.units(\"au\")\n",
    "# Extract density slices by copying data into structures\n",
    "plane5 = osyris.map(\n",
    "    {\"data\": data5[\"hydro\"][\"density\"], \"norm\": \"log\"},\n",
    "    dx=dx,\n",
    "    origin=center,\n",
    "    direction=\"z\",\n",
    "    plot=False,\n",
    ")\n",
    "\n",
    "plane8 = osyris.map(\n",
    "    {\"data\": data8[\"hydro\"][\"density\"], \"norm\": \"log\"},\n",
    "    dx=dx,\n",
    "    origin=center,\n",
    "    direction=\"z\",\n",
    "    plot=False,\n",
    ")\n",
    "\n",
    "# Get x,y coordinates\n",
    "x = plane5.x\n",
    "y = plane5.y\n",
    "\n",
    "# Density difference\n",
    "rho5 = np.log10(plane5.layers[0][\"data\"])\n",
    "rho8 = np.log10(plane8.layers[0][\"data\"])\n",
    "diff = (rho5 - rho8) / rho8\n",
    "\n",
    "# Create figure\n",
    "fig, ax = plt.subplots()\n",
    "cf = ax.contourf(x, y, diff, cmap=\"RdBu\", levels=np.linspace(-0.12, 0.12, 31))\n",
    "ax.set_aspect(\"equal\")\n",
    "cb = plt.colorbar(cf, ax=ax)\n",
    "cb.ax.set_ylabel(\"Relative difference\")"
   ]
  },
  {
   "cell_type": "markdown",
   "metadata": {},
   "source": [
    "## Radial profile\n",
    "\n",
    "This example shows how to make a 1D profile of the mean gas density as a function of radius."
   ]
  },
  {
   "cell_type": "code",
   "execution_count": null,
   "metadata": {},
   "outputs": [],
   "source": [
    "# Re-center cell coordinates according to origin\n",
    "data8[\"amr\"][\"pos_new\"] = (data8[\"amr\"][\"position\"] - center).to(\"au\")\n",
    "\n",
    "# Create figure\n",
    "fig, ax = plt.subplots()\n",
    "\n",
    "# Make scatter plot as radial profile\n",
    "step = 100\n",
    "osyris.scatter(\n",
    "    data8[\"amr\"][\"pos_new\"][::step],\n",
    "    data8[\"hydro\"][\"density\"][::step],\n",
    "    c=\"grey\",\n",
    "    edgecolors=\"None\",\n",
    "    loglog=True,\n",
    "    ax=ax,\n",
    ")\n",
    "\n",
    "# Define range and number of bins\n",
    "rmin = 1.5\n",
    "rmax = 3.5\n",
    "nr = 100\n",
    "\n",
    "# Radial bin edges and centers\n",
    "edges = np.linspace(rmin, rmax, nr + 1)\n",
    "midpoints = 0.5 * (edges[1:] + edges[:-1])\n",
    "\n",
    "# Bin the data in radial bins\n",
    "z0, _ = np.histogram(np.log10(data8[\"amr\"][\"pos_new\"].norm.values), bins=edges)\n",
    "z1, _ = np.histogram(\n",
    "    np.log10(data8[\"amr\"][\"pos_new\"].norm.values),\n",
    "    bins=edges,\n",
    "    weights=data8[\"hydro\"][\"density\"].values,\n",
    ")\n",
    "rho_mean = z1 / z0\n",
    "\n",
    "# Overlay profile\n",
    "ax.plot(10.0**midpoints, rho_mean, color=\"r\", lw=3, label=\"Mean profile\")\n",
    "ax.legend()"
   ]
  }
 ],
 "metadata": {
  "kernelspec": {
   "display_name": "Python 3 (ipykernel)",
   "language": "python",
   "name": "python3"
  },
  "language_info": {
   "codemirror_mode": {
    "name": "ipython",
    "version": 3
   },
   "file_extension": ".py",
   "mimetype": "text/x-python",
   "name": "python",
   "nbconvert_exporter": "python",
   "pygments_lexer": "ipython3",
   "version": "3.9.5"
  }
 },
 "nbformat": 4,
 "nbformat_minor": 4
}
