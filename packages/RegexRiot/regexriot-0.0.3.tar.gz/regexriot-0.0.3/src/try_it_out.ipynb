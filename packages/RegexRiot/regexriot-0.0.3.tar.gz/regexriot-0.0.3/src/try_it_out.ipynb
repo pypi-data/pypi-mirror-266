{
 "cells": [
  {
   "cell_type": "markdown",
   "metadata": {},
   "source": [
    "Try out RegexRiot\n",
    "=================\n",
    "\n",
    "See how RegexRiot works on examples from [RegexTutorials](http://regextutorials.com/index.html). Pay attention to the autocomplete. It'll make things so much easier."
   ]
  },
  {
   "cell_type": "code",
   "execution_count": null,
   "metadata": {},
   "outputs": [],
   "source": [
    "from RegexRiot import *\n",
    "def showcase(rs:RiotString, lines):\n",
    "    if rs is None:\n",
    "        print(\"You forgot to set `rs` to a Riot Expression\")\n",
    "        print(\"Feel free to use the hint\")\n",
    "        return\n",
    "    rs = rs.compile()\n",
    "    for ln in lines:\n",
    "        print(f\"{ln:<60} => {rs.findall(ln)}\")\n"
   ]
  },
  {
   "cell_type": "markdown",
   "metadata": {},
   "source": [
    "Floating point numbers\n",
    "----------------------\n",
    "\n",
    "Match numbers containing floating point. Skip those that don't.\n",
    "\n",
    "- Speed of light in vacuum 299792458 m/s\n",
    "- Standard atmosphere 101325 Pa\n",
    "- Earth to sun distance 149600000 km\n",
    "- Acceleration of gravity **9.80665** m/s^2\n",
    "- Circumference to diameter ratio **3.141592**\n",
    "- Gas constant **8.3144621** J/mol*K\n",
    "\n",
    "<details> \n",
    "<summary>Hint: look for one or more digits, then a dot, then one or more digits again</summary>\n",
    "\n",
    "```py\n",
    "one_or_more(DIGIT).then(DOT).then(one_or_more(DIGIT))\n",
    "```\n",
    "\n",
    "</details>"
   ]
  },
  {
   "cell_type": "code",
   "execution_count": null,
   "metadata": {},
   "outputs": [],
   "source": [
    "rs = None\n",
    "lines = \"\"\"Speed of light in vacuum 299792458 m/s\n",
    "Standard atmosphere 101325 Pa\n",
    "Earth to sun distance 149600000 km\n",
    "Acceleration of gravity 9.80665 m/s^2\n",
    "Circumference to diameter ratio 3.141592\n",
    "Gas constant 8.3144621 J/mol*K\n",
    "\"\"\".strip().split('\\n')\n",
    "showcase(rs, lines)\n"
   ]
  },
  {
   "cell_type": "markdown",
   "metadata": {},
   "source": [
    "Years before 1990\n",
    "-----------------\n",
    "Match titles of all films produced before 1990.\n",
    "\n",
    "- 1 The Shawshank Redemption (1994)\n",
    "- 2 The Godfather (1972)\n",
    "- 3 The Godfather: Part II (1974)\n",
    "- 4 Pulp Fiction (1994)\n",
    "- 5 The Good, the Bad and the Ugly (1966)\n",
    "- 6 The Dark Knight (2008)\n",
    "- 7 12 Angry Men (1957)\n",
    "- 8 Schindler's List (1993)\n",
    "- 9 The Lord of the Rings: The Return of the King (2003)\n",
    "- 10 Fight Club (1999)\n",
    "\n",
    "<details>\n",
    "<summary>\n",
    "Hint: You can create a regex set in the following two ways <code>riot(a,b,c,d)</code>, <code>riot(a, to=b)</code>\n",
    "</summary>\n",
    "\n",
    "```py\n",
    "BEGINING.then(one_or_more(ANYTHING)).then(OPEN_PARENTHESIS).then(1).then(DIGIT).then(riot(0, to=8)).then(DIGIT).then(CLOSE_PARENTHESIS)\n",
    "```\n",
    "\n",
    "</details>"
   ]
  },
  {
   "cell_type": "code",
   "execution_count": null,
   "metadata": {},
   "outputs": [],
   "source": [
    "rs = BEGINING.then(one_or_more(ANYTHING)).then(OPEN_PARENTHESIS).then(1).\\\n",
    "    then(DIGIT).then(riot(0, to=8)).then(DIGIT).then(CLOSE_PARENTHESIS)\n",
    "lines = \"\"\"1 The Shawshank Redemption (1994)\n",
    "2 The Godfather (1972)\n",
    "3 The Godfather: Part II (1974)\n",
    "4 Pulp Fiction (1994)\n",
    "5 The Good, the Bad and the Ugly (1966)\n",
    "6 The Dark Knight (2008)\n",
    "7 12 Angry Men (1957)\n",
    "8 Schindler's List (1993)\n",
    "9 The Lord of the Rings: The Return of the King (2003)\n",
    "10 Fight Club (1999)\n",
    "\"\"\".strip().split('\\n')\n",
    "showcase(rs, lines)"
   ]
  }
 ],
 "metadata": {
  "kernelspec": {
   "display_name": "Python 3 (ipykernel)",
   "language": "python",
   "name": "python3"
  },
  "language_info": {
   "codemirror_mode": {
    "name": "ipython",
    "version": 3
   },
   "file_extension": ".py",
   "mimetype": "text/x-python",
   "name": "python",
   "nbconvert_exporter": "python",
   "pygments_lexer": "ipython3",
   "version": "3.10.12"
  }
 },
 "nbformat": 4,
 "nbformat_minor": 4
}
