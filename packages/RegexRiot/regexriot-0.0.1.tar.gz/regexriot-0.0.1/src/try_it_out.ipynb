{
 "cells": [
  {
   "cell_type": "markdown",
   "metadata": {},
   "source": [
    "Try out RegexRiot\n",
    "=================\n",
    "\n",
    "See how RegexRiot works on examples from [RegexTutorials](http://regextutorials.com/index.html). Pay attention to the autocomplete. It'll make things so much easier."
   ]
  },
  {
   "cell_type": "code",
   "execution_count": null,
   "metadata": {},
   "outputs": [],
   "source": [
    "from RegexRiot.riot import *\n",
    "def showcase(rs:RiotString, lines):\n",
    "    if rs is None:\n",
    "        print(\"You forgot to set `rs` to a Riot Expression\")\n",
    "        print(\"Feel free to use the hint\")\n",
    "        return\n",
    "    rs = rs.compile()\n",
    "    for ln in lines:\n",
    "        print(f\"{ln:<60} => {rs.findall(ln)}\")\n"
   ]
  },
  {
   "cell_type": "markdown",
   "metadata": {},
   "source": [
    "Floating point numbers\n",
    "----------------------\n",
    "\n",
    "Match numbers containing floating point. Skip those that don't.\n",
    "\n",
    "- Speed of light in vacuum 299792458 m/s\n",
    "- Standard atmosphere 101325 Pa\n",
    "- Earth to sun distance 149600000 km\n",
    "- Acceleration of gravity **9.80665** m/s^2\n",
    "- Circumference to diameter ratio **3.141592**\n",
    "- Gas constant **8.3144621** J/mol*K\n",
    "\n",
    "<details> \n",
    "<summary>Hint: look for one or more digits, then a dot, then one or more digits again</summary>\n",
    "\n",
    "```py\n",
    "one_or_more(DIGIT).then(DOT).then(one_or_more(DIGIT))\n",
    "```\n",
    "\n",
    "</details>"
   ]
  },
  {
   "cell_type": "code",
   "execution_count": null,
   "metadata": {},
   "outputs": [],
   "source": [
    "rs = None\n",
    "lines = \"\"\"Speed of light in vacuum 299792458 m/s\n",
    "Standard atmosphere 101325 Pa\n",
    "Earth to sun distance 149600000 km\n",
    "Acceleration of gravity 9.80665 m/s^2\n",
    "Circumference to diameter ratio 3.141592\n",
    "Gas constant 8.3144621 J/mol*K\n",
    "\"\"\".strip().split('\\n')\n",
    "showcase(rs, lines)\n"
   ]
  }
 ],
 "metadata": {
  "kernelspec": {
   "display_name": "Python 3 (ipykernel)",
   "language": "python",
   "name": "python3"
  },
  "language_info": {
   "codemirror_mode": {
    "name": "ipython",
    "version": 3
   },
   "file_extension": ".py",
   "mimetype": "text/x-python",
   "name": "python",
   "nbconvert_exporter": "python",
   "pygments_lexer": "ipython3",
   "version": "3.10.12"
  }
 },
 "nbformat": 4,
 "nbformat_minor": 4
}
