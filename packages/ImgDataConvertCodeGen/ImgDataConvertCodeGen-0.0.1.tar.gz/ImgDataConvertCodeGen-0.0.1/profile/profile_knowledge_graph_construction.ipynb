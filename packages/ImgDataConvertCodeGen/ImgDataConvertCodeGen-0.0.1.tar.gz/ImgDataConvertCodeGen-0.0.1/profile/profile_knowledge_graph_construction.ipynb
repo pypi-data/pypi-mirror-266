{
 "cells": [
  {
   "cell_type": "markdown",
   "id": "8d866c4b-5863-4852-bdb9-73e2b3ee33b2",
   "metadata": {},
   "source": [
    "# Profiling Knowledge Graph Construction"
   ]
  },
  {
   "cell_type": "code",
   "execution_count": 2,
   "id": "3082f080",
   "metadata": {},
   "outputs": [],
   "source": [
    "import os\n",
    "import sys\n",
    "\n",
    "# Assume the current working directory is where the this notebook file is located \n",
    "project_dir = os.path.dirname(os.getcwd())\n",
    "if project_dir not in sys.path:\n",
    "    sys.path.append(os.path.join(project_dir, \"src\"))\n",
    "# Alternatively you can install package directly from the Pypi. \n",
    "# %pip install imgdataconvertcodegen"
   ]
  },
  {
   "cell_type": "code",
   "execution_count": 1,
   "id": "998dadd7-aba4-4ca2-8276-69be6665fdbb",
   "metadata": {},
   "outputs": [
    {
     "name": "stdout",
     "output_type": "stream",
     "text": [
      "8 factories clusters, 62 factories in total,  8 manual edge creation.\n"
     ]
    }
   ],
   "source": [
    "import cProfile\n",
    "import pstats\n",
    "\n",
    "from imgdataconvertcodegen.knowledge_graph_construction import (metadata_values, factories_clusters,\n",
    "                                                                list_of_conversion_for_metadata_pair,\n",
    "                                                                KnowledgeGraphConstructor)\n",
    "\n",
    "print(f\"{len(factories_clusters)} factories clusters, \"\n",
    "      f\"{sum([len(cluster[1]) for cluster in factories_clusters])} factories in total, \",\n",
    "      f\"{len(list_of_conversion_for_metadata_pair)} manual edge creation.\")"
   ]
  },
  {
   "cell_type": "code",
   "execution_count": 4,
   "id": "458fcc50-38a6-42a5-b556-d4e36e99cea4",
   "metadata": {},
   "outputs": [
    {
     "name": "stdout",
     "output_type": "stream",
     "text": [
      "Construct Knowledge graph from the scratch\n",
      "Knowledge Graph with 553 nodes and 6472 edges.\n",
      "\n",
      "         2987521 function calls (2987517 primitive calls) in 2.001 seconds\n",
      "\n",
      "   Ordered by: internal time\n",
      "   List reduced from 264 to 5 due to restriction <5>\n",
      "\n",
      "   ncalls  tottime  percall  cumtime  percall filename:lineno(function)\n",
      "    80640    0.342    0.000    1.876    0.000 D:\\ImgDataConvertCodeGen\\src\\imgdataconvertcodegen\\knowledge_graph_construction\\constructor.py:59(_create_edge)\n",
      "   184464    0.228    0.000    0.263    0.000 D:\\ImgDataConvertCodeGen\\src\\imgdataconvertcodegen\\knowledge_graph_construction\\edge_factories\\Tensorflow.py:5(is_attribute_value_valid_for_tensorflow)\n",
      "   123792    0.158    0.000    0.182    0.000 D:\\ImgDataConvertCodeGen\\src\\imgdataconvertcodegen\\knowledge_graph_construction\\edge_factories\\PIL.py:5(is_attribute_value_valid_for_pil)\n",
      "   102312    0.135    0.000    0.156    0.000 D:\\ImgDataConvertCodeGen\\src\\imgdataconvertcodegen\\knowledge_graph_construction\\edge_factories\\Pytorch.py:5(is_attribute_value_valid_for_torch)\n",
      "   322560    0.134    0.000    0.209    0.000 D:\\ImgDataConvertCodeGen\\src\\imgdataconvertcodegen\\metadata_differ.py:1(are_both_same_data_repr)\n",
      "\n",
      "\n"
     ]
    }
   ],
   "source": [
    "print(\"Construct Knowledge graph from the scratch\")\n",
    "constructor = KnowledgeGraphConstructor(metadata_values, factories_clusters, list_of_conversion_for_metadata_pair)\n",
    "with cProfile.Profile() as profile:\n",
    "    constructor.build_from_scratch()\n",
    "    results = pstats.Stats(profile)\n",
    "    results.sort_stats(pstats.SortKey.TIME)\n",
    "    print(f\"{constructor.knowledge_graph}\\n\")\n",
    "    results.print_stats(5)"
   ]
  },
  {
   "cell_type": "code",
   "execution_count": 3,
   "id": "d8ffcf3d-40ad-4d56-8c36-94a960c6e252",
   "metadata": {},
   "outputs": [
    {
     "name": "stdout",
     "output_type": "stream",
     "text": [
      "Construct Knowledge graph via loading from the file\n",
      "Knowledge Graph with 553 nodes and 6472 edges.\n",
      "         43060 function calls in 0.158 seconds\n",
      "\n",
      "   Ordered by: internal time\n",
      "   List reduced from 86 to 5 due to restriction <5>\n",
      "\n",
      "   ncalls  tottime  percall  cumtime  percall filename:lineno(function)\n",
      "        1    0.085    0.085    0.085    0.085 {built-in method _io.open}\n",
      "        1    0.020    0.020    0.045    0.045 C:\\Users\\fech01-admin\\anaconda3\\envs\\kg4idr\\Lib\\site-packages\\networkx\\readwrite\\json_graph\\node_link.py:135(node_link_graph)\n",
      "     6472    0.016    0.000    0.020    0.000 C:\\Users\\fech01-admin\\anaconda3\\envs\\kg4idr\\Lib\\site-packages\\networkx\\classes\\digraph.py:643(add_edge)\n",
      "        1    0.014    0.014    0.014    0.014 C:\\Users\\fech01-admin\\anaconda3\\envs\\kg4idr\\Lib\\json\\decoder.py:343(raw_decode)\n",
      "        2    0.006    0.003    0.006    0.003 {method '__exit__' of 'sqlite3.Connection' objects}\n",
      "\n",
      "\n"
     ]
    }
   ],
   "source": [
    "print(\"Construct Knowledge graph via loading from the file\")\n",
    "with cProfile.Profile() as profile:\n",
    "    constructor.load_knowledge_graph_from(constructor._know_graph_file_path)\n",
    "    results = pstats.Stats(profile)\n",
    "    results.sort_stats(pstats.SortKey.TIME)\n",
    "    print(constructor.knowledge_graph)\n",
    "    results.print_stats(5)"
   ]
  }
 ],
 "metadata": {
  "kernelspec": {
   "display_name": "Python 3 (ipykernel)",
   "language": "python",
   "name": "python3"
  },
  "language_info": {
   "codemirror_mode": {
    "name": "ipython",
    "version": 3
   },
   "file_extension": ".py",
   "mimetype": "text/x-python",
   "name": "python",
   "nbconvert_exporter": "python",
   "pygments_lexer": "ipython3",
   "version": "3.12.2"
  }
 },
 "nbformat": 4,
 "nbformat_minor": 5
}
