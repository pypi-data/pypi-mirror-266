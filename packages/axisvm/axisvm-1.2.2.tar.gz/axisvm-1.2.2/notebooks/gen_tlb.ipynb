{
 "cells": [
  {
   "cell_type": "markdown",
   "metadata": {},
   "source": [
    "# Generating the type library"
   ]
  },
  {
   "cell_type": "markdown",
   "metadata": {},
   "source": [
    "When you run\n",
    "\n",
    "```python\n",
    "from axisvm.com.client import start_AxisVM\n",
    "axvm = start_AxisVM(visible=True, daemon=True)\n",
    "```\n",
    "\n",
    "for the first time, we look for installed AxisVM instances, and the type library is generated automatically. If there are mutiple AxisVM instances installed on your system, this may lead to confusion and more control might be necessary. To give you that, `pyaxisvm` equipped with a few tools, that help you explore the registered COM\n",
    "servers and to wrap the type library using the `comtypes` package."
   ]
  },
  {
   "cell_type": "markdown",
   "metadata": {},
   "source": [
    "## Exploring registered COM servers"
   ]
  },
  {
   "cell_type": "code",
   "execution_count": 1,
   "metadata": {},
   "outputs": [
    {
     "data": {
      "text/plain": [
       "[{'clsid': '{0AA46C32-04EF-46E3-B0E4-D2DA28D0AB08}',\n",
       "  'lcid': 0,\n",
       "  'major': 16,\n",
       "  'minor': 100,\n",
       "  'dll': 'P:\\\\AxisVM X6\\\\AxisVM_x64.exe',\n",
       "  'desc': 'AxisVM Library',\n",
       "  'ver_desc': 'AxisVM Library (10.64)',\n",
       "  'flags': 0}]"
      ]
     },
     "execution_count": 1,
     "metadata": {},
     "output_type": "execute_result"
    }
   ],
   "source": [
    "from axisvm.com.tlb import find_axisvm_tlb\n",
    "find_axisvm_tlb()"
   ]
  },
  {
   "cell_type": "markdown",
   "metadata": {},
   "source": [
    "## Wrapping the type library"
   ]
  },
  {
   "cell_type": "code",
   "execution_count": 2,
   "metadata": {},
   "outputs": [],
   "source": [
    "from axisvm.com.tlb import wrap_axisvm_tlb\n",
    "axtlb = wrap_axisvm_tlb(\"{0AA46C32-04EF-46E3-B0E4-D2DA28D0AB08}\", 16, 100)"
   ]
  },
  {
   "cell_type": "markdown",
   "metadata": {},
   "source": [
    "To check if everything went well, see if you can access the `IAxisVMApplication` interface on the client side."
   ]
  },
  {
   "cell_type": "code",
   "execution_count": 3,
   "metadata": {},
   "outputs": [
    {
     "data": {
      "text/plain": [
       "comtypes.gen._0AA46C32_04EF_46E3_B0E4_D2DA28D0AB08_0_16_100.IAxisVMApplication"
      ]
     },
     "execution_count": 3,
     "metadata": {},
     "output_type": "execute_result"
    }
   ],
   "source": [
    "axtlb.IAxisVMApplication"
   ]
  }
 ],
 "metadata": {
  "kernelspec": {
   "display_name": "Python 3.8.10 ('.axisvm': venv)",
   "language": "python",
   "name": "python3"
  },
  "language_info": {
   "codemirror_mode": {
    "name": "ipython",
    "version": 3
   },
   "file_extension": ".py",
   "mimetype": "text/x-python",
   "name": "python",
   "nbconvert_exporter": "python",
   "pygments_lexer": "ipython3",
   "version": "3.8.10"
  },
  "orig_nbformat": 4,
  "vscode": {
   "interpreter": {
    "hash": "62a188e81264291779f8a10a2e0f1db6faba48499db9735822f5bbb24c067aef"
   }
  }
 },
 "nbformat": 4,
 "nbformat_minor": 2
}
