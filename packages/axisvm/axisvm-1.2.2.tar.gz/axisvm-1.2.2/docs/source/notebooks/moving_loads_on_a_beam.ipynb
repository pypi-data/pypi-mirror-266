{
 "cells": [
  {
   "cell_type": "markdown",
   "metadata": {},
   "source": [
    "# Adding concentrated and distributed moving loads to a beam."
   ]
  },
  {
   "cell_type": "markdown",
   "metadata": {},
   "source": [
    "In this example\n",
    "- we define a simply supported beam\n",
    "- we assign a material and a cross section to the beam\n",
    "- we define concentrated and distributed moving loads\n",
    "- we run a linear analysis\n",
    "- we make a screenshot"
   ]
  },
  {
   "cell_type": "markdown",
   "metadata": {},
   "source": [
    "## Launch AxisVM"
   ]
  },
  {
   "cell_type": "markdown",
   "metadata": {},
   "source": [
    "We launch an instance of AxisVM."
   ]
  },
  {
   "cell_type": "code",
   "execution_count": 1,
   "metadata": {},
   "outputs": [],
   "source": [
    "from axisvm.com.client import start_AxisVM\n",
    "\n",
    "axisvm_application = start_AxisVM(visible=True, daemon=True)"
   ]
  },
  {
   "cell_type": "markdown",
   "metadata": {},
   "source": [
    "We import the type library. This is done on a separate line to ensure that the notebook runs correctly for first timers too, since in that case the type library is dynamicall generated with the first launch of an AxisVM instance, which could be the previus block. If this is not the first time you use the library, you can do all the import statements right below each other."
   ]
  },
  {
   "cell_type": "code",
   "execution_count": 2,
   "metadata": {},
   "outputs": [],
   "source": [
    "import axisvm.com.tlb as axtlb"
   ]
  },
  {
   "cell_type": "markdown",
   "metadata": {},
   "source": [
    "## Create a new model"
   ]
  },
  {
   "cell_type": "code",
   "execution_count": 3,
   "metadata": {},
   "outputs": [],
   "source": [
    "axisvm_model_id = axisvm_application.Models.New()\n",
    "axisvm_model = axisvm_application.Models.Item[axisvm_model_id]"
   ]
  },
  {
   "cell_type": "markdown",
   "metadata": {},
   "source": [
    "## Define a material and a cross section"
   ]
  },
  {
   "cell_type": "markdown",
   "metadata": {},
   "source": [
    "Since it is not the goal of this example to show how to define materials and cross sections, we opt for a simple steel I section combination."
   ]
  },
  {
   "cell_type": "code",
   "execution_count": 4,
   "metadata": {},
   "outputs": [],
   "source": [
    "# setting the national design code\n",
    "axisvm_model.Settings.NationalDesignCode = axtlb.ndcEuroCode\n",
    "\n",
    "# setting the material\n",
    "material_id = axisvm_model.Materials.AddFromCatalog(axtlb.ndcEuroCode, \"S 235\")\n",
    "assert material_id > 0, f\"An error occured. Error code: {material_id}\"\n",
    "\n",
    "# setting the cross section\n",
    "section_id = axisvm_model.CrossSections.AddFromCatalog(axtlb.cssI, \"I 200\")\n",
    "assert section_id > 0, f\"An error occured. Error code: {section_id}\""
   ]
  },
  {
   "cell_type": "markdown",
   "metadata": {},
   "source": [
    "## Create the geometry"
   ]
  },
  {
   "cell_type": "markdown",
   "metadata": {},
   "source": [
    "Define the nodes\n"
   ]
  },
  {
   "cell_type": "code",
   "execution_count": 5,
   "metadata": {},
   "outputs": [],
   "source": [
    "node_id_1 = axisvm_model.Nodes.AddWithDOF(0, 0, 0, axtlb.dofFrameXZ)\n",
    "assert node_id_1 > 0, f\"An error occured. Error code: {node_id_1}\"\n",
    "\n",
    "node_id_2 = axisvm_model.Nodes.AddWithDOF(4, 0, 0, axtlb.dofFrameXZ)\n",
    "assert node_id_2 > 0, f\"An error occured. Error code: {node_id_2}\""
   ]
  },
  {
   "cell_type": "markdown",
   "metadata": {},
   "source": [
    "Define the line of the beam\n"
   ]
  },
  {
   "cell_type": "code",
   "execution_count": 6,
   "metadata": {},
   "outputs": [],
   "source": [
    "line_id = axisvm_model.Lines.Add(node_id_1, node_id_2, axtlb.lgtStraightLine)[-1]\n",
    "assert line_id > 0, f\"An error occured. Error code: {line_id}\""
   ]
  },
  {
   "cell_type": "markdown",
   "metadata": {},
   "source": [
    "## Create the structural member"
   ]
  },
  {
   "cell_type": "code",
   "execution_count": 7,
   "metadata": {},
   "outputs": [],
   "source": [
    "# add the member\n",
    "member_id = axisvm_model.Members.Add([line_id])\n",
    "assert member_id > 0, f\"An error occured. Error code: {member_id}\"\n",
    "\n",
    "# access the newly created member\n",
    "member = axisvm_model.Members.Item[member_id]\n",
    "\n",
    "# define the beam\n",
    "beam_id = member.DefineAsBeam(material_id, section_id, section_id)[-1]"
   ]
  },
  {
   "cell_type": "markdown",
   "metadata": {},
   "source": [
    "## Define the supports"
   ]
  },
  {
   "cell_type": "markdown",
   "metadata": {},
   "source": [
    "We define the support conditions of a simply-supported beam."
   ]
  },
  {
   "cell_type": "code",
   "execution_count": 8,
   "metadata": {},
   "outputs": [],
   "source": [
    "# spring stiffness values\n",
    "springleft = axtlb.RStiffnesses(x=1e12, y=1e12, z=1e12, xx=0, yy=0, zz=0)\n",
    "springright = axtlb.RStiffnesses(x=1e12, y=1e12, z=1e12, xx=0, yy=0, zz=0)\n",
    "\n",
    "# spring behaviour\n",
    "RNonLinearity = axtlb.RNonLinearity(\n",
    "    x=axtlb.lnlTensionAndCompression,\n",
    "    y=axtlb.lnlTensionAndCompression,\n",
    "    z=axtlb.lnlTensionAndCompression,\n",
    "    xx=axtlb.lnlTensionAndCompression,\n",
    "    yy=axtlb.lnlTensionAndCompression,\n",
    "    zz=axtlb.lnlTensionAndCompression,\n",
    ")\n",
    "\n",
    "# spring resistances\n",
    "RResistances = axtlb.RResistances(x=0, y=0, z=0, xx=0, yy=0, zz=0)\n",
    "\n",
    "# add the left support\n",
    "return_value = axisvm_model.NodalSupports.AddNodalGlobal(\n",
    "    springleft, RNonLinearity, RResistances, node_id_1\n",
    ")[-1]\n",
    "assert return_value > 0, f\"An error occured. Error code: {return_value}\"\n",
    "\n",
    "# add the right support\n",
    "return_value = axisvm_model.NodalSupports.AddNodalGlobal(\n",
    "    springright, RNonLinearity, RResistances, node_id_2\n",
    ")[-1]\n",
    "assert return_value > 0, f\"An error occured. Error code: {return_value}\""
   ]
  },
  {
   "cell_type": "markdown",
   "metadata": {},
   "source": [
    "## Define loads"
   ]
  },
  {
   "cell_type": "markdown",
   "metadata": {},
   "source": [
    "### Permanent load group"
   ]
  },
  {
   "cell_type": "markdown",
   "metadata": {},
   "source": [
    "We crate a load group for permanent loads first and add the self-weight of the beam to a load case."
   ]
  },
  {
   "cell_type": "code",
   "execution_count": 9,
   "metadata": {},
   "outputs": [],
   "source": [
    "# create a new load gruop\n",
    "group_id = axisvm_model.LoadGroups.Add(\n",
    "    \"Permanent\", axtlb.lgtPermanent, True, axtlb.gctAdditive\n",
    ")\n",
    "assert group_id > 0, f\"An error occured. Error code: {group_id}\"\n",
    "\n",
    "# create a load case for the self-weight\n",
    "load_case_id = axisvm_model.LoadCases.AddWithGroup(\"G\", axtlb.lctStandard, group_id)\n",
    "assert load_case_id > 0, f\"An error occured. Error code: {load_case_id}\"\n",
    "\n",
    "# add the self-weight to the load case\n",
    "return_value = axisvm_model.Loads.AddBeamSelfWeight(line_id, load_case_id)\n",
    "assert return_value > 0, f\"An error occured. Error code: {return_value}\""
   ]
  },
  {
   "cell_type": "markdown",
   "metadata": {},
   "source": [
    "### Adding a concentrated moving load"
   ]
  },
  {
   "cell_type": "markdown",
   "metadata": {},
   "source": [
    "First and foremost we create a dedicated load group for our moving load with a load case in it. We add the initial load case with the name \"XXX-001\", where \"XXX\" is the fantasy name of the load ('MC' in this case). The reason for the part \"-001\" is that when AxisVM generated the discrete positions of the moving load, it is going to use this naming convention anyway."
   ]
  },
  {
   "cell_type": "code",
   "execution_count": 10,
   "metadata": {},
   "outputs": [],
   "source": [
    "# create a dedicated load group\n",
    "group_id = axisvm_model.LoadGroups.Add(\n",
    "    \"moving-conc\", axtlb.lgtMoving, False, axtlb.gctExclusive\n",
    ")\n",
    "\n",
    "# create a load case\n",
    "load_case_id = axisvm_model.LoadCases.AddWithGroup(\"MC-001\", axtlb.lctMoving, group_id)\n",
    "assert load_case_id > 0, f\"An error occured. Error code: {load_case_id}\""
   ]
  },
  {
   "cell_type": "markdown",
   "metadata": {},
   "source": [
    "Adding moving loads can be done using the `ObjectCreator` interface. First, we need to create an instance to the `IAxisVMMovingLoadOnBeam` interface. We need to do this for every moving load we want to add to the model."
   ]
  },
  {
   "cell_type": "code",
   "execution_count": 11,
   "metadata": {},
   "outputs": [],
   "source": [
    "# create an object that holds onto the data\n",
    "MovingLoadOnBeam = axisvm_application.ObjectCreator.NewMovingLoadOnBeam()\n",
    "\n",
    "# define settings of the moving load\n",
    "MovingLoadOnBeam.LoadCaseId = load_case_id\n",
    "MovingLoadOnBeam.RunningMode = axtlb.rmOneWay\n",
    "MovingLoadOnBeam.Steps = 10\n",
    "MovingLoadOnBeam.StructureMode = axtlb.smBridge\n",
    "return_value = MovingLoadOnBeam.SetPath([line_id], node_id_1, node_id_2)\n",
    "assert return_value > 0, f\"An error occured. Error code: {return_value}\""
   ]
  },
  {
   "cell_type": "markdown",
   "metadata": {},
   "source": [
    "Then we can use the `AddItem` function of our newly created interface to add moving loads. For this, we neeed to prepare a `RMovingLoadOnBeamItem` record and feed it to the `AddItem` function."
   ]
  },
  {
   "cell_type": "code",
   "execution_count": 12,
   "metadata": {},
   "outputs": [],
   "source": [
    "# set the load values\n",
    "moving_load_data = axtlb.RMovingLoadOnBeamItem(\n",
    "    ItemType=axtlb.ltBeamConcentrated,\n",
    "    Concentrated=axtlb.RConcentratedMovingLoadOnBeam(\n",
    "        SystemGL=axtlb.sysGlobal,\n",
    "        Position=0.0,\n",
    "        Fz=-1.0,\n",
    "    )\n",
    ")\n",
    "\n",
    "# define the load item\n",
    "moving_load_beam_index = MovingLoadOnBeam.AddItem(moving_load_data)[-1]\n",
    "assert moving_load_beam_index > 0, f\"An error occured. Error code: {moving_load_beam_index}\""
   ]
  },
  {
   "cell_type": "markdown",
   "metadata": {},
   "source": [
    "Finally, we add the moving load to the model:"
   ]
  },
  {
   "cell_type": "code",
   "execution_count": 13,
   "metadata": {},
   "outputs": [],
   "source": [
    "# add the moving load to the beam\n",
    "return_value = axisvm_model.MovingLoads.AddMovingLoadOnBeam(MovingLoadOnBeam)\n",
    "assert return_value > 0, f\"An error occured. Error code: {return_value}\""
   ]
  },
  {
   "cell_type": "markdown",
   "metadata": {},
   "source": [
    "### Adding a distributed moving load"
   ]
  },
  {
   "cell_type": "markdown",
   "metadata": {},
   "source": [
    "For defining a distributed moving load, we need to perform the same steps as for the concentrated one, except the definition of the load values. This time, we do all these steps in one block."
   ]
  },
  {
   "cell_type": "code",
   "execution_count": 14,
   "metadata": {},
   "outputs": [],
   "source": [
    "# create a dedicated load group\n",
    "group_id = axisvm_model.LoadGroups.Add(\n",
    "    \"moving-dist\", axtlb.lgtMoving, False, axtlb.gctExclusive\n",
    ")\n",
    "\n",
    "# create a load case\n",
    "load_case_id = axisvm_model.LoadCases.AddWithGroup(\"MD-001\", axtlb.lctMoving, group_id)\n",
    "assert load_case_id > 0, f\"An error occured. Error code: {load_case_id}\"\n",
    "\n",
    "# create an object that holds onto the data\n",
    "MovingLoadOnBeam = axisvm_application.ObjectCreator.NewMovingLoadOnBeam()\n",
    "\n",
    "# define settings of the moving load\n",
    "MovingLoadOnBeam.LoadCaseId = load_case_id\n",
    "MovingLoadOnBeam.RunningMode = axtlb.rmOneWay\n",
    "MovingLoadOnBeam.Steps = 10\n",
    "MovingLoadOnBeam.StructureMode = axtlb.smBridge\n",
    "return_value = MovingLoadOnBeam.SetPath([line_id], node_id_1, node_id_2)\n",
    "assert return_value > 0, f\"An error occured. Error code: {return_value}\"\n",
    "\n",
    "# set the load values\n",
    "moving_load_data = axtlb.RMovingLoadOnBeamItem(\n",
    "    ItemType=axtlb.ltBeamDistributed,\n",
    "    Distributed=axtlb.RDistributedMovingLoadOnBeam(\n",
    "        SystemGL=axtlb.sysGlobal,\n",
    "        Position1=0.0,\n",
    "        Position2=1.0,\n",
    "        Fz1=-1.0,\n",
    "        Fz2=-1.0,\n",
    "    )\n",
    ")\n",
    "\n",
    "moving_load_beam_index = MovingLoadOnBeam.AddItem(moving_load_data)[-1]\n",
    "assert moving_load_beam_index > 0, f\"An error occured. Error code: {moving_load_beam_index}\"\n",
    "\n",
    "# add the moving load to the beam\n",
    "return_value = axisvm_model.MovingLoads.AddMovingLoadOnBeam(MovingLoadOnBeam)\n",
    "assert return_value > 0, f\"An error occured. Error code: {return_value}\""
   ]
  },
  {
   "cell_type": "markdown",
   "metadata": {},
   "source": [
    "## Save the model"
   ]
  },
  {
   "cell_type": "markdown",
   "metadata": {},
   "source": [
    "It is necessary to save the model before running an analysis."
   ]
  },
  {
   "cell_type": "code",
   "execution_count": 15,
   "metadata": {},
   "outputs": [],
   "source": [
    "file_path = 'model.axs'\n",
    "return_value = axisvm_model.SaveToFile(file_path, False)\n",
    "assert return_value > 0, f\"An error occured. Error code: {return_value}\""
   ]
  },
  {
   "cell_type": "markdown",
   "metadata": {},
   "source": [
    "## Linear analysis"
   ]
  },
  {
   "cell_type": "markdown",
   "metadata": {},
   "source": [
    "We perform a simple linear analysis."
   ]
  },
  {
   "cell_type": "code",
   "execution_count": 16,
   "metadata": {},
   "outputs": [],
   "source": [
    "return_value = axisvm_model.Calculation.LinearAnalysis(axtlb.cuiNoUserInteractionWithAutoCorrectNoShow)\n",
    "assert return_value > 0, f\"An error occured. Error code: {return_value}\""
   ]
  },
  {
   "cell_type": "markdown",
   "metadata": {},
   "source": [
    "## Take a screenshot"
   ]
  },
  {
   "cell_type": "code",
   "execution_count": 17,
   "metadata": {},
   "outputs": [
    {
     "data": {
      "image/png": "[encoded data removed]",
      "text/plain": [
       "<PIL.BmpImagePlugin.DibImageFile image mode=RGB size=1190x898>"
      ]
     },
     "execution_count": 17,
     "metadata": {},
     "output_type": "execute_result"
    }
   ],
   "source": [
    "axisvm_model.View = axtlb.vFront\n",
    "axisvm_model.FitInView()\n",
    "\n",
    "GridOptions = axtlb.RGridOptions(DisplayGrid=False)\n",
    "axisvm_model.Settings.SetGridOptions(GridOptions)\n",
    "\n",
    "WriteValuesTo = axtlb.RWriteValuesTo(\n",
    "    Nodes=True,\n",
    "    Lines=True,\n",
    "    MinMaxOnly=True\n",
    ")\n",
    "\n",
    "BasicDispParams = axtlb.RBasicDisplayParameters_V153(\n",
    "    ResultComponent=axtlb.rc_d_eZ,\n",
    "    Scale=1.0,\n",
    "    DisplayMode=axtlb.dmDiagramFilled,\n",
    "    DisplayShape=axtlb.dsUndeformed,\n",
    "    WriteValuesTo=WriteValuesTo\n",
    ")\n",
    "\n",
    "ExtDispParams = axtlb.RExtendedDisplayParameters_V153(\n",
    "    BasicDispParams=BasicDispParams,\n",
    "    DisplayAnalysisType=axtlb.datLinear,\n",
    "    ResultType=axtlb.rtLoadCase\n",
    ")\n",
    "\n",
    "load_case_id = 10\n",
    "axisvm_model.Windows.SetStaticDisplayParameters_V153(1, ExtDispParams, load_case_id, [])\n",
    "\n",
    "axisvm_model.Windows.ReDraw()\n",
    "axisvm_application.BringToFront()\n",
    "axisvm_model.Windows[1].screenshot()"
   ]
  },
  {
   "cell_type": "markdown",
   "metadata": {},
   "source": [
    "## Close the application"
   ]
  },
  {
   "cell_type": "markdown",
   "metadata": {},
   "source": [
    "At the end of our workflow, we close AxisVM."
   ]
  },
  {
   "cell_type": "code",
   "execution_count": 18,
   "metadata": {},
   "outputs": [],
   "source": [
    "axisvm_application.Quit()"
   ]
  }
 ],
 "metadata": {
  "kernelspec": {
   "display_name": ".axisvm",
   "language": "python",
   "name": "python3"
  },
  "language_info": {
   "codemirror_mode": {
    "name": "ipython",
    "version": 3
   },
   "file_extension": ".py",
   "mimetype": "text/x-python",
   "name": "python",
   "nbconvert_exporter": "python",
   "pygments_lexer": "ipython3",
   "version": "3.8.10"
  }
 },
 "nbformat": 4,
 "nbformat_minor": 2
}
