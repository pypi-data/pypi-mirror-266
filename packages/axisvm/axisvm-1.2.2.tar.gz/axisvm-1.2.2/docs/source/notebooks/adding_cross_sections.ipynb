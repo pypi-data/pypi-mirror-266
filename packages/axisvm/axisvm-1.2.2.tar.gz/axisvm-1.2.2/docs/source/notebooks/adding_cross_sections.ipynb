{
 "cells": [
  {
   "cell_type": "markdown",
   "metadata": {},
   "source": [
    "# Adding predefined and custom cross sections to the model and assigning them to beams."
   ]
  },
  {
   "cell_type": "markdown",
   "metadata": {},
   "source": [
    "In this example, we show how to \n",
    "- add cross sections from the catalog\n",
    "- add parametric cross sections\n",
    "- define custom cross sections and add them to the model\n",
    "- assign a cross section to a beam"
   ]
  },
  {
   "cell_type": "markdown",
   "metadata": {},
   "source": [
    "## Launch AxisVM and create a new model"
   ]
  },
  {
   "cell_type": "markdown",
   "metadata": {},
   "source": [
    "We launch an instance of AxisVM."
   ]
  },
  {
   "cell_type": "code",
   "execution_count": 17,
   "metadata": {},
   "outputs": [],
   "source": [
    "from axisvm.com.client import start_AxisVM\n",
    "\n",
    "axisvm_application = start_AxisVM(visible=True, daemon=True)"
   ]
  },
  {
   "cell_type": "markdown",
   "metadata": {},
   "source": [
    "We import the type library. This is done on a separate line to ensure that the notebook runs correctly for first timers too, since in that case the type library is dynamicall generated with the first launch of an AxisVM instance, which could be the previus block. If this is not the first time you use the library, you can do all the import statements right below each other."
   ]
  },
  {
   "cell_type": "code",
   "execution_count": 18,
   "metadata": {},
   "outputs": [],
   "source": [
    "import axisvm.com.tlb as axtlb"
   ]
  },
  {
   "cell_type": "markdown",
   "metadata": {},
   "source": [
    "Create a new model"
   ]
  },
  {
   "cell_type": "code",
   "execution_count": 19,
   "metadata": {},
   "outputs": [],
   "source": [
    "axisvm_model_id = axisvm_application.Models.New()\n",
    "axisvm_model = axisvm_application.Models.Item[axisvm_model_id]"
   ]
  },
  {
   "cell_type": "markdown",
   "metadata": {},
   "source": [
    "## Add a cross section from the catalog"
   ]
  },
  {
   "cell_type": "markdown",
   "metadata": {},
   "source": [
    "We can use the cross sections found in the AxisVM cross section library. A cross section can be identified by a parameter describing the shape and the name of the section. For instance, adding an I section to the model looks like this:"
   ]
  },
  {
   "cell_type": "code",
   "execution_count": 20,
   "metadata": {},
   "outputs": [],
   "source": [
    "section_index_1 = axisvm_model.CrossSections.AddFromCatalog(axtlb.cssI, \"I 200\")\n",
    "assert section_index_1 > 0, f\"An error occured. Error code: {section_index_1}\""
   ]
  },
  {
   "cell_type": "markdown",
   "metadata": {},
   "source": [
    "## Add a parametric cross section"
   ]
  },
  {
   "cell_type": "markdown",
   "metadata": {},
   "source": [
    "Most of the section types can be added with custom values. For instance, adding a parametric asymmetric I section goes like this:"
   ]
  },
  {
   "cell_type": "code",
   "execution_count": 21,
   "metadata": {},
   "outputs": [],
   "source": [
    "section_index_2 = axisvm_model.CrossSections.AddAsymmetricI(\n",
    "    \"asymmetric I 200\",\n",
    "    0.2,      # cross-section height\n",
    "    0.09,     # cross-section upper flange width\n",
    "    0.0075,   # cross-section web thickness\n",
    "    0.0113,   # cross-section upper flange thickness\n",
    "    0.04,     # cross-section lower flange width\n",
    "    0.0113,   # cross-section lower flange thickness\n",
    ")\n",
    "assert section_index_2 > 0, f\"An error occured. Error code: {section_index_2}\""
   ]
  },
  {
   "cell_type": "markdown",
   "metadata": {},
   "source": [
    "Adding a parametric box section:"
   ]
  },
  {
   "cell_type": "code",
   "execution_count": 22,
   "metadata": {},
   "outputs": [],
   "source": [
    "section_index_3 = axisvm_model.CrossSections.AddBox(\n",
    "    \"box 20x10\",\n",
    "    0.2,             # cross-section height\n",
    "    0.1,             # cross-section width\n",
    "    0.0075,          # cross-section wall thickness at the web\n",
    "    0.0113,          # cross-section wall thickness at the flange\n",
    "    0.0,             # fillet radius\n",
    "    axtlb.cspWelded  # manufacturing process\n",
    ")\n",
    "assert section_index_3 > 0, f\"An error occured. Error code: {section_index_3}\""
   ]
  },
  {
   "cell_type": "markdown",
   "metadata": {},
   "source": [
    "## Create a custom polygonal cross section"
   ]
  },
  {
   "cell_type": "markdown",
   "metadata": {},
   "source": [
    "We define a rectangular 10cm x 10cm section as a polygon. To define general cross sections, one has to create a list of polygons. If the section is defined by one polygon, the polygon list should be a list of length 1. The polygon list consists of polygons, which consists of lines. Each of these geometrical entities can be created using the `IAxisVMObjectCreator` interface. We use this interface to create interfaces for creating lines, polygons and polygon lists."
   ]
  },
  {
   "cell_type": "code",
   "execution_count": 23,
   "metadata": {},
   "outputs": [],
   "source": [
    "# create a polygon list creator object\n",
    "polygon_list_creator = axisvm_application.ObjectCreator.NewPolygon2dList()\n",
    "\n",
    "# create a polygon creator object\n",
    "polygon_creator = axisvm_application.ObjectCreator.NewPolygon2d()\n",
    "\n",
    "# create a line creator object and add a line to it\n",
    "# this creates the line between the bottom-left and the bottom-right\n",
    "# corners of the rectangle\n",
    "line_creator = axisvm_application.ObjectCreator.NewLine2d()\n",
    "line_creator.LineType = axtlb.ltStraightLine\n",
    "line_creator.SetLinePoints(\n",
    "    axtlb.RPoint2d(\n",
    "        Coord1 = -0.05,  # in metres\n",
    "        Coord2 = -0.05,  # in metres\n",
    "    ),\n",
    "    axtlb.RPoint2d(\n",
    "        Coord1 = 0.05,  # in metres\n",
    "        Coord2 = -0.05,  # in metres\n",
    "    ),\n",
    ")\n",
    "polygon_creator.AddLine(line_creator)\n",
    "\n",
    "# create a line creator object and add a line to it\n",
    "# this creates the line between the bottom-right and the top-right\n",
    "# corners of the rectangle\n",
    "line_creator = axisvm_application.ObjectCreator.NewLine2d()\n",
    "line_creator.LineType = axtlb.ltStraightLine\n",
    "line_creator.SetLinePoints(\n",
    "    axtlb.RPoint2d(\n",
    "        Coord1 = 0.05,  # in metres\n",
    "        Coord2 = -0.05,  # in metres\n",
    "    ),\n",
    "    axtlb.RPoint2d(\n",
    "        Coord1 = 0.05,  # in metres\n",
    "        Coord2 = 0.05,  # in metres\n",
    "    ),\n",
    ")\n",
    "polygon_creator.AddLine(line_creator)\n",
    "\n",
    "# create a line creator object and add a line to it\n",
    "# this creates the line between the top-right and the top-left\n",
    "# corners of the rectangle\n",
    "line_creator = axisvm_application.ObjectCreator.NewLine2d()\n",
    "line_creator.LineType = axtlb.ltStraightLine\n",
    "line_creator.SetLinePoints(\n",
    "    axtlb.RPoint2d(\n",
    "        Coord1 = 0.05,  # in metres\n",
    "        Coord2 = 0.05,  # in metres\n",
    "    ),\n",
    "    axtlb.RPoint2d(\n",
    "        Coord1 = -0.05,  # in metres\n",
    "        Coord2 = 0.05,  # in metres\n",
    "    ),\n",
    ")\n",
    "polygon_creator.AddLine(line_creator)\n",
    "\n",
    "# create a line creator object and add a line to it\n",
    "# this creates the line between the top-left and the bottom-left\n",
    "# corners of the rectangle\n",
    "line_creator = axisvm_application.ObjectCreator.NewLine2d()\n",
    "line_creator.LineType = axtlb.ltStraightLine\n",
    "line_creator.SetLinePoints(\n",
    "    axtlb.RPoint2d(\n",
    "        Coord1 = -0.05,  # in metres\n",
    "        Coord2 = 0.05,  # in metres\n",
    "    ),\n",
    "    axtlb.RPoint2d(\n",
    "        Coord1 = -0.05,  # in metres\n",
    "        Coord2 = -0.05,  # in metres\n",
    "    ),\n",
    ")\n",
    "polygon_creator.AddLine(line_creator)\n",
    "\n",
    "# add the polygon to the polygon list\n",
    "polygon_list_creator.Add(polygon_creator)\n",
    "\n",
    "# add the cross section to the model using the polygon list\n",
    "custom_section_index_1 = axisvm_model.CrossSections.AddCustomWithUserParams(\n",
    "    \"custom section 1\",\n",
    "    polygon_list_creator,\n",
    "    axtlb.cspOther,\n",
    ")[-1]\n",
    "assert custom_section_index_1 > 0, f\"An error occured. Error code: {custom_section_index_1}\""
   ]
  },
  {
   "cell_type": "markdown",
   "metadata": {},
   "source": [
    "## Create a custom polygonal cross section with a circular hole"
   ]
  },
  {
   "cell_type": "markdown",
   "metadata": {},
   "source": [
    "We reproduce the previously created cross section, but this time with a circular hole in it. Also, we are going to use some advanced Python features to avoid the repeating steps in the previous section."
   ]
  },
  {
   "cell_type": "code",
   "execution_count": 24,
   "metadata": {},
   "outputs": [],
   "source": [
    "# create a polygon list creator object\n",
    "polygon_list_creator = axisvm_application.ObjectCreator.NewPolygon2dList()"
   ]
  },
  {
   "cell_type": "markdown",
   "metadata": {},
   "source": [
    "We create a helper function that adds a list of points as a polygon. The function accepts an argument that controls if the polygon represents a hole or not. It is important here, that this attribute must be set after all lines are added to the polygon!"
   ]
  },
  {
   "cell_type": "code",
   "execution_count": 25,
   "metadata": {},
   "outputs": [],
   "source": [
    "def add_polygon_to_polygon_list(coordinates, hole=False):\n",
    "    polygon_creator = axisvm_application.ObjectCreator.NewPolygon2d()\n",
    "    \n",
    "    for i in range(len(coordinates)-1):\n",
    "        point_1 = coordinates[i]\n",
    "        point_2 = coordinates[i+1]\n",
    "        line_creator = axisvm_application.ObjectCreator.NewLine2d()\n",
    "        line_creator.LineType = axtlb.ltStraightLine\n",
    "        line_creator.SetLinePoints(\n",
    "            axtlb.RPoint2d(Coord1 = point_1[0], Coord2 = point_1[1]),\n",
    "            axtlb.RPoint2d(Coord1 = point_2[0], Coord2 = point_2[1]),\n",
    "        )\n",
    "        polygon_creator.AddLine(line_creator)\n",
    "    \n",
    "    # set the polygon as solid or hole\n",
    "    # this must be set after all lines are added\n",
    "    polygon_creator.Hole = hole\n",
    "    \n",
    "    # add the polygon to the polygon list\n",
    "    polygon_list_creator.Add(polygon_creator)"
   ]
  },
  {
   "cell_type": "markdown",
   "metadata": {},
   "source": [
    "We define the same 10cm x 10cm rectangle as before, but now using the helper function we created in the previous block:"
   ]
  },
  {
   "cell_type": "code",
   "execution_count": 26,
   "metadata": {},
   "outputs": [],
   "source": [
    "# the coordinates of the corner nodes of the rectangle in metres\n",
    "polygon_coordinates = [\n",
    "    [-0.05, -0.05],  # bottom-left\n",
    "    [0.05, -0.05],   # bottom-right\n",
    "    [0.05, 0.05],    # top-right\n",
    "    [-0.05, 0.05]    # top-left\n",
    "]\n",
    "# add the first point again\n",
    "polygon_coordinates.append(polygon_coordinates[0])\n",
    "\n",
    "add_polygon_to_polygon_list(polygon_coordinates)"
   ]
  },
  {
   "cell_type": "markdown",
   "metadata": {},
   "source": [
    "The hole is a circle with a diameter of 8 cm. Although we could simply use a circular cross section type directly, for the sake of the example we add the circle as a polygon by discretizing the perimeter."
   ]
  },
  {
   "cell_type": "code",
   "execution_count": 27,
   "metadata": {},
   "outputs": [],
   "source": [
    "import math\n",
    "\n",
    "radius_of_circle = 0.04  # in metres\n",
    "n_segments = 60  # the number of segments\n",
    "\n",
    "# the coordinates of the perimeter of the circle\n",
    "polygon_coordinates = []\n",
    "for i in range(n_segments):\n",
    "    angle_rad = i*2*math.pi/n_segments\n",
    "    coord_x = radius_of_circle * math.cos(angle_rad)\n",
    "    coord_y = radius_of_circle * math.sin(angle_rad)\n",
    "    polygon_coordinates.append([coord_x, coord_y])\n",
    "    \n",
    "# add the first point again\n",
    "polygon_coordinates.append(polygon_coordinates[0])\n",
    "\n",
    "add_polygon_to_polygon_list(polygon_coordinates, True)"
   ]
  },
  {
   "cell_type": "markdown",
   "metadata": {},
   "source": [
    "Add the section to the model:"
   ]
  },
  {
   "cell_type": "code",
   "execution_count": 28,
   "metadata": {},
   "outputs": [],
   "source": [
    "# add the cross section to the model using the polygon list\n",
    "custom_section_index_2 = axisvm_model.CrossSections.AddCustomWithUserParams(\n",
    "    \"custom section 2\",\n",
    "    polygon_list_creator,\n",
    "    axtlb.cspOther,\n",
    ")[-1]\n",
    "assert custom_section_index_2 > 0, f\"An error occured. Error code: {custom_section_index_1}\""
   ]
  },
  {
   "cell_type": "markdown",
   "metadata": {},
   "source": [
    "## Define a material"
   ]
  },
  {
   "cell_type": "markdown",
   "metadata": {},
   "source": [
    "We set the national design code and define a material for later use."
   ]
  },
  {
   "cell_type": "code",
   "execution_count": 29,
   "metadata": {},
   "outputs": [],
   "source": [
    "# setting the national design code\n",
    "axisvm_model.Settings.NationalDesignCode = axtlb.ndcEuroCode\n",
    "\n",
    "# setting the material\n",
    "material_index = axisvm_model.Materials.AddFromCatalog(axtlb.ndcEuroCode, \"S 235\")\n",
    "assert material_index > 0, f\"An error occured. Error code: {material_index}\""
   ]
  },
  {
   "cell_type": "markdown",
   "metadata": {},
   "source": [
    "## Create the geometry of the beam"
   ]
  },
  {
   "cell_type": "markdown",
   "metadata": {},
   "source": [
    "We create a line for our beam:"
   ]
  },
  {
   "cell_type": "code",
   "execution_count": 30,
   "metadata": {},
   "outputs": [],
   "source": [
    "# define the left node\n",
    "node_index_1 = axisvm_model.Nodes.AddWithDOF(0, 0, 0, axtlb.dofFrameXZ)\n",
    "assert node_index_1 > 0, f\"An error occured. Error code: {node_index_1}\"\n",
    "\n",
    "# define the right node\n",
    "node_imdex_2 = axisvm_model.Nodes.AddWithDOF(4, 0, 0, axtlb.dofFrameXZ)\n",
    "assert node_imdex_2 > 0, f\"An error occured. Error code: {node_imdex_2}\"\n",
    "\n",
    "# define a line\n",
    "line_index = axisvm_model.Lines.Add(node_index_1, node_imdex_2, axtlb.lgtStraightLine)[-1]\n",
    "assert line_index > 0, f\"An error occured. Error code: {line_index}\""
   ]
  },
  {
   "cell_type": "markdown",
   "metadata": {},
   "source": [
    "## Create the beam member"
   ]
  },
  {
   "cell_type": "markdown",
   "metadata": {},
   "source": [
    "We define our beam using the material and cross section defined before. Assigning a cross section to a beam involves exactly the same steps, regardless of the way it was defined. You can use any of the previously defined cross sections by referring to it using the appropriate index."
   ]
  },
  {
   "cell_type": "code",
   "execution_count": 31,
   "metadata": {},
   "outputs": [],
   "source": [
    "# add the member defined by a single line\n",
    "member_index = axisvm_model.Members.Add([line_index])\n",
    "assert member_index > 0, f\"An error occured. Error code: {member_index}\"\n",
    "\n",
    "# access the newly created member\n",
    "member = axisvm_model.Members.Item[member_index]\n",
    "\n",
    "# define the beam\n",
    "beam_index = member.DefineAsBeam(\n",
    "    material_index,          # the index of the material\n",
    "    custom_section_index_2,  # start cross section index\n",
    "    custom_section_index_2,  # end cross section index  \n",
    ")[-1]\n",
    "assert beam_index > 0, f\"An error occured. Error code: {beam_index}\""
   ]
  },
  {
   "cell_type": "markdown",
   "metadata": {},
   "source": [
    "At the end of our workflow, we close AxisVM."
   ]
  },
  {
   "cell_type": "code",
   "execution_count": 16,
   "metadata": {},
   "outputs": [],
   "source": [
    "axisvm_application.Quit()"
   ]
  }
 ],
 "metadata": {
  "kernelspec": {
   "display_name": ".axisvm",
   "language": "python",
   "name": "python3"
  },
  "language_info": {
   "codemirror_mode": {
    "name": "ipython",
    "version": 3
   },
   "file_extension": ".py",
   "mimetype": "text/x-python",
   "name": "python",
   "nbconvert_exporter": "python",
   "pygments_lexer": "ipython3",
   "version": "3.8.10"
  }
 },
 "nbformat": 4,
 "nbformat_minor": 2
}
