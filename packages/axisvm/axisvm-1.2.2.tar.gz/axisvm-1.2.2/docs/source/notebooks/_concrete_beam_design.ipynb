{
 "cells": [
  {
   "cell_type": "markdown",
   "metadata": {},
   "source": [
    "# Design example of a concrete beam. Define geometry, loads, material, calculate, get results."
   ]
  },
  {
   "cell_type": "markdown",
   "metadata": {},
   "source": [
    "## Launch AxisVM"
   ]
  },
  {
   "cell_type": "code",
   "execution_count": 1,
   "metadata": {},
   "outputs": [],
   "source": [
    "from axisvm.com.client import start_AxisVM\n",
    "\n",
    "axisvm_application = start_AxisVM(visible=True, daemon=True, join=True)"
   ]
  },
  {
   "cell_type": "code",
   "execution_count": 2,
   "metadata": {},
   "outputs": [],
   "source": [
    "import axisvm.com.tlb as axtlb"
   ]
  },
  {
   "cell_type": "markdown",
   "metadata": {},
   "source": [
    "## Create a new model"
   ]
  },
  {
   "cell_type": "code",
   "execution_count": 3,
   "metadata": {},
   "outputs": [],
   "source": [
    "axisvm_model_id = axisvm_application.Models.New()\n",
    "axisvm_model = axisvm_application.Models.Item[axisvm_model_id]"
   ]
  },
  {
   "cell_type": "markdown",
   "metadata": {},
   "source": [
    "## Create a material"
   ]
  },
  {
   "cell_type": "code",
   "execution_count": 4,
   "metadata": {},
   "outputs": [],
   "source": [
    "axisvm_model.Settings.NationalDesignCode = axtlb.ndcEuroCode\n",
    "concrete_material_id = axisvm_model.Materials.AddFromCatalog(axtlb.ndcEuroCode, \"C16/20\")\n",
    "assert concrete_material_id > 0, f\"Call to 'Materials.AddFromCatalog' failed with exit code {concrete_material_id}\""
   ]
  },
  {
   "cell_type": "markdown",
   "metadata": {},
   "source": [
    "## Create a cross section"
   ]
  },
  {
   "cell_type": "code",
   "execution_count": 5,
   "metadata": {},
   "outputs": [],
   "source": [
    "section_id = axisvm_model.CrossSections.AddRectangular(\n",
    "    \"section\", 0.1, 0.15, axtlb.cspOther\n",
    ")\n",
    "assert section_id > 0, f\"Call to 'CrossSections.AddRectangular' failed with exit code {section_id}\""
   ]
  },
  {
   "cell_type": "markdown",
   "metadata": {},
   "source": [
    "## Create the geometry"
   ]
  },
  {
   "cell_type": "markdown",
   "metadata": {},
   "source": [
    "Define the nodes\n"
   ]
  },
  {
   "cell_type": "code",
   "execution_count": 6,
   "metadata": {},
   "outputs": [],
   "source": [
    "node_id_1 = axisvm_model.Nodes.AddWithDOF(0, 0, 0, axtlb.dofFrameXZ)\n",
    "assert node_id_1 > 0, f\"Call to 'Nodes.AddWithDOF' failed with exit code {node_id_1}\"\n",
    "node_id_2 = axisvm_model.Nodes.AddWithDOF(4, 0, 0, axtlb.dofFrameXZ)\n",
    "assert node_id_2 > 0, f\"Call to 'Nodes.AddWithDOF' failed with exit code {node_id_2}\""
   ]
  },
  {
   "cell_type": "markdown",
   "metadata": {},
   "source": [
    "Define the line of the beam\n"
   ]
  },
  {
   "cell_type": "code",
   "execution_count": 7,
   "metadata": {},
   "outputs": [],
   "source": [
    "line_id = axisvm_model.Lines.Add(node_id_1, node_id_2, axtlb.lgtStraightLine)[-1]\n",
    "assert line_id > 0, f\"Call to 'Lines.Add' failed with exit code {line_id}\""
   ]
  },
  {
   "cell_type": "markdown",
   "metadata": {},
   "source": [
    "## Create the concrete member"
   ]
  },
  {
   "cell_type": "code",
   "execution_count": 8,
   "metadata": {},
   "outputs": [],
   "source": [
    "member_id = axisvm_model.Members.Add([line_id])\n",
    "assert member_id > 0, f\"Call to 'Members.Add' failed with exit code {member_id}\""
   ]
  },
  {
   "cell_type": "code",
   "execution_count": 9,
   "metadata": {},
   "outputs": [],
   "source": [
    "member = axisvm_model.Members.Item[member_id]"
   ]
  },
  {
   "cell_type": "code",
   "execution_count": 10,
   "metadata": {},
   "outputs": [],
   "source": [
    "beam_id = member.DefineAsBeam(concrete_material_id, section_id, section_id)[-1]\n",
    "assert beam_id > 0, f\"Call to 'DefineAsBeam' failed with exit code {beam_id}\""
   ]
  },
  {
   "cell_type": "markdown",
   "metadata": {},
   "source": [
    "## Define the supports"
   ]
  },
  {
   "cell_type": "code",
   "execution_count": 11,
   "metadata": {},
   "outputs": [],
   "source": [
    "springleft = axtlb.RStiffnesses(x=1e12, y=1e12, z=1e12, xx=0, yy=0, zz=0)\n",
    "springright = axtlb.RStiffnesses(x=1e12, y=1e12, z=1e12, xx=0, yy=0, zz=0)\n",
    "RNonLinearity = axtlb.RNonLinearity(\n",
    "    x=axtlb.lnlTensionAndCompression,\n",
    "    y=axtlb.lnlTensionAndCompression,\n",
    "    z=axtlb.lnlTensionAndCompression,\n",
    "    xx=axtlb.lnlTensionAndCompression,\n",
    "    yy=axtlb.lnlTensionAndCompression,\n",
    "    zz=axtlb.lnlTensionAndCompression,\n",
    ")\n",
    "RResistances = axtlb.RResistances(x=0, y=0, z=0, xx=0, yy=0, zz=0)\n",
    "retval = axisvm_model.NodalSupports.AddNodalGlobal(\n",
    "    springleft, RNonLinearity, RResistances, node_id_1\n",
    ")[-1]\n",
    "assert retval > 0, f\"Call to 'NodalSupports.AddNodalGlobal' failed with exit code {retval}\"\n",
    "retval = axisvm_model.NodalSupports.AddNodalGlobal(\n",
    "    springright, RNonLinearity, RResistances, node_id_2\n",
    ")[-1]\n",
    "assert retval > 0, f\"Call to 'NodalSupports.AddNodalGlobal' failed with exit code {retval}\""
   ]
  },
  {
   "cell_type": "markdown",
   "metadata": {},
   "source": [
    "## Define loads"
   ]
  },
  {
   "cell_type": "markdown",
   "metadata": {},
   "source": [
    "### Permanent load group"
   ]
  },
  {
   "cell_type": "code",
   "execution_count": 12,
   "metadata": {},
   "outputs": [],
   "source": [
    "group_id = axisvm_model.LoadGroups.Add(\n",
    "    \"Permanent\", axtlb.lgtPermanent, True, axtlb.gctAdditive\n",
    ")\n",
    "assert group_id > 0, f\"Call to 'LoadGroups.Add' failed with exit code {group_id}\""
   ]
  },
  {
   "cell_type": "code",
   "execution_count": 13,
   "metadata": {},
   "outputs": [],
   "source": [
    "load_case_id = axisvm_model.LoadCases.AddWithGroup(\"G\", axtlb.lctStandard, group_id)\n",
    "assert load_case_id > 0, f\"Call to 'LoadCases.AddWithGroup' failed with exit code {load_case_id}\""
   ]
  },
  {
   "cell_type": "code",
   "execution_count": 14,
   "metadata": {},
   "outputs": [],
   "source": [
    "retval = axisvm_model.Loads.AddBeamSelfWeight(line_id, load_case_id)\n",
    "assert retval > 0, f\"Call to 'Loads.AddBeamSelfWeight' failed with exit code {retval}\""
   ]
  },
  {
   "cell_type": "markdown",
   "metadata": {},
   "source": [
    "### Incidental load group 1"
   ]
  },
  {
   "cell_type": "code",
   "execution_count": 15,
   "metadata": {},
   "outputs": [],
   "source": [
    "group_id = axisvm_model.LoadGroups.Add(\n",
    "    \"Incidental 1\", axtlb.lgtIncidental, True, axtlb.gctExclusive\n",
    ")\n",
    "assert group_id > 0, f\"Call to 'LoadGroups.Add' failed with exit code {group_id}\""
   ]
  },
  {
   "cell_type": "code",
   "execution_count": 16,
   "metadata": {},
   "outputs": [],
   "source": [
    "load_case_id = axisvm_model.LoadCases.AddWithGroup(\"LC1\", axtlb.lctStandard, group_id)\n",
    "\n",
    "load = axtlb.RLoadBeamConcentrated(\n",
    "    LoadCaseId=load_case_id,\n",
    "    LineId=line_id,\n",
    "    Fgz=-1.0,\n",
    "    Position=-0.3,\n",
    "    SystemGLR=axtlb.sysGlobal,\n",
    ")\n",
    "\n",
    "retval = axisvm_model.Loads.AddBeamConcentrated(load)[-1]\n",
    "assert retval > 0, f\"Call to 'Loads.AddBeamConcentrated' failed with exit code {retval}\""
   ]
  },
  {
   "cell_type": "code",
   "execution_count": 17,
   "metadata": {},
   "outputs": [],
   "source": [
    "load_case_id = axisvm_model.LoadCases.AddWithGroup(\"LC2\", axtlb.lctStandard, group_id)\n",
    "\n",
    "load = axtlb.RLoadBeamConcentrated(\n",
    "    LoadCaseId=load_case_id,\n",
    "    LineId=line_id,\n",
    "    Fgz=-10.0,\n",
    "    Position=-0.6,\n",
    "    SystemGLR=axtlb.sysGlobal,\n",
    ")\n",
    "\n",
    "retval = axisvm_model.Loads.AddBeamConcentrated(load)[-1]\n",
    "assert retval > 0, f\"Call to 'Loads.AddBeamDistributed' failed with exit code {retval}\""
   ]
  },
  {
   "cell_type": "markdown",
   "metadata": {},
   "source": [
    "### Incidental load group 2"
   ]
  },
  {
   "cell_type": "code",
   "execution_count": 18,
   "metadata": {},
   "outputs": [],
   "source": [
    "group_id = axisvm_model.LoadGroups.Add(\n",
    "    \"Incidental 2\", axtlb.lgtIncidental, True, axtlb.gctExclusive\n",
    ")\n",
    "assert group_id > 0, f\"Call to 'LoadGroups.Add' failed with exit code {group_id}\""
   ]
  },
  {
   "cell_type": "code",
   "execution_count": 19,
   "metadata": {},
   "outputs": [],
   "source": [
    "load_case_id = axisvm_model.LoadCases.AddWithGroup(\"LC3\", axtlb.lctStandard, group_id)\n",
    "\n",
    "load = axtlb.RLoadBeamDistributed(\n",
    "    LoadCaseId=load_case_id,\n",
    "    LineId=line_id,\n",
    "    qz1=-1.0,\n",
    "    qz2=-1.0,\n",
    "    Position1=0,\n",
    "    Position2=-0.5,\n",
    "    SystemGLR=axtlb.sysGlobal,\n",
    ")\n",
    "\n",
    "retval = axisvm_model.Loads.AddBeamDistributed(load)[-1]\n",
    "assert retval > 0, f\"Call to 'Loads.AddBeamDistributed' failed with exit code {retval}\""
   ]
  },
  {
   "cell_type": "code",
   "execution_count": 20,
   "metadata": {},
   "outputs": [],
   "source": [
    "load_case_id = axisvm_model.LoadCases.AddWithGroup(\"LC4\", axtlb.lctStandard, group_id)\n",
    "\n",
    "load = axtlb.RLoadBeamDistributed(\n",
    "    LoadCaseId=load_case_id,\n",
    "    LineId=line_id,\n",
    "    qz1=-1.0,\n",
    "    qz2=-1.0,\n",
    "    Position1=-0.5,\n",
    "    Position2=-1.0,\n",
    "    SystemGLR=axtlb.sysGlobal,\n",
    ")\n",
    "retval = axisvm_model.Loads.AddBeamDistributed(load)[-1]\n",
    "assert retval > 0, f\"Call to 'Loads.AddBeamDistributed' failed with exit code {retval}\""
   ]
  },
  {
   "cell_type": "markdown",
   "metadata": {},
   "source": [
    "## Save the model"
   ]
  },
  {
   "cell_type": "code",
   "execution_count": 21,
   "metadata": {},
   "outputs": [],
   "source": [
    "file_path = 'model.axs'\n",
    "retval = axisvm_model.SaveToFile(file_path, False)\n",
    "assert retval > 0, f\"Call to 'AxisVMModel.SaveToFile' failed with exit code {retval}\""
   ]
  },
  {
   "cell_type": "markdown",
   "metadata": {},
   "source": [
    "## Linear analysis"
   ]
  },
  {
   "cell_type": "code",
   "execution_count": 22,
   "metadata": {},
   "outputs": [],
   "source": [
    "retval = axisvm_model.Calculation.LinearAnalysis(axtlb.cuiNoUserInteractionWithAutoCorrectNoShow)\n",
    "assert retval > 0, f\"Call to 'Calculation.LinearAnalysis' failed with exit code {retval}\""
   ]
  },
  {
   "cell_type": "markdown",
   "metadata": {},
   "source": [
    "## Take a screenshot"
   ]
  },
  {
   "cell_type": "code",
   "execution_count": 23,
   "metadata": {},
   "outputs": [
    {
     "data": {
      "image/jpeg": "[encoded data removed]",
      "image/png": "[encoded data removed]",
      "text/plain": [
       "<PIL.BmpImagePlugin.DibImageFile image mode=RGB size=1036x735>"
      ]
     },
     "execution_count": 23,
     "metadata": {},
     "output_type": "execute_result"
    }
   ],
   "source": [
    "axisvm_model.View = axtlb.vFront\n",
    "axisvm_model.FitInView()\n",
    "\n",
    "# turn off the grid\n",
    "GridOptions = axtlb.RGridOptions(DisplayGrid=False)\n",
    "axisvm_model.Settings.SetGridOptions(GridOptions)\n",
    "\n",
    "WriteValuesTo = axtlb.RWriteValuesTo(\n",
    "    Nodes=True,\n",
    "    Lines=True,\n",
    "    MinMaxOnly=True\n",
    ")\n",
    "\n",
    "BasicDispParams = axtlb.RBasicDisplayParameters_V153(\n",
    "    ResultComponent=axtlb.rc_d_eZ,\n",
    "    Scale=1.0,\n",
    "    DisplayMode=axtlb.dmDiagramFilled,\n",
    "    DisplayShape=axtlb.dsUndeformed,\n",
    "    WriteValuesTo=WriteValuesTo\n",
    ")\n",
    "\n",
    "ExtDispParams = axtlb.RExtendedDisplayParameters_V153(\n",
    "    BasicDispParams=BasicDispParams,\n",
    "    DisplayAnalysisType=axtlb.datLinear,\n",
    "    ResultType=axtlb.rtLoadCase\n",
    ")\n",
    "\n",
    "load_case_id = 3\n",
    "axisvm_model.Windows.SetStaticDisplayParameters_V153(1, ExtDispParams, load_case_id, [])\n",
    "\n",
    "axisvm_model.Windows.ReDraw()\n",
    "axisvm_application.BringToFront()\n",
    "axisvm_model.Windows[1].screenshot()"
   ]
  },
  {
   "cell_type": "code",
   "execution_count": 24,
   "metadata": {},
   "outputs": [
    {
     "ename": "AssertionError",
     "evalue": "Call to 'RCBeamDesign.AddMembers' failed with exit code -100010",
     "output_type": "error",
     "traceback": [
      "\u001b[1;31m---------------------------------------------------------------------------\u001b[0m",
      "\u001b[1;31mAssertionError\u001b[0m                            Traceback (most recent call last)",
      "Cell \u001b[1;32mIn[24], line 33\u001b[0m\n\u001b[0;32m      1\u001b[0m design_parameters \u001b[38;5;241m=\u001b[39m axtlb\u001b[38;5;241m.\u001b[39mRPartialRCBeamDesignParameters(\n\u001b[0;32m      2\u001b[0m     RRCBeamCrossSections \u001b[38;5;241m=\u001b[39m axtlb\u001b[38;5;241m.\u001b[39mRRCBeamCrossSections(\n\u001b[0;32m      3\u001b[0m         StartSection \u001b[38;5;241m=\u001b[39m axtlb\u001b[38;5;241m.\u001b[39mRRCBeamSection(\n\u001b[1;32m   (...)\u001b[0m\n\u001b[0;32m     29\u001b[0m     )\n\u001b[0;32m     30\u001b[0m )\n\u001b[0;32m     32\u001b[0m retval \u001b[38;5;241m=\u001b[39m axisvm_model\u001b[38;5;241m.\u001b[39mRCBeamDesign\u001b[38;5;241m.\u001b[39mAddMembers([member_id], [design_parameters])\n\u001b[1;32m---> 33\u001b[0m \u001b[38;5;28;01massert\u001b[39;00m retval \u001b[38;5;241m>\u001b[39m \u001b[38;5;241m0\u001b[39m, \u001b[38;5;124mf\u001b[39m\u001b[38;5;124m\"\u001b[39m\u001b[38;5;124mCall to \u001b[39m\u001b[38;5;124m'\u001b[39m\u001b[38;5;124mRCBeamDesign.AddMembers\u001b[39m\u001b[38;5;124m'\u001b[39m\u001b[38;5;124m failed with exit code \u001b[39m\u001b[38;5;132;01m{\u001b[39;00mretval\u001b[38;5;132;01m}\u001b[39;00m\u001b[38;5;124m\"\u001b[39m\n",
      "\u001b[1;31mAssertionError\u001b[0m: Call to 'RCBeamDesign.AddMembers' failed with exit code -100010"
     ]
    }
   ],
   "source": [
    "design_parameters = axtlb.RPartialRCBeamDesignParameters(\n",
    "    RRCBeamCrossSections = axtlb.RRCBeamCrossSections(\n",
    "        StartSection = axtlb.RRCBeamSection(\n",
    "            bw = 0.2,\n",
    "            h = 0.4,\n",
    "            hf = 0.1,\n",
    "            beff = 0.4\n",
    "        ),\n",
    "        EndSection = axtlb.RRCBeamSection(\n",
    "            bw = 0.2,\n",
    "            h = 0.4,\n",
    "            hf = 0.1,\n",
    "            beff = 0.4\n",
    "        )\n",
    "    ),\n",
    "    RRCBeamSupports = axtlb.RRCBeamSupports(\n",
    "        StartSupport = axtlb.RRCBeamSupport(\n",
    "            OverWrite = False,\n",
    "            ActualHalfWidth = 0.1,\n",
    "            TheoreticalHalfWidth = 0.05,\n",
    "            ShearReduction = False\n",
    "        ),\n",
    "        EndSupport = axtlb.RRCBeamSupport(\n",
    "            OverWrite = False,\n",
    "            ActualHalfWidth = 0.1,\n",
    "            TheoreticalHalfWidth = 0.05,\n",
    "            ShearReduction = False\n",
    "        )\n",
    "    )\n",
    ")\n",
    "\n",
    "retval = axisvm_model.RCBeamDesign.AddMembers([member_id], [design_parameters])\n",
    "assert retval > 0, f\"Call to 'RCBeamDesign.AddMembers' failed with exit code {retval}\""
   ]
  },
  {
   "cell_type": "code",
   "execution_count": null,
   "metadata": {},
   "outputs": [
    {
     "data": {
      "text/plain": [
       "'(\\n    old_beam_design_parameters,  # an instance of RRCBeamDesignParameters\\n    old_design_code_parameters,  # an instance of RRCBeamDesignParameters_EC\\n) = axisvm_model.RCBeamDesign.GetDesignParameters(\\n    record_type=axtlb.RRCBeamDesignParameters_EC\\n)\\n\\nold_beam_design_parameters.Dmax, old_design_code_parameters.TopSurface'"
      ]
     },
     "execution_count": 25,
     "metadata": {},
     "output_type": "execute_result"
    }
   ],
   "source": [
    "\"\"\"(\n",
    "    old_beam_design_parameters,  # an instance of RRCBeamDesignParameters\n",
    "    old_design_code_parameters,  # an instance of RRCBeamDesignParameters_EC\n",
    ") = axisvm_model.RCBeamDesign.GetDesignParameters(\n",
    "    record_type=axtlb.RRCBeamDesignParameters_EC\n",
    ")\n",
    "\n",
    "old_beam_design_parameters.Dmax, old_design_code_parameters.TopSurface\"\"\""
   ]
  },
  {
   "cell_type": "code",
   "execution_count": null,
   "metadata": {},
   "outputs": [
    {
     "data": {
      "text/plain": [
       "'axisvm_model.RCBeamDesign.GetDesignParameters(\\n    record_type=axtlb.RRCBeamDesignParameters_EC\\n)[0].Dmax'"
      ]
     },
     "execution_count": 26,
     "metadata": {},
     "output_type": "execute_result"
    }
   ],
   "source": [
    "\"\"\"axisvm_model.RCBeamDesign.GetDesignParameters(\n",
    "    record_type=axtlb.RRCBeamDesignParameters_EC\n",
    ")[0].Dmax\"\"\""
   ]
  },
  {
   "cell_type": "code",
   "execution_count": null,
   "metadata": {},
   "outputs": [
    {
     "data": {
      "text/plain": [
       "1"
      ]
     },
     "execution_count": 27,
     "metadata": {},
     "output_type": "execute_result"
    }
   ],
   "source": [
    "rebar_steel_index = axisvm_model.RebarSteelGrades.AddFromCatalog(\n",
    "    axtlb.ndcEuroCode, \"B500A\"\n",
    ")\n",
    "\n",
    "beam_design_parameters = axtlb.RRCBeamDesignParameters(\n",
    "    ConcreteMaterial=concrete_material_id,\n",
    "    Dmax=0.016,\n",
    "    RebarMaterial=rebar_steel_index,\n",
    "    StirrupMaterial=rebar_steel_index,\n",
    "    StirrupDiameter=0.008,\n",
    "    StirrupLegs=2,\n",
    "    Shape=axtlb.rcbsRectangle,\n",
    "    c_bottom=0.015,\n",
    "    c_top=0.015,\n",
    "    ds_bottom=0.0016,\n",
    "    ds_top=0.016,\n",
    "    TakeConcTensileStrengthNL=False,\n",
    "    UsefctmflNL=False,\n",
    "    ShrinkageEpsNL=0.0,\n",
    ")\n",
    "\n",
    "design_code_parameters = axtlb.RRCBeamDesignParameters_EC(\n",
    "    VariableAngleTrussMethod=True,\n",
    "    Theta=22,\n",
    "    fse=1.0,\n",
    "    ApplyMinimumCover=False,\n",
    "    CrackWidthCheck=False,\n",
    "    MaxCrackWidth_Bottom=0.0003,  # in metres\n",
    "    MaxCrackWidth_Top=0.0003,  # in metres\n",
    "    TakeConcTensileStrength=False,\n",
    "    ShortTerm=False,\n",
    "    Deflection_Beam_L_div=300.0,\n",
    "    Deflection_Cantilever_L_div=400.0,\n",
    "    TopSurface=axtlb.ecClassX0,\n",
    "    BottomSurface=axtlb.ecClassX0,\n",
    "    StructClass=axtlb.scS1,\n",
    "    SeismicZone=axtlb.rcbsecSeismicH,\n",
    "    PlasticHinges=axtlb.RRCBeamPlasticHinges(\n",
    "        EnablePlasticHinges=False,\n",
    "    ),\n",
    ")\n",
    "\n",
    "axisvm_model.RCBeamDesign.SetDesignParameters(\n",
    "    beam_design_parameters, design_code_parameters\n",
    ")"
   ]
  },
  {
   "cell_type": "code",
   "execution_count": null,
   "metadata": {},
   "outputs": [
    {
     "data": {
      "text/plain": [
       "0.0"
      ]
     },
     "execution_count": 28,
     "metadata": {},
     "output_type": "execute_result"
    }
   ],
   "source": [
    "axisvm_model.RCBeamDesign.GetDesignParameters(\n",
    "    record_type=axtlb.RRCBeamDesignParameters_EC\n",
    ")[0].Dmax"
   ]
  },
  {
   "cell_type": "markdown",
   "metadata": {},
   "source": [
    "**The parameter 'Creep' is missing from the documentation.**"
   ]
  },
  {
   "cell_type": "code",
   "execution_count": null,
   "metadata": {},
   "outputs": [
    {
     "data": {
      "text/plain": [
       "(0, (), (), (), (), (), (), (), (), (), (), (), (), (), -100006)"
      ]
     },
     "execution_count": 29,
     "metadata": {},
     "output_type": "execute_result"
    }
   ],
   "source": [
    "axisvm_model.RCBeamDesign.Calculate(\n",
    "    axtlb.rtLoadCombination,\n",
    "    1,\n",
    "    1,\n",
    "    axtlb.atLinearStatic,\n",
    "    False\n",
    ")"
   ]
  },
  {
   "cell_type": "code",
   "execution_count": null,
   "metadata": {},
   "outputs": [],
   "source": [
    "#axisvm_application.Quit()"
   ]
  }
 ],
 "metadata": {
  "kernelspec": {
   "display_name": ".axisvm",
   "language": "python",
   "name": "python3"
  },
  "language_info": {
   "codemirror_mode": {
    "name": "ipython",
    "version": 3
   },
   "file_extension": ".py",
   "mimetype": "text/x-python",
   "name": "python",
   "nbconvert_exporter": "python",
   "pygments_lexer": "ipython3",
   "version": "3.10.11"
  }
 },
 "nbformat": 4,
 "nbformat_minor": 2
}
