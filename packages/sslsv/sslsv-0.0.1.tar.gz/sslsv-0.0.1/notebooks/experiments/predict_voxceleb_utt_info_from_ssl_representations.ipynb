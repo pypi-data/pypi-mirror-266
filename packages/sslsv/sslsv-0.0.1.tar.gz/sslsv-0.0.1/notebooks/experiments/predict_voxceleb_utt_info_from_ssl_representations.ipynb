{
 "cells": [
  {
   "cell_type": "markdown",
   "id": "a1a0cf63",
   "metadata": {},
   "source": [
    "# Predict VoxCeleb utterance info from SSL representations"
   ]
  },
  {
   "cell_type": "code",
   "execution_count": 1,
   "id": "abdc0067",
   "metadata": {},
   "outputs": [],
   "source": [
    "%load_ext autoreload\n",
    "%autoreload 2\n",
    "\n",
    "import os\n",
    "import sys\n",
    "os.chdir('../..')\n",
    "sys.path.insert(1, os.path.join(sys.path[0], '../..'))"
   ]
  },
  {
   "cell_type": "code",
   "execution_count": 2,
   "id": "7a1bca02",
   "metadata": {},
   "outputs": [],
   "source": [
    "from notebooks.notebooks_utils import (\n",
    "    load_models,\n",
    "    evaluate_models,\n",
    "    create_metrics_df\n",
    ")\n",
    "\n",
    "from sslsv.evaluations.CosineSVEvaluation import CosineSVEvaluation, CosineSVEvaluationTaskConfig"
   ]
  },
  {
   "cell_type": "code",
   "execution_count": 18,
   "id": "914d6061",
   "metadata": {},
   "outputs": [],
   "source": [
    "models = load_models(\n",
    "    [\n",
    "        './exps/old/vox2_ddp_sntxent_s=30_m=0/config.yml',\n",
    "        './exps/old/vox2_ddp_sntxent_s=30_m=0.1/config.yml'\n",
    "    ],\n",
    "    override_names={\n",
    "        'exps/old/vox2_ddp_sntxent_s=30_m=0'   : 'simclr',\n",
    "        'exps/old/vox2_ddp_sntxent_s=30_m=0.1' : 'simclr_am'\n",
    "    }\n",
    ")"
   ]
  },
  {
   "cell_type": "code",
   "execution_count": 19,
   "id": "3ac71a7d",
   "metadata": {},
   "outputs": [
    {
     "name": "stderr",
     "output_type": "stream",
     "text": [
      "Extracting test embeddings: 100%|███████████████████████████████████████████████████████████████████████████████████████████████████| 74/74 [00:21<00:00,  3.46it/s]\n",
      "Extracting test embeddings: 100%|███████████████████████████████████████████████████████████████████████████████████████████████████| 74/74 [00:21<00:00,  3.42it/s]\n"
     ]
    }
   ],
   "source": [
    "evaluate_models(models, CosineSVEvaluation, CosineSVEvaluationTaskConfig())"
   ]
  },
  {
   "cell_type": "code",
   "execution_count": 20,
   "id": "c2866696",
   "metadata": {},
   "outputs": [],
   "source": [
    "from sklearn.linear_model import LogisticRegression\n",
    "\n",
    "def fit_mlp_on_representations(model, y_key_pos):\n",
    "    keys = list(model['embeddings'].keys())\n",
    "    \n",
    "    X = [model['embeddings'][key][0].numpy() for key in keys]\n",
    "    if y_key_pos is None:\n",
    "        y = keys\n",
    "    else:\n",
    "        y = [key.split('/')[y_key_pos] for key in keys]\n",
    "    \n",
    "    clf = LogisticRegression()\n",
    "    clf.fit(X, y)\n",
    "    \n",
    "    print(f'Accuracy: {clf.score(X, y)}')\n",
    "    \n",
    "    return clf, X, y"
   ]
  },
  {
   "cell_type": "markdown",
   "id": "121e3351",
   "metadata": {},
   "source": [
    "## Speaker ID"
   ]
  },
  {
   "cell_type": "code",
   "execution_count": 21,
   "id": "6486fa76",
   "metadata": {},
   "outputs": [
    {
     "name": "stdout",
     "output_type": "stream",
     "text": [
      "Accuracy: 0.994052676295667\n"
     ]
    }
   ],
   "source": [
    "_ = fit_mlp_on_representations(models['simclr'], y_key_pos=1)"
   ]
  },
  {
   "cell_type": "code",
   "execution_count": 22,
   "id": "3773cbbd",
   "metadata": {},
   "outputs": [
    {
     "name": "stdout",
     "output_type": "stream",
     "text": [
      "Accuracy: 0.9966015293118097\n"
     ]
    }
   ],
   "source": [
    "_ = fit_mlp_on_representations(models['simclr_am'], y_key_pos=1)"
   ]
  },
  {
   "cell_type": "markdown",
   "id": "53206004",
   "metadata": {},
   "source": [
    "## Video ID"
   ]
  },
  {
   "cell_type": "code",
   "execution_count": 23,
   "id": "01cb149d",
   "metadata": {},
   "outputs": [
    {
     "name": "stdout",
     "output_type": "stream",
     "text": [
      "Accuracy: 0.6053525913338997\n"
     ]
    }
   ],
   "source": [
    "_ = fit_mlp_on_representations(models['simclr'], y_key_pos=2)"
   ]
  },
  {
   "cell_type": "code",
   "execution_count": 24,
   "id": "2d45f290",
   "metadata": {},
   "outputs": [
    {
     "name": "stdout",
     "output_type": "stream",
     "text": [
      "Accuracy: 0.6295666949872557\n"
     ]
    }
   ],
   "source": [
    "_ = fit_mlp_on_representations(models['simclr_am'], y_key_pos=2)"
   ]
  },
  {
   "cell_type": "markdown",
   "id": "486ca144",
   "metadata": {},
   "source": [
    "## Segment ID"
   ]
  },
  {
   "cell_type": "code",
   "execution_count": 25,
   "id": "3d0574c2",
   "metadata": {},
   "outputs": [
    {
     "name": "stdout",
     "output_type": "stream",
     "text": [
      "Accuracy: 0.1671622769753611\n"
     ]
    },
    {
     "name": "stderr",
     "output_type": "stream",
     "text": [
      "/work2/home/ing2/anaconda3/lib/python3.8/site-packages/sklearn/linear_model/_logistic.py:763: ConvergenceWarning: lbfgs failed to converge (status=1):\n",
      "STOP: TOTAL NO. of ITERATIONS REACHED LIMIT.\n",
      "\n",
      "Increase the number of iterations (max_iter) or scale the data as shown in:\n",
      "    https://scikit-learn.org/stable/modules/preprocessing.html\n",
      "Please also refer to the documentation for alternative solver options:\n",
      "    https://scikit-learn.org/stable/modules/linear_model.html#logistic-regression\n",
      "  n_iter_i = _check_optimize_result(\n"
     ]
    }
   ],
   "source": [
    "_ = fit_mlp_on_representations(models['simclr'], y_key_pos=3)"
   ]
  },
  {
   "cell_type": "code",
   "execution_count": 26,
   "id": "6465e297",
   "metadata": {},
   "outputs": [
    {
     "name": "stdout",
     "output_type": "stream",
     "text": [
      "Accuracy: 0.1620645709430756\n"
     ]
    },
    {
     "name": "stderr",
     "output_type": "stream",
     "text": [
      "/work2/home/ing2/anaconda3/lib/python3.8/site-packages/sklearn/linear_model/_logistic.py:763: ConvergenceWarning: lbfgs failed to converge (status=1):\n",
      "STOP: TOTAL NO. of ITERATIONS REACHED LIMIT.\n",
      "\n",
      "Increase the number of iterations (max_iter) or scale the data as shown in:\n",
      "    https://scikit-learn.org/stable/modules/preprocessing.html\n",
      "Please also refer to the documentation for alternative solver options:\n",
      "    https://scikit-learn.org/stable/modules/linear_model.html#logistic-regression\n",
      "  n_iter_i = _check_optimize_result(\n"
     ]
    }
   ],
   "source": [
    "_ = fit_mlp_on_representations(models['simclr_am'], y_key_pos=3)"
   ]
  },
  {
   "cell_type": "markdown",
   "id": "89a4b9bc",
   "metadata": {},
   "source": [
    "## Sample ID"
   ]
  },
  {
   "cell_type": "code",
   "execution_count": 27,
   "id": "3b5d09fa",
   "metadata": {},
   "outputs": [
    {
     "name": "stdout",
     "output_type": "stream",
     "text": [
      "Accuracy: 0.9961767204757859\n"
     ]
    }
   ],
   "source": [
    "_ = fit_mlp_on_representations(models['simclr'], y_key_pos=None)"
   ]
  },
  {
   "cell_type": "code",
   "execution_count": 28,
   "id": "2b188fc7",
   "metadata": {},
   "outputs": [
    {
     "name": "stdout",
     "output_type": "stream",
     "text": [
      "Accuracy: 0.9963891248937978\n"
     ]
    }
   ],
   "source": [
    "_ = fit_mlp_on_representations(models['simclr_am'], y_key_pos=None)"
   ]
  }
 ],
 "metadata": {
  "kernelspec": {
   "display_name": "Python 3 (ipykernel)",
   "language": "python",
   "name": "python3"
  },
  "language_info": {
   "codemirror_mode": {
    "name": "ipython",
    "version": 3
   },
   "file_extension": ".py",
   "mimetype": "text/x-python",
   "name": "python",
   "nbconvert_exporter": "python",
   "pygments_lexer": "ipython3",
   "version": "3.8.8"
  }
 },
 "nbformat": 4,
 "nbformat_minor": 5
}
