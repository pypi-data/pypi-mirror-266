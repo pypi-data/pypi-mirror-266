{
 "cells": [
  {
   "cell_type": "markdown",
   "id": "a1a0cf63",
   "metadata": {},
   "source": [
    "# Evaluate speaker verification with PCA"
   ]
  },
  {
   "cell_type": "code",
   "execution_count": 1,
   "id": "abdc0067",
   "metadata": {},
   "outputs": [],
   "source": [
    "%load_ext autoreload\n",
    "%autoreload 2\n",
    "\n",
    "import os\n",
    "import sys\n",
    "os.chdir('../..')\n",
    "sys.path.insert(1, os.path.join(sys.path[0], '../..'))"
   ]
  },
  {
   "cell_type": "code",
   "execution_count": 2,
   "id": "7fccb6bd",
   "metadata": {},
   "outputs": [],
   "source": [
    "import torch\n",
    "from sklearn.decomposition import PCA\n",
    "import numpy as np\n",
    "\n",
    "from notebooks.notebooks_utils import (\n",
    "    load_models,\n",
    "    evaluate_models,\n",
    "    create_metrics_df\n",
    ")\n",
    "\n",
    "from sslsv.evaluations.CosineSVEvaluation import CosineSVEvaluation, CosineSVEvaluationTaskConfig"
   ]
  },
  {
   "cell_type": "code",
   "execution_count": 8,
   "id": "e7c468fc",
   "metadata": {},
   "outputs": [],
   "source": [
    "models = load_models([\n",
    "    './exps/old/vox2_ddp_sntxent_s=30_m=0/config.yml',\n",
    "])"
   ]
  },
  {
   "cell_type": "code",
   "execution_count": 31,
   "id": "39541851",
   "metadata": {},
   "outputs": [],
   "source": [
    "class CosineSVWithPCAEvaluation(CosineSVEvaluation):\n",
    "    \n",
    "    def _prepare_evaluation(self):\n",
    "        super()._prepare_evaluation()\n",
    "        \n",
    "        # Train PCA\n",
    "        Z = np.array([t.mean(dim=0).numpy() for t in self.test_embeddings.values()])\n",
    "        self.pca = PCA(n_components=200)\n",
    "        self.pca.fit(Z)\n",
    "    \n",
    "    def _get_sv_score(self, a, b):\n",
    "        enrol = self.test_embeddings[a]\n",
    "        test = self.test_embeddings[b]\n",
    "        \n",
    "        enrol = torch.from_numpy(self.pca.transform(enrol.numpy()))\n",
    "        test = torch.from_numpy(self.pca.transform(test.numpy()))\n",
    "\n",
    "        score = self._compute_score(enrol, test)\n",
    "\n",
    "        return score.item()"
   ]
  },
  {
   "cell_type": "code",
   "execution_count": 20,
   "id": "309d7899",
   "metadata": {},
   "outputs": [
    {
     "name": "stderr",
     "output_type": "stream",
     "text": [
      "Extracting test embeddings: 100%|███████████████████████████████████████████████████████████████████████████████████████████████████| 74/74 [00:28<00:00,  2.57it/s]\n"
     ]
    },
    {
     "data": {
      "text/html": [
       "<div>\n",
       "<style scoped>\n",
       "    .dataframe tbody tr th:only-of-type {\n",
       "        vertical-align: middle;\n",
       "    }\n",
       "\n",
       "    .dataframe tbody tr th {\n",
       "        vertical-align: top;\n",
       "    }\n",
       "\n",
       "    .dataframe thead th {\n",
       "        text-align: right;\n",
       "    }\n",
       "</style>\n",
       "<table border=\"1\" class=\"dataframe\">\n",
       "  <thead>\n",
       "    <tr style=\"text-align: right;\">\n",
       "      <th></th>\n",
       "      <th>voxceleb1_test_O/eer</th>\n",
       "      <th>voxceleb1_test_O/mindcf</th>\n",
       "    </tr>\n",
       "    <tr>\n",
       "      <th>Model</th>\n",
       "      <th></th>\n",
       "      <th></th>\n",
       "    </tr>\n",
       "  </thead>\n",
       "  <tbody>\n",
       "    <tr>\n",
       "      <th>exps/old/vox2_ddp_sntxent_s=30_m=0</th>\n",
       "      <td>8.4056</td>\n",
       "      <td>0.6235</td>\n",
       "    </tr>\n",
       "  </tbody>\n",
       "</table>\n",
       "</div>"
      ],
      "text/plain": [
       "                                    voxceleb1_test_O/eer  \\\n",
       "Model                                                      \n",
       "exps/old/vox2_ddp_sntxent_s=30_m=0                8.4056   \n",
       "\n",
       "                                    voxceleb1_test_O/mindcf  \n",
       "Model                                                        \n",
       "exps/old/vox2_ddp_sntxent_s=30_m=0                   0.6235  "
      ]
     },
     "execution_count": 20,
     "metadata": {},
     "output_type": "execute_result"
    }
   ],
   "source": [
    "evaluate_models(models, CosineSVEvaluation, CosineSVEvaluationTaskConfig())\n",
    "create_metrics_df(models)"
   ]
  },
  {
   "cell_type": "code",
   "execution_count": 32,
   "id": "43a0df82",
   "metadata": {},
   "outputs": [
    {
     "name": "stderr",
     "output_type": "stream",
     "text": [
      "Extracting test embeddings: 100%|███████████████████████████████████████████████████████████████████████████████████████████████████| 74/74 [00:21<00:00,  3.44it/s]\n"
     ]
    },
    {
     "data": {
      "text/html": [
       "<div>\n",
       "<style scoped>\n",
       "    .dataframe tbody tr th:only-of-type {\n",
       "        vertical-align: middle;\n",
       "    }\n",
       "\n",
       "    .dataframe tbody tr th {\n",
       "        vertical-align: top;\n",
       "    }\n",
       "\n",
       "    .dataframe thead th {\n",
       "        text-align: right;\n",
       "    }\n",
       "</style>\n",
       "<table border=\"1\" class=\"dataframe\">\n",
       "  <thead>\n",
       "    <tr style=\"text-align: right;\">\n",
       "      <th></th>\n",
       "      <th>voxceleb1_test_O/eer</th>\n",
       "      <th>voxceleb1_test_O/mindcf</th>\n",
       "    </tr>\n",
       "    <tr>\n",
       "      <th>Model</th>\n",
       "      <th></th>\n",
       "      <th></th>\n",
       "    </tr>\n",
       "  </thead>\n",
       "  <tbody>\n",
       "    <tr>\n",
       "      <th>exps/old/vox2_ddp_sntxent_s=30_m=0</th>\n",
       "      <td>7.321</td>\n",
       "      <td>0.6637</td>\n",
       "    </tr>\n",
       "  </tbody>\n",
       "</table>\n",
       "</div>"
      ],
      "text/plain": [
       "                                    voxceleb1_test_O/eer  \\\n",
       "Model                                                      \n",
       "exps/old/vox2_ddp_sntxent_s=30_m=0                 7.321   \n",
       "\n",
       "                                    voxceleb1_test_O/mindcf  \n",
       "Model                                                        \n",
       "exps/old/vox2_ddp_sntxent_s=30_m=0                   0.6637  "
      ]
     },
     "execution_count": 32,
     "metadata": {},
     "output_type": "execute_result"
    }
   ],
   "source": [
    "evaluate_models(models, CosineSVWithPCAEvaluation, CosineSVEvaluationTaskConfig())\n",
    "create_metrics_df(models)"
   ]
  }
 ],
 "metadata": {
  "kernelspec": {
   "display_name": "Python 3 (ipykernel)",
   "language": "python",
   "name": "python3"
  },
  "language_info": {
   "codemirror_mode": {
    "name": "ipython",
    "version": 3
   },
   "file_extension": ".py",
   "mimetype": "text/x-python",
   "name": "python",
   "nbconvert_exporter": "python",
   "pygments_lexer": "ipython3",
   "version": "3.8.8"
  }
 },
 "nbformat": 4,
 "nbformat_minor": 5
}
