{
 "cells": [
  {
   "cell_type": "code",
   "execution_count": 8,
   "id": "ecfb2954",
   "metadata": {},
   "outputs": [
    {
     "name": "stderr",
     "output_type": "stream",
     "text": [
      "── \u001b[1mAttaching core tidyverse packages\u001b[22m ───────────────────────────────────────────────────────────────────────────────────────────────────────────────────────────────────────────────────────── tidyverse 2.0.0 ──\n",
      "\u001b[32m✔\u001b[39m \u001b[34mdplyr    \u001b[39m 1.1.1     \u001b[32m✔\u001b[39m \u001b[34mreadr    \u001b[39m 2.1.4\n",
      "\u001b[32m✔\u001b[39m \u001b[34mforcats  \u001b[39m 1.0.0     \u001b[32m✔\u001b[39m \u001b[34mstringr  \u001b[39m 1.5.0\n",
      "\u001b[32m✔\u001b[39m \u001b[34mggplot2  \u001b[39m 3.4.1     \u001b[32m✔\u001b[39m \u001b[34mtibble   \u001b[39m 3.2.1\n",
      "\u001b[32m✔\u001b[39m \u001b[34mlubridate\u001b[39m 1.9.2     \u001b[32m✔\u001b[39m \u001b[34mtidyr    \u001b[39m 1.3.0\n",
      "\u001b[32m✔\u001b[39m \u001b[34mpurrr    \u001b[39m 1.0.1     \n",
      "── \u001b[1mConflicts\u001b[22m ─────────────────────────────────────────────────────────────────────────────────────────────────────────────────────────────────────────────────────────────────────────── tidyverse_conflicts() ──\n",
      "\u001b[31m✖\u001b[39m \u001b[34mdplyr\u001b[39m::\u001b[32mfilter()\u001b[39m masks \u001b[34mstats\u001b[39m::filter()\n",
      "\u001b[31m✖\u001b[39m \u001b[34mdplyr\u001b[39m::\u001b[32mlag()\u001b[39m    masks \u001b[34mstats\u001b[39m::lag()\n",
      "\u001b[36mℹ\u001b[39m Use the conflicted package (\u001b[3m\u001b[34m<http://conflicted.r-lib.org/>\u001b[39m\u001b[23m) to force all conflicts to become errors\n"
     ]
    }
   ],
   "source": [
    "library(tidyverse)"
   ]
  },
  {
   "cell_type": "code",
   "execution_count": 9,
   "id": "c5aa3a71",
   "metadata": {},
   "outputs": [],
   "source": [
    "options(repr.plot.width=10, repr.plot.height=5)"
   ]
  },
  {
   "cell_type": "code",
   "execution_count": 20,
   "id": "a2b6fa31",
   "metadata": {},
   "outputs": [
    {
     "data": {
      "text/html": [
       "<table class=\"dataframe\">\n",
       "<caption>A data.frame: 8 × 4</caption>\n",
       "<thead>\n",
       "\t<tr><th scope=col>x</th><th scope=col>finetuned</th><th scope=col>supervised</th><th scope=col>frozen</th></tr>\n",
       "\t<tr><th scope=col>&lt;dbl&gt;</th><th scope=col>&lt;dbl&gt;</th><th scope=col>&lt;dbl&gt;</th><th scope=col>&lt;dbl&gt;</th></tr>\n",
       "</thead>\n",
       "<tbody>\n",
       "\t<tr><td>  2</td><td>3.91</td><td>9.34</td><td>5.09</td></tr>\n",
       "\t<tr><td>  4</td><td>3.81</td><td>7.55</td><td>4.90</td></tr>\n",
       "\t<tr><td>  6</td><td>3.77</td><td>6.70</td><td>4.82</td></tr>\n",
       "\t<tr><td>  8</td><td>3.81</td><td>6.20</td><td>4.85</td></tr>\n",
       "\t<tr><td> 10</td><td>3.68</td><td>5.53</td><td>4.71</td></tr>\n",
       "\t<tr><td> 20</td><td>3.47</td><td>5.00</td><td>4.76</td></tr>\n",
       "\t<tr><td> 50</td><td>3.41</td><td>4.50</td><td>4.59</td></tr>\n",
       "\t<tr><td>100</td><td>3.38</td><td>4.30</td><td>4.55</td></tr>\n",
       "</tbody>\n",
       "</table>\n"
      ],
      "text/latex": [
       "A data.frame: 8 × 4\n",
       "\\begin{tabular}{llll}\n",
       " x & finetuned & supervised & frozen\\\\\n",
       " <dbl> & <dbl> & <dbl> & <dbl>\\\\\n",
       "\\hline\n",
       "\t   2 & 3.91 & 9.34 & 5.09\\\\\n",
       "\t   4 & 3.81 & 7.55 & 4.90\\\\\n",
       "\t   6 & 3.77 & 6.70 & 4.82\\\\\n",
       "\t   8 & 3.81 & 6.20 & 4.85\\\\\n",
       "\t  10 & 3.68 & 5.53 & 4.71\\\\\n",
       "\t  20 & 3.47 & 5.00 & 4.76\\\\\n",
       "\t  50 & 3.41 & 4.50 & 4.59\\\\\n",
       "\t 100 & 3.38 & 4.30 & 4.55\\\\\n",
       "\\end{tabular}\n"
      ],
      "text/markdown": [
       "\n",
       "A data.frame: 8 × 4\n",
       "\n",
       "| x &lt;dbl&gt; | finetuned &lt;dbl&gt; | supervised &lt;dbl&gt; | frozen &lt;dbl&gt; |\n",
       "|---|---|---|---|\n",
       "|   2 | 3.91 | 9.34 | 5.09 |\n",
       "|   4 | 3.81 | 7.55 | 4.90 |\n",
       "|   6 | 3.77 | 6.70 | 4.82 |\n",
       "|   8 | 3.81 | 6.20 | 4.85 |\n",
       "|  10 | 3.68 | 5.53 | 4.71 |\n",
       "|  20 | 3.47 | 5.00 | 4.76 |\n",
       "|  50 | 3.41 | 4.50 | 4.59 |\n",
       "| 100 | 3.38 | 4.30 | 4.55 |\n",
       "\n"
      ],
      "text/plain": [
       "  x   finetuned supervised frozen\n",
       "1   2 3.91      9.34       5.09  \n",
       "2   4 3.81      7.55       4.90  \n",
       "3   6 3.77      6.70       4.82  \n",
       "4   8 3.81      6.20       4.85  \n",
       "5  10 3.68      5.53       4.71  \n",
       "6  20 3.47      5.00       4.76  \n",
       "7  50 3.41      4.50       4.59  \n",
       "8 100 3.38      4.30       4.55  "
      ]
     },
     "metadata": {},
     "output_type": "display_data"
    }
   ],
   "source": [
    "d <- data.frame(\n",
    "    x          = c(   2,    4,    6,    8,   10,   20,   50,  100),\n",
    "    finetuned  = c(3.91, 3.81, 3.77, 3.81, 3.68, 3.47, 3.41, 3.38),\n",
    "    supervised = c(9.34, 7.55, 6.70, 6.20, 5.53, 5.00, 4.50, 4.30),\n",
    "    frozen     = c(5.09, 4.90, 4.82, 4.85, 4.71, 4.76, 4.59, 4.55)\n",
    ")\n",
    "\n",
    "d"
   ]
  },
  {
   "cell_type": "code",
   "execution_count": 21,
   "id": "9e134e64",
   "metadata": {},
   "outputs": [
    {
     "data": {
      "image/png": "[encoded data removed]",
      "text/plain": [
       "plot without title"
      ]
     },
     "metadata": {
      "image/png": {
       "height": 300,
       "width": 600
      }
     },
     "output_type": "display_data"
    }
   ],
   "source": [
    "d %>% ggplot(aes(x=x, group=1)) +\n",
    "        geom_line(aes(y=finetuned, color=\"Self-supervised (fine-tuned)\"), linewidth=1) +\n",
    "        geom_line(aes(y=frozen, color=\"Self-supervised (frozen)\"), linewidth=1) +\n",
    "        geom_line(aes(y=supervised, color=\"Supervised\"), linewidth=1) +\n",
    "\n",
    "        geom_point(aes(y=finetuned, color=\"Self-supervised (fine-tuned)\"), size=3) +\n",
    "        geom_point(aes(y=frozen, color=\"Self-supervised (frozen)\"), size=3) +\n",
    "        geom_point(aes(y=supervised, color=\"Supervised\"), size=3) +\n",
    "        \n",
    "        scale_colour_manual(values=c(\"#eb4034\", \"#2b4fa1\", \"#01041a\")) +\n",
    "\n",
    "        xlab(\"Percentage of labeled data\") +\n",
    "        ylab(\"EER(%)\") +\n",
    "        theme_bw() +\n",
    "        theme(text = element_text(size=24)) +\n",
    "        \n",
    "        theme(\n",
    "            legend.title=element_blank(),\n",
    "            legend.position = c(0.98, 0.98),\n",
    "            legend.justification = c(\"right\", \"top\"),\n",
    "            legend.box.just = \"right\",\n",
    "            legend.margin = margin(0, 10, 10, 10),\n",
    "            legend.background = element_rect(color='#ededed', fill='white', linetype='solid')\n",
    "        ) +\n",
    "        scale_x_continuous(breaks=x, trans='log10')"
   ]
  },
  {
   "cell_type": "code",
   "execution_count": 13,
   "id": "55e2c2ca",
   "metadata": {},
   "outputs": [],
   "source": [
    "ggsave(filename = \"label_efficient.pdf\", width=10, height=5, device=cairo_pdf)"
   ]
  },
  {
   "cell_type": "code",
   "execution_count": null,
   "id": "13428aba",
   "metadata": {},
   "outputs": [],
   "source": []
  }
 ],
 "metadata": {
  "kernelspec": {
   "display_name": "R",
   "language": "R",
   "name": "ir"
  },
  "language_info": {
   "codemirror_mode": "r",
   "file_extension": ".r",
   "mimetype": "text/x-r-source",
   "name": "R",
   "pygments_lexer": "r",
   "version": "4.2.3"
  }
 },
 "nbformat": 4,
 "nbformat_minor": 5
}
