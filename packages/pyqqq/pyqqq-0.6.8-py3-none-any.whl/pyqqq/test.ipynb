{
 "cells": [
  {
   "cell_type": "code",
   "execution_count": null,
   "metadata": {},
   "outputs": [],
   "source": [
    "import datetime as dtm\n",
    "import dotenv\n",
    "import os\n",
    "from pyqqq.brokerage.ebest.domestic_stock import EBestDomesticStock\n",
    "from pyqqq.brokerage.ebest.oauth import EBestAuth\n",
    "\n",
    "dotenv.load_dotenv(dotenv.find_dotenv())\n",
    "\n",
    "auth = EBestAuth(os.getenv(\"EBEST_APP_KEY\"), os.getenv(\"EBEST_APP_SECRET\"))\n",
    "stock_api = EBestDomesticStock(auth)"
   ]
  },
  {
   "cell_type": "code",
   "execution_count": null,
   "metadata": {},
   "outputs": [],
   "source": [
    "stock_api.get_price(\"005930\")"
   ]
  },
  {
   "cell_type": "code",
   "execution_count": null,
   "metadata": {},
   "outputs": [],
   "source": [
    "resp = stock_api.get_asset_list(\"1\")"
   ]
  },
  {
   "cell_type": "code",
   "execution_count": null,
   "metadata": {},
   "outputs": [],
   "source": [
    "for jm in resp['output']:\n",
    "    print(jm)\n",
    "    if jm['shcode'] == '001880':\n",
    "        print(jm)"
   ]
  },
  {
   "cell_type": "code",
   "execution_count": null,
   "metadata": {},
   "outputs": [],
   "source": [
    "resp"
   ]
  },
  {
   "cell_type": "code",
   "execution_count": null,
   "metadata": {},
   "outputs": [],
   "source": [
    "len(resp['output'])"
   ]
  },
  {
   "cell_type": "code",
   "execution_count": null,
   "metadata": {},
   "outputs": [],
   "source": [
    "all_kr = stock_api.get_asset_list()\n",
    "all_kr"
   ]
  },
  {
   "cell_type": "code",
   "execution_count": null,
   "metadata": {},
   "outputs": [],
   "source": [
    "len(all_kr['output'])"
   ]
  },
  {
   "cell_type": "code",
   "execution_count": null,
   "metadata": {},
   "outputs": [],
   "source": [
    "resp"
   ]
  },
  {
   "cell_type": "code",
   "execution_count": null,
   "metadata": {},
   "outputs": [],
   "source": [
    "for ticker in resp['output']:\n",
    "    print(ticker['shcode'])"
   ]
  },
  {
   "cell_type": "code",
   "execution_count": null,
   "metadata": {},
   "outputs": [],
   "source": [
    "import pandas as pd\n",
    "value = [{'code': 1, 'name': 'a'}, {'code': 2, 'name': 'b'}]\n",
    "df = pd.DataFrame(value)\n",
    "df.set_index('code', inplace=True)\n",
    "print(df)"
   ]
  },
  {
   "cell_type": "code",
   "execution_count": null,
   "metadata": {},
   "outputs": [],
   "source": [
    "import pandas as pd\n",
    "value = {'code': 1, 'name': 'a'}\n",
    "df = pd.DataFrame([value])\n",
    "df.set_index('code', inplace=True)\n",
    "print(df)"
   ]
  },
  {
   "cell_type": "code",
   "execution_count": 1,
   "metadata": {},
   "outputs": [
    {
     "name": "stdout",
     "output_type": "stream",
     "text": [
      "                isin  name market\n",
      "code                             \n",
      "005930  KR7005930003  삼성전자  KOSPI\n"
     ]
    }
   ],
   "source": [
    "from pyqqq.data.domestic import get_ticker_info, find_ticker_info\n",
    "\n",
    "df = get_ticker_info('005930')\n",
    "print(df)"
   ]
  },
  {
   "cell_type": "code",
   "execution_count": 3,
   "metadata": {},
   "outputs": [
    {
     "name": "stdout",
     "output_type": "stream",
     "text": [
      "                isin   name market\n",
      "code                              \n",
      "000810  KR7000810002   삼성화재  KOSPI\n",
      "000815  KR7000811000  삼성화재우  KOSPI\n",
      "001360  KR7001360007   삼성제약  KOSPI\n",
      "005930  KR7005930003   삼성전자  KOSPI\n",
      "005935  KR7005931001  삼성전자우  KOSPI\n"
     ]
    }
   ],
   "source": [
    "list = find_ticker_info('삼성')\n",
    "print(list.head())"
   ]
  },
  {
   "cell_type": "code",
   "execution_count": null,
   "metadata": {},
   "outputs": [],
   "source": [
    "type = 'name'\n",
    "value = '005903'\n",
    "p = {\n",
    "    type: value\n",
    "}\n",
    "p\n",
    "#p[type] = value\n",
    "#p"
   ]
  },
  {
   "cell_type": "code",
   "execution_count": null,
   "metadata": {},
   "outputs": [],
   "source": []
  }
 ],
 "metadata": {
  "kernelspec": {
   "display_name": ".venv",
   "language": "python",
   "name": "python3"
  },
  "language_info": {
   "codemirror_mode": {
    "name": "ipython",
    "version": 3
   },
   "file_extension": ".py",
   "mimetype": "text/x-python",
   "name": "python",
   "nbconvert_exporter": "python",
   "pygments_lexer": "ipython3",
   "version": "3.11.8"
  }
 },
 "nbformat": 4,
 "nbformat_minor": 2
}
