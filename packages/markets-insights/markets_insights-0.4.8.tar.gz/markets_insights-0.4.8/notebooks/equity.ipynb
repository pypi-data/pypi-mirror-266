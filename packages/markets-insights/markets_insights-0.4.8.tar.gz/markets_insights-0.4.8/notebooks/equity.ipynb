{
 "cells": [
  {
   "cell_type": "markdown",
   "metadata": {},
   "source": [
    "## Import"
   ]
  },
  {
   "cell_type": "code",
   "execution_count": 33,
   "metadata": {},
   "outputs": [],
   "source": [
    "import os\n",
    "pwd = os.path.abspath('.')\n",
    "os.chdir(os.path.join(pwd, '../src/'))"
   ]
  },
  {
   "cell_type": "code",
   "execution_count": 34,
   "metadata": {},
   "outputs": [],
   "source": [
    "from collections import Counter\n",
    "import pandas as pd\n",
    "import seaborn as sns\n",
    "from core.environment import EnvironmentSettings\n",
    "from string import Template\n",
    "from core.column_definition import BaseColumns, CalculatedColumns\n",
    "\n",
    "import datetime"
   ]
  },
  {
   "cell_type": "code",
   "execution_count": 35,
   "metadata": {},
   "outputs": [
    {
     "name": "stdout",
     "output_type": "stream",
     "text": [
      "The autoreload extension is already loaded. To reload it, use:\n",
      "  %reload_ext autoreload\n"
     ]
    }
   ],
   "source": [
    "%load_ext autoreload\n",
    "%autoreload 2"
   ]
  },
  {
   "cell_type": "markdown",
   "metadata": {},
   "source": [
    "## Setup"
   ]
  },
  {
   "cell_type": "markdown",
   "metadata": {},
   "source": [
    "#### Import Common Classes"
   ]
  },
  {
   "cell_type": "code",
   "execution_count": 36,
   "metadata": {},
   "outputs": [],
   "source": [
    "from calculations.base import PriceCrossedAboveValueFlagWorker, PriceCrossedBelowValueFlagWorker"
   ]
  },
  {
   "cell_type": "markdown",
   "metadata": {},
   "source": [
    "#### Helpers"
   ]
  },
  {
   "cell_type": "code",
   "execution_count": 37,
   "metadata": {},
   "outputs": [],
   "source": [
    "def generate_signal_files(data, buy_flag_col_name, sell_flag_col_name, output_sub_folder):\n",
    "  output_path = os.path.join('../output/trades/', output_sub_folder)\n",
    "  if os.path.exists(output_path) == False:\n",
    "    os.makedirs(output_path)\n",
    "\n",
    "  for year in range(2016, 2024):\n",
    "    print(f'Generating signal files for {year}')\n",
    "    period_data = data[\n",
    "      (data[CalculatedColumns.Year] == year) & \\\n",
    "      (data[CalculatedColumns.IsInDerivatives] == True)\n",
    "    ]\n",
    "\n",
    "    year_path = os.path.join(output_path, str(year))\n",
    "    if os.path.exists(year_path) == False:\n",
    "      os.makedirs(year_path)\n",
    "    buy_signals = period_data[period_data[buy_flag_col_name] == True]\n",
    "    sell_signals = period_data[period_data[sell_flag_col_name] == True]\n",
    "    \n",
    "    buy_signals.to_csv(os.path.join(year_path, 'buy_signal_symbols.csv'))\n",
    "    sell_signals.to_csv(os.path.join(year_path, 'sell_signal_symbols.csv'))"
   ]
  },
  {
   "cell_type": "code",
   "execution_count": 38,
   "metadata": {},
   "outputs": [],
   "source": [
    "def get_fwd_looking_price_cols(data: pd.DataFrame):\n",
    "  return [x for x in data.columns if 'HighestPercFallInNext' in x], \\\n",
    "    [x for x in data.columns if 'HighestPercRiseInNext' in x]"
   ]
  },
  {
   "cell_type": "code",
   "execution_count": 39,
   "metadata": {},
   "outputs": [],
   "source": [
    "def get_col_for_name(df: pd.DataFrame, name: str):\n",
    "  return [col for col in df.columns if name in col] "
   ]
  },
  {
   "cell_type": "code",
   "execution_count": 40,
   "metadata": {},
   "outputs": [],
   "source": [
    "def get_n_days_wise_data(data: pd.DataFrame, groupby_col: str = None):\n",
    "  fwd_looking_price_fall_cols, fwd_looking_price_rise_cols = get_fwd_looking_price_cols(data)\n",
    "\n",
    "  results = None\n",
    "  if groupby_col is None:\n",
    "    results = data[fwd_looking_price_rise_cols + fwd_looking_price_fall_cols].median()\n",
    "  else:\n",
    "    results = data.groupby(CalculatedColumns.Year)[fwd_looking_price_rise_cols + fwd_looking_price_fall_cols].median()\n",
    "  \n",
    "  n_days = [x.replace('HighestPercFallIn', '') for x in fwd_looking_price_fall_cols]\n",
    "  col_types = ['HighestPercFall', 'HighestPercRise']\n",
    "  data = pd.DataFrame()\n",
    "  for col_type in col_types:\n",
    "    if groupby_col is None:\n",
    "      row = {}\n",
    "      for n_day in n_days:\n",
    "        row[n_day] = results[col_type + 'In' + n_day]\n",
    "      data = pd.concat([data, pd.DataFrame(row, index=[col_type])])\n",
    "    else:\n",
    "      row = {}\n",
    "      for idx in results.index:\n",
    "        row[groupby_col] = idx\n",
    "        for n_day in n_days:\n",
    "          row[n_day] = results.loc[idx][col_type + 'In' + n_day]\n",
    "        data = pd.concat([data, pd.DataFrame(row, index=[col_type])])\n",
    "  if groupby_col is None:\n",
    "    return data\n",
    "  else:\n",
    "    return data.sort_values(groupby_col)"
   ]
  },
  {
   "cell_type": "code",
   "execution_count": 41,
   "metadata": {},
   "outputs": [],
   "source": [
    "def get_signal_results(data: pd.DataFrame, signal_col: str, groupby_col: str = CalculatedColumns.Year):\n",
    "  signal_data = data[(data[signal_col] == True)\n",
    "    &\n",
    "    (data[CalculatedColumns.IsInDerivatives] == True)\n",
    "  ]\n",
    "  signal_results = get_n_days_wise_data(signal_data, groupby_col)\n",
    "  return signal_results\n",
    "\n",
    "def get_buy_sell_signal_results(data: pd.DataFrame, buy_signal_col: str, sell_signal_col: str, \n",
    "    groupby_col: str = CalculatedColumns.Year):\n",
    "  \n",
    "  buy_signal_results = None\n",
    "  sell_signal_results = None\n",
    "\n",
    "  if buy_signal_col is not None:\n",
    "    buy_signal_results = get_signal_results(data, buy_signal_col, groupby_col)\n",
    "    print('Buy Singal Results')\n",
    "    display(buy_signal_results)\n",
    "  \n",
    "  if sell_signal_col is not None:\n",
    "    print('Sell Singal Results')\n",
    "    sell_signal_results = get_signal_results(data, sell_signal_col, groupby_col)\n",
    "    display(sell_signal_results)\n",
    "\n",
    "  return buy_signal_results, sell_signal_results"
   ]
  },
  {
   "cell_type": "code",
   "execution_count": 42,
   "metadata": {},
   "outputs": [],
   "source": [
    "def get_price_change_correlation_to_signal(data: pd.DataFrame, price_change_flag: str, signal_col_str: str):\n",
    "  result = []\n",
    "  flag_cols = [x for x in data.columns if signal_col_str in x]\n",
    "  for col in flag_cols:\n",
    "    corr_result = data[\n",
    "      (data[CalculatedColumns.IsInDerivatives] == True) \n",
    "    ][[col, price_change_flag]].corr()\n",
    "    value = corr_result[corr_result.columns[1]].values[0]\n",
    "    display(corr_result)\n",
    "    result.append([col, price_change_flag, value])\n",
    "\n",
    "  result_df = pd.DataFrame(result, columns=['Flag', 'Fall', 'Corr Value'])\n",
    "  result_df.iloc[result_df['Corr Value'].abs().argsort()].reset_index(drop=True)"
   ]
  },
  {
   "cell_type": "markdown",
   "metadata": {},
   "source": [
    "#### Process Data"
   ]
  },
  {
   "cell_type": "code",
   "execution_count": 43,
   "metadata": {},
   "outputs": [],
   "source": [
    "from datareader.data_reader import BhavCopyReader\n",
    "reader = BhavCopyReader()\n",
    "\n",
    "from datareader.data_reader import MultiDatesDataReader, DateRangeDataReader, NseDerivatiesOldReader\n",
    "\n",
    "multidates_reader = MultiDatesDataReader(reader)\n",
    "daterange_reader = DateRangeDataReader(reader)\n",
    "\n",
    "from core.core import MarketDaysHelper, TypeHelper"
   ]
  },
  {
   "cell_type": "code",
   "execution_count": 44,
   "metadata": {},
   "outputs": [],
   "source": [
    "yest = datetime.date.today() + datetime.timedelta(days=-1)"
   ]
  },
  {
   "cell_type": "code",
   "execution_count": 45,
   "metadata": {},
   "outputs": [],
   "source": [
    "from dataprocess.data_processor import HistoricalDataProcessor, MultiDataCalculationPipelines, CalculationPipelineBuilder, HistoricalDataProcessOptions\n",
    "from calculations.equity import IsInDerivativesFlagCalculationWorker\n",
    "from calculations.base import DatePartsCalculationWorker, StochRsiCalculationWorker, VwapCalculationWorker, StdDevCalculationWorker\n",
    "options = HistoricalDataProcessOptions()\n",
    "options.include_monthly_data = False\n",
    "options.include_annual_data = False\n",
    "histDataProcessor = HistoricalDataProcessor(options)"
   ]
  },
  {
   "cell_type": "code",
   "execution_count": 46,
   "metadata": {},
   "outputs": [
    {
     "name": "stdout",
     "output_type": "stream",
     "text": [
      "Started to read data\n",
      "get_data took 8 seconds\n",
      "get_manual_data took 0 seconds\n",
      "Started basic calculation\n",
      "add_basic_calc took 1 seconds\n",
      "process took 8 seconds\n"
     ]
    }
   ],
   "source": [
    "year_start = datetime.date(2016, 1, 1)\n",
    "to_date = yest\n",
    "result = histDataProcessor.process(reader, {'from_date': year_start, 'to_date': to_date})"
   ]
  },
  {
   "cell_type": "code",
   "execution_count": 47,
   "metadata": {},
   "outputs": [],
   "source": [
    "pipelines = MultiDataCalculationPipelines()\n",
    "pipelines.set_item('date_parts', CalculationPipelineBuilder.create_pipeline_for_worker(DatePartsCalculationWorker()))\n",
    "pipelines.set_item('derivatives_flag', CalculationPipelineBuilder.create_pipeline_for_worker(IsInDerivativesFlagCalculationWorker()))\n",
    "pipelines.set_item('sma', CalculationPipelineBuilder.create_sma_calculation_pipeline())\n",
    "pipelines.set_item('vwap', CalculationPipelineBuilder.create_pipeline_for_workers([VwapCalculationWorker(14), PriceCrossedAboveValueFlagWorker(CalculatedColumns.Vwap)]))\n",
    "pipelines.set_item('bb', CalculationPipelineBuilder.create_bb_calculation_pipeline())\n",
    "pipelines.set_item('rsi', CalculationPipelineBuilder.create_rsi_calculation_pipeline(crossing_above_flag_value = 75, crossing_below_flag_value = 30))\n",
    "pipelines.set_item('stoch_rsi', CalculationPipelineBuilder.create_stoch_rsi_calculation_pipeline())\n",
    "pipelines.set_item('foward_looking_fall', CalculationPipelineBuilder.create_forward_looking_price_fall_pipeline(range(1, 11)))\n",
    "pipelines.set_item('foward_looking_rise', CalculationPipelineBuilder.create_forward_looking_price_rise_pipeline(range(1, 11)))\n",
    "histDataProcessor.set_calculation_pipelines(pipelines)"
   ]
  },
  {
   "cell_type": "code",
   "execution_count": 48,
   "metadata": {},
   "outputs": [
    {
     "name": "stdout",
     "output_type": "stream",
     "text": [
      "DatePartsCalculationWorker took 1 seconds\n",
      "IsInDerivativesFlagCalculationWorker took 0 seconds\n",
      "SMACalculationWorker took 1 seconds\n",
      "PriceCrossedBelowValueFlagWorker took 0 seconds\n",
      "PriceCrossedAboveValueFlagWorker took 0 seconds\n",
      "SMACalculationWorker took 0 seconds\n",
      "PriceCrossedBelowValueFlagWorker took 0 seconds\n",
      "PriceCrossedAboveValueFlagWorker took 0 seconds\n",
      "SMACalculationWorker took 0 seconds\n",
      "PriceCrossedBelowValueFlagWorker took 0 seconds\n",
      "PriceCrossedAboveValueFlagWorker took 0 seconds\n",
      "VwapCalculationWorker took 1 seconds\n",
      "PriceCrossedAboveValueFlagWorker took 0 seconds\n",
      "StdDevCalculationWorker took 1 seconds\n",
      "StdDevCalculationWorker took 0 seconds\n",
      "PriceCrossedBelowValueFlagWorker took 0 seconds\n",
      "PriceCrossedAboveValueFlagWorker took 0 seconds\n",
      "StdDevCalculationWorker took 0 seconds\n",
      "PriceCrossedBelowValueFlagWorker took 0 seconds\n",
      "PriceCrossedAboveValueFlagWorker took 0 seconds\n",
      "RsiCalculationWorker took 8 seconds\n",
      "ValueCrossedAboveFlagWorker took 1 seconds\n",
      "ValueCrossedBelowFlagWorker took 1 seconds\n",
      "StochRsiCalculationWorker took 12 seconds\n",
      "ValueCrossedAboveFlagWorker took 1 seconds\n",
      "ValueCrossedAboveFlagWorker took 1 seconds\n",
      "ValueCrossedBelowFlagWorker took 1 seconds\n",
      "ValueCrossedBelowFlagWorker took 1 seconds\n",
      "LowestPriceInNextNDaysCalculationWorker took 1 seconds\n",
      "LowestPriceInNextNDaysCalculationWorker took 1 seconds\n",
      "LowestPriceInNextNDaysCalculationWorker took 1 seconds\n",
      "LowestPriceInNextNDaysCalculationWorker took 1 seconds\n",
      "LowestPriceInNextNDaysCalculationWorker took 1 seconds\n",
      "LowestPriceInNextNDaysCalculationWorker took 1 seconds\n",
      "LowestPriceInNextNDaysCalculationWorker took 1 seconds\n",
      "LowestPriceInNextNDaysCalculationWorker took 1 seconds\n",
      "LowestPriceInNextNDaysCalculationWorker took 1 seconds\n",
      "LowestPriceInNextNDaysCalculationWorker took 1 seconds\n",
      "HighestPriceInNextNDaysCalculationWorker took 1 seconds\n",
      "HighestPriceInNextNDaysCalculationWorker took 1 seconds\n",
      "HighestPriceInNextNDaysCalculationWorker took 1 seconds\n",
      "HighestPriceInNextNDaysCalculationWorker took 1 seconds\n",
      "HighestPriceInNextNDaysCalculationWorker took 1 seconds\n",
      "HighestPriceInNextNDaysCalculationWorker took 1 seconds\n",
      "HighestPriceInNextNDaysCalculationWorker took 1 seconds\n",
      "HighestPriceInNextNDaysCalculationWorker took 1 seconds\n",
      "HighestPriceInNextNDaysCalculationWorker took 1 seconds\n",
      "HighestPriceInNextNDaysCalculationWorker took 1 seconds\n"
     ]
    }
   ],
   "source": [
    "histDataProcessor.run_calculation_pipelines()"
   ]
  },
  {
   "cell_type": "code",
   "execution_count": 49,
   "metadata": {},
   "outputs": [],
   "source": [
    "daily_data = result.get_daily_data()"
   ]
  },
  {
   "cell_type": "markdown",
   "metadata": {},
   "source": [
    "#### Setup Common Variables"
   ]
  },
  {
   "cell_type": "code",
   "execution_count": 50,
   "metadata": {},
   "outputs": [],
   "source": [
    "fwd_looking_price_fall_cols, fwd_looking_price_rise_cols = get_fwd_looking_price_cols(daily_data)"
   ]
  },
  {
   "cell_type": "code",
   "execution_count": 51,
   "metadata": {},
   "outputs": [],
   "source": [
    "base_disp_cols = TypeHelper.get_class_static_values(BaseColumns)"
   ]
  },
  {
   "cell_type": "markdown",
   "metadata": {},
   "source": [
    "## Analysis"
   ]
  },
  {
   "cell_type": "markdown",
   "metadata": {},
   "source": [
    "#### RSI"
   ]
  },
  {
   "cell_type": "code",
   "execution_count": 55,
   "metadata": {},
   "outputs": [
    {
     "name": "stdout",
     "output_type": "stream",
     "text": [
      "Buy Singal Results\n"
     ]
    },
    {
     "data": {
      "text/html": [
       "<div>\n",
       "<style scoped>\n",
       "    .dataframe tbody tr th:only-of-type {\n",
       "        vertical-align: middle;\n",
       "    }\n",
       "\n",
       "    .dataframe tbody tr th {\n",
       "        vertical-align: top;\n",
       "    }\n",
       "\n",
       "    .dataframe thead th {\n",
       "        text-align: right;\n",
       "    }\n",
       "</style>\n",
       "<table border=\"1\" class=\"dataframe\">\n",
       "  <thead>\n",
       "    <tr style=\"text-align: right;\">\n",
       "      <th></th>\n",
       "      <th>Year</th>\n",
       "      <th>Next1Days</th>\n",
       "      <th>Next2Days</th>\n",
       "      <th>Next3Days</th>\n",
       "      <th>Next4Days</th>\n",
       "      <th>Next5Days</th>\n",
       "      <th>Next6Days</th>\n",
       "      <th>Next7Days</th>\n",
       "      <th>Next8Days</th>\n",
       "      <th>Next9Days</th>\n",
       "      <th>Next10Days</th>\n",
       "    </tr>\n",
       "  </thead>\n",
       "  <tbody>\n",
       "    <tr>\n",
       "      <th>HighestPercFall</th>\n",
       "      <td>2023</td>\n",
       "      <td>-0.039952</td>\n",
       "      <td>0.080743</td>\n",
       "      <td>0.202632</td>\n",
       "      <td>0.205506</td>\n",
       "      <td>0.407725</td>\n",
       "      <td>0.375987</td>\n",
       "      <td>0.401084</td>\n",
       "      <td>0.594573</td>\n",
       "      <td>0.745758</td>\n",
       "      <td>1.269514</td>\n",
       "    </tr>\n",
       "    <tr>\n",
       "      <th>HighestPercRise</th>\n",
       "      <td>2023</td>\n",
       "      <td>1.897832</td>\n",
       "      <td>2.322756</td>\n",
       "      <td>2.485920</td>\n",
       "      <td>2.744818</td>\n",
       "      <td>2.978575</td>\n",
       "      <td>3.739161</td>\n",
       "      <td>3.973023</td>\n",
       "      <td>4.161850</td>\n",
       "      <td>4.296592</td>\n",
       "      <td>4.415323</td>\n",
       "    </tr>\n",
       "  </tbody>\n",
       "</table>\n",
       "</div>"
      ],
      "text/plain": [
       "                 Year  Next1Days  Next2Days  Next3Days  Next4Days  Next5Days  \\\n",
       "HighestPercFall  2023  -0.039952   0.080743   0.202632   0.205506   0.407725   \n",
       "HighestPercRise  2023   1.897832   2.322756   2.485920   2.744818   2.978575   \n",
       "\n",
       "                 Next6Days  Next7Days  Next8Days  Next9Days  Next10Days  \n",
       "HighestPercFall   0.375987   0.401084   0.594573   0.745758    1.269514  \n",
       "HighestPercRise   3.739161   3.973023   4.161850   4.296592    4.415323  "
      ]
     },
     "metadata": {},
     "output_type": "display_data"
    },
    {
     "name": "stdout",
     "output_type": "stream",
     "text": [
      "Sell Singal Results\n"
     ]
    },
    {
     "data": {
      "text/html": [
       "<div>\n",
       "<style scoped>\n",
       "    .dataframe tbody tr th:only-of-type {\n",
       "        vertical-align: middle;\n",
       "    }\n",
       "\n",
       "    .dataframe tbody tr th {\n",
       "        vertical-align: top;\n",
       "    }\n",
       "\n",
       "    .dataframe thead th {\n",
       "        text-align: right;\n",
       "    }\n",
       "</style>\n",
       "<table border=\"1\" class=\"dataframe\">\n",
       "  <thead>\n",
       "    <tr style=\"text-align: right;\">\n",
       "      <th></th>\n",
       "      <th>Year</th>\n",
       "      <th>Next1Days</th>\n",
       "      <th>Next2Days</th>\n",
       "      <th>Next3Days</th>\n",
       "      <th>Next4Days</th>\n",
       "      <th>Next5Days</th>\n",
       "      <th>Next6Days</th>\n",
       "      <th>Next7Days</th>\n",
       "      <th>Next8Days</th>\n",
       "      <th>Next9Days</th>\n",
       "      <th>Next10Days</th>\n",
       "    </tr>\n",
       "  </thead>\n",
       "  <tbody>\n",
       "    <tr>\n",
       "      <th>HighestPercFall</th>\n",
       "      <td>2023</td>\n",
       "      <td>1.716977</td>\n",
       "      <td>2.389573</td>\n",
       "      <td>3.017137</td>\n",
       "      <td>3.510236</td>\n",
       "      <td>3.397493</td>\n",
       "      <td>3.423158</td>\n",
       "      <td>4.065072</td>\n",
       "      <td>3.899713</td>\n",
       "      <td>3.670145</td>\n",
       "      <td>3.636361</td>\n",
       "    </tr>\n",
       "    <tr>\n",
       "      <th>HighestPercRise</th>\n",
       "      <td>2023</td>\n",
       "      <td>0.627565</td>\n",
       "      <td>0.659184</td>\n",
       "      <td>0.687593</td>\n",
       "      <td>0.786925</td>\n",
       "      <td>0.766715</td>\n",
       "      <td>0.723054</td>\n",
       "      <td>0.662637</td>\n",
       "      <td>0.662637</td>\n",
       "      <td>1.133297</td>\n",
       "      <td>1.324548</td>\n",
       "    </tr>\n",
       "  </tbody>\n",
       "</table>\n",
       "</div>"
      ],
      "text/plain": [
       "                 Year  Next1Days  Next2Days  Next3Days  Next4Days  Next5Days  \\\n",
       "HighestPercFall  2023   1.716977   2.389573   3.017137   3.510236   3.397493   \n",
       "HighestPercRise  2023   0.627565   0.659184   0.687593   0.786925   0.766715   \n",
       "\n",
       "                 Next6Days  Next7Days  Next8Days  Next9Days  Next10Days  \n",
       "HighestPercFall   3.423158   4.065072   3.899713   3.670145    3.636361  \n",
       "HighestPercRise   0.723054   0.662637   0.662637   1.133297    1.324548  "
      ]
     },
     "metadata": {},
     "output_type": "display_data"
    }
   ],
   "source": [
    "buy_signal_result, sell_signal_result = get_buy_sell_signal_results(daily_data, CalculatedColumns.RsiCrossedBelow, CalculatedColumns.RsiCrossedAbove, CalculatedColumns.Year)"
   ]
  },
  {
   "cell_type": "markdown",
   "metadata": {},
   "source": [
    "#### SMA"
   ]
  },
  {
   "cell_type": "code",
   "execution_count": 56,
   "metadata": {},
   "outputs": [
    {
     "ename": "KeyError",
     "evalue": "'Year'",
     "output_type": "error",
     "traceback": [
      "\u001b[1;31m---------------------------------------------------------------------------\u001b[0m",
      "\u001b[1;31mKeyError\u001b[0m                                  Traceback (most recent call last)",
      "\u001b[1;32mc:\\Data\\_Personal\\Projects\\markets-data-manager\\test\\equity.ipynb Cell 30\u001b[0m line \u001b[0;36m<cell line: 1>\u001b[1;34m()\u001b[0m\n\u001b[1;32m----> <a href='vscode-notebook-cell:/c%3A/Data/_Personal/Projects/markets-data-manager/test/equity.ipynb#X42sZmlsZQ%3D%3D?line=0'>1</a>\u001b[0m buy_signal_result, sell_signal_result \u001b[39m=\u001b[39m get_buy_sell_signal_results(\n\u001b[0;32m      <a href='vscode-notebook-cell:/c%3A/Data/_Personal/Projects/markets-data-manager/test/equity.ipynb#X42sZmlsZQ%3D%3D?line=1'>2</a>\u001b[0m   daily_data, \n\u001b[0;32m      <a href='vscode-notebook-cell:/c%3A/Data/_Personal/Projects/markets-data-manager/test/equity.ipynb#X42sZmlsZQ%3D%3D?line=2'>3</a>\u001b[0m   \u001b[39m'\u001b[39;49m\u001b[39mPriceCrossedBelowSma200\u001b[39;49m\u001b[39m'\u001b[39;49m, \n\u001b[0;32m      <a href='vscode-notebook-cell:/c%3A/Data/_Personal/Projects/markets-data-manager/test/equity.ipynb#X42sZmlsZQ%3D%3D?line=3'>4</a>\u001b[0m   \u001b[39m'\u001b[39;49m\u001b[39mPriceCrossedAboveSma200\u001b[39;49m\u001b[39m'\u001b[39;49m, \n\u001b[0;32m      <a href='vscode-notebook-cell:/c%3A/Data/_Personal/Projects/markets-data-manager/test/equity.ipynb#X42sZmlsZQ%3D%3D?line=4'>5</a>\u001b[0m   CalculatedColumns\u001b[39m.\u001b[39;49mYear\n\u001b[0;32m      <a href='vscode-notebook-cell:/c%3A/Data/_Personal/Projects/markets-data-manager/test/equity.ipynb#X42sZmlsZQ%3D%3D?line=5'>6</a>\u001b[0m )\n",
      "\u001b[1;32mc:\\Data\\_Personal\\Projects\\markets-data-manager\\test\\equity.ipynb Cell 30\u001b[0m line \u001b[0;36mget_buy_sell_signal_results\u001b[1;34m(data, buy_signal_col, sell_signal_col, groupby_col)\u001b[0m\n\u001b[0;32m     <a href='vscode-notebook-cell:/c%3A/Data/_Personal/Projects/markets-data-manager/test/equity.ipynb#X42sZmlsZQ%3D%3D?line=12'>13</a>\u001b[0m sell_signal_results \u001b[39m=\u001b[39m \u001b[39mNone\u001b[39;00m\n\u001b[0;32m     <a href='vscode-notebook-cell:/c%3A/Data/_Personal/Projects/markets-data-manager/test/equity.ipynb#X42sZmlsZQ%3D%3D?line=14'>15</a>\u001b[0m \u001b[39mif\u001b[39;00m buy_signal_col \u001b[39mis\u001b[39;00m \u001b[39mnot\u001b[39;00m \u001b[39mNone\u001b[39;00m:\n\u001b[1;32m---> <a href='vscode-notebook-cell:/c%3A/Data/_Personal/Projects/markets-data-manager/test/equity.ipynb#X42sZmlsZQ%3D%3D?line=15'>16</a>\u001b[0m   buy_signal_results \u001b[39m=\u001b[39m get_signal_results(data, buy_signal_col, groupby_col)\n\u001b[0;32m     <a href='vscode-notebook-cell:/c%3A/Data/_Personal/Projects/markets-data-manager/test/equity.ipynb#X42sZmlsZQ%3D%3D?line=16'>17</a>\u001b[0m   \u001b[39mprint\u001b[39m(\u001b[39m'\u001b[39m\u001b[39mBuy Singal Results\u001b[39m\u001b[39m'\u001b[39m)\n\u001b[0;32m     <a href='vscode-notebook-cell:/c%3A/Data/_Personal/Projects/markets-data-manager/test/equity.ipynb#X42sZmlsZQ%3D%3D?line=17'>18</a>\u001b[0m   display(buy_signal_results)\n",
      "\u001b[1;32mc:\\Data\\_Personal\\Projects\\markets-data-manager\\test\\equity.ipynb Cell 30\u001b[0m line \u001b[0;36mget_signal_results\u001b[1;34m(data, signal_col, groupby_col)\u001b[0m\n\u001b[0;32m      <a href='vscode-notebook-cell:/c%3A/Data/_Personal/Projects/markets-data-manager/test/equity.ipynb#X42sZmlsZQ%3D%3D?line=0'>1</a>\u001b[0m \u001b[39mdef\u001b[39;00m \u001b[39mget_signal_results\u001b[39m(data: pd\u001b[39m.\u001b[39mDataFrame, signal_col: \u001b[39mstr\u001b[39m, groupby_col: \u001b[39mstr\u001b[39m \u001b[39m=\u001b[39m CalculatedColumns\u001b[39m.\u001b[39mYear):\n\u001b[0;32m      <a href='vscode-notebook-cell:/c%3A/Data/_Personal/Projects/markets-data-manager/test/equity.ipynb#X42sZmlsZQ%3D%3D?line=1'>2</a>\u001b[0m   signal_data \u001b[39m=\u001b[39m data[(data[signal_col] \u001b[39m==\u001b[39m \u001b[39mTrue\u001b[39;00m)\n\u001b[0;32m      <a href='vscode-notebook-cell:/c%3A/Data/_Personal/Projects/markets-data-manager/test/equity.ipynb#X42sZmlsZQ%3D%3D?line=2'>3</a>\u001b[0m     \u001b[39m&\u001b[39m\n\u001b[0;32m      <a href='vscode-notebook-cell:/c%3A/Data/_Personal/Projects/markets-data-manager/test/equity.ipynb#X42sZmlsZQ%3D%3D?line=3'>4</a>\u001b[0m     (data[CalculatedColumns\u001b[39m.\u001b[39mIsInDerivatives] \u001b[39m==\u001b[39m \u001b[39mTrue\u001b[39;00m)\n\u001b[0;32m      <a href='vscode-notebook-cell:/c%3A/Data/_Personal/Projects/markets-data-manager/test/equity.ipynb#X42sZmlsZQ%3D%3D?line=4'>5</a>\u001b[0m   ]\n\u001b[1;32m----> <a href='vscode-notebook-cell:/c%3A/Data/_Personal/Projects/markets-data-manager/test/equity.ipynb#X42sZmlsZQ%3D%3D?line=5'>6</a>\u001b[0m   signal_results \u001b[39m=\u001b[39m get_n_days_wise_data(signal_data, groupby_col)\n\u001b[0;32m      <a href='vscode-notebook-cell:/c%3A/Data/_Personal/Projects/markets-data-manager/test/equity.ipynb#X42sZmlsZQ%3D%3D?line=6'>7</a>\u001b[0m   \u001b[39mreturn\u001b[39;00m signal_results\n",
      "\u001b[1;32mc:\\Data\\_Personal\\Projects\\markets-data-manager\\test\\equity.ipynb Cell 30\u001b[0m line \u001b[0;36mget_n_days_wise_data\u001b[1;34m(data, groupby_col)\u001b[0m\n\u001b[0;32m     <a href='vscode-notebook-cell:/c%3A/Data/_Personal/Projects/markets-data-manager/test/equity.ipynb#X42sZmlsZQ%3D%3D?line=26'>27</a>\u001b[0m   \u001b[39mreturn\u001b[39;00m data\n\u001b[0;32m     <a href='vscode-notebook-cell:/c%3A/Data/_Personal/Projects/markets-data-manager/test/equity.ipynb#X42sZmlsZQ%3D%3D?line=27'>28</a>\u001b[0m \u001b[39melse\u001b[39;00m:\n\u001b[1;32m---> <a href='vscode-notebook-cell:/c%3A/Data/_Personal/Projects/markets-data-manager/test/equity.ipynb#X42sZmlsZQ%3D%3D?line=28'>29</a>\u001b[0m   \u001b[39mreturn\u001b[39;00m data\u001b[39m.\u001b[39;49msort_values(groupby_col)\n",
      "File \u001b[1;32mc:\\Users\\NRohra\\Anaconda3\\lib\\site-packages\\pandas\\util\\_decorators.py:331\u001b[0m, in \u001b[0;36mdeprecate_nonkeyword_arguments.<locals>.decorate.<locals>.wrapper\u001b[1;34m(*args, **kwargs)\u001b[0m\n\u001b[0;32m    325\u001b[0m \u001b[39mif\u001b[39;00m \u001b[39mlen\u001b[39m(args) \u001b[39m>\u001b[39m num_allow_args:\n\u001b[0;32m    326\u001b[0m     warnings\u001b[39m.\u001b[39mwarn(\n\u001b[0;32m    327\u001b[0m         msg\u001b[39m.\u001b[39mformat(arguments\u001b[39m=\u001b[39m_format_argument_list(allow_args)),\n\u001b[0;32m    328\u001b[0m         \u001b[39mFutureWarning\u001b[39;00m,\n\u001b[0;32m    329\u001b[0m         stacklevel\u001b[39m=\u001b[39mfind_stack_level(),\n\u001b[0;32m    330\u001b[0m     )\n\u001b[1;32m--> 331\u001b[0m \u001b[39mreturn\u001b[39;00m func(\u001b[39m*\u001b[39margs, \u001b[39m*\u001b[39m\u001b[39m*\u001b[39mkwargs)\n",
      "File \u001b[1;32mc:\\Users\\NRohra\\Anaconda3\\lib\\site-packages\\pandas\\core\\frame.py:6912\u001b[0m, in \u001b[0;36mDataFrame.sort_values\u001b[1;34m(self, by, axis, ascending, inplace, kind, na_position, ignore_index, key)\u001b[0m\n\u001b[0;32m   6908\u001b[0m \u001b[39melif\u001b[39;00m \u001b[39mlen\u001b[39m(by):\n\u001b[0;32m   6909\u001b[0m     \u001b[39m# len(by) == 1\u001b[39;00m\n\u001b[0;32m   6911\u001b[0m     by \u001b[39m=\u001b[39m by[\u001b[39m0\u001b[39m]\n\u001b[1;32m-> 6912\u001b[0m     k \u001b[39m=\u001b[39m \u001b[39mself\u001b[39;49m\u001b[39m.\u001b[39;49m_get_label_or_level_values(by, axis\u001b[39m=\u001b[39;49maxis)\n\u001b[0;32m   6914\u001b[0m     \u001b[39m# need to rewrap column in Series to apply key function\u001b[39;00m\n\u001b[0;32m   6915\u001b[0m     \u001b[39mif\u001b[39;00m key \u001b[39mis\u001b[39;00m \u001b[39mnot\u001b[39;00m \u001b[39mNone\u001b[39;00m:\n\u001b[0;32m   6916\u001b[0m         \u001b[39m# error: Incompatible types in assignment (expression has type\u001b[39;00m\n\u001b[0;32m   6917\u001b[0m         \u001b[39m# \"Series\", variable has type \"ndarray\")\u001b[39;00m\n",
      "File \u001b[1;32mc:\\Users\\NRohra\\Anaconda3\\lib\\site-packages\\pandas\\core\\generic.py:1850\u001b[0m, in \u001b[0;36mNDFrame._get_label_or_level_values\u001b[1;34m(self, key, axis)\u001b[0m\n\u001b[0;32m   1844\u001b[0m     values \u001b[39m=\u001b[39m (\n\u001b[0;32m   1845\u001b[0m         \u001b[39mself\u001b[39m\u001b[39m.\u001b[39maxes[axis]\n\u001b[0;32m   1846\u001b[0m         \u001b[39m.\u001b[39mget_level_values(key)  \u001b[39m# type: ignore[assignment]\u001b[39;00m\n\u001b[0;32m   1847\u001b[0m         \u001b[39m.\u001b[39m_values\n\u001b[0;32m   1848\u001b[0m     )\n\u001b[0;32m   1849\u001b[0m \u001b[39melse\u001b[39;00m:\n\u001b[1;32m-> 1850\u001b[0m     \u001b[39mraise\u001b[39;00m \u001b[39mKeyError\u001b[39;00m(key)\n\u001b[0;32m   1852\u001b[0m \u001b[39m# Check for duplicates\u001b[39;00m\n\u001b[0;32m   1853\u001b[0m \u001b[39mif\u001b[39;00m values\u001b[39m.\u001b[39mndim \u001b[39m>\u001b[39m \u001b[39m1\u001b[39m:\n",
      "\u001b[1;31mKeyError\u001b[0m: 'Year'"
     ]
    }
   ],
   "source": [
    "buy_signal_result, sell_signal_result = get_buy_sell_signal_results(\n",
    "  daily_data, \n",
    "  'PriceCrossedBelowSma200', \n",
    "  'PriceCrossedAboveSma200', \n",
    "  CalculatedColumns.Year\n",
    ")"
   ]
  },
  {
   "cell_type": "markdown",
   "metadata": {},
   "source": [
    "#### Stochastic RSI "
   ]
  },
  {
   "cell_type": "code",
   "execution_count": 57,
   "metadata": {},
   "outputs": [
    {
     "name": "stdout",
     "output_type": "stream",
     "text": [
      "Buy Singal Results\n"
     ]
    },
    {
     "data": {
      "text/html": [
       "<div>\n",
       "<style scoped>\n",
       "    .dataframe tbody tr th:only-of-type {\n",
       "        vertical-align: middle;\n",
       "    }\n",
       "\n",
       "    .dataframe tbody tr th {\n",
       "        vertical-align: top;\n",
       "    }\n",
       "\n",
       "    .dataframe thead th {\n",
       "        text-align: right;\n",
       "    }\n",
       "</style>\n",
       "<table border=\"1\" class=\"dataframe\">\n",
       "  <thead>\n",
       "    <tr style=\"text-align: right;\">\n",
       "      <th></th>\n",
       "      <th>Year</th>\n",
       "      <th>Next1Days</th>\n",
       "      <th>Next2Days</th>\n",
       "      <th>Next3Days</th>\n",
       "      <th>Next4Days</th>\n",
       "      <th>Next5Days</th>\n",
       "      <th>Next6Days</th>\n",
       "      <th>Next7Days</th>\n",
       "      <th>Next8Days</th>\n",
       "      <th>Next9Days</th>\n",
       "      <th>Next10Days</th>\n",
       "    </tr>\n",
       "  </thead>\n",
       "  <tbody>\n",
       "    <tr>\n",
       "      <th>HighestPercFall</th>\n",
       "      <td>2023</td>\n",
       "      <td>-0.239542</td>\n",
       "      <td>1.642174</td>\n",
       "      <td>1.711122</td>\n",
       "      <td>NaN</td>\n",
       "      <td>NaN</td>\n",
       "      <td>NaN</td>\n",
       "      <td>NaN</td>\n",
       "      <td>NaN</td>\n",
       "      <td>NaN</td>\n",
       "      <td>NaN</td>\n",
       "    </tr>\n",
       "    <tr>\n",
       "      <th>HighestPercRise</th>\n",
       "      <td>2023</td>\n",
       "      <td>3.007575</td>\n",
       "      <td>2.037645</td>\n",
       "      <td>1.948379</td>\n",
       "      <td>NaN</td>\n",
       "      <td>NaN</td>\n",
       "      <td>NaN</td>\n",
       "      <td>NaN</td>\n",
       "      <td>NaN</td>\n",
       "      <td>NaN</td>\n",
       "      <td>NaN</td>\n",
       "    </tr>\n",
       "  </tbody>\n",
       "</table>\n",
       "</div>"
      ],
      "text/plain": [
       "                 Year  Next1Days  Next2Days  Next3Days  Next4Days  Next5Days  \\\n",
       "HighestPercFall  2023  -0.239542   1.642174   1.711122        NaN        NaN   \n",
       "HighestPercRise  2023   3.007575   2.037645   1.948379        NaN        NaN   \n",
       "\n",
       "                 Next6Days  Next7Days  Next8Days  Next9Days  Next10Days  \n",
       "HighestPercFall        NaN        NaN        NaN        NaN         NaN  \n",
       "HighestPercRise        NaN        NaN        NaN        NaN         NaN  "
      ]
     },
     "metadata": {},
     "output_type": "display_data"
    },
    {
     "name": "stdout",
     "output_type": "stream",
     "text": [
      "Sell Singal Results\n"
     ]
    },
    {
     "data": {
      "text/html": [
       "<div>\n",
       "<style scoped>\n",
       "    .dataframe tbody tr th:only-of-type {\n",
       "        vertical-align: middle;\n",
       "    }\n",
       "\n",
       "    .dataframe tbody tr th {\n",
       "        vertical-align: top;\n",
       "    }\n",
       "\n",
       "    .dataframe thead th {\n",
       "        text-align: right;\n",
       "    }\n",
       "</style>\n",
       "<table border=\"1\" class=\"dataframe\">\n",
       "  <thead>\n",
       "    <tr style=\"text-align: right;\">\n",
       "      <th></th>\n",
       "      <th>Year</th>\n",
       "      <th>Next1Days</th>\n",
       "      <th>Next2Days</th>\n",
       "      <th>Next3Days</th>\n",
       "      <th>Next4Days</th>\n",
       "      <th>Next5Days</th>\n",
       "      <th>Next6Days</th>\n",
       "      <th>Next7Days</th>\n",
       "      <th>Next8Days</th>\n",
       "      <th>Next9Days</th>\n",
       "      <th>Next10Days</th>\n",
       "    </tr>\n",
       "  </thead>\n",
       "  <tbody>\n",
       "    <tr>\n",
       "      <th>HighestPercFall</th>\n",
       "      <td>2023</td>\n",
       "      <td>1.957151</td>\n",
       "      <td>2.866034</td>\n",
       "      <td>3.271155</td>\n",
       "      <td>NaN</td>\n",
       "      <td>NaN</td>\n",
       "      <td>NaN</td>\n",
       "      <td>NaN</td>\n",
       "      <td>NaN</td>\n",
       "      <td>NaN</td>\n",
       "      <td>NaN</td>\n",
       "    </tr>\n",
       "    <tr>\n",
       "      <th>HighestPercRise</th>\n",
       "      <td>2023</td>\n",
       "      <td>0.469838</td>\n",
       "      <td>0.727584</td>\n",
       "      <td>1.337823</td>\n",
       "      <td>NaN</td>\n",
       "      <td>NaN</td>\n",
       "      <td>NaN</td>\n",
       "      <td>NaN</td>\n",
       "      <td>NaN</td>\n",
       "      <td>NaN</td>\n",
       "      <td>NaN</td>\n",
       "    </tr>\n",
       "  </tbody>\n",
       "</table>\n",
       "</div>"
      ],
      "text/plain": [
       "                 Year  Next1Days  Next2Days  Next3Days  Next4Days  Next5Days  \\\n",
       "HighestPercFall  2023   1.957151   2.866034   3.271155        NaN        NaN   \n",
       "HighestPercRise  2023   0.469838   0.727584   1.337823        NaN        NaN   \n",
       "\n",
       "                 Next6Days  Next7Days  Next8Days  Next9Days  Next10Days  \n",
       "HighestPercFall        NaN        NaN        NaN        NaN         NaN  \n",
       "HighestPercRise        NaN        NaN        NaN        NaN         NaN  "
      ]
     },
     "metadata": {},
     "output_type": "display_data"
    },
    {
     "data": {
      "text/plain": [
       "(                 Year  Next1Days  Next2Days  Next3Days  Next4Days  Next5Days  \\\n",
       " HighestPercFall  2023  -0.239542   1.642174   1.711122        NaN        NaN   \n",
       " HighestPercRise  2023   3.007575   2.037645   1.948379        NaN        NaN   \n",
       " \n",
       "                  Next6Days  Next7Days  Next8Days  Next9Days  Next10Days  \n",
       " HighestPercFall        NaN        NaN        NaN        NaN         NaN  \n",
       " HighestPercRise        NaN        NaN        NaN        NaN         NaN  ,\n",
       "                  Year  Next1Days  Next2Days  Next3Days  Next4Days  Next5Days  \\\n",
       " HighestPercFall  2023   1.957151   2.866034   3.271155        NaN        NaN   \n",
       " HighestPercRise  2023   0.469838   0.727584   1.337823        NaN        NaN   \n",
       " \n",
       "                  Next6Days  Next7Days  Next8Days  Next9Days  Next10Days  \n",
       " HighestPercFall        NaN        NaN        NaN        NaN         NaN  \n",
       " HighestPercRise        NaN        NaN        NaN        NaN         NaN  )"
      ]
     },
     "execution_count": 57,
     "metadata": {},
     "output_type": "execute_result"
    }
   ],
   "source": [
    "get_buy_sell_signal_results(daily_data, \n",
    "  CalculatedColumns.StochRsi_KCrossedBelow, CalculatedColumns.StochRsi_KCrossedAbove,\n",
    "  CalculatedColumns.Year\n",
    ")"
   ]
  },
  {
   "cell_type": "markdown",
   "metadata": {},
   "source": [
    "#### VWAP"
   ]
  },
  {
   "cell_type": "code",
   "execution_count": 58,
   "metadata": {},
   "outputs": [
    {
     "name": "stdout",
     "output_type": "stream",
     "text": [
      "Sell Singal Results\n"
     ]
    },
    {
     "data": {
      "text/html": [
       "<div>\n",
       "<style scoped>\n",
       "    .dataframe tbody tr th:only-of-type {\n",
       "        vertical-align: middle;\n",
       "    }\n",
       "\n",
       "    .dataframe tbody tr th {\n",
       "        vertical-align: top;\n",
       "    }\n",
       "\n",
       "    .dataframe thead th {\n",
       "        text-align: right;\n",
       "    }\n",
       "</style>\n",
       "<table border=\"1\" class=\"dataframe\">\n",
       "  <thead>\n",
       "    <tr style=\"text-align: right;\">\n",
       "      <th></th>\n",
       "      <th>Year</th>\n",
       "      <th>Next1Days</th>\n",
       "      <th>Next2Days</th>\n",
       "      <th>Next3Days</th>\n",
       "      <th>Next4Days</th>\n",
       "      <th>Next5Days</th>\n",
       "      <th>Next6Days</th>\n",
       "      <th>Next7Days</th>\n",
       "      <th>Next8Days</th>\n",
       "      <th>Next9Days</th>\n",
       "      <th>Next10Days</th>\n",
       "    </tr>\n",
       "  </thead>\n",
       "  <tbody>\n",
       "    <tr>\n",
       "      <th>HighestPercFall</th>\n",
       "      <td>2023</td>\n",
       "      <td>1.062867</td>\n",
       "      <td>1.436602</td>\n",
       "      <td>1.769970</td>\n",
       "      <td>1.967932</td>\n",
       "      <td>2.137148</td>\n",
       "      <td>2.344614</td>\n",
       "      <td>2.639041</td>\n",
       "      <td>2.846505</td>\n",
       "      <td>3.020398</td>\n",
       "      <td>3.268372</td>\n",
       "    </tr>\n",
       "    <tr>\n",
       "      <th>HighestPercRise</th>\n",
       "      <td>2023</td>\n",
       "      <td>0.789810</td>\n",
       "      <td>1.255407</td>\n",
       "      <td>1.590051</td>\n",
       "      <td>1.913440</td>\n",
       "      <td>2.220717</td>\n",
       "      <td>2.339601</td>\n",
       "      <td>2.601888</td>\n",
       "      <td>2.692834</td>\n",
       "      <td>2.993186</td>\n",
       "      <td>3.024194</td>\n",
       "    </tr>\n",
       "  </tbody>\n",
       "</table>\n",
       "</div>"
      ],
      "text/plain": [
       "                 Year  Next1Days  Next2Days  Next3Days  Next4Days  Next5Days  \\\n",
       "HighestPercFall  2023   1.062867   1.436602   1.769970   1.967932   2.137148   \n",
       "HighestPercRise  2023   0.789810   1.255407   1.590051   1.913440   2.220717   \n",
       "\n",
       "                 Next6Days  Next7Days  Next8Days  Next9Days  Next10Days  \n",
       "HighestPercFall   2.344614   2.639041   2.846505   3.020398    3.268372  \n",
       "HighestPercRise   2.339601   2.601888   2.692834   2.993186    3.024194  "
      ]
     },
     "metadata": {},
     "output_type": "display_data"
    }
   ],
   "source": [
    "buy_signal_results, sell_signal_results = get_buy_sell_signal_results(daily_data, \n",
    "  None, CalculatedColumns.PriceCrossedAboveVwap,\n",
    "  CalculatedColumns.Year\n",
    ")"
   ]
  },
  {
   "cell_type": "markdown",
   "metadata": {},
   "source": [
    "#### BB"
   ]
  },
  {
   "cell_type": "code",
   "execution_count": 59,
   "metadata": {},
   "outputs": [
    {
     "ename": "KeyError",
     "evalue": "'Year'",
     "output_type": "error",
     "traceback": [
      "\u001b[1;31m---------------------------------------------------------------------------\u001b[0m",
      "\u001b[1;31mKeyError\u001b[0m                                  Traceback (most recent call last)",
      "\u001b[1;32mc:\\Data\\_Personal\\Projects\\markets-data-manager\\test\\equity.ipynb Cell 36\u001b[0m line \u001b[0;36m<cell line: 1>\u001b[1;34m()\u001b[0m\n\u001b[1;32m----> <a href='vscode-notebook-cell:/c%3A/Data/_Personal/Projects/markets-data-manager/test/equity.ipynb#X51sZmlsZQ%3D%3D?line=0'>1</a>\u001b[0m buy_signal_results, sell_signal_results \u001b[39m=\u001b[39m get_buy_sell_signal_results(daily_data, \n\u001b[0;32m      <a href='vscode-notebook-cell:/c%3A/Data/_Personal/Projects/markets-data-manager/test/equity.ipynb#X51sZmlsZQ%3D%3D?line=1'>2</a>\u001b[0m   \u001b[39m'\u001b[39;49m\u001b[39mPriceCrossedBelowBb200Dev3Lower\u001b[39;49m\u001b[39m'\u001b[39;49m, \u001b[39m'\u001b[39;49m\u001b[39mPriceCrossedAboveBb200Dev3Upper\u001b[39;49m\u001b[39m'\u001b[39;49m,\n\u001b[0;32m      <a href='vscode-notebook-cell:/c%3A/Data/_Personal/Projects/markets-data-manager/test/equity.ipynb#X51sZmlsZQ%3D%3D?line=2'>3</a>\u001b[0m   CalculatedColumns\u001b[39m.\u001b[39;49mYear\n\u001b[0;32m      <a href='vscode-notebook-cell:/c%3A/Data/_Personal/Projects/markets-data-manager/test/equity.ipynb#X51sZmlsZQ%3D%3D?line=3'>4</a>\u001b[0m )\n",
      "\u001b[1;32mc:\\Data\\_Personal\\Projects\\markets-data-manager\\test\\equity.ipynb Cell 36\u001b[0m line \u001b[0;36mget_buy_sell_signal_results\u001b[1;34m(data, buy_signal_col, sell_signal_col, groupby_col)\u001b[0m\n\u001b[0;32m     <a href='vscode-notebook-cell:/c%3A/Data/_Personal/Projects/markets-data-manager/test/equity.ipynb#X51sZmlsZQ%3D%3D?line=12'>13</a>\u001b[0m sell_signal_results \u001b[39m=\u001b[39m \u001b[39mNone\u001b[39;00m\n\u001b[0;32m     <a href='vscode-notebook-cell:/c%3A/Data/_Personal/Projects/markets-data-manager/test/equity.ipynb#X51sZmlsZQ%3D%3D?line=14'>15</a>\u001b[0m \u001b[39mif\u001b[39;00m buy_signal_col \u001b[39mis\u001b[39;00m \u001b[39mnot\u001b[39;00m \u001b[39mNone\u001b[39;00m:\n\u001b[1;32m---> <a href='vscode-notebook-cell:/c%3A/Data/_Personal/Projects/markets-data-manager/test/equity.ipynb#X51sZmlsZQ%3D%3D?line=15'>16</a>\u001b[0m   buy_signal_results \u001b[39m=\u001b[39m get_signal_results(data, buy_signal_col, groupby_col)\n\u001b[0;32m     <a href='vscode-notebook-cell:/c%3A/Data/_Personal/Projects/markets-data-manager/test/equity.ipynb#X51sZmlsZQ%3D%3D?line=16'>17</a>\u001b[0m   \u001b[39mprint\u001b[39m(\u001b[39m'\u001b[39m\u001b[39mBuy Singal Results\u001b[39m\u001b[39m'\u001b[39m)\n\u001b[0;32m     <a href='vscode-notebook-cell:/c%3A/Data/_Personal/Projects/markets-data-manager/test/equity.ipynb#X51sZmlsZQ%3D%3D?line=17'>18</a>\u001b[0m   display(buy_signal_results)\n",
      "\u001b[1;32mc:\\Data\\_Personal\\Projects\\markets-data-manager\\test\\equity.ipynb Cell 36\u001b[0m line \u001b[0;36mget_signal_results\u001b[1;34m(data, signal_col, groupby_col)\u001b[0m\n\u001b[0;32m      <a href='vscode-notebook-cell:/c%3A/Data/_Personal/Projects/markets-data-manager/test/equity.ipynb#X51sZmlsZQ%3D%3D?line=0'>1</a>\u001b[0m \u001b[39mdef\u001b[39;00m \u001b[39mget_signal_results\u001b[39m(data: pd\u001b[39m.\u001b[39mDataFrame, signal_col: \u001b[39mstr\u001b[39m, groupby_col: \u001b[39mstr\u001b[39m \u001b[39m=\u001b[39m CalculatedColumns\u001b[39m.\u001b[39mYear):\n\u001b[0;32m      <a href='vscode-notebook-cell:/c%3A/Data/_Personal/Projects/markets-data-manager/test/equity.ipynb#X51sZmlsZQ%3D%3D?line=1'>2</a>\u001b[0m   signal_data \u001b[39m=\u001b[39m data[(data[signal_col] \u001b[39m==\u001b[39m \u001b[39mTrue\u001b[39;00m)\n\u001b[0;32m      <a href='vscode-notebook-cell:/c%3A/Data/_Personal/Projects/markets-data-manager/test/equity.ipynb#X51sZmlsZQ%3D%3D?line=2'>3</a>\u001b[0m     \u001b[39m&\u001b[39m\n\u001b[0;32m      <a href='vscode-notebook-cell:/c%3A/Data/_Personal/Projects/markets-data-manager/test/equity.ipynb#X51sZmlsZQ%3D%3D?line=3'>4</a>\u001b[0m     (data[CalculatedColumns\u001b[39m.\u001b[39mIsInDerivatives] \u001b[39m==\u001b[39m \u001b[39mTrue\u001b[39;00m)\n\u001b[0;32m      <a href='vscode-notebook-cell:/c%3A/Data/_Personal/Projects/markets-data-manager/test/equity.ipynb#X51sZmlsZQ%3D%3D?line=4'>5</a>\u001b[0m   ]\n\u001b[1;32m----> <a href='vscode-notebook-cell:/c%3A/Data/_Personal/Projects/markets-data-manager/test/equity.ipynb#X51sZmlsZQ%3D%3D?line=5'>6</a>\u001b[0m   signal_results \u001b[39m=\u001b[39m get_n_days_wise_data(signal_data, groupby_col)\n\u001b[0;32m      <a href='vscode-notebook-cell:/c%3A/Data/_Personal/Projects/markets-data-manager/test/equity.ipynb#X51sZmlsZQ%3D%3D?line=6'>7</a>\u001b[0m   \u001b[39mreturn\u001b[39;00m signal_results\n",
      "\u001b[1;32mc:\\Data\\_Personal\\Projects\\markets-data-manager\\test\\equity.ipynb Cell 36\u001b[0m line \u001b[0;36mget_n_days_wise_data\u001b[1;34m(data, groupby_col)\u001b[0m\n\u001b[0;32m     <a href='vscode-notebook-cell:/c%3A/Data/_Personal/Projects/markets-data-manager/test/equity.ipynb#X51sZmlsZQ%3D%3D?line=26'>27</a>\u001b[0m   \u001b[39mreturn\u001b[39;00m data\n\u001b[0;32m     <a href='vscode-notebook-cell:/c%3A/Data/_Personal/Projects/markets-data-manager/test/equity.ipynb#X51sZmlsZQ%3D%3D?line=27'>28</a>\u001b[0m \u001b[39melse\u001b[39;00m:\n\u001b[1;32m---> <a href='vscode-notebook-cell:/c%3A/Data/_Personal/Projects/markets-data-manager/test/equity.ipynb#X51sZmlsZQ%3D%3D?line=28'>29</a>\u001b[0m   \u001b[39mreturn\u001b[39;00m data\u001b[39m.\u001b[39;49msort_values(groupby_col)\n",
      "File \u001b[1;32mc:\\Users\\NRohra\\Anaconda3\\lib\\site-packages\\pandas\\util\\_decorators.py:331\u001b[0m, in \u001b[0;36mdeprecate_nonkeyword_arguments.<locals>.decorate.<locals>.wrapper\u001b[1;34m(*args, **kwargs)\u001b[0m\n\u001b[0;32m    325\u001b[0m \u001b[39mif\u001b[39;00m \u001b[39mlen\u001b[39m(args) \u001b[39m>\u001b[39m num_allow_args:\n\u001b[0;32m    326\u001b[0m     warnings\u001b[39m.\u001b[39mwarn(\n\u001b[0;32m    327\u001b[0m         msg\u001b[39m.\u001b[39mformat(arguments\u001b[39m=\u001b[39m_format_argument_list(allow_args)),\n\u001b[0;32m    328\u001b[0m         \u001b[39mFutureWarning\u001b[39;00m,\n\u001b[0;32m    329\u001b[0m         stacklevel\u001b[39m=\u001b[39mfind_stack_level(),\n\u001b[0;32m    330\u001b[0m     )\n\u001b[1;32m--> 331\u001b[0m \u001b[39mreturn\u001b[39;00m func(\u001b[39m*\u001b[39margs, \u001b[39m*\u001b[39m\u001b[39m*\u001b[39mkwargs)\n",
      "File \u001b[1;32mc:\\Users\\NRohra\\Anaconda3\\lib\\site-packages\\pandas\\core\\frame.py:6912\u001b[0m, in \u001b[0;36mDataFrame.sort_values\u001b[1;34m(self, by, axis, ascending, inplace, kind, na_position, ignore_index, key)\u001b[0m\n\u001b[0;32m   6908\u001b[0m \u001b[39melif\u001b[39;00m \u001b[39mlen\u001b[39m(by):\n\u001b[0;32m   6909\u001b[0m     \u001b[39m# len(by) == 1\u001b[39;00m\n\u001b[0;32m   6911\u001b[0m     by \u001b[39m=\u001b[39m by[\u001b[39m0\u001b[39m]\n\u001b[1;32m-> 6912\u001b[0m     k \u001b[39m=\u001b[39m \u001b[39mself\u001b[39;49m\u001b[39m.\u001b[39;49m_get_label_or_level_values(by, axis\u001b[39m=\u001b[39;49maxis)\n\u001b[0;32m   6914\u001b[0m     \u001b[39m# need to rewrap column in Series to apply key function\u001b[39;00m\n\u001b[0;32m   6915\u001b[0m     \u001b[39mif\u001b[39;00m key \u001b[39mis\u001b[39;00m \u001b[39mnot\u001b[39;00m \u001b[39mNone\u001b[39;00m:\n\u001b[0;32m   6916\u001b[0m         \u001b[39m# error: Incompatible types in assignment (expression has type\u001b[39;00m\n\u001b[0;32m   6917\u001b[0m         \u001b[39m# \"Series\", variable has type \"ndarray\")\u001b[39;00m\n",
      "File \u001b[1;32mc:\\Users\\NRohra\\Anaconda3\\lib\\site-packages\\pandas\\core\\generic.py:1850\u001b[0m, in \u001b[0;36mNDFrame._get_label_or_level_values\u001b[1;34m(self, key, axis)\u001b[0m\n\u001b[0;32m   1844\u001b[0m     values \u001b[39m=\u001b[39m (\n\u001b[0;32m   1845\u001b[0m         \u001b[39mself\u001b[39m\u001b[39m.\u001b[39maxes[axis]\n\u001b[0;32m   1846\u001b[0m         \u001b[39m.\u001b[39mget_level_values(key)  \u001b[39m# type: ignore[assignment]\u001b[39;00m\n\u001b[0;32m   1847\u001b[0m         \u001b[39m.\u001b[39m_values\n\u001b[0;32m   1848\u001b[0m     )\n\u001b[0;32m   1849\u001b[0m \u001b[39melse\u001b[39;00m:\n\u001b[1;32m-> 1850\u001b[0m     \u001b[39mraise\u001b[39;00m \u001b[39mKeyError\u001b[39;00m(key)\n\u001b[0;32m   1852\u001b[0m \u001b[39m# Check for duplicates\u001b[39;00m\n\u001b[0;32m   1853\u001b[0m \u001b[39mif\u001b[39;00m values\u001b[39m.\u001b[39mndim \u001b[39m>\u001b[39m \u001b[39m1\u001b[39m:\n",
      "\u001b[1;31mKeyError\u001b[0m: 'Year'"
     ]
    }
   ],
   "source": [
    "buy_signal_results, sell_signal_results = get_buy_sell_signal_results(daily_data, \n",
    "  'PriceCrossedBelowBb200Dev3Lower', 'PriceCrossedAboveBb200Dev3Upper',\n",
    "  CalculatedColumns.Year\n",
    ")"
   ]
  },
  {
   "cell_type": "markdown",
   "metadata": {},
   "source": [
    "#### Price change correlation"
   ]
  },
  {
   "cell_type": "code",
   "execution_count": 60,
   "metadata": {},
   "outputs": [],
   "source": [
    "get_fwd_looking_price_fall_cols, get_fwd_looking_price_rise_cols = get_fwd_looking_price_cols(daily_data)"
   ]
  },
  {
   "cell_type": "code",
   "execution_count": 61,
   "metadata": {},
   "outputs": [
    {
     "data": {
      "text/html": [
       "<div>\n",
       "<style scoped>\n",
       "    .dataframe tbody tr th:only-of-type {\n",
       "        vertical-align: middle;\n",
       "    }\n",
       "\n",
       "    .dataframe tbody tr th {\n",
       "        vertical-align: top;\n",
       "    }\n",
       "\n",
       "    .dataframe thead th {\n",
       "        text-align: right;\n",
       "    }\n",
       "</style>\n",
       "<table border=\"1\" class=\"dataframe\">\n",
       "  <thead>\n",
       "    <tr style=\"text-align: right;\">\n",
       "      <th></th>\n",
       "      <th>PriceCrossedAboveSma50</th>\n",
       "      <th>PriceFellMoreThanThresholdPerc</th>\n",
       "    </tr>\n",
       "  </thead>\n",
       "  <tbody>\n",
       "    <tr>\n",
       "      <th>PriceCrossedAboveSma50</th>\n",
       "      <td>NaN</td>\n",
       "      <td>NaN</td>\n",
       "    </tr>\n",
       "    <tr>\n",
       "      <th>PriceFellMoreThanThresholdPerc</th>\n",
       "      <td>NaN</td>\n",
       "      <td>1.0</td>\n",
       "    </tr>\n",
       "  </tbody>\n",
       "</table>\n",
       "</div>"
      ],
      "text/plain": [
       "                                PriceCrossedAboveSma50  \\\n",
       "PriceCrossedAboveSma50                             NaN   \n",
       "PriceFellMoreThanThresholdPerc                     NaN   \n",
       "\n",
       "                                PriceFellMoreThanThresholdPerc  \n",
       "PriceCrossedAboveSma50                                     NaN  \n",
       "PriceFellMoreThanThresholdPerc                             1.0  "
      ]
     },
     "metadata": {},
     "output_type": "display_data"
    },
    {
     "data": {
      "text/html": [
       "<div>\n",
       "<style scoped>\n",
       "    .dataframe tbody tr th:only-of-type {\n",
       "        vertical-align: middle;\n",
       "    }\n",
       "\n",
       "    .dataframe tbody tr th {\n",
       "        vertical-align: top;\n",
       "    }\n",
       "\n",
       "    .dataframe thead th {\n",
       "        text-align: right;\n",
       "    }\n",
       "</style>\n",
       "<table border=\"1\" class=\"dataframe\">\n",
       "  <thead>\n",
       "    <tr style=\"text-align: right;\">\n",
       "      <th></th>\n",
       "      <th>PriceCrossedAboveSma100</th>\n",
       "      <th>PriceFellMoreThanThresholdPerc</th>\n",
       "    </tr>\n",
       "  </thead>\n",
       "  <tbody>\n",
       "    <tr>\n",
       "      <th>PriceCrossedAboveSma100</th>\n",
       "      <td>NaN</td>\n",
       "      <td>NaN</td>\n",
       "    </tr>\n",
       "    <tr>\n",
       "      <th>PriceFellMoreThanThresholdPerc</th>\n",
       "      <td>NaN</td>\n",
       "      <td>1.0</td>\n",
       "    </tr>\n",
       "  </tbody>\n",
       "</table>\n",
       "</div>"
      ],
      "text/plain": [
       "                                PriceCrossedAboveSma100  \\\n",
       "PriceCrossedAboveSma100                             NaN   \n",
       "PriceFellMoreThanThresholdPerc                      NaN   \n",
       "\n",
       "                                PriceFellMoreThanThresholdPerc  \n",
       "PriceCrossedAboveSma100                                    NaN  \n",
       "PriceFellMoreThanThresholdPerc                             1.0  "
      ]
     },
     "metadata": {},
     "output_type": "display_data"
    },
    {
     "data": {
      "text/html": [
       "<div>\n",
       "<style scoped>\n",
       "    .dataframe tbody tr th:only-of-type {\n",
       "        vertical-align: middle;\n",
       "    }\n",
       "\n",
       "    .dataframe tbody tr th {\n",
       "        vertical-align: top;\n",
       "    }\n",
       "\n",
       "    .dataframe thead th {\n",
       "        text-align: right;\n",
       "    }\n",
       "</style>\n",
       "<table border=\"1\" class=\"dataframe\">\n",
       "  <thead>\n",
       "    <tr style=\"text-align: right;\">\n",
       "      <th></th>\n",
       "      <th>PriceCrossedAboveSma200</th>\n",
       "      <th>PriceFellMoreThanThresholdPerc</th>\n",
       "    </tr>\n",
       "  </thead>\n",
       "  <tbody>\n",
       "    <tr>\n",
       "      <th>PriceCrossedAboveSma200</th>\n",
       "      <td>NaN</td>\n",
       "      <td>NaN</td>\n",
       "    </tr>\n",
       "    <tr>\n",
       "      <th>PriceFellMoreThanThresholdPerc</th>\n",
       "      <td>NaN</td>\n",
       "      <td>1.0</td>\n",
       "    </tr>\n",
       "  </tbody>\n",
       "</table>\n",
       "</div>"
      ],
      "text/plain": [
       "                                PriceCrossedAboveSma200  \\\n",
       "PriceCrossedAboveSma200                             NaN   \n",
       "PriceFellMoreThanThresholdPerc                      NaN   \n",
       "\n",
       "                                PriceFellMoreThanThresholdPerc  \n",
       "PriceCrossedAboveSma200                                    NaN  \n",
       "PriceFellMoreThanThresholdPerc                             1.0  "
      ]
     },
     "metadata": {},
     "output_type": "display_data"
    },
    {
     "data": {
      "text/html": [
       "<div>\n",
       "<style scoped>\n",
       "    .dataframe tbody tr th:only-of-type {\n",
       "        vertical-align: middle;\n",
       "    }\n",
       "\n",
       "    .dataframe tbody tr th {\n",
       "        vertical-align: top;\n",
       "    }\n",
       "\n",
       "    .dataframe thead th {\n",
       "        text-align: right;\n",
       "    }\n",
       "</style>\n",
       "<table border=\"1\" class=\"dataframe\">\n",
       "  <thead>\n",
       "    <tr style=\"text-align: right;\">\n",
       "      <th></th>\n",
       "      <th>PriceCrossedAboveVwap</th>\n",
       "      <th>PriceFellMoreThanThresholdPerc</th>\n",
       "    </tr>\n",
       "  </thead>\n",
       "  <tbody>\n",
       "    <tr>\n",
       "      <th>PriceCrossedAboveVwap</th>\n",
       "      <td>1.000000</td>\n",
       "      <td>0.060375</td>\n",
       "    </tr>\n",
       "    <tr>\n",
       "      <th>PriceFellMoreThanThresholdPerc</th>\n",
       "      <td>0.060375</td>\n",
       "      <td>1.000000</td>\n",
       "    </tr>\n",
       "  </tbody>\n",
       "</table>\n",
       "</div>"
      ],
      "text/plain": [
       "                                PriceCrossedAboveVwap  \\\n",
       "PriceCrossedAboveVwap                        1.000000   \n",
       "PriceFellMoreThanThresholdPerc               0.060375   \n",
       "\n",
       "                                PriceFellMoreThanThresholdPerc  \n",
       "PriceCrossedAboveVwap                                 0.060375  \n",
       "PriceFellMoreThanThresholdPerc                        1.000000  "
      ]
     },
     "metadata": {},
     "output_type": "display_data"
    },
    {
     "data": {
      "text/html": [
       "<div>\n",
       "<style scoped>\n",
       "    .dataframe tbody tr th:only-of-type {\n",
       "        vertical-align: middle;\n",
       "    }\n",
       "\n",
       "    .dataframe tbody tr th {\n",
       "        vertical-align: top;\n",
       "    }\n",
       "\n",
       "    .dataframe thead th {\n",
       "        text-align: right;\n",
       "    }\n",
       "</style>\n",
       "<table border=\"1\" class=\"dataframe\">\n",
       "  <thead>\n",
       "    <tr style=\"text-align: right;\">\n",
       "      <th></th>\n",
       "      <th>PriceCrossedAboveBb200Dev2Upper</th>\n",
       "      <th>PriceFellMoreThanThresholdPerc</th>\n",
       "    </tr>\n",
       "  </thead>\n",
       "  <tbody>\n",
       "    <tr>\n",
       "      <th>PriceCrossedAboveBb200Dev2Upper</th>\n",
       "      <td>NaN</td>\n",
       "      <td>NaN</td>\n",
       "    </tr>\n",
       "    <tr>\n",
       "      <th>PriceFellMoreThanThresholdPerc</th>\n",
       "      <td>NaN</td>\n",
       "      <td>1.0</td>\n",
       "    </tr>\n",
       "  </tbody>\n",
       "</table>\n",
       "</div>"
      ],
      "text/plain": [
       "                                 PriceCrossedAboveBb200Dev2Upper  \\\n",
       "PriceCrossedAboveBb200Dev2Upper                              NaN   \n",
       "PriceFellMoreThanThresholdPerc                               NaN   \n",
       "\n",
       "                                 PriceFellMoreThanThresholdPerc  \n",
       "PriceCrossedAboveBb200Dev2Upper                             NaN  \n",
       "PriceFellMoreThanThresholdPerc                              1.0  "
      ]
     },
     "metadata": {},
     "output_type": "display_data"
    },
    {
     "data": {
      "text/html": [
       "<div>\n",
       "<style scoped>\n",
       "    .dataframe tbody tr th:only-of-type {\n",
       "        vertical-align: middle;\n",
       "    }\n",
       "\n",
       "    .dataframe tbody tr th {\n",
       "        vertical-align: top;\n",
       "    }\n",
       "\n",
       "    .dataframe thead th {\n",
       "        text-align: right;\n",
       "    }\n",
       "</style>\n",
       "<table border=\"1\" class=\"dataframe\">\n",
       "  <thead>\n",
       "    <tr style=\"text-align: right;\">\n",
       "      <th></th>\n",
       "      <th>PriceCrossedAboveBb200Dev3Upper</th>\n",
       "      <th>PriceFellMoreThanThresholdPerc</th>\n",
       "    </tr>\n",
       "  </thead>\n",
       "  <tbody>\n",
       "    <tr>\n",
       "      <th>PriceCrossedAboveBb200Dev3Upper</th>\n",
       "      <td>NaN</td>\n",
       "      <td>NaN</td>\n",
       "    </tr>\n",
       "    <tr>\n",
       "      <th>PriceFellMoreThanThresholdPerc</th>\n",
       "      <td>NaN</td>\n",
       "      <td>1.0</td>\n",
       "    </tr>\n",
       "  </tbody>\n",
       "</table>\n",
       "</div>"
      ],
      "text/plain": [
       "                                 PriceCrossedAboveBb200Dev3Upper  \\\n",
       "PriceCrossedAboveBb200Dev3Upper                              NaN   \n",
       "PriceFellMoreThanThresholdPerc                               NaN   \n",
       "\n",
       "                                 PriceFellMoreThanThresholdPerc  \n",
       "PriceCrossedAboveBb200Dev3Upper                             NaN  \n",
       "PriceFellMoreThanThresholdPerc                              1.0  "
      ]
     },
     "metadata": {},
     "output_type": "display_data"
    },
    {
     "data": {
      "text/html": [
       "<div>\n",
       "<style scoped>\n",
       "    .dataframe tbody tr th:only-of-type {\n",
       "        vertical-align: middle;\n",
       "    }\n",
       "\n",
       "    .dataframe tbody tr th {\n",
       "        vertical-align: top;\n",
       "    }\n",
       "\n",
       "    .dataframe thead th {\n",
       "        text-align: right;\n",
       "    }\n",
       "</style>\n",
       "<table border=\"1\" class=\"dataframe\">\n",
       "  <thead>\n",
       "    <tr style=\"text-align: right;\">\n",
       "      <th></th>\n",
       "      <th>RsiCrossedAbove</th>\n",
       "      <th>PriceFellMoreThanThresholdPerc</th>\n",
       "    </tr>\n",
       "  </thead>\n",
       "  <tbody>\n",
       "    <tr>\n",
       "      <th>RsiCrossedAbove</th>\n",
       "      <td>1.000000</td>\n",
       "      <td>-0.010682</td>\n",
       "    </tr>\n",
       "    <tr>\n",
       "      <th>PriceFellMoreThanThresholdPerc</th>\n",
       "      <td>-0.010682</td>\n",
       "      <td>1.000000</td>\n",
       "    </tr>\n",
       "  </tbody>\n",
       "</table>\n",
       "</div>"
      ],
      "text/plain": [
       "                                RsiCrossedAbove  \\\n",
       "RsiCrossedAbove                        1.000000   \n",
       "PriceFellMoreThanThresholdPerc        -0.010682   \n",
       "\n",
       "                                PriceFellMoreThanThresholdPerc  \n",
       "RsiCrossedAbove                                      -0.010682  \n",
       "PriceFellMoreThanThresholdPerc                        1.000000  "
      ]
     },
     "metadata": {},
     "output_type": "display_data"
    },
    {
     "data": {
      "text/html": [
       "<div>\n",
       "<style scoped>\n",
       "    .dataframe tbody tr th:only-of-type {\n",
       "        vertical-align: middle;\n",
       "    }\n",
       "\n",
       "    .dataframe tbody tr th {\n",
       "        vertical-align: top;\n",
       "    }\n",
       "\n",
       "    .dataframe thead th {\n",
       "        text-align: right;\n",
       "    }\n",
       "</style>\n",
       "<table border=\"1\" class=\"dataframe\">\n",
       "  <thead>\n",
       "    <tr style=\"text-align: right;\">\n",
       "      <th></th>\n",
       "      <th>StochRsi_KCrossedAbove</th>\n",
       "      <th>PriceFellMoreThanThresholdPerc</th>\n",
       "    </tr>\n",
       "  </thead>\n",
       "  <tbody>\n",
       "    <tr>\n",
       "      <th>StochRsi_KCrossedAbove</th>\n",
       "      <td>1.000000</td>\n",
       "      <td>-0.019569</td>\n",
       "    </tr>\n",
       "    <tr>\n",
       "      <th>PriceFellMoreThanThresholdPerc</th>\n",
       "      <td>-0.019569</td>\n",
       "      <td>1.000000</td>\n",
       "    </tr>\n",
       "  </tbody>\n",
       "</table>\n",
       "</div>"
      ],
      "text/plain": [
       "                                StochRsi_KCrossedAbove  \\\n",
       "StochRsi_KCrossedAbove                        1.000000   \n",
       "PriceFellMoreThanThresholdPerc               -0.019569   \n",
       "\n",
       "                                PriceFellMoreThanThresholdPerc  \n",
       "StochRsi_KCrossedAbove                               -0.019569  \n",
       "PriceFellMoreThanThresholdPerc                        1.000000  "
      ]
     },
     "metadata": {},
     "output_type": "display_data"
    },
    {
     "data": {
      "text/html": [
       "<div>\n",
       "<style scoped>\n",
       "    .dataframe tbody tr th:only-of-type {\n",
       "        vertical-align: middle;\n",
       "    }\n",
       "\n",
       "    .dataframe tbody tr th {\n",
       "        vertical-align: top;\n",
       "    }\n",
       "\n",
       "    .dataframe thead th {\n",
       "        text-align: right;\n",
       "    }\n",
       "</style>\n",
       "<table border=\"1\" class=\"dataframe\">\n",
       "  <thead>\n",
       "    <tr style=\"text-align: right;\">\n",
       "      <th></th>\n",
       "      <th>StochRsi_DCrossedAbove</th>\n",
       "      <th>PriceFellMoreThanThresholdPerc</th>\n",
       "    </tr>\n",
       "  </thead>\n",
       "  <tbody>\n",
       "    <tr>\n",
       "      <th>StochRsi_DCrossedAbove</th>\n",
       "      <td>1.000000</td>\n",
       "      <td>-0.007983</td>\n",
       "    </tr>\n",
       "    <tr>\n",
       "      <th>PriceFellMoreThanThresholdPerc</th>\n",
       "      <td>-0.007983</td>\n",
       "      <td>1.000000</td>\n",
       "    </tr>\n",
       "  </tbody>\n",
       "</table>\n",
       "</div>"
      ],
      "text/plain": [
       "                                StochRsi_DCrossedAbove  \\\n",
       "StochRsi_DCrossedAbove                        1.000000   \n",
       "PriceFellMoreThanThresholdPerc               -0.007983   \n",
       "\n",
       "                                PriceFellMoreThanThresholdPerc  \n",
       "StochRsi_DCrossedAbove                               -0.007983  \n",
       "PriceFellMoreThanThresholdPerc                        1.000000  "
      ]
     },
     "metadata": {},
     "output_type": "display_data"
    }
   ],
   "source": [
    "price_fall_flag_col = 'PriceFellMoreThanThresholdPerc'\n",
    "daily_data[price_fall_flag_col] = daily_data['HighestPercFallInNext10Days'] >= 5\n",
    "\n",
    "get_price_change_correlation_to_signal(daily_data, price_fall_flag_col, 'Above')"
   ]
  },
  {
   "cell_type": "code",
   "execution_count": 62,
   "metadata": {},
   "outputs": [
    {
     "data": {
      "text/html": [
       "<div>\n",
       "<style scoped>\n",
       "    .dataframe tbody tr th:only-of-type {\n",
       "        vertical-align: middle;\n",
       "    }\n",
       "\n",
       "    .dataframe tbody tr th {\n",
       "        vertical-align: top;\n",
       "    }\n",
       "\n",
       "    .dataframe thead th {\n",
       "        text-align: right;\n",
       "    }\n",
       "</style>\n",
       "<table border=\"1\" class=\"dataframe\">\n",
       "  <thead>\n",
       "    <tr style=\"text-align: right;\">\n",
       "      <th></th>\n",
       "      <th>PriceCrossedBelowSma50</th>\n",
       "      <th>PriceRiseMoreThanThresholdPerc</th>\n",
       "    </tr>\n",
       "  </thead>\n",
       "  <tbody>\n",
       "    <tr>\n",
       "      <th>PriceCrossedBelowSma50</th>\n",
       "      <td>NaN</td>\n",
       "      <td>NaN</td>\n",
       "    </tr>\n",
       "    <tr>\n",
       "      <th>PriceRiseMoreThanThresholdPerc</th>\n",
       "      <td>NaN</td>\n",
       "      <td>1.0</td>\n",
       "    </tr>\n",
       "  </tbody>\n",
       "</table>\n",
       "</div>"
      ],
      "text/plain": [
       "                                PriceCrossedBelowSma50  \\\n",
       "PriceCrossedBelowSma50                             NaN   \n",
       "PriceRiseMoreThanThresholdPerc                     NaN   \n",
       "\n",
       "                                PriceRiseMoreThanThresholdPerc  \n",
       "PriceCrossedBelowSma50                                     NaN  \n",
       "PriceRiseMoreThanThresholdPerc                             1.0  "
      ]
     },
     "metadata": {},
     "output_type": "display_data"
    },
    {
     "data": {
      "text/html": [
       "<div>\n",
       "<style scoped>\n",
       "    .dataframe tbody tr th:only-of-type {\n",
       "        vertical-align: middle;\n",
       "    }\n",
       "\n",
       "    .dataframe tbody tr th {\n",
       "        vertical-align: top;\n",
       "    }\n",
       "\n",
       "    .dataframe thead th {\n",
       "        text-align: right;\n",
       "    }\n",
       "</style>\n",
       "<table border=\"1\" class=\"dataframe\">\n",
       "  <thead>\n",
       "    <tr style=\"text-align: right;\">\n",
       "      <th></th>\n",
       "      <th>PriceCrossedBelowSma100</th>\n",
       "      <th>PriceRiseMoreThanThresholdPerc</th>\n",
       "    </tr>\n",
       "  </thead>\n",
       "  <tbody>\n",
       "    <tr>\n",
       "      <th>PriceCrossedBelowSma100</th>\n",
       "      <td>NaN</td>\n",
       "      <td>NaN</td>\n",
       "    </tr>\n",
       "    <tr>\n",
       "      <th>PriceRiseMoreThanThresholdPerc</th>\n",
       "      <td>NaN</td>\n",
       "      <td>1.0</td>\n",
       "    </tr>\n",
       "  </tbody>\n",
       "</table>\n",
       "</div>"
      ],
      "text/plain": [
       "                                PriceCrossedBelowSma100  \\\n",
       "PriceCrossedBelowSma100                             NaN   \n",
       "PriceRiseMoreThanThresholdPerc                      NaN   \n",
       "\n",
       "                                PriceRiseMoreThanThresholdPerc  \n",
       "PriceCrossedBelowSma100                                    NaN  \n",
       "PriceRiseMoreThanThresholdPerc                             1.0  "
      ]
     },
     "metadata": {},
     "output_type": "display_data"
    },
    {
     "data": {
      "text/html": [
       "<div>\n",
       "<style scoped>\n",
       "    .dataframe tbody tr th:only-of-type {\n",
       "        vertical-align: middle;\n",
       "    }\n",
       "\n",
       "    .dataframe tbody tr th {\n",
       "        vertical-align: top;\n",
       "    }\n",
       "\n",
       "    .dataframe thead th {\n",
       "        text-align: right;\n",
       "    }\n",
       "</style>\n",
       "<table border=\"1\" class=\"dataframe\">\n",
       "  <thead>\n",
       "    <tr style=\"text-align: right;\">\n",
       "      <th></th>\n",
       "      <th>PriceCrossedBelowSma200</th>\n",
       "      <th>PriceRiseMoreThanThresholdPerc</th>\n",
       "    </tr>\n",
       "  </thead>\n",
       "  <tbody>\n",
       "    <tr>\n",
       "      <th>PriceCrossedBelowSma200</th>\n",
       "      <td>NaN</td>\n",
       "      <td>NaN</td>\n",
       "    </tr>\n",
       "    <tr>\n",
       "      <th>PriceRiseMoreThanThresholdPerc</th>\n",
       "      <td>NaN</td>\n",
       "      <td>1.0</td>\n",
       "    </tr>\n",
       "  </tbody>\n",
       "</table>\n",
       "</div>"
      ],
      "text/plain": [
       "                                PriceCrossedBelowSma200  \\\n",
       "PriceCrossedBelowSma200                             NaN   \n",
       "PriceRiseMoreThanThresholdPerc                      NaN   \n",
       "\n",
       "                                PriceRiseMoreThanThresholdPerc  \n",
       "PriceCrossedBelowSma200                                    NaN  \n",
       "PriceRiseMoreThanThresholdPerc                             1.0  "
      ]
     },
     "metadata": {},
     "output_type": "display_data"
    },
    {
     "data": {
      "text/html": [
       "<div>\n",
       "<style scoped>\n",
       "    .dataframe tbody tr th:only-of-type {\n",
       "        vertical-align: middle;\n",
       "    }\n",
       "\n",
       "    .dataframe tbody tr th {\n",
       "        vertical-align: top;\n",
       "    }\n",
       "\n",
       "    .dataframe thead th {\n",
       "        text-align: right;\n",
       "    }\n",
       "</style>\n",
       "<table border=\"1\" class=\"dataframe\">\n",
       "  <thead>\n",
       "    <tr style=\"text-align: right;\">\n",
       "      <th></th>\n",
       "      <th>PriceCrossedBelowBb200Dev2Lower</th>\n",
       "      <th>PriceRiseMoreThanThresholdPerc</th>\n",
       "    </tr>\n",
       "  </thead>\n",
       "  <tbody>\n",
       "    <tr>\n",
       "      <th>PriceCrossedBelowBb200Dev2Lower</th>\n",
       "      <td>NaN</td>\n",
       "      <td>NaN</td>\n",
       "    </tr>\n",
       "    <tr>\n",
       "      <th>PriceRiseMoreThanThresholdPerc</th>\n",
       "      <td>NaN</td>\n",
       "      <td>1.0</td>\n",
       "    </tr>\n",
       "  </tbody>\n",
       "</table>\n",
       "</div>"
      ],
      "text/plain": [
       "                                 PriceCrossedBelowBb200Dev2Lower  \\\n",
       "PriceCrossedBelowBb200Dev2Lower                              NaN   \n",
       "PriceRiseMoreThanThresholdPerc                               NaN   \n",
       "\n",
       "                                 PriceRiseMoreThanThresholdPerc  \n",
       "PriceCrossedBelowBb200Dev2Lower                             NaN  \n",
       "PriceRiseMoreThanThresholdPerc                              1.0  "
      ]
     },
     "metadata": {},
     "output_type": "display_data"
    },
    {
     "data": {
      "text/html": [
       "<div>\n",
       "<style scoped>\n",
       "    .dataframe tbody tr th:only-of-type {\n",
       "        vertical-align: middle;\n",
       "    }\n",
       "\n",
       "    .dataframe tbody tr th {\n",
       "        vertical-align: top;\n",
       "    }\n",
       "\n",
       "    .dataframe thead th {\n",
       "        text-align: right;\n",
       "    }\n",
       "</style>\n",
       "<table border=\"1\" class=\"dataframe\">\n",
       "  <thead>\n",
       "    <tr style=\"text-align: right;\">\n",
       "      <th></th>\n",
       "      <th>PriceCrossedBelowBb200Dev3Lower</th>\n",
       "      <th>PriceRiseMoreThanThresholdPerc</th>\n",
       "    </tr>\n",
       "  </thead>\n",
       "  <tbody>\n",
       "    <tr>\n",
       "      <th>PriceCrossedBelowBb200Dev3Lower</th>\n",
       "      <td>NaN</td>\n",
       "      <td>NaN</td>\n",
       "    </tr>\n",
       "    <tr>\n",
       "      <th>PriceRiseMoreThanThresholdPerc</th>\n",
       "      <td>NaN</td>\n",
       "      <td>1.0</td>\n",
       "    </tr>\n",
       "  </tbody>\n",
       "</table>\n",
       "</div>"
      ],
      "text/plain": [
       "                                 PriceCrossedBelowBb200Dev3Lower  \\\n",
       "PriceCrossedBelowBb200Dev3Lower                              NaN   \n",
       "PriceRiseMoreThanThresholdPerc                               NaN   \n",
       "\n",
       "                                 PriceRiseMoreThanThresholdPerc  \n",
       "PriceCrossedBelowBb200Dev3Lower                             NaN  \n",
       "PriceRiseMoreThanThresholdPerc                              1.0  "
      ]
     },
     "metadata": {},
     "output_type": "display_data"
    },
    {
     "data": {
      "text/html": [
       "<div>\n",
       "<style scoped>\n",
       "    .dataframe tbody tr th:only-of-type {\n",
       "        vertical-align: middle;\n",
       "    }\n",
       "\n",
       "    .dataframe tbody tr th {\n",
       "        vertical-align: top;\n",
       "    }\n",
       "\n",
       "    .dataframe thead th {\n",
       "        text-align: right;\n",
       "    }\n",
       "</style>\n",
       "<table border=\"1\" class=\"dataframe\">\n",
       "  <thead>\n",
       "    <tr style=\"text-align: right;\">\n",
       "      <th></th>\n",
       "      <th>RsiCrossedBelow</th>\n",
       "      <th>PriceRiseMoreThanThresholdPerc</th>\n",
       "    </tr>\n",
       "  </thead>\n",
       "  <tbody>\n",
       "    <tr>\n",
       "      <th>RsiCrossedBelow</th>\n",
       "      <td>1.000000</td>\n",
       "      <td>0.030483</td>\n",
       "    </tr>\n",
       "    <tr>\n",
       "      <th>PriceRiseMoreThanThresholdPerc</th>\n",
       "      <td>0.030483</td>\n",
       "      <td>1.000000</td>\n",
       "    </tr>\n",
       "  </tbody>\n",
       "</table>\n",
       "</div>"
      ],
      "text/plain": [
       "                                RsiCrossedBelow  \\\n",
       "RsiCrossedBelow                        1.000000   \n",
       "PriceRiseMoreThanThresholdPerc         0.030483   \n",
       "\n",
       "                                PriceRiseMoreThanThresholdPerc  \n",
       "RsiCrossedBelow                                       0.030483  \n",
       "PriceRiseMoreThanThresholdPerc                        1.000000  "
      ]
     },
     "metadata": {},
     "output_type": "display_data"
    },
    {
     "data": {
      "text/html": [
       "<div>\n",
       "<style scoped>\n",
       "    .dataframe tbody tr th:only-of-type {\n",
       "        vertical-align: middle;\n",
       "    }\n",
       "\n",
       "    .dataframe tbody tr th {\n",
       "        vertical-align: top;\n",
       "    }\n",
       "\n",
       "    .dataframe thead th {\n",
       "        text-align: right;\n",
       "    }\n",
       "</style>\n",
       "<table border=\"1\" class=\"dataframe\">\n",
       "  <thead>\n",
       "    <tr style=\"text-align: right;\">\n",
       "      <th></th>\n",
       "      <th>StochRsi_KCrossedBelow</th>\n",
       "      <th>PriceRiseMoreThanThresholdPerc</th>\n",
       "    </tr>\n",
       "  </thead>\n",
       "  <tbody>\n",
       "    <tr>\n",
       "      <th>StochRsi_KCrossedBelow</th>\n",
       "      <td>1.000000</td>\n",
       "      <td>-0.023304</td>\n",
       "    </tr>\n",
       "    <tr>\n",
       "      <th>PriceRiseMoreThanThresholdPerc</th>\n",
       "      <td>-0.023304</td>\n",
       "      <td>1.000000</td>\n",
       "    </tr>\n",
       "  </tbody>\n",
       "</table>\n",
       "</div>"
      ],
      "text/plain": [
       "                                StochRsi_KCrossedBelow  \\\n",
       "StochRsi_KCrossedBelow                        1.000000   \n",
       "PriceRiseMoreThanThresholdPerc               -0.023304   \n",
       "\n",
       "                                PriceRiseMoreThanThresholdPerc  \n",
       "StochRsi_KCrossedBelow                               -0.023304  \n",
       "PriceRiseMoreThanThresholdPerc                        1.000000  "
      ]
     },
     "metadata": {},
     "output_type": "display_data"
    },
    {
     "data": {
      "text/html": [
       "<div>\n",
       "<style scoped>\n",
       "    .dataframe tbody tr th:only-of-type {\n",
       "        vertical-align: middle;\n",
       "    }\n",
       "\n",
       "    .dataframe tbody tr th {\n",
       "        vertical-align: top;\n",
       "    }\n",
       "\n",
       "    .dataframe thead th {\n",
       "        text-align: right;\n",
       "    }\n",
       "</style>\n",
       "<table border=\"1\" class=\"dataframe\">\n",
       "  <thead>\n",
       "    <tr style=\"text-align: right;\">\n",
       "      <th></th>\n",
       "      <th>StochRsi_DCrossedBelow</th>\n",
       "      <th>PriceRiseMoreThanThresholdPerc</th>\n",
       "    </tr>\n",
       "  </thead>\n",
       "  <tbody>\n",
       "    <tr>\n",
       "      <th>StochRsi_DCrossedBelow</th>\n",
       "      <td>1.000000</td>\n",
       "      <td>-0.011638</td>\n",
       "    </tr>\n",
       "    <tr>\n",
       "      <th>PriceRiseMoreThanThresholdPerc</th>\n",
       "      <td>-0.011638</td>\n",
       "      <td>1.000000</td>\n",
       "    </tr>\n",
       "  </tbody>\n",
       "</table>\n",
       "</div>"
      ],
      "text/plain": [
       "                                StochRsi_DCrossedBelow  \\\n",
       "StochRsi_DCrossedBelow                        1.000000   \n",
       "PriceRiseMoreThanThresholdPerc               -0.011638   \n",
       "\n",
       "                                PriceRiseMoreThanThresholdPerc  \n",
       "StochRsi_DCrossedBelow                               -0.011638  \n",
       "PriceRiseMoreThanThresholdPerc                        1.000000  "
      ]
     },
     "metadata": {},
     "output_type": "display_data"
    }
   ],
   "source": [
    "price_rise_flag_col = 'PriceRiseMoreThanThresholdPerc'\n",
    "daily_data[price_rise_flag_col] = daily_data['HighestPercRiseInNext10Days'] >= 5\n",
    "\n",
    "get_price_change_correlation_to_signal(daily_data, price_rise_flag_col, 'Below')"
   ]
  },
  {
   "cell_type": "code",
   "execution_count": 63,
   "metadata": {},
   "outputs": [
    {
     "data": {
      "text/plain": [
       "<AxesSubplot:>"
      ]
     },
     "execution_count": 63,
     "metadata": {},
     "output_type": "execute_result"
    },
    {
     "data": {
      "image/png": "[encoded data removed]",
      "text/plain": [
       "<Figure size 432x288 with 2 Axes>"
      ]
     },
     "metadata": {
      "needs_background": "light"
     },
     "output_type": "display_data"
    }
   ],
   "source": [
    "flag_cols = [x for x in daily_data.columns if 'Above' in x]\n",
    "sns.heatmap(\n",
    "  daily_data[ \\\n",
    "    (daily_data[CalculatedColumns.IsInDerivatives] == True) \\\n",
    "  ][flag_cols + [price_fall_flag_col]].corr()[[price_fall_flag_col]]\n",
    ", annot=True)"
   ]
  },
  {
   "cell_type": "code",
   "execution_count": 64,
   "metadata": {},
   "outputs": [
    {
     "data": {
      "text/plain": [
       "<AxesSubplot:>"
      ]
     },
     "execution_count": 64,
     "metadata": {},
     "output_type": "execute_result"
    },
    {
     "data": {
      "image/png": "[encoded data removed]",
      "text/plain": [
       "<Figure size 432x288 with 2 Axes>"
      ]
     },
     "metadata": {
      "needs_background": "light"
     },
     "output_type": "display_data"
    }
   ],
   "source": [
    "flag_cols = [x for x in daily_data.columns if 'Below' in x]\n",
    "sns.heatmap(\n",
    "  daily_data[ \\\n",
    "    (daily_data[CalculatedColumns.IsInDerivatives] == True) \\\n",
    "  ][flag_cols + [price_rise_flag_col]].corr()[[price_rise_flag_col]]\n",
    ", annot=True)"
   ]
  },
  {
   "cell_type": "code",
   "execution_count": null,
   "metadata": {},
   "outputs": [
    {
     "data": {
      "text/html": [
       "<div>\n",
       "<style scoped>\n",
       "    .dataframe tbody tr th:only-of-type {\n",
       "        vertical-align: middle;\n",
       "    }\n",
       "\n",
       "    .dataframe tbody tr th {\n",
       "        vertical-align: top;\n",
       "    }\n",
       "\n",
       "    .dataframe thead th {\n",
       "        text-align: right;\n",
       "    }\n",
       "</style>\n",
       "<table border=\"1\" class=\"dataframe\">\n",
       "  <thead>\n",
       "    <tr style=\"text-align: right;\">\n",
       "      <th></th>\n",
       "      <th>RsiCrossedAndPriceAboveVwap</th>\n",
       "      <th>PriceFellMoreThanThresholdPercInNext5Days</th>\n",
       "    </tr>\n",
       "  </thead>\n",
       "  <tbody>\n",
       "    <tr>\n",
       "      <th>RsiCrossedAndPriceAboveVwap</th>\n",
       "      <td>1.000000</td>\n",
       "      <td>0.045099</td>\n",
       "    </tr>\n",
       "    <tr>\n",
       "      <th>PriceFellMoreThanThresholdPercInNext5Days</th>\n",
       "      <td>0.045099</td>\n",
       "      <td>1.000000</td>\n",
       "    </tr>\n",
       "  </tbody>\n",
       "</table>\n",
       "</div>"
      ],
      "text/plain": [
       "                                           RsiCrossedAndPriceAboveVwap  \\\n",
       "RsiCrossedAndPriceAboveVwap                                   1.000000   \n",
       "PriceFellMoreThanThresholdPercInNext5Days                     0.045099   \n",
       "\n",
       "                                           PriceFellMoreThanThresholdPercInNext5Days  \n",
       "RsiCrossedAndPriceAboveVwap                                                 0.045099  \n",
       "PriceFellMoreThanThresholdPercInNext5Days                                   1.000000  "
      ]
     },
     "execution_count": 28,
     "metadata": {},
     "output_type": "execute_result"
    }
   ],
   "source": [
    "daily_data[\n",
    "    (daily_data[CalculatedColumns.IsInDerivatives] == True)  \\\n",
    "  ][['RsiCrossedAndPriceAboveVwap', price_fall_flag_col]].corr()"
   ]
  },
  {
   "cell_type": "code",
   "execution_count": null,
   "metadata": {},
   "outputs": [
    {
     "name": "stdout",
     "output_type": "stream",
     "text": [
      "84438\n",
      "249494\n"
     ]
    }
   ],
   "source": [
    "print(daily_data[\n",
    "    (daily_data[CalculatedColumns.IsInDerivatives] == True) & \\\n",
    "    (daily_data[price_fall_flag_col] == True)\n",
    "  ][BaseColumns.Identifier].count())\n",
    "\n",
    "print(daily_data[\n",
    "    (daily_data[CalculatedColumns.IsInDerivatives] == True) & \\\n",
    "    (daily_data[price_fall_flag_col] == False) & \\\n",
    "    (daily_data[CalculatedColumns.RsiCrossedAbove] == False)\n",
    "  ][BaseColumns.Identifier].count())"
   ]
  },
  {
   "cell_type": "markdown",
   "metadata": {},
   "source": [
    "#### Expiry Analysis"
   ]
  },
  {
   "cell_type": "code",
   "execution_count": null,
   "metadata": {},
   "outputs": [],
   "source": [
    "from datareader.data_reader import NseDerivatiesOldReader"
   ]
  },
  {
   "cell_type": "code",
   "execution_count": null,
   "metadata": {},
   "outputs": [
    {
     "data": {
      "text/plain": [
       "array(['2023-09-28T00:00:00.000000000', '2023-08-31T00:00:00.000000000',\n",
       "       '2023-07-27T00:00:00.000000000', '2023-06-28T00:00:00.000000000',\n",
       "       '2023-05-25T00:00:00.000000000'], dtype='datetime64[ns]')"
      ]
     },
     "metadata": {},
     "output_type": "display_data"
    }
   ],
   "source": [
    "data = multidates_reader.read(MarketDaysHelper.get_monthly_expiry_dates(6))\n",
    "data['Date'].unique()"
   ]
  },
  {
   "cell_type": "code",
   "execution_count": null,
   "metadata": {},
   "outputs": [],
   "source": [
    "data['CloseToPrevCloseChangePerc'] = (data['Close'] / data['PreviousClose'] - 1) * 100\n",
    "data['OpenToPrevCloseChangePerc'] = (data['Open'] / data['PreviousClose'] - 1) * 100\n",
    "\n",
    "display_columns = ['Identifier', 'PreviousClose', 'Open', 'High', 'Low', 'Close', 'Date', \n",
    "                    'CloseToPrevCloseChangePerc', 'OpenToPrevCloseChangePerc'\n",
    "                    ]"
   ]
  },
  {
   "cell_type": "code",
   "execution_count": null,
   "metadata": {},
   "outputs": [],
   "source": [
    "data.reindex(data['CloseToPrevCloseChangePerc'].abs().sort_values(ascending=False).index)[data['Identifier'].isin(derivative_instruments)][display_columns].head(20)\n",
    "#data['Date'].dt.strftime('%d-%b-%Y').str.upper()"
   ]
  },
  {
   "cell_type": "code",
   "execution_count": null,
   "metadata": {},
   "outputs": [],
   "source": [
    "quantile = data.sort_values(by='OpenToPrevCloseChangePerc', ascending=True)['OpenToPrevCloseChangePerc'].quantile(q=0.99)\n",
    "data[data['OpenToPrevCloseChangePerc'] >= quantile][display_columns]"
   ]
  },
  {
   "cell_type": "markdown",
   "metadata": {},
   "source": [
    "### Debug"
   ]
  },
  {
   "cell_type": "code",
   "execution_count": null,
   "metadata": {},
   "outputs": [],
   "source": [
    "def format_datetime(dt_series, format):\n",
    "    def get_split_date(strdt):\n",
    "        split_date = strdt.split()\n",
    "        str_date = split_date[1] + ' ' + split_date[2] + ' ' + split_date[5] + ' ' + split_date[3]\n",
    "        return str_date\n",
    "\n",
    "    dt_series = pd.to_datetime(dt_series.apply(lambda x: get_split_date(x)), format = format)\n",
    "\n",
    "    return dt_series"
   ]
  },
  {
   "cell_type": "code",
   "execution_count": null,
   "metadata": {},
   "outputs": [
    {
     "name": "stdout",
     "output_type": "stream",
     "text": [
      "Started to read data\n",
      "Reading data from 2023-08-09 to 2023-08-10\n",
      "Downloading data for 2023-08-10 00:00:00\n",
      "https://archives.nseindia.com/content/historical/EQUITIES/2023/AUG/cm10AUG2023bhav.csv.zip\n",
      "The read operation timed out date(2023, 08, 10),\n",
      "Saving data to file: ../../_data/processed/historical/Equities.csv\n",
      "get_data took 46 seconds\n",
      "get_manual_data took 0 seconds\n",
      "Started basic calculation\n",
      "add_basic_calc took 1 seconds\n",
      "Started periodic calculation for Month\n",
      "add_monthly_growth_calc took 3 seconds\n",
      "Started periodic calculation for Year\n",
      "add_yearly_growth_calc took 1 seconds\n",
      "process took 51 seconds\n"
     ]
    }
   ],
   "source": [
    "result = histDataProcessor.process(reader, {'from_date': datetime.date(2023, 7, 1), 'to_date': datetime.date.today()})\n",
    "#identifier_grouped_data = result.get_identifier_grouped()\n",
    "data = result.get_daily_data()"
   ]
  },
  {
   "cell_type": "code",
   "execution_count": null,
   "metadata": {},
   "outputs": [],
   "source": [
    "_time_window = 14\n",
    "\n",
    "def calculate_wsm_average(raw_data, data, avg_col_name, abs_col_name):\n",
    "  step = 1\n",
    "  for i, row in enumerate(data[avg_col_name].iloc[_time_window + step:]):\n",
    "    raw_data.at[data.index[i + _time_window + step], avg_col_name] =\\\n",
    "      (data[avg_col_name].iloc[i + _time_window] *\n",
    "      (_time_window - step) +\n",
    "      data[abs_col_name].iloc[i + _time_window + step])\\\n",
    "      / _time_window"
   ]
  },
  {
   "cell_type": "code",
   "execution_count": null,
   "metadata": {},
   "outputs": [],
   "source": [
    "identifier_grouped_data = data.groupby(BaseColumns.Identifier)\n",
    "data[CalculatedColumns.ClosePriceDiff] = identifier_grouped_data[BaseColumns.Close].transform(lambda x: x.diff(1))\n",
    "data[CalculatedColumns.Gain] = identifier_grouped_data[CalculatedColumns.ClosePriceDiff].transform(lambda x: x.clip(lower=0).round(2))\n",
    "data[CalculatedColumns.Loss] = identifier_grouped_data[CalculatedColumns.ClosePriceDiff].transform(lambda x: x.clip(upper=0).abs().round(2))\n",
    "\n",
    "data[CalculatedColumns.ClosePriceDiff].fillna(0)\n",
    "data[CalculatedColumns.Gain].fillna(0)\n",
    "data[CalculatedColumns.Loss].fillna(0)\n",
    "\n",
    "# Get initial Averages\n",
    "data[CalculatedColumns.AvgGain] = identifier_grouped_data[CalculatedColumns.Gain].transform(lambda x: \n",
    "                                    x.rolling(window=_time_window, min_periods=_time_window).mean())\n",
    "data[CalculatedColumns.AvgLoss] = identifier_grouped_data[CalculatedColumns.Loss].transform(lambda x: \n",
    "                                    x.rolling(window=_time_window, min_periods=_time_window).mean())\n",
    "\n",
    "for identifier in data['Identifier'].unique():\n",
    "  calculate_wsm_average(data, identifier_grouped_data.get_group(identifier), CalculatedColumns.AvgGain, CalculatedColumns.Gain) \n",
    "  calculate_wsm_average(data, identifier_grouped_data.get_group(identifier), CalculatedColumns.AvgLoss, CalculatedColumns.Loss)\n",
    "\n",
    "data[CalculatedColumns.RelativeStrength] = data[CalculatedColumns.AvgGain] / data[CalculatedColumns.AvgLoss]\n",
    "data[CalculatedColumns.RelativeStrengthIndex] = 100 - (100 / (1.0 + data[CalculatedColumns.RelativeStrength]))"
   ]
  },
  {
   "cell_type": "code",
   "execution_count": null,
   "metadata": {},
   "outputs": [
    {
     "data": {
      "text/html": [
       "<div>\n",
       "<style scoped>\n",
       "    .dataframe tbody tr th:only-of-type {\n",
       "        vertical-align: middle;\n",
       "    }\n",
       "\n",
       "    .dataframe tbody tr th {\n",
       "        vertical-align: top;\n",
       "    }\n",
       "\n",
       "    .dataframe thead th {\n",
       "        text-align: right;\n",
       "    }\n",
       "</style>\n",
       "<table border=\"1\" class=\"dataframe\">\n",
       "  <thead>\n",
       "    <tr style=\"text-align: right;\">\n",
       "      <th></th>\n",
       "      <th>Date</th>\n",
       "      <th>Rsi</th>\n",
       "    </tr>\n",
       "  </thead>\n",
       "  <tbody>\n",
       "    <tr>\n",
       "      <th>42317</th>\n",
       "      <td>2023-08-03</td>\n",
       "      <td>56.345408</td>\n",
       "    </tr>\n",
       "    <tr>\n",
       "      <th>44033</th>\n",
       "      <td>2023-08-04</td>\n",
       "      <td>51.629586</td>\n",
       "    </tr>\n",
       "    <tr>\n",
       "      <th>45742</th>\n",
       "      <td>2023-08-07</td>\n",
       "      <td>49.179718</td>\n",
       "    </tr>\n",
       "    <tr>\n",
       "      <th>50319</th>\n",
       "      <td>2023-08-08</td>\n",
       "      <td>46.982477</td>\n",
       "    </tr>\n",
       "    <tr>\n",
       "      <th>51286</th>\n",
       "      <td>2023-08-09</td>\n",
       "      <td>51.312888</td>\n",
       "    </tr>\n",
       "  </tbody>\n",
       "</table>\n",
       "</div>"
      ],
      "text/plain": [
       "            Date        Rsi\n",
       "42317 2023-08-03  56.345408\n",
       "44033 2023-08-04  51.629586\n",
       "45742 2023-08-07  49.179718\n",
       "50319 2023-08-08  46.982477\n",
       "51286 2023-08-09  51.312888"
      ]
     },
     "execution_count": 64,
     "metadata": {},
     "output_type": "execute_result"
    }
   ],
   "source": [
    "data[data[BaseColumns.Identifier] == 'TVSMOTOR'].tail(5)[[BaseColumns.Date, CalculatedColumns.RelativeStrengthIndex]]"
   ]
  }
 ],
 "metadata": {
  "kernelspec": {
   "display_name": "base",
   "language": "python",
   "name": "python3"
  },
  "language_info": {
   "codemirror_mode": {
    "name": "ipython",
    "version": 3
   },
   "file_extension": ".py",
   "mimetype": "text/x-python",
   "name": "python",
   "nbconvert_exporter": "python",
   "pygments_lexer": "ipython3",
   "version": "3.9.12"
  },
  "orig_nbformat": 4
 },
 "nbformat": 4,
 "nbformat_minor": 2
}
