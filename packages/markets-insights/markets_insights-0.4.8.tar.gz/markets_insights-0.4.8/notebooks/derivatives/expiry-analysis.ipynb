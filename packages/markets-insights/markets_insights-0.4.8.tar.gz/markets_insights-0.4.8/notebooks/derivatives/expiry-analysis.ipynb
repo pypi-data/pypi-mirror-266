{
 "cells": [
  {
   "cell_type": "markdown",
   "metadata": {},
   "source": [
    "## Setup"
   ]
  },
  {
   "cell_type": "code",
   "execution_count": 50,
   "metadata": {},
   "outputs": [],
   "source": [
    "import os\n",
    "pwd = os.path.abspath('.')\n",
    "os.chdir(os.path.join(pwd, '../src/'))"
   ]
  },
  {
   "cell_type": "code",
   "execution_count": 51,
   "metadata": {},
   "outputs": [],
   "source": [
    "from collections import Counter\n",
    "import pandas as pd\n",
    "import seaborn as sns\n",
    "from core.environment import EnvironmentSettings\n",
    "from string import Template\n",
    "import matplotlib.pyplot as plt\n",
    "\n",
    "import datetime"
   ]
  },
  {
   "cell_type": "code",
   "execution_count": 52,
   "metadata": {},
   "outputs": [
    {
     "name": "stdout",
     "output_type": "stream",
     "text": [
      "The autoreload extension is already loaded. To reload it, use:\n",
      "  %reload_ext autoreload\n"
     ]
    }
   ],
   "source": [
    "%load_ext autoreload\n",
    "%autoreload 2"
   ]
  },
  {
   "cell_type": "markdown",
   "metadata": {},
   "source": [
    "## Analysis"
   ]
  },
  {
   "cell_type": "code",
   "execution_count": 83,
   "metadata": {},
   "outputs": [],
   "source": [
    "from datareader.data_reader import NseDerivatiesReader\n",
    "reader = NseDerivatiesReader()\n",
    "\n",
    "from datareader.data_reader import MultiDatesDataReader, DateRangeDataReader\n",
    "multidates_reader = MultiDatesDataReader(reader)\n",
    "daterange_reader = DateRangeDataReader(reader)\n",
    "\n",
    "from core.core import MarketDaysHelper"
   ]
  },
  {
   "cell_type": "code",
   "execution_count": 54,
   "metadata": {},
   "outputs": [],
   "source": [
    "yest = datetime.date.today() + datetime.timedelta(days=-1)"
   ]
  },
  {
   "cell_type": "markdown",
   "metadata": {},
   "source": [
    "#### Calculations"
   ]
  },
  {
   "cell_type": "code",
   "execution_count": 55,
   "metadata": {},
   "outputs": [],
   "source": [
    "from dataprocess.data_processor import CalculationWorker\n",
    "from core.core import Instrumentation\n",
    "from core.column_definition import BaseColumns"
   ]
  },
  {
   "cell_type": "code",
   "execution_count": 264,
   "metadata": {},
   "outputs": [],
   "source": [
    "class DerivativesCalculatedColumns:\n",
    "  CloseToPrevCloseChangePerc: str = 'CloseToPrevCloseChangePerc'\n",
    "  OpenToPrevCloseChangePerc: str = 'OpenToPrevCloseChangePerc'\n",
    "  PreviousCloseAmount: str = 'PreviousCloseAmount'\n",
    "  OpenAmount: str = 'OpenAmount'\n",
    "  CloseAmount: str = 'CloseAmount'\n",
    "  HighAmount: str = 'HighAmount'\n",
    "  LowAmount: str = 'LowAmount'\n",
    "  AmountDiffOpenToPrevClose: str = 'AmountDiffOpenToPrevClose'\n",
    "  AmountDiffCloseToPrevClose: str = 'AmountDiffCloseToPrevClose'\n",
    "  AmountDiffOpenToPrevClose: str = 'AmountDiffOpenToPrevClose'\n",
    "  ClosestStrike: str = 'ClosestStrike'\n",
    "  LotSize: str = 'LotSize'\n",
    "\n",
    "class DerivativesBaseColumns(BaseColumns):\n",
    "  AveragePrice: str = 'AvrgPric'\n",
    "  OptionType: str = 'OptionType'\n",
    "  ExpiryDate: str = 'ExpiryDate'\n",
    "  StrikePrice: str = 'StrkPric'\n",
    "  Turnover: str = 'Turnover (Rs. Cr.)'\n",
    "  OpenInterest: str = 'OpenInterest'\n"
   ]
  },
  {
   "cell_type": "code",
   "execution_count": 225,
   "metadata": {},
   "outputs": [],
   "source": [
    "class DerivativesPriceCalculationWorker (CalculationWorker):\n",
    "  @Instrumentation.trace(name=\"DerivativesPriceCalculationWorker\")\n",
    "  def add_calculated_columns(self, data):\n",
    "    data[DerivativesCalculatedColumns.CloseToPrevCloseChangePerc] = (data[DerivativesBaseColumns.Close] / data[DerivativesBaseColumns.PreviousClose] - 1) * 100\n",
    "    data[DerivativesCalculatedColumns.OpenToPrevCloseChangePerc] = (data[DerivativesBaseColumns.Open] / data[DerivativesBaseColumns.PreviousClose] - 1) * 100\n",
    "    \n",
    "    data[DerivativesCalculatedColumns.PreviousCloseAmount] = data[DerivativesBaseColumns.PreviousClose] * data[DerivativesCalculatedColumns.LotSize]\n",
    "    data[DerivativesCalculatedColumns.OpenAmount] = data[DerivativesBaseColumns.Open] * data[DerivativesCalculatedColumns.LotSize]\n",
    "    data[DerivativesCalculatedColumns.CloseAmount] = data[DerivativesBaseColumns.Close] * data[DerivativesCalculatedColumns.LotSize]\n",
    "    data[DerivativesCalculatedColumns.HighAmount] = data[DerivativesBaseColumns.High] * data[DerivativesCalculatedColumns.LotSize]\n",
    "    data[DerivativesCalculatedColumns.LowAmount] = data[DerivativesBaseColumns.Low] * data[DerivativesCalculatedColumns.LotSize]\n",
    "\n",
    "    data[DerivativesCalculatedColumns.AmountDiffOpenToPrevClose] = data[DerivativesCalculatedColumns.OpenAmount] - data[DerivativesCalculatedColumns.PreviousCloseAmount]\n",
    "    data[DerivativesCalculatedColumns.AmountDiffCloseToPrevClose] = data[DerivativesCalculatedColumns.CloseAmount] - data[DerivativesCalculatedColumns.PreviousCloseAmount]\n",
    "    "
   ]
  },
  {
   "cell_type": "code",
   "execution_count": 226,
   "metadata": {},
   "outputs": [],
   "source": [
    "class DerivativesLotSizeCalculationWorker (CalculationWorker):\n",
    "  @Instrumentation.trace(name=\"DerivativesLotSizeCalculationWorker\")\n",
    "  def add_calculated_columns(self, data):\n",
    "    lotsize_data = pd.read_csv(\"../manual_data/nse_fo_lotsize.csv\")\n",
    "    cur_expiry_col = lotsize_data.columns[2]\n",
    "    data = pd.merge(\n",
    "        data,\n",
    "        lotsize_data[['SYMBOL', cur_expiry_col]],\n",
    "        how=\"left\",\n",
    "        left_on=DerivativesBaseColumns.Identifier,\n",
    "        right_on='SYMBOL'\n",
    "    )\n",
    "    data.rename(columns={cur_expiry_col: DerivativesCalculatedColumns.LotSize}, inplace=True)\n",
    "    return data"
   ]
  },
  {
   "cell_type": "code",
   "execution_count": 227,
   "metadata": {},
   "outputs": [],
   "source": [
    "from dataprocess.data_processor import CalculationPipeline\n",
    "derivatives_calc_pipeline = CalculationPipeline()\n",
    "derivatives_calc_pipeline.add_calculation_worker(DerivativesLotSizeCalculationWorker())\n",
    "derivatives_calc_pipeline.add_calculation_worker(DerivativesPriceCalculationWorker())"
   ]
  },
  {
   "cell_type": "markdown",
   "metadata": {},
   "source": [
    "#### Expiry Analysis"
   ]
  },
  {
   "cell_type": "code",
   "execution_count": 64,
   "metadata": {},
   "outputs": [],
   "source": [
    "expiries = MarketDaysHelper.get_monthly_expiry_dates(6)\n",
    "pre_expiries = [MarketDaysHelper.get_previous_market_day(x) for x in expiries]\n",
    "data = multidates_reader.read(expiries)"
   ]
  },
  {
   "cell_type": "code",
   "execution_count": 65,
   "metadata": {},
   "outputs": [
    {
     "name": "stdout",
     "output_type": "stream",
     "text": [
      "DerivativesLotSizeCalculationWorker took 0 seconds\n",
      "DerivativesPriceCalculationWorker took 0 seconds\n"
     ]
    }
   ],
   "source": [
    "data = derivatives_calc_pipeline.run(data)"
   ]
  },
  {
   "cell_type": "code",
   "execution_count": 67,
   "metadata": {},
   "outputs": [],
   "source": [
    "preferred_options = data\n",
    "preferred_options = preferred_options[preferred_options[DerivativesBaseColumns.Date].dt.strftime('%d-%b-%Y') == preferred_options[DerivativesBaseColumns.ExpiryDate]]\n",
    "preferred_options = preferred_options[(preferred_options[DerivativesBaseColumns.PreviousClose] >= 0.5) & (preferred_options[DerivativesBaseColumns.PreviousClose] <= 1.5)]\n",
    "\n",
    "preferred_options.loc[preferred_options[preferred_options[DerivativesBaseColumns.OptionType] == 'CE'].groupby([DerivativesBaseColumns.ExpiryDate, DerivativesBaseColumns.Identifier])['StrkPric'].idxmin(), DerivativesCalculatedColumns.ClosestStrike] = True\n",
    "preferred_options.loc[preferred_options[preferred_options[DerivativesBaseColumns.OptionType] == 'PE'].groupby([DerivativesBaseColumns.ExpiryDate, DerivativesBaseColumns.Identifier])['StrkPric'].idxmax(), DerivativesCalculatedColumns.ClosestStrike] = True\n",
    "\n",
    "preferred_options = preferred_options[preferred_options[DerivativesCalculatedColumns.ClosestStrike] == True]\n",
    "#data['Date'].dt.strftime('%d-%b-%Y').str.upper()"
   ]
  },
  {
   "cell_type": "code",
   "execution_count": 68,
   "metadata": {},
   "outputs": [],
   "source": [
    "quantile = preferred_options.sort_values(by=DerivativesCalculatedColumns.OpenToPrevCloseChangePerc, ascending=True)[DerivativesCalculatedColumns.OpenToPrevCloseChangePerc].quantile(q=0.8)\n",
    "best_n_percentile = preferred_options[preferred_options[DerivativesCalculatedColumns.OpenToPrevCloseChangePerc] >= quantile]"
   ]
  },
  {
   "cell_type": "code",
   "execution_count": 278,
   "metadata": {},
   "outputs": [],
   "source": [
    "preferred_options.to_csv(\"../output/preferred_options.csv\")\n",
    "best_n_percentile.to_csv(\"../output/best_n_percentile.csv\")"
   ]
  },
  {
   "cell_type": "code",
   "execution_count": 70,
   "metadata": {},
   "outputs": [],
   "source": [
    "target_data = preferred_options"
   ]
  },
  {
   "cell_type": "code",
   "execution_count": 71,
   "metadata": {},
   "outputs": [
    {
     "data": {
      "image/png": "[encoded data removed]",
      "text/plain": [
       "<Figure size 1296x432 with 2 Axes>"
      ]
     },
     "metadata": {
      "needs_background": "light"
     },
     "output_type": "display_data"
    }
   ],
   "source": [
    "#fig, ax = plt.subplots(figsize=(18, 6))\n",
    "plt.rcParams[\"figure.figsize\"] = [18, 6]\n",
    "plt.rcParams[\"figure.autolayout\"] = True\n",
    "f, axes = plt.subplots(1, 2)\n",
    "sns.barplot(\n",
    "  data=target_data.groupby([DerivativesBaseColumns.ExpiryDate, DerivativesBaseColumns.OptionType])[DerivativesCalculatedColumns.AmountDiffOpenToPrevClose].sum().reset_index(), \n",
    "  x=DerivativesBaseColumns.ExpiryDate,\n",
    "  hue=DerivativesBaseColumns.OptionType,\n",
    "  y=DerivativesCalculatedColumns.AmountDiffOpenToPrevClose,\n",
    "  ax=axes[0]\n",
    ")\n",
    "sns.barplot(\n",
    "  data=target_data.groupby([DerivativesBaseColumns.ExpiryDate, DerivativesBaseColumns.OptionType])[DerivativesCalculatedColumns.PreviousCloseAmount].sum().reset_index(), \n",
    "  x=DerivativesBaseColumns.ExpiryDate,\n",
    "  hue=DerivativesBaseColumns.OptionType,\n",
    "  y=DerivativesCalculatedColumns.PreviousCloseAmount,\n",
    "  ax=axes[1]\n",
    ")\n",
    "plt.show()"
   ]
  },
  {
   "cell_type": "code",
   "execution_count": 72,
   "metadata": {},
   "outputs": [],
   "source": [
    "target_data.groupby([DerivativesBaseColumns.Identifier])[DerivativesCalculatedColumns.OpenToPrevCloseChangePerc].count()\\\n",
    "  .sort_values(ascending=False).reset_index().to_csv(\"../output/count_by_id.csv\")"
   ]
  },
  {
   "cell_type": "code",
   "execution_count": 73,
   "metadata": {},
   "outputs": [
    {
     "data": {
      "image/png": "[encoded data removed]",
      "text/plain": [
       "<Figure size 1296x432 with 1 Axes>"
      ]
     },
     "metadata": {
      "needs_background": "light"
     },
     "output_type": "display_data"
    }
   ],
   "source": [
    "fig, ax = plt.subplots(figsize=(18, 6))\n",
    "sns.barplot(\n",
    "    data=target_data.sort_values(DerivativesCalculatedColumns.OpenToPrevCloseChangePerc, ascending=False)\\\n",
    "      .head(100).groupby([DerivativesBaseColumns.Identifier])[DerivativesCalculatedColumns.OpenToPrevCloseChangePerc].count().reset_index(), \n",
    "    x='Identifier',\n",
    "    y='OpenToPrevCloseChangePerc'\n",
    "  )\n",
    "plt.show()"
   ]
  },
  {
   "cell_type": "markdown",
   "metadata": {},
   "source": [
    "#### Overbought / Oversold Stocks"
   ]
  },
  {
   "cell_type": "markdown",
   "metadata": {},
   "source": [
    "##### Load Data"
   ]
  },
  {
   "cell_type": "code",
   "execution_count": 335,
   "metadata": {},
   "outputs": [],
   "source": [
    "overbought_stocks = pd.read_csv(\"../output/rsi-crossed-above.csv\")\n",
    "oversold_stocks = pd.read_csv(\"../output/rsi-crossed-below.csv\")\n",
    "holding_days = 10\n",
    "budget_min = 8000\n",
    "budget_max = 12000\n",
    "min_lots_oi = 50"
   ]
  },
  {
   "cell_type": "code",
   "execution_count": 229,
   "metadata": {},
   "outputs": [],
   "source": [
    "from_date = pd.to_datetime(overbought_stocks[DerivativesBaseColumns.Date].min())\n",
    "to_date = pd.to_datetime(overbought_stocks[DerivativesBaseColumns.Date].max()) + datetime.timedelta(days=holding_days)"
   ]
  },
  {
   "cell_type": "code",
   "execution_count": 230,
   "metadata": {},
   "outputs": [
    {
     "name": "stdout",
     "output_type": "stream",
     "text": [
      "No columns to parse from file date(2023, 04, 18),\n",
      "Downloading data for 2023-04-24 00:00:00\n",
      "https://archives.nseindia.com/content/fo/NSE_FO_bhavcopy_24042023.csv\n",
      "Downloading data for 2023-04-25 00:00:00\n",
      "https://archives.nseindia.com/content/fo/NSE_FO_bhavcopy_25042023.csv\n",
      "Downloading data for 2023-06-05 00:00:00\n",
      "https://archives.nseindia.com/content/fo/NSE_FO_bhavcopy_05062023.csv\n",
      "Downloading data for 2023-08-02 00:00:00\n",
      "https://archives.nseindia.com/content/fo/NSE_FO_bhavcopy_02082023.csv\n",
      "Downloading data for 2023-08-03 00:00:00\n",
      "https://archives.nseindia.com/content/fo/NSE_FO_bhavcopy_03082023.csv\n",
      "The read operation timed out date(2023, 08, 03),\n",
      "Downloading data for 2023-08-04 00:00:00\n",
      "https://archives.nseindia.com/content/fo/NSE_FO_bhavcopy_04082023.csv\n",
      "The read operation timed out date(2023, 08, 04),\n"
     ]
    }
   ],
   "source": [
    "data = daterange_reader.read(from_date, to_date)"
   ]
  },
  {
   "cell_type": "code",
   "execution_count": 232,
   "metadata": {},
   "outputs": [
    {
     "name": "stdout",
     "output_type": "stream",
     "text": [
      "DerivativesLotSizeCalculationWorker took 4 seconds\n",
      "DerivativesPriceCalculationWorker took 0 seconds\n"
     ]
    }
   ],
   "source": [
    "data = derivatives_calc_pipeline.run(data)"
   ]
  },
  {
   "cell_type": "markdown",
   "metadata": {},
   "source": [
    "##### Functions"
   ]
  },
  {
   "cell_type": "code",
   "execution_count": 312,
   "metadata": {},
   "outputs": [],
   "source": [
    "def get_entry_option(symbol, date, option_type, entry_amount_col, budget_min, budget_max, hold_till_date, min_lots_oi, index):\n",
    "    entry_option = data[\n",
    "        (data[DerivativesBaseColumns.Identifier] == symbol)\n",
    "        & (data[DerivativesBaseColumns.OptionType] == option_type)\n",
    "        & (data[DerivativesBaseColumns.Date] == date)\n",
    "        & (data[entry_amount_col].between(budget_min, budget_max))\n",
    "        & (pd.to_datetime(data[DerivativesBaseColumns.ExpiryDate]) >= hold_till_date)\n",
    "        & (data[DerivativesBaseColumns.OpenInterest] >= (data[DerivativesCalculatedColumns.LotSize] * min_lots_oi))\n",
    "    ].sort_values(DerivativesBaseColumns.StrikePrice, ascending=False).head(1)\n",
    "\n",
    "    if len(entry_option) > 0:\n",
    "        strike_price = entry_option[DerivativesBaseColumns.StrikePrice].values[0]\n",
    "        expiry_date = entry_option[DerivativesBaseColumns.ExpiryDate].values[0]\n",
    "        buy_amount = entry_option[entry_amount_col].values[0]\n",
    "        lotsize = entry_option[DerivativesCalculatedColumns.LotSize].values[0]\n",
    "\n",
    "        buy = pd.DataFrame({\n",
    "                    DerivativesBaseColumns.Identifier: symbol,\n",
    "                    DerivativesBaseColumns.StrikePrice: strike_price,\n",
    "                    DerivativesBaseColumns.ExpiryDate: expiry_date,\n",
    "                    DerivativesBaseColumns.OptionType: option_type,\n",
    "                    DerivativesBaseColumns.Date: pd.to_datetime(date),\n",
    "                    'Credit': -1 * buy_amount,\n",
    "                    'Quantity': 1 * lotsize,\n",
    "                    'Type': 'Buy'\n",
    "                }, index=[(index*2)])\n",
    "        return buy\n",
    "    else:\n",
    "        return []"
   ]
  },
  {
   "cell_type": "code",
   "execution_count": 333,
   "metadata": {},
   "outputs": [],
   "source": [
    "def get_exit_option(symbol, expiry_date, date, strike_price, option_type, exit_amount_profit_col, exit_amount_loss_col, \n",
    "                    buy_amount, hold_till_date, min_lots_oi, lotsize, index):\n",
    "  exit_options = data[\n",
    "      (data[DerivativesBaseColumns.Identifier] == symbol)\n",
    "      & (data[DerivativesBaseColumns.ExpiryDate] == expiry_date)\n",
    "      & (data[DerivativesBaseColumns.StrikePrice] == strike_price)\n",
    "      & (data[DerivativesBaseColumns.OptionType] == option_type)\n",
    "      & (data[DerivativesBaseColumns.Date].between(date + datetime.timedelta(days=1), hold_till_date))\n",
    "      & (data[DerivativesBaseColumns.OpenInterest] >= (data[DerivativesCalculatedColumns.LotSize] * min_lots_oi))\n",
    "  ]\n",
    "  if len(exit_options) > 0:\n",
    "      exit_option = exit_options[(\n",
    "          (exit_options[exit_amount_profit_col] >= (buy_amount*2))\n",
    "          |\n",
    "          (exit_options[exit_amount_loss_col] <= (buy_amount*0.5))\n",
    "        )]\n",
    "      \n",
    "      if len(exit_option) <= 0:\n",
    "          exit_option = exit_options.sort_values(DerivativesBaseColumns.Date, ascending=False)[0:1]\n",
    "          \n",
    "      high_amount = exit_option[exit_amount_profit_col].values[0]\n",
    "      low_amount = exit_option[exit_amount_loss_col].values[0]\n",
    "      \n",
    "      sell_amount = 0\n",
    "      if (high_amount >= (buy_amount*2)):\n",
    "          sell_amount = high_amount\n",
    "      else:\n",
    "          sell_amount = low_amount\n",
    "\n",
    "      sell = pd.DataFrame({\n",
    "          DerivativesBaseColumns.Identifier: symbol,\n",
    "          DerivativesBaseColumns.StrikePrice: strike_price,\n",
    "          DerivativesBaseColumns.ExpiryDate: expiry_date,\n",
    "          DerivativesBaseColumns.OptionType: option_type,\n",
    "          DerivativesBaseColumns.Date: pd.to_datetime(exit_option[DerivativesBaseColumns.Date].values[0]),\n",
    "          'Credit': sell_amount,\n",
    "          'Quantity': -1 * lotsize,\n",
    "          'Type': 'Sell'\n",
    "      }, index=[(index*2)+1])\n",
    "      return sell\n",
    "  else:\n",
    "      return []"
   ]
  },
  {
   "cell_type": "code",
   "execution_count": 373,
   "metadata": {},
   "outputs": [],
   "source": [
    "def get_trades(option_type, stocks, budget_min, budget_max, holding_days,\n",
    "        entry_amount_col, exit_amount_profit_col, exit_amount_loss_col, min_lots_oi):\n",
    "    \n",
    "    trades = pd.DataFrame()\n",
    "    non_tradables = pd.DataFrame()\n",
    "    \n",
    "    today = pd.to_datetime(datetime.date.today())\n",
    "    stocks[DerivativesBaseColumns.Date] = pd.to_datetime(stocks[DerivativesBaseColumns.Date])\n",
    "    stocks[stocks[DerivativesBaseColumns.Date] + datetime.timedelta(days=holding_days) < today]\n",
    "\n",
    "    for index, stock in stocks.iterrows():\n",
    "        symbol = stock[BaseColumns.Identifier]\n",
    "        date = pd.to_datetime(stock[BaseColumns.Date])\n",
    "        hold_till_date = pd.to_datetime(stock[BaseColumns.Date]) + datetime.timedelta(days=holding_days)\n",
    "        buy = get_entry_option(symbol, date, option_type, entry_amount_col, budget_min, budget_max, hold_till_date, min_lots_oi, index)\n",
    "        \n",
    "        if len(buy) > 0:\n",
    "            strike_price = buy[DerivativesBaseColumns.StrikePrice].values[0]\n",
    "            expiry_date = buy[DerivativesBaseColumns.ExpiryDate].values[0]\n",
    "            buy_amount = abs(buy['Credit'].values[0])\n",
    "            lotsize = buy['Quantity'].values[0]\n",
    "\n",
    "            sell = get_exit_option(symbol, expiry_date, date, strike_price, option_type, exit_amount_profit_col, exit_amount_loss_col, \n",
    "                        buy_amount, hold_till_date, min_lots_oi, lotsize, index)\n",
    "            \n",
    "            if len(sell) > 0:\n",
    "                trades = pd.concat([trades, buy, sell], ignore_index=True)\n",
    "            else:\n",
    "                non_tradables = pd.concat([non_tradables, pd.DataFrame({DerivativesBaseColumns.Identifier: symbol, DerivativesBaseColumns.Date: pd.to_datetime(date), 'reason': 'No Exit'}, index=[(index*2)])])\n",
    "        else:\n",
    "            non_tradables = pd.concat([non_tradables, pd.DataFrame({DerivativesBaseColumns.Identifier: symbol, DerivativesBaseColumns.Date: pd.to_datetime(date), 'reason': 'No Entry'}, index=[(index*2)+1])])\n",
    "    \n",
    "    trades['CumCredit'] = trades['Credit'].cumsum()\n",
    "    return trades, non_tradables"
   ]
  },
  {
   "cell_type": "markdown",
   "metadata": {},
   "source": [
    "##### Get Trades"
   ]
  },
  {
   "cell_type": "code",
   "execution_count": 367,
   "metadata": {},
   "outputs": [],
   "source": [
    "trades_pe, non_tradables_pe = get_trades('PE', overbought_stocks, budget_min, budget_max, holding_days, \n",
    "  DerivativesCalculatedColumns.CloseAmount, DerivativesCalculatedColumns.HighAmount, DerivativesCalculatedColumns.LowAmount, min_lots_oi)"
   ]
  },
  {
   "cell_type": "code",
   "execution_count": 374,
   "metadata": {},
   "outputs": [],
   "source": [
    "trades_ce, non_tradables_ce = get_trades('CE', oversold_stocks, budget_min, budget_max, holding_days, \n",
    "  DerivativesCalculatedColumns.CloseAmount, DerivativesCalculatedColumns.HighAmount, DerivativesCalculatedColumns.LowAmount, min_lots_oi)"
   ]
  },
  {
   "cell_type": "code",
   "execution_count": 368,
   "metadata": {},
   "outputs": [],
   "source": [
    "#trades.groupby('Identifier')['Credit'].sum()\n",
    "def display_outcome(trades):\n",
    "    trades = trades.sort_values('Date').reset_index()\n",
    "    tot_credit = trades['Credit'].sum()\n",
    "    credit_req = trades['CumCredit'].min() * -1\n",
    "    print(f'Total trades: {len(trades)}, Final Balance: {round(tot_credit)}, Investment Required: {round(credit_req)}, ROI: {round(tot_credit/credit_req * 100)}%')\n",
    "    display(trades.groupby(DerivativesBaseColumns.Identifier)['Credit'].sum().sort_values())\n",
    "\n",
    "def show_losing_trades(trades):\n",
    "    return trades[\n",
    "        ((trades['Credit'] + trades['Credit'].shift(1)) < 0)\n",
    "        &\n",
    "        (trades[DerivativesBaseColumns.Identifier] == trades[DerivativesBaseColumns.Identifier].shift(1))\n",
    "        &\n",
    "        (trades[DerivativesBaseColumns.ExpiryDate] == trades[DerivativesBaseColumns.ExpiryDate].shift(1))\n",
    "        &\n",
    "        (trades[DerivativesBaseColumns.StrikePrice] == trades[DerivativesBaseColumns.StrikePrice].shift(1))\n",
    "        &\n",
    "        (trades[DerivativesBaseColumns.OptionType] == trades[DerivativesBaseColumns.OptionType].shift(1))\n",
    "    ]"
   ]
  },
  {
   "cell_type": "code",
   "execution_count": 375,
   "metadata": {},
   "outputs": [
    {
     "data": {
      "text/html": [
       "<div>\n",
       "<style scoped>\n",
       "    .dataframe tbody tr th:only-of-type {\n",
       "        vertical-align: middle;\n",
       "    }\n",
       "\n",
       "    .dataframe tbody tr th {\n",
       "        vertical-align: top;\n",
       "    }\n",
       "\n",
       "    .dataframe thead th {\n",
       "        text-align: right;\n",
       "    }\n",
       "</style>\n",
       "<table border=\"1\" class=\"dataframe\">\n",
       "  <thead>\n",
       "    <tr style=\"text-align: right;\">\n",
       "      <th></th>\n",
       "      <th>Identifier</th>\n",
       "      <th>StrkPric</th>\n",
       "      <th>ExpiryDate</th>\n",
       "      <th>OptionType</th>\n",
       "      <th>Date</th>\n",
       "      <th>Credit</th>\n",
       "      <th>Quantity</th>\n",
       "      <th>Type</th>\n",
       "      <th>CumCredit</th>\n",
       "    </tr>\n",
       "  </thead>\n",
       "  <tbody>\n",
       "    <tr>\n",
       "      <th>13</th>\n",
       "      <td>TATAMOTORS</td>\n",
       "      <td>435.0</td>\n",
       "      <td>23-Feb-2023</td>\n",
       "      <td>PE</td>\n",
       "      <td>2023-02-10</td>\n",
       "      <td>6483.75</td>\n",
       "      <td>-1425.0</td>\n",
       "      <td>Sell</td>\n",
       "      <td>75783.75</td>\n",
       "    </tr>\n",
       "    <tr>\n",
       "      <th>15</th>\n",
       "      <td>POLYCAB</td>\n",
       "      <td>2850.0</td>\n",
       "      <td>23-Feb-2023</td>\n",
       "      <td>PE</td>\n",
       "      <td>2023-02-10</td>\n",
       "      <td>5430.00</td>\n",
       "      <td>-300.0</td>\n",
       "      <td>Sell</td>\n",
       "      <td>71673.75</td>\n",
       "    </tr>\n",
       "    <tr>\n",
       "      <th>17</th>\n",
       "      <td>CHOLAFIN</td>\n",
       "      <td>730.0</td>\n",
       "      <td>23-Feb-2023</td>\n",
       "      <td>PE</td>\n",
       "      <td>2023-02-07</td>\n",
       "      <td>4562.50</td>\n",
       "      <td>-1250.0</td>\n",
       "      <td>Sell</td>\n",
       "      <td>65111.25</td>\n",
       "    </tr>\n",
       "    <tr>\n",
       "      <th>19</th>\n",
       "      <td>COFORGE</td>\n",
       "      <td>4250.0</td>\n",
       "      <td>23-Feb-2023</td>\n",
       "      <td>PE</td>\n",
       "      <td>2023-02-10</td>\n",
       "      <td>8617.50</td>\n",
       "      <td>-150.0</td>\n",
       "      <td>Sell</td>\n",
       "      <td>62786.25</td>\n",
       "    </tr>\n",
       "    <tr>\n",
       "      <th>23</th>\n",
       "      <td>INFY</td>\n",
       "      <td>1600.0</td>\n",
       "      <td>23-Feb-2023</td>\n",
       "      <td>PE</td>\n",
       "      <td>2023-02-13</td>\n",
       "      <td>8520.00</td>\n",
       "      <td>-400.0</td>\n",
       "      <td>Sell</td>\n",
       "      <td>75731.25</td>\n",
       "    </tr>\n",
       "    <tr>\n",
       "      <th>...</th>\n",
       "      <td>...</td>\n",
       "      <td>...</td>\n",
       "      <td>...</td>\n",
       "      <td>...</td>\n",
       "      <td>...</td>\n",
       "      <td>...</td>\n",
       "      <td>...</td>\n",
       "      <td>...</td>\n",
       "      <td>...</td>\n",
       "    </tr>\n",
       "    <tr>\n",
       "      <th>963</th>\n",
       "      <td>PFC</td>\n",
       "      <td>215.0</td>\n",
       "      <td>31-Aug-2023</td>\n",
       "      <td>PE</td>\n",
       "      <td>2023-07-27</td>\n",
       "      <td>4030.00</td>\n",
       "      <td>-6200.0</td>\n",
       "      <td>Sell</td>\n",
       "      <td>829332.60</td>\n",
       "    </tr>\n",
       "    <tr>\n",
       "      <th>965</th>\n",
       "      <td>ICICIBANK</td>\n",
       "      <td>980.0</td>\n",
       "      <td>31-Aug-2023</td>\n",
       "      <td>PE</td>\n",
       "      <td>2023-08-02</td>\n",
       "      <td>9800.00</td>\n",
       "      <td>-700.0</td>\n",
       "      <td>Sell</td>\n",
       "      <td>827687.60</td>\n",
       "    </tr>\n",
       "    <tr>\n",
       "      <th>967</th>\n",
       "      <td>ONGC</td>\n",
       "      <td>165.0</td>\n",
       "      <td>31-Aug-2023</td>\n",
       "      <td>PE</td>\n",
       "      <td>2023-07-31</td>\n",
       "      <td>3272.50</td>\n",
       "      <td>-3850.0</td>\n",
       "      <td>Sell</td>\n",
       "      <td>822105.10</td>\n",
       "    </tr>\n",
       "    <tr>\n",
       "      <th>971</th>\n",
       "      <td>INDUSTOWER</td>\n",
       "      <td>165.0</td>\n",
       "      <td>31-Aug-2023</td>\n",
       "      <td>PE</td>\n",
       "      <td>2023-08-02</td>\n",
       "      <td>8500.00</td>\n",
       "      <td>-3400.0</td>\n",
       "      <td>Sell</td>\n",
       "      <td>819725.10</td>\n",
       "    </tr>\n",
       "    <tr>\n",
       "      <th>973</th>\n",
       "      <td>TATAMOTORS</td>\n",
       "      <td>610.0</td>\n",
       "      <td>31-Aug-2023</td>\n",
       "      <td>PE</td>\n",
       "      <td>2023-08-02</td>\n",
       "      <td>9547.50</td>\n",
       "      <td>-1425.0</td>\n",
       "      <td>Sell</td>\n",
       "      <td>817872.60</td>\n",
       "    </tr>\n",
       "  </tbody>\n",
       "</table>\n",
       "<p>304 rows × 9 columns</p>\n",
       "</div>"
      ],
      "text/plain": [
       "     Identifier  StrkPric   ExpiryDate OptionType       Date   Credit  \\\n",
       "13   TATAMOTORS     435.0  23-Feb-2023         PE 2023-02-10  6483.75   \n",
       "15      POLYCAB    2850.0  23-Feb-2023         PE 2023-02-10  5430.00   \n",
       "17     CHOLAFIN     730.0  23-Feb-2023         PE 2023-02-07  4562.50   \n",
       "19      COFORGE    4250.0  23-Feb-2023         PE 2023-02-10  8617.50   \n",
       "23         INFY    1600.0  23-Feb-2023         PE 2023-02-13  8520.00   \n",
       "..          ...       ...          ...        ...        ...      ...   \n",
       "963         PFC     215.0  31-Aug-2023         PE 2023-07-27  4030.00   \n",
       "965   ICICIBANK     980.0  31-Aug-2023         PE 2023-08-02  9800.00   \n",
       "967        ONGC     165.0  31-Aug-2023         PE 2023-07-31  3272.50   \n",
       "971  INDUSTOWER     165.0  31-Aug-2023         PE 2023-08-02  8500.00   \n",
       "973  TATAMOTORS     610.0  31-Aug-2023         PE 2023-08-02  9547.50   \n",
       "\n",
       "     Quantity  Type  CumCredit  \n",
       "13    -1425.0  Sell   75783.75  \n",
       "15     -300.0  Sell   71673.75  \n",
       "17    -1250.0  Sell   65111.25  \n",
       "19     -150.0  Sell   62786.25  \n",
       "23     -400.0  Sell   75731.25  \n",
       "..        ...   ...        ...  \n",
       "963   -6200.0  Sell  829332.60  \n",
       "965    -700.0  Sell  827687.60  \n",
       "967   -3850.0  Sell  822105.10  \n",
       "971   -3400.0  Sell  819725.10  \n",
       "973   -1425.0  Sell  817872.60  \n",
       "\n",
       "[304 rows x 9 columns]"
      ]
     },
     "execution_count": 375,
     "metadata": {},
     "output_type": "execute_result"
    }
   ],
   "source": [
    "#display_outcome(trades_pe)\n",
    "show_losing_trades(trades_pe)"
   ]
  },
  {
   "cell_type": "code",
   "execution_count": 391,
   "metadata": {},
   "outputs": [
    {
     "data": {
      "text/plain": [
       "datetime.date(2023, 8, 3)"
      ]
     },
     "execution_count": 391,
     "metadata": {},
     "output_type": "execute_result"
    }
   ],
   "source": [
    "datetime.date(2023, 7, 27) + datetime.timedelta(7)"
   ]
  },
  {
   "cell_type": "code",
   "execution_count": 439,
   "metadata": {},
   "outputs": [],
   "source": [
    "data_test = pd.DataFrame(data)"
   ]
  },
  {
   "cell_type": "code",
   "execution_count": 442,
   "metadata": {},
   "outputs": [
    {
     "data": {
      "text/plain": [
       "0          0             HAVELLS\\n1           ZYDUSLIFE\\n...\n",
       "1          0             HAVELLS\\n1           ZYDUSLIFE\\n...\n",
       "2          0             HAVELLS\\n1           ZYDUSLIFE\\n...\n",
       "3          0             HAVELLS\\n1           ZYDUSLIFE\\n...\n",
       "4          0             HAVELLS\\n1           ZYDUSLIFE\\n...\n",
       "                                 ...                        \n",
       "6430850    0             HAVELLS\\n1           ZYDUSLIFE\\n...\n",
       "6430851    0             HAVELLS\\n1           ZYDUSLIFE\\n...\n",
       "6430852    0             HAVELLS\\n1           ZYDUSLIFE\\n...\n",
       "6430853    0             HAVELLS\\n1           ZYDUSLIFE\\n...\n",
       "6430854    0             HAVELLS\\n1           ZYDUSLIFE\\n...\n",
       "Name: Identifier, Length: 6430855, dtype: object"
      ]
     },
     "execution_count": 442,
     "metadata": {},
     "output_type": "execute_result"
    }
   ],
   "source": [
    "data_test[DerivativesBaseColumns.Identifier]"
   ]
  },
  {
   "cell_type": "code",
   "execution_count": 431,
   "metadata": {},
   "outputs": [],
   "source": [
    "data_test[DerivativesBaseColumns.Identifier] = str(data_test[DerivativesBaseColumns.Identifier])\n",
    "data_test[DerivativesBaseColumns.OptionType] = str(data_test[DerivativesBaseColumns.OptionType])\n",
    "data_test[DerivativesBaseColumns.ExpiryDate] = pd.to_datetime(data_test[DerivativesBaseColumns.ExpiryDate])\n",
    "data_test[DerivativesBaseColumns.Date] = pd.to_datetime(data_test[DerivativesBaseColumns.Date])"
   ]
  },
  {
   "cell_type": "code",
   "execution_count": 438,
   "metadata": {},
   "outputs": [
    {
     "data": {
      "text/html": [
       "<div>\n",
       "<style scoped>\n",
       "    .dataframe tbody tr th:only-of-type {\n",
       "        vertical-align: middle;\n",
       "    }\n",
       "\n",
       "    .dataframe tbody tr th {\n",
       "        vertical-align: top;\n",
       "    }\n",
       "\n",
       "    .dataframe thead th {\n",
       "        text-align: right;\n",
       "    }\n",
       "</style>\n",
       "<table border=\"1\" class=\"dataframe\">\n",
       "  <thead>\n",
       "    <tr style=\"text-align: right;\">\n",
       "      <th></th>\n",
       "      <th>FinInstrmNm</th>\n",
       "      <th>Identifier</th>\n",
       "      <th>ExpiryDate</th>\n",
       "      <th>StrkPric</th>\n",
       "      <th>OptionType</th>\n",
       "      <th>PreviousClose</th>\n",
       "      <th>Open</th>\n",
       "      <th>High</th>\n",
       "      <th>Low</th>\n",
       "      <th>Close</th>\n",
       "      <th>...</th>\n",
       "      <th>LotSize</th>\n",
       "      <th>CloseToPrevCloseChangePerc</th>\n",
       "      <th>OpenToPrevCloseChangePerc</th>\n",
       "      <th>PreviousCloseAmount</th>\n",
       "      <th>OpenAmount</th>\n",
       "      <th>CloseAmount</th>\n",
       "      <th>HighAmount</th>\n",
       "      <th>LowAmount</th>\n",
       "      <th>AmountDiffOpenToPrevClose</th>\n",
       "      <th>AmountDiffCloseToPrevClose</th>\n",
       "    </tr>\n",
       "  </thead>\n",
       "  <tbody>\n",
       "  </tbody>\n",
       "</table>\n",
       "<p>0 rows × 50 columns</p>\n",
       "</div>"
      ],
      "text/plain": [
       "Empty DataFrame\n",
       "Columns: [FinInstrmNm, Identifier, ExpiryDate, StrkPric, OptionType, PreviousClose, Open, High, Low, Close, SttlmPric, AvrgPric, Turnover (Rs. Cr.), TtlTrfVal, OpenInterest, ChngInOpnIntrst, OiChangePerc, RptgDt, CostOfCrryPctg, MrgnPctg, Mrgn, IsTradd, LastTradgDt, PrmOrDscnt, PrmOrDscntPctg, TradRegnOrgn, MktTpandId, FinInstrmId, LftmHgh, LftmLw, UnitOfMeasr, TtlNbOfTxsExctd, Ccy, Rsvd01, Rsvd02, Rsvd03, Rsvd04, Rsvd05, Date, SYMBOL, LotSize, CloseToPrevCloseChangePerc, OpenToPrevCloseChangePerc, PreviousCloseAmount, OpenAmount, CloseAmount, HighAmount, LowAmount, AmountDiffOpenToPrevClose, AmountDiffCloseToPrevClose]\n",
       "Index: []\n",
       "\n",
       "[0 rows x 50 columns]"
      ]
     },
     "execution_count": 438,
     "metadata": {},
     "output_type": "execute_result"
    }
   ],
   "source": [
    "data_range = [pd.to_datetime(datetime.date.today() - datetime.timedelta(days=7)), pd.to_datetime(datetime.date.today())]\n",
    "data_test[\n",
    "    (data_test[DerivativesBaseColumns.Identifier] == 'TATAMOTORS')\n",
    "    & (data_test[DerivativesBaseColumns.OptionType] == 'PE')\n",
    "    & (data_test[DerivativesBaseColumns.ExpiryDate] == '31-Aug-2023')\n",
    "    & (data_test[DerivativesBaseColumns.StrikePrice] == 600)\n",
    "    & (data_test[DerivativesBaseColumns.Date].between(data_range[0], data_range[1]))\n",
    "]"
   ]
  },
  {
   "cell_type": "code",
   "execution_count": 409,
   "metadata": {},
   "outputs": [],
   "source": [
    "data_test = data_test.reset_index(drop=True)\n",
    "data_test.set_index([DerivativesBaseColumns.Identifier, DerivativesBaseColumns.OptionType, DerivativesBaseColumns.ExpiryDate, DerivativesBaseColumns.Date, DerivativesBaseColumns.StrikePrice], drop=False, inplace=True)"
   ]
  },
  {
   "cell_type": "code",
   "execution_count": 418,
   "metadata": {},
   "outputs": [
    {
     "ename": "ValueError",
     "evalue": "Length of names must match number of levels in MultiIndex.",
     "output_type": "error",
     "traceback": [
      "\u001b[1;31m---------------------------------------------------------------------------\u001b[0m",
      "\u001b[1;31mValueError\u001b[0m                                Traceback (most recent call last)",
      "\u001b[1;32mc:\\Data\\_Personal\\Projects\\markets-data-manager\\test\\derivatives.ipynb Cell 44\u001b[0m in \u001b[0;36m<cell line: 1>\u001b[1;34m()\u001b[0m\n\u001b[1;32m----> <a href='vscode-notebook-cell:/c%3A/Data/_Personal/Projects/markets-data-manager/test/derivatives.ipynb#Y151sZmlsZQ%3D%3D?line=0'>1</a>\u001b[0m mi \u001b[39m=\u001b[39m pd\u001b[39m.\u001b[39;49mMultiIndex\u001b[39m.\u001b[39;49mfrom_frame(data_test, \n\u001b[0;32m      <a href='vscode-notebook-cell:/c%3A/Data/_Personal/Projects/markets-data-manager/test/derivatives.ipynb#Y151sZmlsZQ%3D%3D?line=1'>2</a>\u001b[0m                               names\u001b[39m=\u001b[39;49m[DerivativesBaseColumns\u001b[39m.\u001b[39;49mIdentifier, DerivativesBaseColumns\u001b[39m.\u001b[39;49mOptionType, DerivativesBaseColumns\u001b[39m.\u001b[39;49mExpiryDate, DerivativesBaseColumns\u001b[39m.\u001b[39;49mStrikePrice, DerivativesBaseColumns\u001b[39m.\u001b[39;49mDate])\n",
      "File \u001b[1;32mc:\\Users\\NRohra\\Anaconda3\\lib\\site-packages\\pandas\\core\\indexes\\multi.py:708\u001b[0m, in \u001b[0;36mMultiIndex.from_frame\u001b[1;34m(cls, df, sortorder, names)\u001b[0m\n\u001b[0;32m    706\u001b[0m column_names, columns \u001b[39m=\u001b[39m \u001b[39mzip\u001b[39m(\u001b[39m*\u001b[39mdf\u001b[39m.\u001b[39mitems())\n\u001b[0;32m    707\u001b[0m names \u001b[39m=\u001b[39m column_names \u001b[39mif\u001b[39;00m names \u001b[39mis\u001b[39;00m \u001b[39mNone\u001b[39;00m \u001b[39melse\u001b[39;00m names\n\u001b[1;32m--> 708\u001b[0m \u001b[39mreturn\u001b[39;00m \u001b[39mcls\u001b[39;49m\u001b[39m.\u001b[39;49mfrom_arrays(columns, sortorder\u001b[39m=\u001b[39;49msortorder, names\u001b[39m=\u001b[39;49mnames)\n",
      "File \u001b[1;32mc:\\Users\\NRohra\\Anaconda3\\lib\\site-packages\\pandas\\core\\indexes\\multi.py:493\u001b[0m, in \u001b[0;36mMultiIndex.from_arrays\u001b[1;34m(cls, arrays, sortorder, names)\u001b[0m\n\u001b[0;32m    490\u001b[0m \u001b[39mif\u001b[39;00m names \u001b[39mis\u001b[39;00m lib\u001b[39m.\u001b[39mno_default:\n\u001b[0;32m    491\u001b[0m     names \u001b[39m=\u001b[39m [\u001b[39mgetattr\u001b[39m(arr, \u001b[39m\"\u001b[39m\u001b[39mname\u001b[39m\u001b[39m\"\u001b[39m, \u001b[39mNone\u001b[39;00m) \u001b[39mfor\u001b[39;00m arr \u001b[39min\u001b[39;00m arrays]\n\u001b[1;32m--> 493\u001b[0m \u001b[39mreturn\u001b[39;00m \u001b[39mcls\u001b[39;49m(\n\u001b[0;32m    494\u001b[0m     levels\u001b[39m=\u001b[39;49mlevels,\n\u001b[0;32m    495\u001b[0m     codes\u001b[39m=\u001b[39;49mcodes,\n\u001b[0;32m    496\u001b[0m     sortorder\u001b[39m=\u001b[39;49msortorder,\n\u001b[0;32m    497\u001b[0m     names\u001b[39m=\u001b[39;49mnames,\n\u001b[0;32m    498\u001b[0m     verify_integrity\u001b[39m=\u001b[39;49m\u001b[39mFalse\u001b[39;49;00m,\n\u001b[0;32m    499\u001b[0m )\n",
      "File \u001b[1;32mc:\\Users\\NRohra\\Anaconda3\\lib\\site-packages\\pandas\\core\\indexes\\multi.py:334\u001b[0m, in \u001b[0;36mMultiIndex.__new__\u001b[1;34m(cls, levels, codes, sortorder, names, dtype, copy, name, verify_integrity)\u001b[0m\n\u001b[0;32m    331\u001b[0m result\u001b[39m.\u001b[39m_names \u001b[39m=\u001b[39m [\u001b[39mNone\u001b[39;00m] \u001b[39m*\u001b[39m \u001b[39mlen\u001b[39m(levels)\n\u001b[0;32m    332\u001b[0m \u001b[39mif\u001b[39;00m names \u001b[39mis\u001b[39;00m \u001b[39mnot\u001b[39;00m \u001b[39mNone\u001b[39;00m:\n\u001b[0;32m    333\u001b[0m     \u001b[39m# handles name validation\u001b[39;00m\n\u001b[1;32m--> 334\u001b[0m     result\u001b[39m.\u001b[39;49m_set_names(names)\n\u001b[0;32m    336\u001b[0m \u001b[39mif\u001b[39;00m sortorder \u001b[39mis\u001b[39;00m \u001b[39mnot\u001b[39;00m \u001b[39mNone\u001b[39;00m:\n\u001b[0;32m    337\u001b[0m     result\u001b[39m.\u001b[39msortorder \u001b[39m=\u001b[39m \u001b[39mint\u001b[39m(sortorder)\n",
      "File \u001b[1;32mc:\\Users\\NRohra\\Anaconda3\\lib\\site-packages\\pandas\\core\\indexes\\multi.py:1474\u001b[0m, in \u001b[0;36mMultiIndex._set_names\u001b[1;34m(self, names, level, validate)\u001b[0m\n\u001b[0;32m   1472\u001b[0m         \u001b[39mraise\u001b[39;00m \u001b[39mValueError\u001b[39;00m(\u001b[39m\"\u001b[39m\u001b[39mLength of names must match length of level.\u001b[39m\u001b[39m\"\u001b[39m)\n\u001b[0;32m   1473\u001b[0m     \u001b[39mif\u001b[39;00m level \u001b[39mis\u001b[39;00m \u001b[39mNone\u001b[39;00m \u001b[39mand\u001b[39;00m \u001b[39mlen\u001b[39m(names) \u001b[39m!=\u001b[39m \u001b[39mself\u001b[39m\u001b[39m.\u001b[39mnlevels:\n\u001b[1;32m-> 1474\u001b[0m         \u001b[39mraise\u001b[39;00m \u001b[39mValueError\u001b[39;00m(\n\u001b[0;32m   1475\u001b[0m             \u001b[39m\"\u001b[39m\u001b[39mLength of names must match number of levels in MultiIndex.\u001b[39m\u001b[39m\"\u001b[39m\n\u001b[0;32m   1476\u001b[0m         )\n\u001b[0;32m   1478\u001b[0m \u001b[39mif\u001b[39;00m level \u001b[39mis\u001b[39;00m \u001b[39mNone\u001b[39;00m:\n\u001b[0;32m   1479\u001b[0m     level \u001b[39m=\u001b[39m \u001b[39mrange\u001b[39m(\u001b[39mself\u001b[39m\u001b[39m.\u001b[39mnlevels)\n",
      "\u001b[1;31mValueError\u001b[0m: Length of names must match number of levels in MultiIndex."
     ]
    }
   ],
   "source": [
    "mi = pd.MultiIndex.from_frame(data_test, \n",
    "                              names=[DerivativesBaseColumns.Identifier, DerivativesBaseColumns.OptionType, DerivativesBaseColumns.ExpiryDate, DerivativesBaseColumns.StrikePrice, DerivativesBaseColumns.Date])"
   ]
  },
  {
   "cell_type": "code",
   "execution_count": 339,
   "metadata": {},
   "outputs": [
    {
     "name": "stdout",
     "output_type": "stream",
     "text": [
      "Total trades: 898, Final Balance: 1408458, Investment Required: 119018, ROI: 1183%\n"
     ]
    },
    {
     "data": {
      "text/plain": [
       "Identifier\n",
       "PAGEIND      -23838.00\n",
       "M&MFIN       -20200.00\n",
       "TATACONSUM   -17685.00\n",
       "ESCORTS      -16458.75\n",
       "INFY         -16340.00\n",
       "                ...   \n",
       "IDEA          52000.00\n",
       "PFC           59210.00\n",
       "INDUSTOWER    70210.00\n",
       "RECLTD        72400.00\n",
       "AUBANK        78200.00\n",
       "Name: Credit, Length: 164, dtype: float64"
      ]
     },
     "metadata": {},
     "output_type": "display_data"
    }
   ],
   "source": [
    "display_outcome(trades_ce)"
   ]
  },
  {
   "cell_type": "code",
   "execution_count": 341,
   "metadata": {},
   "outputs": [
    {
     "data": {
      "text/html": [
       "<div>\n",
       "<style scoped>\n",
       "    .dataframe tbody tr th:only-of-type {\n",
       "        vertical-align: middle;\n",
       "    }\n",
       "\n",
       "    .dataframe tbody tr th {\n",
       "        vertical-align: top;\n",
       "    }\n",
       "\n",
       "    .dataframe thead th {\n",
       "        text-align: right;\n",
       "    }\n",
       "</style>\n",
       "<table border=\"1\" class=\"dataframe\">\n",
       "  <thead>\n",
       "    <tr style=\"text-align: right;\">\n",
       "      <th></th>\n",
       "      <th>Identifier</th>\n",
       "      <th>Date</th>\n",
       "      <th>reason</th>\n",
       "    </tr>\n",
       "  </thead>\n",
       "  <tbody>\n",
       "    <tr>\n",
       "      <th>9</th>\n",
       "      <td>INDIAMART</td>\n",
       "      <td>2023-01-25</td>\n",
       "      <td>No Entry</td>\n",
       "    </tr>\n",
       "    <tr>\n",
       "      <th>15</th>\n",
       "      <td>COFORGE</td>\n",
       "      <td>2023-01-30</td>\n",
       "      <td>No Entry</td>\n",
       "    </tr>\n",
       "    <tr>\n",
       "      <th>17</th>\n",
       "      <td>HCLTECH</td>\n",
       "      <td>2023-01-30</td>\n",
       "      <td>No Entry</td>\n",
       "    </tr>\n",
       "    <tr>\n",
       "      <th>19</th>\n",
       "      <td>MFSL</td>\n",
       "      <td>2023-01-31</td>\n",
       "      <td>No Entry</td>\n",
       "    </tr>\n",
       "    <tr>\n",
       "      <th>41</th>\n",
       "      <td>OBEROIRLTY</td>\n",
       "      <td>2023-02-16</td>\n",
       "      <td>No Entry</td>\n",
       "    </tr>\n",
       "  </tbody>\n",
       "</table>\n",
       "</div>"
      ],
      "text/plain": [
       "    Identifier       Date    reason\n",
       "9    INDIAMART 2023-01-25  No Entry\n",
       "15     COFORGE 2023-01-30  No Entry\n",
       "17     HCLTECH 2023-01-30  No Entry\n",
       "19        MFSL 2023-01-31  No Entry\n",
       "41  OBEROIRLTY 2023-02-16  No Entry"
      ]
     },
     "execution_count": 341,
     "metadata": {},
     "output_type": "execute_result"
    }
   ],
   "source": [
    "non_tradables_pe.groupby('reason').count()"
   ]
  },
  {
   "cell_type": "code",
   "execution_count": 384,
   "metadata": {},
   "outputs": [
    {
     "data": {
      "text/html": [
       "<div>\n",
       "<style scoped>\n",
       "    .dataframe tbody tr th:only-of-type {\n",
       "        vertical-align: middle;\n",
       "    }\n",
       "\n",
       "    .dataframe tbody tr th {\n",
       "        vertical-align: top;\n",
       "    }\n",
       "\n",
       "    .dataframe thead th {\n",
       "        text-align: right;\n",
       "    }\n",
       "</style>\n",
       "<table border=\"1\" class=\"dataframe\">\n",
       "  <thead>\n",
       "    <tr style=\"text-align: right;\">\n",
       "      <th></th>\n",
       "      <th>Date</th>\n",
       "      <th>StrkPric</th>\n",
       "      <th>CloseAmount</th>\n",
       "      <th>OpenInterest</th>\n",
       "      <th>LotSize</th>\n",
       "    </tr>\n",
       "  </thead>\n",
       "  <tbody>\n",
       "    <tr>\n",
       "      <th>4299397</th>\n",
       "      <td>2023-06-06</td>\n",
       "      <td>610.0</td>\n",
       "      <td>144566.25</td>\n",
       "      <td>0.0</td>\n",
       "      <td>1425.0</td>\n",
       "    </tr>\n",
       "    <tr>\n",
       "      <th>4345390</th>\n",
       "      <td>2023-06-07</td>\n",
       "      <td>610.0</td>\n",
       "      <td>144566.25</td>\n",
       "      <td>0.0</td>\n",
       "      <td>1425.0</td>\n",
       "    </tr>\n",
       "    <tr>\n",
       "      <th>4383953</th>\n",
       "      <td>2023-06-08</td>\n",
       "      <td>610.0</td>\n",
       "      <td>144566.25</td>\n",
       "      <td>0.0</td>\n",
       "      <td>1425.0</td>\n",
       "    </tr>\n",
       "    <tr>\n",
       "      <th>4449566</th>\n",
       "      <td>2023-06-09</td>\n",
       "      <td>610.0</td>\n",
       "      <td>144566.25</td>\n",
       "      <td>0.0</td>\n",
       "      <td>1425.0</td>\n",
       "    </tr>\n",
       "    <tr>\n",
       "      <th>4501627</th>\n",
       "      <td>2023-06-12</td>\n",
       "      <td>610.0</td>\n",
       "      <td>144566.25</td>\n",
       "      <td>0.0</td>\n",
       "      <td>1425.0</td>\n",
       "    </tr>\n",
       "    <tr>\n",
       "      <th>4547051</th>\n",
       "      <td>2023-06-13</td>\n",
       "      <td>610.0</td>\n",
       "      <td>144566.25</td>\n",
       "      <td>0.0</td>\n",
       "      <td>1425.0</td>\n",
       "    </tr>\n",
       "    <tr>\n",
       "      <th>4617586</th>\n",
       "      <td>2023-06-14</td>\n",
       "      <td>610.0</td>\n",
       "      <td>144566.25</td>\n",
       "      <td>0.0</td>\n",
       "      <td>1425.0</td>\n",
       "    </tr>\n",
       "    <tr>\n",
       "      <th>4670163</th>\n",
       "      <td>2023-06-15</td>\n",
       "      <td>610.0</td>\n",
       "      <td>144566.25</td>\n",
       "      <td>0.0</td>\n",
       "      <td>1425.0</td>\n",
       "    </tr>\n",
       "    <tr>\n",
       "      <th>4672618</th>\n",
       "      <td>2023-06-16</td>\n",
       "      <td>610.0</td>\n",
       "      <td>144566.25</td>\n",
       "      <td>0.0</td>\n",
       "      <td>1425.0</td>\n",
       "    </tr>\n",
       "    <tr>\n",
       "      <th>4748114</th>\n",
       "      <td>2023-06-19</td>\n",
       "      <td>610.0</td>\n",
       "      <td>144566.25</td>\n",
       "      <td>0.0</td>\n",
       "      <td>1425.0</td>\n",
       "    </tr>\n",
       "    <tr>\n",
       "      <th>4824710</th>\n",
       "      <td>2023-06-20</td>\n",
       "      <td>610.0</td>\n",
       "      <td>144566.25</td>\n",
       "      <td>0.0</td>\n",
       "      <td>1425.0</td>\n",
       "    </tr>\n",
       "    <tr>\n",
       "      <th>4839424</th>\n",
       "      <td>2023-06-21</td>\n",
       "      <td>610.0</td>\n",
       "      <td>144566.25</td>\n",
       "      <td>0.0</td>\n",
       "      <td>1425.0</td>\n",
       "    </tr>\n",
       "    <tr>\n",
       "      <th>4900622</th>\n",
       "      <td>2023-06-22</td>\n",
       "      <td>610.0</td>\n",
       "      <td>144566.25</td>\n",
       "      <td>0.0</td>\n",
       "      <td>1425.0</td>\n",
       "    </tr>\n",
       "    <tr>\n",
       "      <th>4936981</th>\n",
       "      <td>2023-06-23</td>\n",
       "      <td>610.0</td>\n",
       "      <td>144566.25</td>\n",
       "      <td>0.0</td>\n",
       "      <td>1425.0</td>\n",
       "    </tr>\n",
       "    <tr>\n",
       "      <th>5015446</th>\n",
       "      <td>2023-06-26</td>\n",
       "      <td>610.0</td>\n",
       "      <td>144566.25</td>\n",
       "      <td>0.0</td>\n",
       "      <td>1425.0</td>\n",
       "    </tr>\n",
       "    <tr>\n",
       "      <th>5049675</th>\n",
       "      <td>2023-06-27</td>\n",
       "      <td>610.0</td>\n",
       "      <td>144566.25</td>\n",
       "      <td>0.0</td>\n",
       "      <td>1425.0</td>\n",
       "    </tr>\n",
       "    <tr>\n",
       "      <th>5142477</th>\n",
       "      <td>2023-06-28</td>\n",
       "      <td>610.0</td>\n",
       "      <td>144566.25</td>\n",
       "      <td>0.0</td>\n",
       "      <td>1425.0</td>\n",
       "    </tr>\n",
       "    <tr>\n",
       "      <th>5193596</th>\n",
       "      <td>2023-06-30</td>\n",
       "      <td>610.0</td>\n",
       "      <td>144566.25</td>\n",
       "      <td>0.0</td>\n",
       "      <td>1425.0</td>\n",
       "    </tr>\n",
       "    <tr>\n",
       "      <th>5215242</th>\n",
       "      <td>2023-07-03</td>\n",
       "      <td>610.0</td>\n",
       "      <td>144566.25</td>\n",
       "      <td>0.0</td>\n",
       "      <td>1425.0</td>\n",
       "    </tr>\n",
       "    <tr>\n",
       "      <th>5290656</th>\n",
       "      <td>2023-07-04</td>\n",
       "      <td>610.0</td>\n",
       "      <td>43747.50</td>\n",
       "      <td>1425.0</td>\n",
       "      <td>1425.0</td>\n",
       "    </tr>\n",
       "    <tr>\n",
       "      <th>5328285</th>\n",
       "      <td>2023-07-05</td>\n",
       "      <td>610.0</td>\n",
       "      <td>43747.50</td>\n",
       "      <td>1425.0</td>\n",
       "      <td>1425.0</td>\n",
       "    </tr>\n",
       "    <tr>\n",
       "      <th>5379541</th>\n",
       "      <td>2023-07-06</td>\n",
       "      <td>610.0</td>\n",
       "      <td>43747.50</td>\n",
       "      <td>1425.0</td>\n",
       "      <td>1425.0</td>\n",
       "    </tr>\n",
       "    <tr>\n",
       "      <th>5428062</th>\n",
       "      <td>2023-07-07</td>\n",
       "      <td>610.0</td>\n",
       "      <td>36123.75</td>\n",
       "      <td>7125.0</td>\n",
       "      <td>1425.0</td>\n",
       "    </tr>\n",
       "    <tr>\n",
       "      <th>5490944</th>\n",
       "      <td>2023-07-10</td>\n",
       "      <td>610.0</td>\n",
       "      <td>27787.50</td>\n",
       "      <td>9975.0</td>\n",
       "      <td>1425.0</td>\n",
       "    </tr>\n",
       "    <tr>\n",
       "      <th>5524488</th>\n",
       "      <td>2023-07-11</td>\n",
       "      <td>610.0</td>\n",
       "      <td>28927.50</td>\n",
       "      <td>9975.0</td>\n",
       "      <td>1425.0</td>\n",
       "    </tr>\n",
       "    <tr>\n",
       "      <th>5562055</th>\n",
       "      <td>2023-07-12</td>\n",
       "      <td>610.0</td>\n",
       "      <td>31492.50</td>\n",
       "      <td>15675.0</td>\n",
       "      <td>1425.0</td>\n",
       "    </tr>\n",
       "    <tr>\n",
       "      <th>5665002</th>\n",
       "      <td>2023-07-13</td>\n",
       "      <td>610.0</td>\n",
       "      <td>33060.00</td>\n",
       "      <td>18525.0</td>\n",
       "      <td>1425.0</td>\n",
       "    </tr>\n",
       "    <tr>\n",
       "      <th>5676134</th>\n",
       "      <td>2023-07-14</td>\n",
       "      <td>610.0</td>\n",
       "      <td>33060.00</td>\n",
       "      <td>18525.0</td>\n",
       "      <td>1425.0</td>\n",
       "    </tr>\n",
       "    <tr>\n",
       "      <th>5774187</th>\n",
       "      <td>2023-07-17</td>\n",
       "      <td>610.0</td>\n",
       "      <td>30352.50</td>\n",
       "      <td>19950.0</td>\n",
       "      <td>1425.0</td>\n",
       "    </tr>\n",
       "    <tr>\n",
       "      <th>5818863</th>\n",
       "      <td>2023-07-18</td>\n",
       "      <td>610.0</td>\n",
       "      <td>35411.25</td>\n",
       "      <td>86925.0</td>\n",
       "      <td>1425.0</td>\n",
       "    </tr>\n",
       "    <tr>\n",
       "      <th>5832409</th>\n",
       "      <td>2023-07-19</td>\n",
       "      <td>610.0</td>\n",
       "      <td>31706.25</td>\n",
       "      <td>111150.0</td>\n",
       "      <td>1425.0</td>\n",
       "    </tr>\n",
       "    <tr>\n",
       "      <th>5912259</th>\n",
       "      <td>2023-07-20</td>\n",
       "      <td>610.0</td>\n",
       "      <td>30067.50</td>\n",
       "      <td>136800.0</td>\n",
       "      <td>1425.0</td>\n",
       "    </tr>\n",
       "    <tr>\n",
       "      <th>5964894</th>\n",
       "      <td>2023-07-21</td>\n",
       "      <td>610.0</td>\n",
       "      <td>26647.50</td>\n",
       "      <td>146775.0</td>\n",
       "      <td>1425.0</td>\n",
       "    </tr>\n",
       "    <tr>\n",
       "      <th>6001895</th>\n",
       "      <td>2023-07-24</td>\n",
       "      <td>610.0</td>\n",
       "      <td>23298.75</td>\n",
       "      <td>283575.0</td>\n",
       "      <td>1425.0</td>\n",
       "    </tr>\n",
       "    <tr>\n",
       "      <th>6099109</th>\n",
       "      <td>2023-07-25</td>\n",
       "      <td>610.0</td>\n",
       "      <td>17527.50</td>\n",
       "      <td>430350.0</td>\n",
       "      <td>1425.0</td>\n",
       "    </tr>\n",
       "    <tr>\n",
       "      <th>6161021</th>\n",
       "      <td>2023-07-26</td>\n",
       "      <td>610.0</td>\n",
       "      <td>13466.25</td>\n",
       "      <td>538650.0</td>\n",
       "      <td>1425.0</td>\n",
       "    </tr>\n",
       "    <tr>\n",
       "      <th>6221483</th>\n",
       "      <td>2023-07-27</td>\n",
       "      <td>610.0</td>\n",
       "      <td>11400.00</td>\n",
       "      <td>783750.0</td>\n",
       "      <td>1425.0</td>\n",
       "    </tr>\n",
       "    <tr>\n",
       "      <th>6265480</th>\n",
       "      <td>2023-07-28</td>\n",
       "      <td>610.0</td>\n",
       "      <td>12112.50</td>\n",
       "      <td>823650.0</td>\n",
       "      <td>1425.0</td>\n",
       "    </tr>\n",
       "    <tr>\n",
       "      <th>6317516</th>\n",
       "      <td>2023-07-31</td>\n",
       "      <td>610.0</td>\n",
       "      <td>8977.50</td>\n",
       "      <td>864975.0</td>\n",
       "      <td>1425.0</td>\n",
       "    </tr>\n",
       "    <tr>\n",
       "      <th>6355098</th>\n",
       "      <td>2023-08-01</td>\n",
       "      <td>610.0</td>\n",
       "      <td>8621.25</td>\n",
       "      <td>894900.0</td>\n",
       "      <td>1425.0</td>\n",
       "    </tr>\n",
       "    <tr>\n",
       "      <th>6424299</th>\n",
       "      <td>2023-08-02</td>\n",
       "      <td>610.0</td>\n",
       "      <td>16458.75</td>\n",
       "      <td>1151400.0</td>\n",
       "      <td>1425.0</td>\n",
       "    </tr>\n",
       "  </tbody>\n",
       "</table>\n",
       "</div>"
      ],
      "text/plain": [
       "              Date  StrkPric  CloseAmount  OpenInterest  LotSize\n",
       "4299397 2023-06-06     610.0    144566.25           0.0   1425.0\n",
       "4345390 2023-06-07     610.0    144566.25           0.0   1425.0\n",
       "4383953 2023-06-08     610.0    144566.25           0.0   1425.0\n",
       "4449566 2023-06-09     610.0    144566.25           0.0   1425.0\n",
       "4501627 2023-06-12     610.0    144566.25           0.0   1425.0\n",
       "4547051 2023-06-13     610.0    144566.25           0.0   1425.0\n",
       "4617586 2023-06-14     610.0    144566.25           0.0   1425.0\n",
       "4670163 2023-06-15     610.0    144566.25           0.0   1425.0\n",
       "4672618 2023-06-16     610.0    144566.25           0.0   1425.0\n",
       "4748114 2023-06-19     610.0    144566.25           0.0   1425.0\n",
       "4824710 2023-06-20     610.0    144566.25           0.0   1425.0\n",
       "4839424 2023-06-21     610.0    144566.25           0.0   1425.0\n",
       "4900622 2023-06-22     610.0    144566.25           0.0   1425.0\n",
       "4936981 2023-06-23     610.0    144566.25           0.0   1425.0\n",
       "5015446 2023-06-26     610.0    144566.25           0.0   1425.0\n",
       "5049675 2023-06-27     610.0    144566.25           0.0   1425.0\n",
       "5142477 2023-06-28     610.0    144566.25           0.0   1425.0\n",
       "5193596 2023-06-30     610.0    144566.25           0.0   1425.0\n",
       "5215242 2023-07-03     610.0    144566.25           0.0   1425.0\n",
       "5290656 2023-07-04     610.0     43747.50        1425.0   1425.0\n",
       "5328285 2023-07-05     610.0     43747.50        1425.0   1425.0\n",
       "5379541 2023-07-06     610.0     43747.50        1425.0   1425.0\n",
       "5428062 2023-07-07     610.0     36123.75        7125.0   1425.0\n",
       "5490944 2023-07-10     610.0     27787.50        9975.0   1425.0\n",
       "5524488 2023-07-11     610.0     28927.50        9975.0   1425.0\n",
       "5562055 2023-07-12     610.0     31492.50       15675.0   1425.0\n",
       "5665002 2023-07-13     610.0     33060.00       18525.0   1425.0\n",
       "5676134 2023-07-14     610.0     33060.00       18525.0   1425.0\n",
       "5774187 2023-07-17     610.0     30352.50       19950.0   1425.0\n",
       "5818863 2023-07-18     610.0     35411.25       86925.0   1425.0\n",
       "5832409 2023-07-19     610.0     31706.25      111150.0   1425.0\n",
       "5912259 2023-07-20     610.0     30067.50      136800.0   1425.0\n",
       "5964894 2023-07-21     610.0     26647.50      146775.0   1425.0\n",
       "6001895 2023-07-24     610.0     23298.75      283575.0   1425.0\n",
       "6099109 2023-07-25     610.0     17527.50      430350.0   1425.0\n",
       "6161021 2023-07-26     610.0     13466.25      538650.0   1425.0\n",
       "6221483 2023-07-27     610.0     11400.00      783750.0   1425.0\n",
       "6265480 2023-07-28     610.0     12112.50      823650.0   1425.0\n",
       "6317516 2023-07-31     610.0      8977.50      864975.0   1425.0\n",
       "6355098 2023-08-01     610.0      8621.25      894900.0   1425.0\n",
       "6424299 2023-08-02     610.0     16458.75     1151400.0   1425.0"
      ]
     },
     "execution_count": 384,
     "metadata": {},
     "output_type": "execute_result"
    }
   ],
   "source": [
    "data[\n",
    "        (data[DerivativesBaseColumns.Identifier] == 'TATAMOTORS')\n",
    "        & (data[DerivativesBaseColumns.OptionType] == 'PE')\n",
    "        & (data[DerivativesBaseColumns.StrikePrice] == 610)\n",
    "        & (data[DerivativesBaseColumns.ExpiryDate] == '31-Aug-2023')\n",
    "    ][[DerivativesBaseColumns.Date, DerivativesBaseColumns.StrikePrice, \n",
    "       DerivativesCalculatedColumns.CloseAmount, DerivativesBaseColumns.OpenInterest, DerivativesCalculatedColumns.LotSize]]"
   ]
  }
 ],
 "metadata": {
  "kernelspec": {
   "display_name": "base",
   "language": "python",
   "name": "python3"
  },
  "language_info": {
   "codemirror_mode": {
    "name": "ipython",
    "version": 3
   },
   "file_extension": ".py",
   "mimetype": "text/x-python",
   "name": "python",
   "nbconvert_exporter": "python",
   "pygments_lexer": "ipython3",
   "version": "3.9.12"
  },
  "orig_nbformat": 4
 },
 "nbformat": 4,
 "nbformat_minor": 2
}
