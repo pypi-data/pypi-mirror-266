{
 "cells": [
  {
   "cell_type": "markdown",
   "metadata": {},
   "source": [
    "# Uncertainty Estimation"
   ]
  },
  {
   "cell_type": "markdown",
   "metadata": {},
   "source": [
    "**Special thanks to Dr. Peyman Sheikhzadeh at the Tehran University Of Medical Science for providing this anonymized data**"
   ]
  },
  {
   "cell_type": "code",
   "execution_count": 1,
   "metadata": {},
   "outputs": [],
   "source": [
    "import os\n",
    "import numpy as np\n",
    "from pytomography.io.SPECT import dicom\n",
    "from pytomography.transforms.SPECT import SPECTAttenuationTransform, SPECTPSFTransform, CutOffTransform\n",
    "from pytomography.algorithms import OSEM, BSREM, PGAAMultiBedSPECT\n",
    "from pytomography.priors import RelativeDifferencePrior\n",
    "from pytomography.priors import TopNAnatomyNeighbourWeight\n",
    "from pytomography.projectors.SPECT import SPECTSystemMatrix\n",
    "from pytomography.likelihoods import PoissonLogLikelihood\n",
    "from pytomography.utils import print_collimator_parameters\n",
    "import matplotlib.pyplot as plt\n",
    "import torch\n",
    "from rt_utils import RTStructBuilder\n",
    "from pytomography.callbacks import DataStorageCallback"
   ]
  },
  {
   "cell_type": "code",
   "execution_count": 2,
   "metadata": {},
   "outputs": [],
   "source": [
    "save_path = '/disk1/pytomography_tutorial_data'"
   ]
  },
  {
   "cell_type": "markdown",
   "metadata": {},
   "source": [
    "The following code cell loads projection data and a corresponding CT file and creates a reconstruction algorithm; if you are unfamiliar with the code below or require more explanation, see that \"DICOM Data Introduction\" tutorial.\n",
    "* **The only difference is that we now get a variance estimate for the scatter in line 7 of the cell below, and then input that to the likelihood in line 22**\n",
    "* The collimator corresponding to this data is General Electric\n",
    "s medium energy general purpose collimator."
   ]
  },
  {
   "cell_type": "code",
   "execution_count": 3,
   "metadata": {},
   "outputs": [],
   "source": [
    "file_NM = os.path.join(save_path, 'dicom_multibed_tutorial', 'bed2_projections.dcm')\n",
    "path_CT = os.path.join(save_path, 'dicom_multibed_tutorial', 'CT')\n",
    "files_CT = [os.path.join(path_CT, file) for file in os.listdir(path_CT)]\n",
    "object_meta, proj_meta = dicom.get_metadata(file_NM, index_peak=1)\n",
    "projections = dicom.get_projections(file_NM)\n",
    "photopeak = projections[1].unsqueeze(0)\n",
    "scatter, scatter_variance_estimate = dicom.get_scatter_from_TEW(file_NM, index_peak=1, index_lower=3, index_upper=2, return_scatter_variance_estimate=True)\n",
    "# Build system matrix\n",
    "attenuation_map = dicom.get_attenuation_map_from_CT_slices(files_CT, file_NM, index_peak=1)\n",
    "psf_meta = dicom.get_psfmeta_from_scanner_params('GI-MEGP', energy_keV=208)\n",
    "att_transform = SPECTAttenuationTransform(attenuation_map)\n",
    "psf_transform = SPECTPSFTransform(psf_meta)\n",
    "cutoff_transform = CutOffTransform(proj=projections)\n",
    "system_matrix = SPECTSystemMatrix(\n",
    "    obj2obj_transforms = [att_transform,psf_transform],\n",
    "    proj2proj_transforms = [cutoff_transform],\n",
    "    object_meta = object_meta,\n",
    "    proj_meta = proj_meta)\n",
    "photopeak = cutoff_transform.forward(photopeak)\n",
    "scatter = cutoff_transform.forward(scatter)\n",
    "# Likelihood\n",
    "likelihood = PoissonLogLikelihood(system_matrix, photopeak, additive_term=scatter, additive_term_variance_estimate=scatter_variance_estimate)\n",
    "# Reconstruction algorithm\n",
    "recon_algorithm = OSEM(likelihood)"
   ]
  },
  {
   "cell_type": "markdown",
   "metadata": {},
   "source": [
    "Up to this point, we've created the reconstruction algorithm but we haven't performed reconstruction yet. If we plan on computing uncertainty in various VOIs, we are required to use the `DataStorageCallback` callback in the image reconstruction algorithm. This callback stores a copy of the reconstructed image at each iteration and subiteration: all this data is required when computing uncertainties later. It can be created as follows:"
   ]
  },
  {
   "cell_type": "code",
   "execution_count": 4,
   "metadata": {},
   "outputs": [],
   "source": [
    "data_storage_callback = DataStorageCallback(likelihood, torch.clone(recon_algorithm.object_prediction))"
   ]
  },
  {
   "cell_type": "markdown",
   "metadata": {},
   "source": [
    "Then we reconstruct using this callback:"
   ]
  },
  {
   "cell_type": "code",
   "execution_count": 5,
   "metadata": {},
   "outputs": [],
   "source": [
    "recon_OSEM = recon_algorithm(n_iters = 4, n_subsets = 8, callback=data_storage_callback)"
   ]
  },
  {
   "cell_type": "markdown",
   "metadata": {},
   "source": [
    "Here's a coronal maximum intensity projection of the reconstruction"
   ]
  },
  {
   "cell_type": "code",
   "execution_count": 6,
   "metadata": {},
   "outputs": [],
   "source": [
    "maximum_intensity_projection = recon_OSEM[0].max(axis=1)[0].cpu()"
   ]
  },
  {
   "cell_type": "code",
   "execution_count": 7,
   "metadata": {},
   "outputs": [
    {
     "data": {
      "image/png": "[encoded data removed]",
      "text/plain": [
       "<Figure size 400x400 with 1 Axes>"
      ]
     },
     "metadata": {},
     "output_type": "display_data"
    }
   ],
   "source": [
    "plt.figure(figsize=(4,4))\n",
    "plt.pcolormesh(maximum_intensity_projection.T, cmap='Greys', vmax=4)\n",
    "plt.axis('off')\n",
    "plt.show()"
   ]
  },
  {
   "cell_type": "markdown",
   "metadata": {},
   "source": [
    "Suppose we want to estimate the uncertainty in activity in one of the kidneys. Let's obtain it from an RTStruct file containing segmentations of all the organs. (The cell below is not required for this, but it will allow us to determine the mask names contained in the RTStruct file):"
   ]
  },
  {
   "cell_type": "code",
   "execution_count": 8,
   "metadata": {},
   "outputs": [
    {
     "name": "stdout",
     "output_type": "stream",
     "text": [
      "['spleen', 'kidney_right', 'kidney_left', 'gallbladder', 'liver', 'stomach', 'pancreas', 'adrenal_gland_right', 'adrenal_gland_left', 'lung_upper_lobe_left', 'lung_lower_lobe_left', 'lung_upper_lobe_right', 'lung_middle_lobe_right', 'lung_lower_lobe_right', 'esophagus', 'trachea', 'thyroid_gland', 'small_bowel', 'duodenum', 'colon', 'urinary_bladder', 'sacrum', 'vertebrae_S1', 'vertebrae_L5', 'vertebrae_L4', 'vertebrae_L3', 'vertebrae_L2', 'vertebrae_L1', 'vertebrae_T12', 'vertebrae_T11', 'vertebrae_T10', 'vertebrae_T9', 'vertebrae_T8', 'vertebrae_T7', 'vertebrae_T6', 'vertebrae_T5', 'vertebrae_T4', 'vertebrae_T3', 'vertebrae_T2', 'vertebrae_T1', 'vertebrae_C7', 'vertebrae_C6', 'vertebrae_C5', 'vertebrae_C4', 'vertebrae_C3', 'vertebrae_C2', 'vertebrae_C1', 'heart', 'aorta', 'pulmonary_vein', 'brachiocephalic_trunk', 'subclavian_artery_right', 'subclavian_artery_left', 'common_carotid_artery_right', 'common_carotid_artery_left', 'brachiocephalic_vein_left', 'brachiocephalic_vein_right', 'atrial_appendage_left', 'superior_vena_cava', 'inferior_vena_cava', 'portal_vein_and_splenic_vein', 'iliac_artery_left', 'iliac_artery_right', 'iliac_vena_left', 'iliac_vena_right', 'humerus_left', 'humerus_right', 'scapula_left', 'scapula_right', 'clavicula_left', 'clavicula_right', 'femur_right', 'hip_left', 'hip_right', 'spinal_cord', 'gluteus_maximus_left', 'gluteus_maximus_right', 'gluteus_medius_left', 'gluteus_medius_right', 'gluteus_minimus_left', 'gluteus_minimus_right', 'autochthon_left', 'autochthon_right', 'iliopsoas_left', 'iliopsoas_right', 'brain', 'skull', 'rib_right_4', 'rib_right_3', 'rib_left_1', 'rib_left_2', 'rib_left_3', 'rib_left_4', 'rib_left_5', 'rib_left_6', 'rib_left_7', 'rib_left_8', 'rib_left_9', 'rib_left_10', 'rib_left_11', 'rib_left_12', 'rib_right_1', 'rib_right_2', 'rib_right_5', 'rib_right_6', 'rib_right_7', 'rib_right_8', 'rib_right_9', 'rib_right_10', 'rib_right_11', 'rib_right_12', 'sternum', 'costal_cartilages']\n"
     ]
    }
   ],
   "source": [
    "file_RT = os.path.join(save_path, 'dicom_multibed_tutorial', 'segmentations.dcm')\n",
    "rtstruct = RTStructBuilder.create_from(\n",
    "        dicom_series_path=path_CT, \n",
    "        rt_struct_path=file_RT\n",
    "    )\n",
    "print(rtstruct.get_roi_names())"
   ]
  },
  {
   "cell_type": "markdown",
   "metadata": {},
   "source": [
    "We can see the `'kidney_right'` is listed as one of the available masks. We can obtain this mask as follows:\n",
    "* `file_RT` is the path to the RTStruct file\n",
    "* `file_NM` is the path the the SPECT projection data; this is required for aligning the mask\n",
    "* `dicom_series_path` is the reference DICOM path of the RTStruct\n",
    "* `rt_struct_name` is the name of the RTStruct we wish to open"
   ]
  },
  {
   "cell_type": "code",
   "execution_count": 9,
   "metadata": {},
   "outputs": [],
   "source": [
    "mask_name = 'kidney_left'\n",
    "kidney_mask = dicom.get_aligned_rtstruct(\n",
    "    file_RT = file_RT,\n",
    "    file_NM = file_NM,\n",
    "    dicom_series_path = path_CT,\n",
    "    rt_struct_name = mask_name\n",
    ")"
   ]
  },
  {
   "cell_type": "markdown",
   "metadata": {},
   "source": [
    "We can compute the relative and absolute uncertainty corresponding to counts in this region using the `compute_uncertainty` function of the reconstruction algorithm. We also need to pass in the `DataStorageCallback` which contains every iterative update to the objects."
   ]
  },
  {
   "cell_type": "code",
   "execution_count": 10,
   "metadata": {},
   "outputs": [
    {
     "data": {
      "text/plain": [
       "<bound method LinearPreconditionedGradientAscentAlgorithm.compute_uncertainty of <pytomography.algorithms.preconditioned_gradient_ascent.OSEM object at 0x7fb77dbf1bd0>>"
      ]
     },
     "execution_count": 10,
     "metadata": {},
     "output_type": "execute_result"
    }
   ],
   "source": [
    "recon_algorithm.compute_uncertainty"
   ]
  },
  {
   "cell_type": "code",
   "execution_count": 11,
   "metadata": {},
   "outputs": [
    {
     "name": "stdout",
     "output_type": "stream",
     "text": [
      "Estimated uncertainty in kidney_left: 0.94%\n"
     ]
    }
   ],
   "source": [
    "uncertainty_abs, uncertainty_pct = recon_algorithm.compute_uncertainty(\n",
    "    mask = kidney_mask,\n",
    "    data_storage_callback = data_storage_callback,\n",
    "    return_pct = True\n",
    ")\n",
    "print(f'Estimated uncertainty in {mask_name}: {uncertainty_pct:.2f}%')"
   ]
  },
  {
   "cell_type": "markdown",
   "metadata": {},
   "source": [
    "This can be repeated for any of the masks above! In addition, you can play around the with iterations, subsets (or even try different reconstruction algorithms) and see how it effects the estimated uncertainty."
   ]
  },
  {
   "cell_type": "markdown",
   "metadata": {},
   "source": [
    "## Multiple Bed Positions"
   ]
  },
  {
   "cell_type": "markdown",
   "metadata": {},
   "source": [
    "PyTomography is also capable of uncertainty estimation in masks that are contained in two seperate bed positions. This uncertainty estimation takes into account the stitching weights between two different bed positions (if the mask is near the edge) when computing the organ variance in each seperate region.\n",
    "\n",
    "* The code below is a summary of the multibed position tutorial, except that we now include a DataStorageCallback for each bed position"
   ]
  },
  {
   "cell_type": "code",
   "execution_count": 12,
   "metadata": {},
   "outputs": [],
   "source": [
    "files_NM = [\n",
    "    os.path.join(save_path, 'dicom_multibed_tutorial', 'bed1_projections.dcm'),\n",
    "    os.path.join(save_path, 'dicom_multibed_tutorial', 'bed2_projections.dcm'),\n",
    "]\n",
    "path_CT = os.path.join(save_path, 'dicom_multibed_tutorial', 'CT')\n",
    "files_CT = [os.path.join(path_CT, file) for file in os.listdir(path_CT)]\n",
    "\n",
    "def reconstruct_singlebed(file_NM, files_CT):\n",
    "    object_meta, proj_meta = dicom.get_metadata(file_NM, index_peak=1)\n",
    "    projections = dicom.get_projections(file_NM)\n",
    "    photopeak = projections[1].unsqueeze(0)\n",
    "    scatter, scatter_variance_estimate = dicom.get_scatter_from_TEW(file_NM, index_peak=1, index_lower=3, index_upper=2, return_scatter_variance_estimate=True)\n",
    "    # Build system matrix\n",
    "    attenuation_map = dicom.get_attenuation_map_from_CT_slices(files_CT, file_NM, index_peak=1)\n",
    "    psf_meta = dicom.get_psfmeta_from_scanner_params('GI-MEGP', energy_keV=208)\n",
    "    att_transform = SPECTAttenuationTransform(attenuation_map)\n",
    "    psf_transform = SPECTPSFTransform(psf_meta)\n",
    "    cutoff_transform = CutOffTransform(proj=projections)\n",
    "    # Create system matrix\n",
    "    system_matrix = SPECTSystemMatrix(\n",
    "        obj2obj_transforms = [att_transform,psf_transform],\n",
    "        proj2proj_transforms = [cutoff_transform],\n",
    "        object_meta = object_meta,\n",
    "        proj_meta = proj_meta)\n",
    "    photopeak = cutoff_transform.forward(photopeak)\n",
    "    scatter = cutoff_transform.forward(scatter)\n",
    "    likelihood = PoissonLogLikelihood(system_matrix, photopeak, additive_term=scatter, additive_term_variance_estimate=scatter_variance_estimate)\n",
    "    reconstruction_algorithm = OSEM(likelihood)\n",
    "    return reconstruction_algorithm"
   ]
  },
  {
   "cell_type": "markdown",
   "metadata": {},
   "source": [
    "In order to compute uncertainty, we need to use the `PGAAMultiBedWrapper` reconstruction algorithm, which takes in multiple initialized reconstruction algorithms for each bed position (this class can also be used to reconstruct multiple bed positions without uncertainty as well)"
   ]
  },
  {
   "cell_type": "code",
   "execution_count": 13,
   "metadata": {},
   "outputs": [],
   "source": [
    "recon_algo_upper = reconstruct_singlebed(files_NM[0], files_CT)\n",
    "recon_algo_lower  = reconstruct_singlebed(files_NM[1], files_CT)\n",
    "recon_algo = PGAAMultiBedSPECT(files_NM, [recon_algo_upper, recon_algo_lower])\n",
    "# Initialize callback for each bed position\n",
    "callbacks = [DataStorageCallback(r.likelihood, r.object_prediction) for r in recon_algo.reconstruction_algorithms]\n",
    "reconstructed_image_multibed = recon_algo(4, 8, callback=callbacks)"
   ]
  },
  {
   "cell_type": "markdown",
   "metadata": {},
   "source": [
    "Lets plot the reconstruction (note how the liver overlaps two different bed positions, since it spans the center of the image)"
   ]
  },
  {
   "cell_type": "code",
   "execution_count": 14,
   "metadata": {},
   "outputs": [
    {
     "data": {
      "image/png": "[encoded data removed]",
      "text/plain": [
       "<Figure size 300x500 with 1 Axes>"
      ]
     },
     "metadata": {},
     "output_type": "display_data"
    }
   ],
   "source": [
    "maximum_intensity_projection = reconstructed_image_multibed[0].max(axis=1)[0].cpu()\n",
    "plt.figure(figsize=(3,5))\n",
    "plt.pcolormesh(maximum_intensity_projection.T, cmap='Greys', vmax=5)\n",
    "plt.axis('off')\n",
    "plt.show()"
   ]
  },
  {
   "cell_type": "markdown",
   "metadata": {},
   "source": [
    "When we obtain the organ mask, we need to \n",
    "1. Specify the shape as the shape of the reconstructed image (not the batch dimension, so we use `[1:]`)\n",
    "2. Specify the `file_NM` in the most superior bed position"
   ]
  },
  {
   "cell_type": "code",
   "execution_count": 15,
   "metadata": {},
   "outputs": [],
   "source": [
    "mask_name = 'liver'\n",
    "kidney_mask = dicom.get_aligned_rtstruct(\n",
    "    file_RT = file_RT,\n",
    "    file_NM = files_NM[0],\n",
    "    dicom_series_path = path_CT,\n",
    "    rt_struct_name = mask_name,\n",
    "    shape=reconstructed_image_multibed.shape[1:]\n",
    ")"
   ]
  },
  {
   "cell_type": "markdown",
   "metadata": {},
   "source": [
    "Now we can compute the uncertainty in the liver, which spans both bed positions"
   ]
  },
  {
   "cell_type": "code",
   "execution_count": 16,
   "metadata": {},
   "outputs": [],
   "source": [
    "uncertainty_abs, uncertainty_pct = recon_algo.compute_uncertainty(kidney_mask, callbacks, return_pct=True)"
   ]
  },
  {
   "cell_type": "code",
   "execution_count": 17,
   "metadata": {},
   "outputs": [
    {
     "name": "stdout",
     "output_type": "stream",
     "text": [
      "Estimated uncertainty in liver: 0.59%\n"
     ]
    }
   ],
   "source": [
    "print(f'Estimated uncertainty in {mask_name}: {uncertainty_pct:.2f}%')"
   ]
  }
 ],
 "metadata": {
  "kernelspec": {
   "display_name": "pytomo_install_test",
   "language": "python",
   "name": "python3"
  },
  "language_info": {
   "codemirror_mode": {
    "name": "ipython",
    "version": 3
   },
   "file_extension": ".py",
   "mimetype": "text/x-python",
   "name": "python",
   "nbconvert_exporter": "python",
   "pygments_lexer": "ipython3",
   "version": "3.11.6"
  }
 },
 "nbformat": 4,
 "nbformat_minor": 2
}
