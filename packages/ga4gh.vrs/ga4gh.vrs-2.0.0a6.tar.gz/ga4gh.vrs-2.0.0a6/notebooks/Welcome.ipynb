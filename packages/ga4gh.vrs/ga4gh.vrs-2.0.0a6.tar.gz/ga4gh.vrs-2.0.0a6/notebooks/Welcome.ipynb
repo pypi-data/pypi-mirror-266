{
 "cells": [
  {
   "cell_type": "markdown",
   "metadata": {},
   "source": [
    "# Welcome!\n",
    "\n",
    "Welcome to the guided tour for the GA4GH Variation Representation.\n",
    "\n",
    "For more information about the schema and motivation, please see https://vr-spec.readthedocs.io/.\n",
    "\n",
    "The notebooks in this folder provide a tour of the features and capabilities of the VR technology.\n",
    "\n",
    "## Contents:\n",
    "\n",
    "* [Schema](Schema.ipynb) provides an overview of the schema itself. Objects of each type are created and used to represent variation in APOE. These variants are saved in a file for use by subsequent notebooks.\n",
    "\n",
    "* [Operations](Operations.ipynb) ...\n",
    "\n",
    "* [Extras](Extras.ipynb) ...\n"
   ]
  },
  {
   "cell_type": "code",
   "execution_count": null,
   "metadata": {},
   "outputs": [],
   "source": []
  }
 ],
 "metadata": {
  "kernelspec": {
   "display_name": "Python 3",
   "language": "python",
   "name": "python3"
  },
  "language_info": {
   "codemirror_mode": {
    "name": "ipython",
    "version": 3
   },
   "file_extension": ".py",
   "mimetype": "text/x-python",
   "name": "python",
   "nbconvert_exporter": "python",
   "pygments_lexer": "ipython3",
   "version": "3.7.3"
  }
 },
 "nbformat": 4,
 "nbformat_minor": 2
}
