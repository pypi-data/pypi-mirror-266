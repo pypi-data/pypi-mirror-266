{
 "cells": [
  {
   "cell_type": "markdown",
   "metadata": {},
   "source": [
    "## Contributed Tests/Examples\n",
    "These examples were contributed by Ronak Patel to assess the [ClinGen Allele Registry](https://reg.clinicalgenome.org/) implementation of VR."
   ]
  },
  {
   "cell_type": "code",
   "execution_count": 1,
   "metadata": {},
   "outputs": [],
   "source": [
    "from ga4gh.core import sha512t24u\n",
    "from ga4gh.vrs import __version__, ga4gh_digest, ga4gh_identify, ga4gh_serialize, models, normalize\n",
    "from ga4gh.vrs.dataproxy import SeqRepoRESTDataProxy\n",
    "from ga4gh.vrs.extras.translator import Translator\n",
    "\n",
    "seqrepo_rest_service_url = \"http://localhost:5000/seqrepo\"\n",
    "dp = SeqRepoRESTDataProxy(base_url=seqrepo_rest_service_url)\n",
    "tlr = Translator(data_proxy=dp)"
   ]
  },
  {
   "cell_type": "code",
   "execution_count": 2,
   "metadata": {},
   "outputs": [],
   "source": [
    "import pprint\n",
    "from IPython.display import HTML, display\n",
    "import tabulate\n",
    "\n",
    "def pre(o):\n",
    "    return f\"<pre>{o}</pre>\"\n",
    "def hrow(h):\n",
    "    return f\"<tr style='background:#ffc'> <th colspan=2 style='text-align:left'>{h}</th> </tr>\"\n",
    "def row(h, d):\n",
    "    return f\"<tr> <th style='background:#ffc'>{h}</th> <td style='text-align:left'>{pre(d)}</td> </tr>\""
   ]
  },
  {
   "cell_type": "code",
   "execution_count": 3,
   "metadata": {
    "scrolled": false
   },
   "outputs": [
    {
     "data": {
      "text/html": [
       "<table><tr style='background:#ffc'> <th colspan=2 style='text-align:left'><pre>NC_000013.11:g.32936732C=</pre></th> </tr><tr> <th style='background:#ffc'>json</th> <td style='text-align:left'><pre>{'_digest': 'n9ax-9x6gOC0OEt73VMYqCBfqfxG1XUH',\n",
       " 'location': {'_digest': 'v9K0mcjQVugxTDIcdi7GBJ_R6fZ1lsYq',\n",
       "              'interval': {'end': 32936732,\n",
       "                           'start': 32936731,\n",
       "                           'type': 'SimpleInterval'},\n",
       "              'sequence_id': 'ga4gh:SQ._0wi-qoDrvram155UmcSC-zA5ZK4fpLT',\n",
       "              'type': 'SequenceLocation'},\n",
       " 'state': {'sequence': 'C', 'type': 'SequenceState'},\n",
       " 'type': 'Allele'}</pre></td> </tr><tr> <th style='background:#ffc'>ga4gh serialization</th> <td style='text-align:left'><pre>b'{\"location\":\"v9K0mcjQVugxTDIcdi7GBJ_R6fZ1lsYq\",\"state\":{\"sequence\":\"C\",\"type\":\"SequenceState\"},\"type\":\"Allele\"}'</pre></td> </tr><tr> <th style='background:#ffc'>ga4gh identifier</th> <td style='text-align:left'><pre>ga4gh:VA.n9ax-9x6gOC0OEt73VMYqCBfqfxG1XUH</pre></td> </tr></table>"
      ],
      "text/plain": [
       "<IPython.core.display.HTML object>"
      ]
     },
     "metadata": {},
     "output_type": "display_data"
    },
    {
     "data": {
      "text/html": [
       "<table><tr style='background:#ffc'> <th colspan=2 style='text-align:left'><pre>NC_000007.14:g.55181320A>T</pre></th> </tr><tr> <th style='background:#ffc'>json</th> <td style='text-align:left'><pre>{'_digest': 'vU0meY5wGjpyRLCjSxCfb2Jlruyn2adL',\n",
       " 'location': {'_digest': '5D9eG-ev4fA7mYIpOpDEe-4Am1lzPZlQ',\n",
       "              'interval': {'end': 55181320,\n",
       "                           'start': 55181319,\n",
       "                           'type': 'SimpleInterval'},\n",
       "              'sequence_id': 'ga4gh:SQ.F-LrLMe1SRpfUZHkQmvkVKFEGaoDeHul',\n",
       "              'type': 'SequenceLocation'},\n",
       " 'state': {'sequence': 'T', 'type': 'SequenceState'},\n",
       " 'type': 'Allele'}</pre></td> </tr><tr> <th style='background:#ffc'>ga4gh serialization</th> <td style='text-align:left'><pre>b'{\"location\":\"5D9eG-ev4fA7mYIpOpDEe-4Am1lzPZlQ\",\"state\":{\"sequence\":\"T\",\"type\":\"SequenceState\"},\"type\":\"Allele\"}'</pre></td> </tr><tr> <th style='background:#ffc'>ga4gh identifier</th> <td style='text-align:left'><pre>ga4gh:VA.vU0meY5wGjpyRLCjSxCfb2Jlruyn2adL</pre></td> </tr></table>"
      ],
      "text/plain": [
       "<IPython.core.display.HTML object>"
      ]
     },
     "metadata": {},
     "output_type": "display_data"
    },
    {
     "data": {
      "text/html": [
       "<table><tr style='background:#ffc'> <th colspan=2 style='text-align:left'><pre>NC_000007.14:g.55181220del</pre></th> </tr><tr> <th style='background:#ffc'>json</th> <td style='text-align:left'><pre>{'_digest': 'csOXic4ezsVVEPJjM7jdcx4cCYuWNvFx',\n",
       " 'location': {'_digest': 'eDAO6enI-Mok9nCCJotVmsKzi0vwBF9t',\n",
       "              'interval': {'end': 55181220,\n",
       "                           'start': 55181219,\n",
       "                           'type': 'SimpleInterval'},\n",
       "              'sequence_id': 'ga4gh:SQ.F-LrLMe1SRpfUZHkQmvkVKFEGaoDeHul',\n",
       "              'type': 'SequenceLocation'},\n",
       " 'state': {'sequence': '', 'type': 'SequenceState'},\n",
       " 'type': 'Allele'}</pre></td> </tr><tr> <th style='background:#ffc'>ga4gh serialization</th> <td style='text-align:left'><pre>b'{\"location\":\"eDAO6enI-Mok9nCCJotVmsKzi0vwBF9t\",\"state\":{\"sequence\":\"\",\"type\":\"SequenceState\"},\"type\":\"Allele\"}'</pre></td> </tr><tr> <th style='background:#ffc'>ga4gh identifier</th> <td style='text-align:left'><pre>ga4gh:VA.csOXic4ezsVVEPJjM7jdcx4cCYuWNvFx</pre></td> </tr></table>"
      ],
      "text/plain": [
       "<IPython.core.display.HTML object>"
      ]
     },
     "metadata": {},
     "output_type": "display_data"
    },
    {
     "data": {
      "text/html": [
       "<table><tr style='background:#ffc'> <th colspan=2 style='text-align:left'><pre>NC_000007.14:g.55181230_55181231insGGCT</pre></th> </tr><tr> <th style='background:#ffc'>json</th> <td style='text-align:left'><pre>{'_digest': 'mL71zVuJ7BKsB6U825nJuGv31S84puyd',\n",
       " 'location': {'_digest': 'YRGVXC7g1ScsKl_z594KbS8FLflV3sLV',\n",
       "              'interval': {'end': 55181230,\n",
       "                           'start': 55181230,\n",
       "                           'type': 'SimpleInterval'},\n",
       "              'sequence_id': 'ga4gh:SQ.F-LrLMe1SRpfUZHkQmvkVKFEGaoDeHul',\n",
       "              'type': 'SequenceLocation'},\n",
       " 'state': {'sequence': 'GGCT', 'type': 'SequenceState'},\n",
       " 'type': 'Allele'}</pre></td> </tr><tr> <th style='background:#ffc'>ga4gh serialization</th> <td style='text-align:left'><pre>b'{\"location\":\"YRGVXC7g1ScsKl_z594KbS8FLflV3sLV\",\"state\":{\"sequence\":\"GGCT\",\"type\":\"SequenceState\"},\"type\":\"Allele\"}'</pre></td> </tr><tr> <th style='background:#ffc'>ga4gh identifier</th> <td style='text-align:left'><pre>ga4gh:VA.mL71zVuJ7BKsB6U825nJuGv31S84puyd</pre></td> </tr></table>"
      ],
      "text/plain": [
       "<IPython.core.display.HTML object>"
      ]
     },
     "metadata": {},
     "output_type": "display_data"
    }
   ],
   "source": [
    "hgvs_exprs = [\n",
    "    \"NC_000013.11:g.32936732C=\",\n",
    "    \"NC_000007.14:g.55181320A>T\",\n",
    "    \"NC_000007.14:g.55181220del\",\n",
    "    \"NC_000007.14:g.55181230_55181231insGGCT\"\n",
    "]\n",
    "\n",
    "table_blocks = []\n",
    "for hgvs_expr in hgvs_exprs:\n",
    "    a = tlr.from_hgvs(hgvs_expr)\n",
    "    table_blocks = (\n",
    "        hrow(pre(hgvs_expr)),\n",
    "        row(\"json\", pprint.pformat(a.as_dict())),\n",
    "        row(\"ga4gh serialization\", ga4gh_serialize(a)),\n",
    "        row(\"ga4gh identifier\", ga4gh_identify(a)),\n",
    "    )\n",
    "    display(HTML(\"<table>\" + \"\".join(table_blocks) + \"</table>\"))"
   ]
  }
 ],
 "metadata": {
  "kernelspec": {
   "display_name": "Python 3",
   "language": "python",
   "name": "python3"
  },
  "language_info": {
   "codemirror_mode": {
    "name": "ipython",
    "version": 3
   },
   "file_extension": ".py",
   "mimetype": "text/x-python",
   "name": "python",
   "nbconvert_exporter": "python",
   "pygments_lexer": "ipython3",
   "version": "3.7.3"
  }
 },
 "nbformat": 4,
 "nbformat_minor": 2
}
