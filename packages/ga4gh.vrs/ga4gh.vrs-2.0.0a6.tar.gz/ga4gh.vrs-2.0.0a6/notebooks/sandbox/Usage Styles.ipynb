{
 "cells": [
  {
   "cell_type": "markdown",
   "metadata": {},
   "source": [
    "# Common Uses and Use Modes\n",
    "This notebook demonstrates *proposed* VR usage styles\n",
    "\n",
    "\n",
    "LB: store gene symbol/id\n",
    "LB: variation type, other data \"just for convenience\"\n"
   ]
  },
  {
   "cell_type": "code",
   "execution_count": 37,
   "metadata": {},
   "outputs": [],
   "source": [
    "from ga4gh.core import ga4gh_identify\n",
    "from ga4gh.vrs import models\n",
    "from ga4gh.vrs.dataproxy import SeqRepoRESTDataProxy\n",
    "from ga4gh.vrs.extras.translator import Translator\n",
    "\n",
    "seqrepo_rest_service_url = \"http://localhost:5000/seqrepo\"\n",
    "\n",
    "data_proxy = SeqRepoRESTDataProxy(base_url=seqrepo_rest_service_url)\n",
    "tlr = Translator(data_proxy=data_proxy)"
   ]
  },
  {
   "cell_type": "markdown",
   "metadata": {},
   "source": [
    "# To generate unique identifiers"
   ]
  },
  {
   "cell_type": "code",
   "execution_count": 38,
   "metadata": {},
   "outputs": [],
   "source": [
    "a = tlr.from_hgvs(\"NC_000013.11:g.32936732G>A\")"
   ]
  },
  {
   "cell_type": "code",
   "execution_count": 39,
   "metadata": {},
   "outputs": [
    {
     "data": {
      "text/plain": [
       "'ga4gh:VA.mpIbo0Vv4HT-Oh3g5SWcuzAR2mue3yL-'"
      ]
     },
     "execution_count": 39,
     "metadata": {},
     "output_type": "execute_result"
    }
   ],
   "source": [
    "str(a._id)"
   ]
  },
  {
   "cell_type": "markdown",
   "metadata": {},
   "source": [
    "# As a storage or representation mechanism"
   ]
  },
  {
   "cell_type": "code",
   "execution_count": 40,
   "metadata": {},
   "outputs": [],
   "source": [
    "import json\n",
    "import redis\n",
    "db = redis.Redis()"
   ]
  },
  {
   "cell_type": "code",
   "execution_count": 41,
   "metadata": {},
   "outputs": [
    {
     "data": {
      "text/plain": [
       "'ga4gh:VA.mpIbo0Vv4HT-Oh3g5SWcuzAR2mue3yL-'"
      ]
     },
     "execution_count": 41,
     "metadata": {},
     "output_type": "execute_result"
    }
   ],
   "source": [
    "a = tlr.from_hgvs(\"NC_000013.11:g.32936732G>A\")\n",
    "a_id = str(a._id)\n",
    "a_id"
   ]
  },
  {
   "cell_type": "code",
   "execution_count": 42,
   "metadata": {},
   "outputs": [
    {
     "data": {
      "text/plain": [
       "{'_id': 'ga4gh:VA.mpIbo0Vv4HT-Oh3g5SWcuzAR2mue3yL-',\n",
       " 'location': {'interval': {'end': 32936732,\n",
       "   'start': 32936731,\n",
       "   'type': 'SimpleInterval'},\n",
       "  'sequence_id': 'ga4gh:SQ._0wi-qoDrvram155UmcSC-zA5ZK4fpLT',\n",
       "  'type': 'SequenceLocation'},\n",
       " 'state': {'sequence': 'A', 'type': 'SequenceState'},\n",
       " 'type': 'Allele'}"
      ]
     },
     "execution_count": 42,
     "metadata": {},
     "output_type": "execute_result"
    }
   ],
   "source": [
    "a_data = a.as_dict()\n",
    "a_data"
   ]
  },
  {
   "cell_type": "code",
   "execution_count": 43,
   "metadata": {},
   "outputs": [
    {
     "data": {
      "text/plain": [
       "True"
      ]
     },
     "execution_count": 43,
     "metadata": {},
     "output_type": "execute_result"
    }
   ],
   "source": [
    "# serialize object as json string, save to redis database\n",
    "db.set(a_id, json.dumps(a_data))"
   ]
  },
  {
   "cell_type": "code",
   "execution_count": 44,
   "metadata": {},
   "outputs": [
    {
     "data": {
      "text/plain": [
       "{'_id': 'ga4gh:VA.mpIbo0Vv4HT-Oh3g5SWcuzAR2mue3yL-',\n",
       " 'location': {'interval': {'end': 32936732,\n",
       "   'start': 32936731,\n",
       "   'type': 'SimpleInterval'},\n",
       "  'sequence_id': 'ga4gh:SQ._0wi-qoDrvram155UmcSC-zA5ZK4fpLT',\n",
       "  'type': 'SequenceLocation'},\n",
       " 'state': {'sequence': 'A', 'type': 'SequenceState'},\n",
       " 'type': 'Allele'}"
      ]
     },
     "execution_count": 44,
     "metadata": {},
     "output_type": "execute_result"
    }
   ],
   "source": [
    "# read json string from db, parse to dict\n",
    "a2_data = json.loads(db.get(a_id))\n",
    "a2_data"
   ]
  },
  {
   "cell_type": "code",
   "execution_count": 45,
   "metadata": {},
   "outputs": [],
   "source": [
    "a2 = models.Allele(**a2_data)"
   ]
  },
  {
   "cell_type": "code",
   "execution_count": 46,
   "metadata": {},
   "outputs": [
    {
     "data": {
      "text/plain": [
       "True"
      ]
     },
     "execution_count": 46,
     "metadata": {},
     "output_type": "execute_result"
    }
   ],
   "source": [
    "a == a2"
   ]
  },
  {
   "cell_type": "code",
   "execution_count": 57,
   "metadata": {},
   "outputs": [
    {
     "data": {
      "text/plain": [
       "['CM000675.2:g.32936732C>A',\n",
       " '2oDBty0yKV9wHo7gg+Bt+fPgi5o:g.32936732C>A',\n",
       " 'ff4c22faaa03aefada9b5e795267120becc0e592b87e92d3:g.32936732C>A',\n",
       " 'SQ._0wi-qoDrvram155UmcSC-zA5ZK4fpLT:g.32936732C>A',\n",
       " 'NC_000013.11:g.32936732C>A',\n",
       " 'GS__0wi-qoDrvram155UmcSC-zA5ZK4fpLT:g.32936732C>A',\n",
       " 'a5437debe2ef9c9ef8f3ea2874ae1d82:g.32936732C>A',\n",
       " 'da80c1b72d32295f701e8ee083e06df9f3e08b9a:g.32936732C>A']"
      ]
     },
     "execution_count": 57,
     "metadata": {},
     "output_type": "execute_result"
    }
   ],
   "source": [
    "tlr.to_hgvs(a2)"
   ]
  },
  {
   "cell_type": "markdown",
   "metadata": {},
   "source": [
    "## Associated with Annotations"
   ]
  },
  {
   "cell_type": "code",
   "execution_count": null,
   "metadata": {},
   "outputs": [],
   "source": []
  },
  {
   "cell_type": "markdown",
   "metadata": {},
   "source": [
    "## Embedded in other objects"
   ]
  },
  {
   "cell_type": "code",
   "execution_count": 47,
   "metadata": {},
   "outputs": [],
   "source": [
    "patient_report = {\n",
    "    \"demo\": {\n",
    "        \"name\": \"Reece Hart\",\n",
    "    },\n",
    "    \"observed-variation\": [\n",
    "        a.as_dict()\n",
    "    ],\n",
    "    \"clinical-findings\": [\n",
    "        {\n",
    "            \"vr_id\": a._id._value,\n",
    "            \"name\": \"bad_humor\",\n",
    "            \"severity\": \"he's got it bad\",\n",
    "            \"prognosis\": \"will never be funny\"\n",
    "        }\n",
    "    ],\n",
    "    \"display-names\": {\n",
    "        a._id._value: {\n",
    "            \"hgvs\": [\n",
    "                \"NC_000013.11:g.32936732G>A\"\n",
    "            ],\n",
    "            \"dbsnp\": [\n",
    "                \"rs9999999999\"\n",
    "            ]\n",
    "        }\n",
    "    }\n",
    "}"
   ]
  },
  {
   "cell_type": "code",
   "execution_count": 48,
   "metadata": {},
   "outputs": [
    {
     "name": "stdout",
     "output_type": "stream",
     "text": [
      "{\n",
      "  \"demo\": {\n",
      "    \"name\": \"Reece Hart\"\n",
      "  },\n",
      "  \"observed-variation\": [\n",
      "    {\n",
      "      \"_id\": \"ga4gh:VA.mpIbo0Vv4HT-Oh3g5SWcuzAR2mue3yL-\",\n",
      "      \"location\": {\n",
      "        \"interval\": {\n",
      "          \"end\": 32936732,\n",
      "          \"start\": 32936731,\n",
      "          \"type\": \"SimpleInterval\"\n",
      "        },\n",
      "        \"sequence_id\": \"ga4gh:SQ._0wi-qoDrvram155UmcSC-zA5ZK4fpLT\",\n",
      "        \"type\": \"SequenceLocation\"\n",
      "      },\n",
      "      \"state\": {\n",
      "        \"sequence\": \"A\",\n",
      "        \"type\": \"SequenceState\"\n",
      "      },\n",
      "      \"type\": \"Allele\"\n",
      "    }\n",
      "  ],\n",
      "  \"clinical-findings\": [\n",
      "    {\n",
      "      \"vr_id\": \"ga4gh:VA.mpIbo0Vv4HT-Oh3g5SWcuzAR2mue3yL-\",\n",
      "      \"name\": \"bad_humor\",\n",
      "      \"severity\": \"he's got it bad\",\n",
      "      \"prognosis\": \"will never be funny\"\n",
      "    }\n",
      "  ],\n",
      "  \"display-names\": {\n",
      "    \"ga4gh:VA.mpIbo0Vv4HT-Oh3g5SWcuzAR2mue3yL-\": {\n",
      "      \"hgvs\": [\n",
      "        \"NC_000013.11:g.32936732G>A\"\n",
      "      ],\n",
      "      \"dbsnp\": [\n",
      "        \"rs9999999999\"\n",
      "      ]\n",
      "    }\n",
      "  }\n",
      "}\n"
     ]
    }
   ],
   "source": [
    "print(json.dumps(patient_report, indent=2))"
   ]
  }
 ],
 "metadata": {
  "kernelspec": {
   "display_name": "Python 3",
   "language": "python",
   "name": "python3"
  },
  "language_info": {
   "codemirror_mode": {
    "name": "ipython",
    "version": 3
   },
   "file_extension": ".py",
   "mimetype": "text/x-python",
   "name": "python",
   "nbconvert_exporter": "python",
   "pygments_lexer": "ipython3",
   "version": "3.7.5"
  }
 },
 "nbformat": 4,
 "nbformat_minor": 2
}
