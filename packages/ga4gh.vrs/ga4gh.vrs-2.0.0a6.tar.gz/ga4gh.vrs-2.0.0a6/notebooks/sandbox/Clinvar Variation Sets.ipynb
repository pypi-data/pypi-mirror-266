{
 "cells": [
  {
   "cell_type": "code",
   "execution_count": 1,
   "metadata": {},
   "outputs": [],
   "source": [
    "from ga4gh.core import sha512t24u\n",
    "from ga4gh.vrs import __version__, ga4gh_digest, ga4gh_identify, ga4gh_serialize, models, normalize\n",
    "from ga4gh.vrs.dataproxy import SeqRepoRESTDataProxy\n",
    "from ga4gh.vrs.extras.translator import Translator\n",
    "from ga4gh.vrs.extras.clinvarparser import clinvar_open\n",
    "\n",
    "# Requires seqrepo REST interface is running on this URL (e.g., using docker image)\n",
    "seqrepo_rest_service_url = \"http://localhost:5000/seqrepo\"\n",
    "\n",
    "# This is an excerpt of data from\n",
    "# ftp.ncbi.nlm.nih.gov/pub/clinvar/xml/clinvar_variation/ClinVarVariationRelease_2019-04.xml.gz\n",
    "clinvar_fn = \"ClinVarVariationRelease_2019-04-excerpt.xml.gz\""
   ]
  },
  {
   "cell_type": "code",
   "execution_count": 2,
   "metadata": {},
   "outputs": [],
   "source": [
    "dp = SeqRepoRESTDataProxy(base_url=seqrepo_rest_service_url)\n",
    "tlr = Translator(data_proxy=dp)"
   ]
  },
  {
   "cell_type": "code",
   "execution_count": 9,
   "metadata": {},
   "outputs": [],
   "source": [
    "def convert1(v):\n",
    "    try:\n",
    "        return tlr.from_hgvs(v)\n",
    "    except:\n",
    "        return models.Text(definition=v)"
   ]
  },
  {
   "cell_type": "code",
   "execution_count": 10,
   "metadata": {},
   "outputs": [
    {
     "data": {
      "text/plain": [
       "{'location': {'interval': {'end': 32936732,\n",
       "   'start': 32936731,\n",
       "   'type': 'SimpleInterval'},\n",
       "  'sequence_id': 'ga4gh:SQ._0wi-qoDrvram155UmcSC-zA5ZK4fpLT',\n",
       "  'type': 'SequenceLocation'},\n",
       " 'state': {'sequence': 'C', 'type': 'SequenceState'},\n",
       " 'type': 'Allele'}"
      ]
     },
     "execution_count": 10,
     "metadata": {},
     "output_type": "execute_result"
    }
   ],
   "source": [
    "convert1(\"NC_000013.11:g.32936732G>C\").as_dict()"
   ]
  },
  {
   "cell_type": "code",
   "execution_count": 12,
   "metadata": {},
   "outputs": [
    {
     "data": {
      "text/plain": [
       "{'definition': 'bogus', 'type': 'Text'}"
      ]
     },
     "execution_count": 12,
     "metadata": {},
     "output_type": "execute_result"
    }
   ],
   "source": [
    "convert1(\"bogus\").as_dict()"
   ]
  },
  {
   "cell_type": "code",
   "execution_count": 13,
   "metadata": {},
   "outputs": [],
   "source": [
    "cvstream = clinvar_open(clinvar_fn)\n",
    "va = next(cvstream)"
   ]
  },
  {
   "cell_type": "code",
   "execution_count": 14,
   "metadata": {},
   "outputs": [
    {
     "data": {
      "text/plain": [
       "'VCV000242445.1'"
      ]
     },
     "execution_count": 14,
     "metadata": {},
     "output_type": "execute_result"
    }
   ],
   "source": [
    "va.acv"
   ]
  },
  {
   "cell_type": "code",
   "execution_count": 15,
   "metadata": {},
   "outputs": [
    {
     "data": {
      "text/plain": [
       "['NC_000023.11:g.149483005T>A',\n",
       " 'NC_000023.10:g.148564536T>A',\n",
       " 'NM_000202.7:c.1394A>T',\n",
       " 'NP_000193.1:p.Gln465Leu',\n",
       " 'NG_011900.3:g.27330A>T']"
      ]
     },
     "execution_count": 15,
     "metadata": {},
     "output_type": "execute_result"
    }
   ],
   "source": [
    "va.hgvs_expressions"
   ]
  },
  {
   "cell_type": "code",
   "execution_count": 18,
   "metadata": {},
   "outputs": [],
   "source": [
    "dvs = models.DiscreteVariationSet(members=[convert1(hgvs) for hgvs in va.hgvs_expressions])"
   ]
  },
  {
   "cell_type": "code",
   "execution_count": 19,
   "metadata": {},
   "outputs": [
    {
     "data": {
      "text/plain": [
       "{'members': [{'location': {'interval': {'end': 149483005,\n",
       "     'start': 149483004,\n",
       "     'type': 'SimpleInterval'},\n",
       "    'sequence_id': 'ga4gh:SQ.w0WZEvgJF0zf_P4yyTzjjv9oW1z61HHP',\n",
       "    'type': 'SequenceLocation'},\n",
       "   'state': {'sequence': 'A', 'type': 'SequenceState'},\n",
       "   'type': 'Allele'},\n",
       "  {'location': {'interval': {'end': 148564536,\n",
       "     'start': 148564535,\n",
       "     'type': 'SimpleInterval'},\n",
       "    'sequence_id': 'ga4gh:SQ.v7noePfnNpK8ghYXEqZ9NukMXW7YeNsm',\n",
       "    'type': 'SequenceLocation'},\n",
       "   'state': {'sequence': 'A', 'type': 'SequenceState'},\n",
       "   'type': 'Allele'},\n",
       "  {'location': {'interval': {'end': 1394,\n",
       "     'start': 1393,\n",
       "     'type': 'SimpleInterval'},\n",
       "    'sequence_id': 'ga4gh:SQ.qLuwvoQyo4EGQLFFmvmKqLJfcNkU5Es-',\n",
       "    'type': 'SequenceLocation'},\n",
       "   'state': {'sequence': 'T', 'type': 'SequenceState'},\n",
       "   'type': 'Allele'},\n",
       "  {'location': {'interval': {'end': 465,\n",
       "     'start': 464,\n",
       "     'type': 'SimpleInterval'},\n",
       "    'sequence_id': 'ga4gh:SQ.7SMuBtw_QpEk8CEj2bDLadv_NPVfbaFS',\n",
       "    'type': 'SequenceLocation'},\n",
       "   'state': {'sequence': 'L', 'type': 'SequenceState'},\n",
       "   'type': 'Allele'},\n",
       "  {'location': {'interval': {'end': 27330,\n",
       "     'start': 27329,\n",
       "     'type': 'SimpleInterval'},\n",
       "    'sequence_id': 'ga4gh:SQ.ZGXWpLTeqy1zG5-CbZyhhYgDp1J3O2n1',\n",
       "    'type': 'SequenceLocation'},\n",
       "   'state': {'sequence': 'T', 'type': 'SequenceState'},\n",
       "   'type': 'Allele'}],\n",
       " 'type': 'DiscreteVariationSet'}"
      ]
     },
     "execution_count": 19,
     "metadata": {},
     "output_type": "execute_result"
    }
   ],
   "source": [
    "dvs.as_dict()"
   ]
  },
  {
   "cell_type": "code",
   "execution_count": 31,
   "metadata": {},
   "outputs": [],
   "source": [
    "vcv_to_id = {}\n",
    "variation_sets = {}\n",
    "for va in clinvar_open(clinvar_fn):\n",
    "    vs = models.DiscreteVariationSet(members=[convert1(hgvs) \n",
    "                                              for hgvs in va.hgvs_expressions])\n",
    "    id = ga4gh_identify(vs)\n",
    "    vcv_to_id[va.acv] = id\n",
    "    variation_sets[id] = vs"
   ]
  },
  {
   "cell_type": "code",
   "execution_count": 32,
   "metadata": {
    "scrolled": true
   },
   "outputs": [
    {
     "data": {
      "text/plain": [
       "{'VCV000242445.1': 'ga4gh:DVS.AcbOlOhNq4IZ84QY2UvvYaID4zU1QLba',\n",
       " 'VCV000242814.1': 'ga4gh:DVS.qiFbLE7zzmmTo3tcP6eq36TVj8IvcAEv',\n",
       " 'VCV000264664.1': 'ga4gh:DVS.uM5PY6biqGNQ90OuCOYG_ZS3vU4xSVcv',\n",
       " 'VCV000279615.1': 'ga4gh:DVS.SkVgVNGFNAhmvXibRmxLgEACHhG32-PF',\n",
       " 'VCV000004605.1': 'ga4gh:DVS.TuJH_qB4ULozyf_jPowZrZ_0aYgNLV8W',\n",
       " 'VCV000327870.1': 'ga4gh:DVS.3IMH6pcZhphfq1-zumzBhxXyHkI-VCue',\n",
       " 'VCV000446183.1': 'ga4gh:DVS.96xvvm4oaxSrbUXIVSNwIjkiPhxP9f8O',\n",
       " 'VCV000386079.2': 'ga4gh:DVS.feHxxM1Wv6ZWJdu-hqMaaCyB69ECpvJ9',\n",
       " 'VCV000386924.2': 'ga4gh:DVS.TfobpGWTLSGr_0fZAKQwKPd1Kw68h__I',\n",
       " 'VCV000426571.2': 'ga4gh:DVS.dmzF-fyPDdTAnV80elwCaDckiONnXgEh',\n",
       " 'VCV000534103.1': 'ga4gh:DVS.LAeLQNcnKB6RW-hIkf-ghmovNuAugWMX',\n",
       " 'VCV000575037.1': 'ga4gh:DVS.58_PK65hzRyTk6c0mIaSLo6XP62Xt_tD',\n",
       " 'VCV000242430.1': 'ga4gh:DVS.9S_dKAQKiRadQDthwcK7XUbWr_XhAhy5',\n",
       " 'VCV000351296.3': 'ga4gh:DVS.E1Z6qJIwzimH1eatdrEYffxQ7Ae67UNW',\n",
       " 'VCV000582963.2': 'ga4gh:DVS.2p_2dBLZXsT8_oTNPWUyW_i0gNIhIAyo',\n",
       " 'VCV000242590.1': 'ga4gh:DVS.BQwsyvrHWPqJJvpBadmfBj88AKzFdvYf',\n",
       " 'VCV000430872.1': 'ga4gh:DVS.p3ixAk2LPGBNbhqG7zcgHyexix2umUAB'}"
      ]
     },
     "execution_count": 32,
     "metadata": {},
     "output_type": "execute_result"
    }
   ],
   "source": [
    "vcv_to_id"
   ]
  },
  {
   "cell_type": "code",
   "execution_count": 34,
   "metadata": {},
   "outputs": [
    {
     "data": {
      "text/plain": [
       "{'members': [{'location': {'interval': {'end': 149483005,\n",
       "     'start': 149483004,\n",
       "     'type': 'SimpleInterval'},\n",
       "    'sequence_id': 'ga4gh:SQ.w0WZEvgJF0zf_P4yyTzjjv9oW1z61HHP',\n",
       "    'type': 'SequenceLocation'},\n",
       "   'state': {'sequence': 'A', 'type': 'SequenceState'},\n",
       "   'type': 'Allele'},\n",
       "  {'location': {'interval': {'end': 148564536,\n",
       "     'start': 148564535,\n",
       "     'type': 'SimpleInterval'},\n",
       "    'sequence_id': 'ga4gh:SQ.v7noePfnNpK8ghYXEqZ9NukMXW7YeNsm',\n",
       "    'type': 'SequenceLocation'},\n",
       "   'state': {'sequence': 'A', 'type': 'SequenceState'},\n",
       "   'type': 'Allele'},\n",
       "  {'location': {'interval': {'end': 1394,\n",
       "     'start': 1393,\n",
       "     'type': 'SimpleInterval'},\n",
       "    'sequence_id': 'ga4gh:SQ.qLuwvoQyo4EGQLFFmvmKqLJfcNkU5Es-',\n",
       "    'type': 'SequenceLocation'},\n",
       "   'state': {'sequence': 'T', 'type': 'SequenceState'},\n",
       "   'type': 'Allele'},\n",
       "  {'location': {'interval': {'end': 465,\n",
       "     'start': 464,\n",
       "     'type': 'SimpleInterval'},\n",
       "    'sequence_id': 'ga4gh:SQ.7SMuBtw_QpEk8CEj2bDLadv_NPVfbaFS',\n",
       "    'type': 'SequenceLocation'},\n",
       "   'state': {'sequence': 'L', 'type': 'SequenceState'},\n",
       "   'type': 'Allele'},\n",
       "  {'location': {'interval': {'end': 27330,\n",
       "     'start': 27329,\n",
       "     'type': 'SimpleInterval'},\n",
       "    'sequence_id': 'ga4gh:SQ.ZGXWpLTeqy1zG5-CbZyhhYgDp1J3O2n1',\n",
       "    'type': 'SequenceLocation'},\n",
       "   'state': {'sequence': 'T', 'type': 'SequenceState'},\n",
       "   'type': 'Allele'}],\n",
       " 'type': 'DiscreteVariationSet'}"
      ]
     },
     "execution_count": 34,
     "metadata": {},
     "output_type": "execute_result"
    }
   ],
   "source": [
    "variation_sets[vcv_to_id['VCV000242445.1']].as_dict()"
   ]
  },
  {
   "cell_type": "code",
   "execution_count": null,
   "metadata": {},
   "outputs": [],
   "source": []
  }
 ],
 "metadata": {
  "kernelspec": {
   "display_name": "Python 3",
   "language": "python",
   "name": "python3"
  },
  "language_info": {
   "codemirror_mode": {
    "name": "ipython",
    "version": 3
   },
   "file_extension": ".py",
   "mimetype": "text/x-python",
   "name": "python",
   "nbconvert_exporter": "python",
   "pygments_lexer": "ipython3",
   "version": "3.7.5"
  }
 },
 "nbformat": 4,
 "nbformat_minor": 2
}
