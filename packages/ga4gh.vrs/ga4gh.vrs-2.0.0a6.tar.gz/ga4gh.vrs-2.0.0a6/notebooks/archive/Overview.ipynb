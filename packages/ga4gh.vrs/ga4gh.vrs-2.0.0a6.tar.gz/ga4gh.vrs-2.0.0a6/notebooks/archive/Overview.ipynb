{
 "cells": [
  {
   "cell_type": "markdown",
   "metadata": {},
   "source": [
    "# GA4GH Variation Representation Overview\n",
    "\n",
    "The GA4GH Variation Representation Specification consists of two components: a JSON schema that describes the structure of data, and algorithmic conventions for how to use VR data structures to improve the consistency of sequence variation shared in the community.  This overview of the VR Schema is from the python reference implementation at https://github.com/ga4gh/vr-python/blob/master/notebooks/Overview.ipynb. Users may wish to explore https://github.com/ga4gh/vr-python/blob/master/notebooks/Extras.ipynb, which provides additional functionality to construct VR objects from HGVS, SPDI, and VCF.\n",
    "\n",
    "GA4GH VR was formerly known as the Variation Modelling Collaboration (VMC)."
   ]
  },
  {
   "cell_type": "markdown",
   "metadata": {},
   "source": [
    "## Using the Reference Implementation\n",
    "All publicly available functionality is accessed by importing from `ga4gh.vrs`, as shown below."
   ]
  },
  {
   "cell_type": "code",
   "execution_count": 1,
   "metadata": {},
   "outputs": [],
   "source": [
    "from ga4gh.core import sha512t24u, ga4gh_digest, ga4gh_identify, ga4gh_serialize\n",
    "from ga4gh.vrs import __version__, models, normalize"
   ]
  },
  {
   "cell_type": "markdown",
   "metadata": {},
   "source": [
    "<br>\n",
    "<div>\n",
    "    <div style=\"border-radius: 10px; width: 80%; margin: 0 auto; padding: 5px; border: 2pt solid #660000; color: #660000; background: #f4cccc;\">\n",
    "    <span style=\"font-size: 200%\">⚠</span> Import from <code>ga4gh.core</code> and <code>ga4gh.vrs</code> as shown above.  Submodules contain implementation details that are likely to change without notice.\n",
    "    </div>\n",
    "</div>"
   ]
  },
  {
   "cell_type": "code",
   "execution_count": 2,
   "metadata": {},
   "outputs": [
    {
     "data": {
      "text/plain": [
       "'0.2.2.dev14+gdafd779.d20190804'"
      ]
     },
     "execution_count": 2,
     "metadata": {},
     "output_type": "execute_result"
    }
   ],
   "source": [
    "# You can see the version of ga4gh.vrs like so:\n",
    "__version__"
   ]
  },
  {
   "cell_type": "markdown",
   "metadata": {},
   "source": [
    "## Top-Down View of VR Schema Classes\n",
    "\n",
    "The top-level VR classes are Location and Variation.  A Location describes *where* an event occurs.  Variation describes an event at a Location. Location and Variation are *abstract* objects — their purpose is to provide a framework for the way we think about variation, but they doen't represent any particular instance themselves. \n",
    "\n",
    "Currently, there is only one Location class: SequenceLocation, which defines a precise span on a named sequence. Future Location classes will include Cytoband Locations, Gene Locations, as well as SequenceLocations using fuzzy and/or intronic coordinates.\n",
    "\n",
    "There are two Variation subclasses: \n",
    "* Text -- a blob of text, used when a textual representation is not (yet) parseable\n",
    "* Allele -- contiguous state of a sequence or conceptual region\n",
    "Future kinds of Variation will support haplotypes, genotypes, and translocations/fusions.\n",
    "\n",
    "The top-level classes in VR are *identifiable*, meaning that VR proscribes how implementations can compute globally-consistent identifiers from the data.\n",
    "\n",
    "See <a href=\"ga4gh-vr-schema.svg\">this figure</a> for a schematic representation.\n"
   ]
  },
  {
   "cell_type": "markdown",
   "metadata": {},
   "source": [
    "### Locations\n",
    "A Location is an *abstract* object that refer to contiguous regions of biological sequences. Concrete types of Locations are shown below.\n",
    "\n",
    "The most common Location is a SequenceLocation, i.e., a Location based on a named sequence and an Interval on that sequence. Locations may also be conceptual or symbolic locations, such as a cytoband region or a gene.\n",
    "Any of these may be used as the Location for Variation."
   ]
  },
  {
   "cell_type": "markdown",
   "metadata": {},
   "source": [
    "#### SimpleInterval"
   ]
  },
  {
   "cell_type": "code",
   "execution_count": 3,
   "metadata": {},
   "outputs": [
    {
     "data": {
      "text/plain": [
       "{'end': 43, 'start': 42, 'type': 'SimpleInterval'}"
      ]
     },
     "execution_count": 3,
     "metadata": {},
     "output_type": "execute_result"
    }
   ],
   "source": [
    "simple_interval = models.SimpleInterval(start=42, end=43)\n",
    "simple_interval.as_dict()"
   ]
  },
  {
   "cell_type": "markdown",
   "metadata": {},
   "source": [
    "#### SequenceLocation"
   ]
  },
  {
   "cell_type": "code",
   "execution_count": 4,
   "metadata": {},
   "outputs": [],
   "source": [
    "# Implementations are responsible for providing a mechanism to convert\n",
    "# conventional sequence accessions to ga4gh sequence references.\n",
    "# See Extras notebook for an example.\n",
    "sequence_id = \"ga4gh:SQ.v_QTc1p-MUYdgrRv4LMT6ByXIOsdw3C_\""
   ]
  },
  {
   "cell_type": "code",
   "execution_count": 5,
   "metadata": {
    "scrolled": true
   },
   "outputs": [
    {
     "data": {
      "text/plain": [
       "{'_digest': 'v__fHi86NVjkAHVlswpvQfcY0W5nG0Dk',\n",
       " 'interval': {'end': 43, 'start': 42, 'type': 'SimpleInterval'},\n",
       " 'sequence_id': 'ga4gh:SQ.v_QTc1p-MUYdgrRv4LMT6ByXIOsdw3C_',\n",
       " 'type': 'SequenceLocation'}"
      ]
     },
     "execution_count": 5,
     "metadata": {},
     "output_type": "execute_result"
    }
   ],
   "source": [
    "# A SequenceLocation based on a SimpleInterval\n",
    "sequence_location_si = models.SequenceLocation(\n",
    "    sequence_id=sequence_id,\n",
    "    interval=simple_interval)\n",
    "ga4gh_identify(sequence_location_si)\n",
    "sequence_location_si.as_dict()"
   ]
  },
  {
   "cell_type": "markdown",
   "metadata": {},
   "source": [
    "### Text Variation\n",
    "\n",
    "In order to support variation descriptions that cannot be parsed, or cannot be parsed yet, the VR provides a Text schema object. The intention is to provide ids for *any* variation, particularly human descriptions of variation."
   ]
  },
  {
   "cell_type": "code",
   "execution_count": 6,
   "metadata": {},
   "outputs": [
    {
     "data": {
      "text/plain": [
       "{'definition': 'PTEN loss', 'type': 'Text'}"
      ]
     },
     "execution_count": 6,
     "metadata": {},
     "output_type": "execute_result"
    }
   ],
   "source": [
    "text_variation = models.Text(definition=\"PTEN loss\")\n",
    "text_variation.as_dict()"
   ]
  },
  {
   "cell_type": "code",
   "execution_count": 7,
   "metadata": {},
   "outputs": [
    {
     "data": {
      "text/plain": [
       "'ga4gh:VT.VX60NSGLem4X3Q8gnOSx48pZDCmJVSUk'"
      ]
     },
     "execution_count": 7,
     "metadata": {},
     "output_type": "execute_result"
    }
   ],
   "source": [
    "ga4gh_identify(text_variation)"
   ]
  },
  {
   "cell_type": "code",
   "execution_count": 8,
   "metadata": {},
   "outputs": [
    {
     "data": {
      "text/plain": [
       "{'_digest': 'VX60NSGLem4X3Q8gnOSx48pZDCmJVSUk',\n",
       " 'definition': 'PTEN loss',\n",
       " 'type': 'Text'}"
      ]
     },
     "execution_count": 8,
     "metadata": {},
     "output_type": "execute_result"
    }
   ],
   "source": [
    "text_variation.as_dict()"
   ]
  },
  {
   "cell_type": "markdown",
   "metadata": {},
   "source": [
    "### Alleles\n",
    "\n",
    "An Allele is an asserion of a SequenceState at a Location. The many possible Location and SequenceState classes enable the representation of many kinds of Variation."
   ]
  },
  {
   "cell_type": "markdown",
   "metadata": {},
   "source": [
    "### \"Simple\" sequence replacements\n",
    "This case covers any \"ref-alt\" style variation, which includes SNVs, MNVs, del, ins, and delins."
   ]
  },
  {
   "cell_type": "code",
   "execution_count": 9,
   "metadata": {},
   "outputs": [
    {
     "data": {
      "text/plain": [
       "{'_digest': 'weKX1iFVAnAa-jXQ4T8RijCcIlDnAaIe',\n",
       " 'location': {'_digest': 'v__fHi86NVjkAHVlswpvQfcY0W5nG0Dk',\n",
       "  'interval': {'end': 43, 'start': 42, 'type': 'SimpleInterval'},\n",
       "  'sequence_id': 'ga4gh:SQ.v_QTc1p-MUYdgrRv4LMT6ByXIOsdw3C_',\n",
       "  'type': 'SequenceLocation'},\n",
       " 'state': {'sequence': 'A', 'type': 'SequenceState'},\n",
       " 'type': 'Allele'}"
      ]
     },
     "execution_count": 9,
     "metadata": {},
     "output_type": "execute_result"
    }
   ],
   "source": [
    "sequence_state = models.SequenceState(sequence=\"A\")\n",
    "allele = models.Allele(location=sequence_location_si, state=sequence_state)\n",
    "ga4gh_identify(allele)\n",
    "allele.as_dict()"
   ]
  },
  {
   "cell_type": "markdown",
   "metadata": {},
   "source": [
    "---\n",
    "## Functions\n",
    "Conventions in the VR specification are implemented through several algorithmic functions. They are:\n",
    "\n",
    "* `normalize`: Implements sequence normalization for ins and del variation\n",
    "* `sha512t24u`: Implements a convention constructing and formatting digests for an object\n",
    "* `ga4gh_digest`: Generates a digest for a GA4GH object\n",
    "* `ga4gh_serialize`: Serializes a GA4GH object using a canonical binary form\n",
    "* `ga4gh_identify`: Generates a CURIE identifier for a GA4GH object\n"
   ]
  },
  {
   "cell_type": "markdown",
   "metadata": {},
   "source": [
    "### normalize()\n",
    "VR Spec REQUIRES that variation is reported as \"expanded\" alleles. Expanded alleles capture the entire region of insertion/deletion amiguity, thereby facilitating comparisons that would otherwise require on-the-fly computations."
   ]
  },
  {
   "cell_type": "code",
   "execution_count": 10,
   "metadata": {},
   "outputs": [],
   "source": [
    "# Define a dinucleotide insertion on the following sequence at interbase (13, 13)\n",
    "sequence = \"CCCCCCCCACACACACACTAGCAGCAGCA\"\n",
    "#    0 1 2 3 4 5 6 7 8 9 0 1 2 3 4 5 6 7 8 9 0 1 2 3 4 5 6 7 8 9\n",
    "#     C C C C C C C C A C A C A C A C A C T A G C A G C A G C A\n",
    "#                              ^ insert CA here\n",
    "interval = (13, 13)\n",
    "alleles = (None, \"CA\")\n",
    "args = dict(sequence=sequence, interval=interval, alleles=alleles, bounds=(0,len(sequence)))"
   ]
  },
  {
   "cell_type": "code",
   "execution_count": 11,
   "metadata": {},
   "outputs": [
    {
     "data": {
      "text/plain": [
       "((7, 18), ('CACACACACAC', 'CACACACACACAC'))"
      ]
     },
     "execution_count": 11,
     "metadata": {},
     "output_type": "execute_result"
    }
   ],
   "source": [
    "# The expanded allele sequences\n",
    "normalize(**args, mode=\"EXPAND\")"
   ]
  },
  {
   "cell_type": "code",
   "execution_count": 12,
   "metadata": {},
   "outputs": [
    {
     "data": {
      "text/plain": [
       "((7, 7), ('', 'CA'))"
      ]
     },
     "execution_count": 12,
     "metadata": {},
     "output_type": "execute_result"
    }
   ],
   "source": [
    "# For comparison, the left and right shuffled alleles\n",
    "normalize(**args, mode=\"LEFTSHUFFLE\")"
   ]
  },
  {
   "cell_type": "code",
   "execution_count": 13,
   "metadata": {},
   "outputs": [
    {
     "data": {
      "text/plain": [
       "((18, 18), ('', 'AC'))"
      ]
     },
     "execution_count": 13,
     "metadata": {},
     "output_type": "execute_result"
    }
   ],
   "source": [
    "normalize(**args, mode=\"RIGHTSHUFFLE\")"
   ]
  },
  {
   "cell_type": "markdown",
   "metadata": {},
   "source": [
    "### sha512t24u() — Truncated SHA-512 digest\n",
    "The `sha512t24u` is a convention for constructing unique identifiers from binary objects (as from serialization) using well-known SHA512 hashing and Base64 (i.e., base64url) encoding. "
   ]
  },
  {
   "cell_type": "code",
   "execution_count": 14,
   "metadata": {
    "scrolled": true
   },
   "outputs": [
    {
     "data": {
      "text/plain": [
       "'z4PhNX7vuL3xVChQ1m2AB9Yg5AULVxXc'"
      ]
     },
     "execution_count": 14,
     "metadata": {},
     "output_type": "execute_result"
    }
   ],
   "source": [
    "sha512t24u(b\"\")"
   ]
  },
  {
   "cell_type": "code",
   "execution_count": 15,
   "metadata": {
    "scrolled": true
   },
   "outputs": [
    {
     "data": {
      "text/plain": [
       "'aKF498dAxcJAqme6QYQ7EZ07-fiw8Kw2'"
      ]
     },
     "execution_count": 15,
     "metadata": {},
     "output_type": "execute_result"
    }
   ],
   "source": [
    "sha512t24u(b\"ACGT\")"
   ]
  },
  {
   "cell_type": "markdown",
   "metadata": {},
   "source": [
    "### ga4gh_serialize()\n",
    "Serialization is the process of converting an object to a *binary* representation for transmission or communication. In the context of generating GA4GH identifiers, serialization is a process to generate a *canonical* JSON form in order to generate a digest. The VR serialization is based on a JSON canonincialization scheme consistent with several existing proposals. See the spec for details.\n",
    "\n",
    "Because the serialization and digest methods are well-defined, groups with the same data will generate the same digests and computed identifiers.\n",
    "\n",
    "GA4GH serialization replaces inline identifiable objects with their digests in order to create a well-defined ordering. See the `location` property in the `Allele` example below.\n",
    "\n",
    "<br>\n",
    "<div>\n",
    "    <div style=\"border-radius: 10px; width: 80%; margin: 0 auto; padding: 5px; border: 2pt solid #660000; color: #660000; background: #f4cccc;\">\n",
    "        <span style=\"font-size: 200%\">⚠</span> Although JSON serialization and GA4GH canonical JSON serialization appear similar, they are NOT interchangeable and will generated different digests. GA4GH identifiers are defined <i>only</i> when used with GA4GH serialization process.\n",
    "    </div>\n",
    "</div>"
   ]
  },
  {
   "cell_type": "code",
   "execution_count": 16,
   "metadata": {},
   "outputs": [
    {
     "data": {
      "text/plain": [
       "{'_digest': 'weKX1iFVAnAa-jXQ4T8RijCcIlDnAaIe',\n",
       " 'location': {'_digest': 'v__fHi86NVjkAHVlswpvQfcY0W5nG0Dk',\n",
       "  'interval': {'end': 43, 'start': 42, 'type': 'SimpleInterval'},\n",
       "  'sequence_id': 'ga4gh:SQ.v_QTc1p-MUYdgrRv4LMT6ByXIOsdw3C_',\n",
       "  'type': 'SequenceLocation'},\n",
       " 'state': {'sequence': 'A', 'type': 'SequenceState'},\n",
       " 'type': 'Allele'}"
      ]
     },
     "execution_count": 16,
     "metadata": {},
     "output_type": "execute_result"
    }
   ],
   "source": [
    "# This is the \"simple\" allele defined above, repeated here for readability\n",
    "# Note that the location data is inlined\n",
    "allele.as_dict()"
   ]
  },
  {
   "cell_type": "code",
   "execution_count": 17,
   "metadata": {
    "scrolled": false
   },
   "outputs": [
    {
     "data": {
      "text/plain": [
       "b'{\"location\":\"v__fHi86NVjkAHVlswpvQfcY0W5nG0Dk\",\"state\":{\"sequence\":\"A\",\"type\":\"SequenceState\"},\"type\":\"Allele\"}'"
      ]
     },
     "execution_count": 17,
     "metadata": {},
     "output_type": "execute_result"
    }
   ],
   "source": [
    "# This is the serialized form. Notice that the inline `Location` instance was replaced with\n",
    "# its identifier and that the Allele id is not included. \n",
    "ga4gh_serialize(allele)"
   ]
  },
  {
   "cell_type": "markdown",
   "metadata": {},
   "source": [
    "### ga4gh_digest()\n",
    "ga4gh_digest() returns the sha512t24u digest of a ga4gh_serialize'd object.  The digest is cached within the object itself to minimize recomputation."
   ]
  },
  {
   "cell_type": "code",
   "execution_count": 18,
   "metadata": {},
   "outputs": [
    {
     "data": {
      "text/plain": [
       "'weKX1iFVAnAa-jXQ4T8RijCcIlDnAaIe'"
      ]
     },
     "execution_count": 18,
     "metadata": {},
     "output_type": "execute_result"
    }
   ],
   "source": [
    "ga4gh_digest(allele)"
   ]
  },
  {
   "cell_type": "code",
   "execution_count": 19,
   "metadata": {},
   "outputs": [
    {
     "data": {
      "text/plain": [
       "'weKX1iFVAnAa-jXQ4T8RijCcIlDnAaIe'"
      ]
     },
     "execution_count": 19,
     "metadata": {},
     "output_type": "execute_result"
    }
   ],
   "source": [
    "sha512t24u(ga4gh_serialize(allele))"
   ]
  },
  {
   "cell_type": "markdown",
   "metadata": {},
   "source": [
    "### ga4gh_identify()\n",
    "VR computed identifiers are constructed from digests on serialized objects by prefixing a VR digest with a type-specific code."
   ]
  },
  {
   "cell_type": "code",
   "execution_count": 20,
   "metadata": {},
   "outputs": [
    {
     "data": {
      "text/plain": [
       "'ga4gh:VA.weKX1iFVAnAa-jXQ4T8RijCcIlDnAaIe'"
      ]
     },
     "execution_count": 20,
     "metadata": {},
     "output_type": "execute_result"
    }
   ],
   "source": [
    "# identify() uses this digest to construct a CURIE-formatted identifier.\n",
    "# The VA prefix identifies this object as a Variation Allele.\n",
    "ga4gh_identify(allele)"
   ]
  }
 ],
 "metadata": {
  "kernelspec": {
   "display_name": "Python 3",
   "language": "python",
   "name": "python3"
  },
  "language_info": {
   "codemirror_mode": {
    "name": "ipython",
    "version": 3
   },
   "file_extension": ".py",
   "mimetype": "text/x-python",
   "name": "python",
   "nbconvert_exporter": "python",
   "pygments_lexer": "ipython3",
   "version": "3.8.5"
  }
 },
 "nbformat": 4,
 "nbformat_minor": 2
}
