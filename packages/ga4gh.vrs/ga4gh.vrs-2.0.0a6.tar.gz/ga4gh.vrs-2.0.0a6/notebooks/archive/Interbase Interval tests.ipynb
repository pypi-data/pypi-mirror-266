{
 "cells": [
  {
   "attachments": {
    "Interval%20segments.png": {
     "image/png": "[encoded data removed]"
    }
   },
   "cell_type": "markdown",
   "metadata": {},
   "source": [
    "# Simple tests for interval overlap logic\n",
    "\n",
    "Interval a *intersects* Interval b if `a.start` or `a.end` or both are strictly within in the bounds of `b.start` and `b.end`. That is, if `b.start < a.start < b.end` or `b.start < a.end < b.end`. \n",
    "\n",
    "Two intervals *coincide* iff one ore more of the following are true:\n",
    "1. \n",
    "they are equal (i.e., have equal `start` and `end` values)\n",
    "1. they have a non-zero overlap (as defined below)\n",
    "1. one strictly encloses the other (as defined below)\n",
    "\n",
    "\n",
    "Intervals that do not coincide are *non-coincident*. Alleles within a haplotype must be pairwise non-coincident.\n",
    "\n",
    "Consider the following interbase Intervals in VMC:\n",
    "\n",
    "![Interval%20segments.png](attachment:Interval%20segments.png)\n",
    "\n",
    "For the Interval `<1,3>`:\n",
    "* Intervals `<0,2>`, `<0,3>`, `<1,2>`, `<1,3>`, and `<2,3>` overlap, and therefore coincide\n",
    "* Interval `<2,2>` is strictly within, and therefore coincides\n",
    "* Intervals `<0,1>` and `<1,1>` do not coincide\n",
    "\n",
    "For the Interval `<2,2>`:\n",
    "* Interval `<2,2>` (self) coincides by identity\n",
    "* Intervals `<1,3>` and `<0,3>` coincide by stricty enclosing\n"
   ]
  },
  {
   "cell_type": "code",
   "execution_count": 1,
   "metadata": {},
   "outputs": [],
   "source": [
    "from vmc.extra.interbaseinterval import InterbaseInterval\n",
    "from IPython.display import display, Markdown"
   ]
  },
  {
   "cell_type": "code",
   "execution_count": 2,
   "metadata": {},
   "outputs": [],
   "source": [
    "iis = [\n",
    "    InterbaseInterval(0,3),\n",
    "    InterbaseInterval(0,2),\n",
    "    InterbaseInterval(1,3),\n",
    "    InterbaseInterval(0,1),\n",
    "    InterbaseInterval(1,2),\n",
    "    InterbaseInterval(2,3),\n",
    "    InterbaseInterval(1,1),\n",
    "    InterbaseInterval(2,2),\n",
    "    ]\n",
    "\n",
    "INTERVAL_METHODS = \"abuts coincides_with encloses intersects overlap overlaps\".split()"
   ]
  },
  {
   "cell_type": "code",
   "execution_count": 3,
   "metadata": {},
   "outputs": [],
   "source": [
    "def pairwise_apply(iis, method_name):\n",
    "    \"\"\"return matrix of method_name applied to iis pairs\"\"\"\n",
    "    m = getattr(InterbaseInterval, method_name)\n",
    "    return [[m(r,c) for c in iis] for r in iis]\n",
    "\n",
    "def pairwise_apply_md(iis, method_name):\n",
    "    \"\"\"return markdown table of pairwise_apply\"\"\"\n",
    "    tbl = [[\"r.{}(c)\".format(method_name)] + [str(ii) for ii in iis]]\n",
    "    tbl += [[\"-\"] * len(tbl[0])]\n",
    "    for ii, row in zip(iis, pairwise_apply(iis, method_name)):\n",
    "        tbl += [[str(ii)] + row]\n",
    "    tbl_str = \"\\n\".join([\"|\".join(map(str,row)) for row in tbl])\n",
    "    return Markdown(\"# \"+method_name + \"\\n\" + tbl_str)"
   ]
  },
  {
   "cell_type": "code",
   "execution_count": 4,
   "metadata": {},
   "outputs": [
    {
     "data": {
      "text/markdown": [
       "# abuts\n",
       "r.abuts(c)|<0,3>|<0,2>|<1,3>|<0,1>|<1,2>|<2,3>|<1,1>|<2,2>\n",
       "-|-|-|-|-|-|-|-|-\n",
       "<0,3>|False|False|False|False|False|False|False|False\n",
       "<0,2>|False|False|False|False|False|True|False|True\n",
       "<1,3>|False|False|False|True|False|False|True|False\n",
       "<0,1>|False|False|True|False|True|False|True|False\n",
       "<1,2>|False|False|False|True|False|True|True|True\n",
       "<2,3>|False|True|False|False|True|False|False|True\n",
       "<1,1>|False|False|True|True|True|False|True|False\n",
       "<2,2>|False|True|False|False|True|True|False|True"
      ],
      "text/plain": [
       "<IPython.core.display.Markdown object>"
      ]
     },
     "metadata": {},
     "output_type": "display_data"
    },
    {
     "data": {
      "text/markdown": [
       "# coincides_with\n",
       "r.coincides_with(c)|<0,3>|<0,2>|<1,3>|<0,1>|<1,2>|<2,3>|<1,1>|<2,2>\n",
       "-|-|-|-|-|-|-|-|-\n",
       "<0,3>|True|True|True|True|True|True|True|True\n",
       "<0,2>|True|True|True|True|True|False|True|False\n",
       "<1,3>|True|True|True|False|True|True|False|True\n",
       "<0,1>|True|True|False|True|False|False|False|False\n",
       "<1,2>|True|True|True|False|True|False|False|False\n",
       "<2,3>|True|False|True|False|False|True|False|False\n",
       "<1,1>|True|True|False|False|False|False|True|False\n",
       "<2,2>|True|False|True|False|False|False|False|True"
      ],
      "text/plain": [
       "<IPython.core.display.Markdown object>"
      ]
     },
     "metadata": {},
     "output_type": "display_data"
    },
    {
     "data": {
      "text/markdown": [
       "# encloses\n",
       "r.encloses(c)|<0,3>|<0,2>|<1,3>|<0,1>|<1,2>|<2,3>|<1,1>|<2,2>\n",
       "-|-|-|-|-|-|-|-|-\n",
       "<0,3>|True|True|True|True|True|True|True|True\n",
       "<0,2>|False|True|False|True|True|False|True|True\n",
       "<1,3>|False|False|True|False|True|True|True|True\n",
       "<0,1>|False|False|False|True|False|False|True|False\n",
       "<1,2>|False|False|False|False|True|False|True|True\n",
       "<2,3>|False|False|False|False|False|True|False|True\n",
       "<1,1>|False|False|False|False|False|False|True|False\n",
       "<2,2>|False|False|False|False|False|False|False|True"
      ],
      "text/plain": [
       "<IPython.core.display.Markdown object>"
      ]
     },
     "metadata": {},
     "output_type": "display_data"
    },
    {
     "data": {
      "text/markdown": [
       "# intersects\n",
       "r.intersects(c)|<0,3>|<0,2>|<1,3>|<0,1>|<1,2>|<2,3>|<1,1>|<2,2>\n",
       "-|-|-|-|-|-|-|-|-\n",
       "<0,3>|False|True|True|True|True|True|True|True\n",
       "<0,2>|True|False|True|True|True|False|True|False\n",
       "<1,3>|True|True|False|False|True|True|False|True\n",
       "<0,1>|True|True|False|False|False|False|False|False\n",
       "<1,2>|True|True|True|False|False|False|False|False\n",
       "<2,3>|True|False|True|False|False|False|False|False\n",
       "<1,1>|True|True|False|False|False|False|False|False\n",
       "<2,2>|True|False|True|False|False|False|False|False"
      ],
      "text/plain": [
       "<IPython.core.display.Markdown object>"
      ]
     },
     "metadata": {},
     "output_type": "display_data"
    },
    {
     "data": {
      "text/markdown": [
       "# overlap\n",
       "r.overlap(c)|<0,3>|<0,2>|<1,3>|<0,1>|<1,2>|<2,3>|<1,1>|<2,2>\n",
       "-|-|-|-|-|-|-|-|-\n",
       "<0,3>|3|2|2|1|1|1|0|0\n",
       "<0,2>|2|2|1|1|1|0|0|0\n",
       "<1,3>|2|1|2|0|1|1|0|0\n",
       "<0,1>|1|1|0|1|0|-1|0|-1\n",
       "<1,2>|1|1|1|0|1|0|0|0\n",
       "<2,3>|1|0|1|-1|0|1|-1|0\n",
       "<1,1>|0|0|0|0|0|-1|0|-1\n",
       "<2,2>|0|0|0|-1|0|0|-1|0"
      ],
      "text/plain": [
       "<IPython.core.display.Markdown object>"
      ]
     },
     "metadata": {},
     "output_type": "display_data"
    },
    {
     "data": {
      "text/markdown": [
       "# overlaps\n",
       "r.overlaps(c)|<0,3>|<0,2>|<1,3>|<0,1>|<1,2>|<2,3>|<1,1>|<2,2>\n",
       "-|-|-|-|-|-|-|-|-\n",
       "<0,3>|True|True|True|True|True|True|False|False\n",
       "<0,2>|True|True|True|True|True|False|False|False\n",
       "<1,3>|True|True|True|False|True|True|False|False\n",
       "<0,1>|True|True|False|True|False|False|False|False\n",
       "<1,2>|True|True|True|False|True|False|False|False\n",
       "<2,3>|True|False|True|False|False|True|False|False\n",
       "<1,1>|False|False|False|False|False|False|False|False\n",
       "<2,2>|False|False|False|False|False|False|False|False"
      ],
      "text/plain": [
       "<IPython.core.display.Markdown object>"
      ]
     },
     "metadata": {},
     "output_type": "display_data"
    }
   ],
   "source": [
    "for mn in INTERVAL_METHODS:\n",
    "    display(pairwise_apply_md(iis, mn))"
   ]
  }
 ],
 "metadata": {
  "kernelspec": {
   "display_name": "Python 3",
   "language": "python",
   "name": "python3"
  },
  "language_info": {
   "codemirror_mode": {
    "name": "ipython",
    "version": 3
   },
   "file_extension": ".py",
   "mimetype": "text/x-python",
   "name": "python",
   "nbconvert_exporter": "python",
   "pygments_lexer": "ipython3",
   "version": "3.6.7rc1"
  }
 },
 "nbformat": 4,
 "nbformat_minor": 2
}
