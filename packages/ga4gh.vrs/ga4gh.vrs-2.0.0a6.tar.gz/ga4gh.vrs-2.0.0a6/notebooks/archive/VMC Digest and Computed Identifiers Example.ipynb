{
 "cells": [
  {
   "cell_type": "markdown",
   "metadata": {},
   "source": [
    "# VMC Digest and Computed Identifiers Example\n",
    "\n",
    "This notebook walks through the VMC digest and its application to computed identifiers.\n",
    "\n",
    "The VMC digest is *not* a new algorithm. Instead, it is merely a set of conventions prescribing the use of existing (and well-respected) methods to arbitrary data. When data participants use these conventions, they are guaranteed to generate exactly the same identifiers for objects from the underlying data, thereby obviating central naming authorities and also enabling names for local entities.\n",
    "\n",
    "Identifiers provide unique names for data. Identifiers may imply the naming authority and/or where to obtain data, but these inferences are not generally guaranteed. For example, NCBI:NC_000019.10 refers to chromosome 19 from GRCh37 primary assembly, but that sequence may be obtained from many sources. (Conceptually, this is akin to the ontology of URIs: A URI is an identifier for a resource; most URIs are URLs because they define where to get data, but some are URNs because they name data without describing where to get it.)\n",
    "\n",
    "An Identifier is a *structured* object with a *namespace* and an *accession* components. Identifier is modeled after modeled after the W3C CURIE format (https://www.w3.org/TR/curie/) and is intended to become consistent with FHIR specifications. (As of Sprint 2018, FHIR precludes a colon in an identifier, which conflicts with the CURIE standard.) The namespace and accession componenets of an Identifier correspond to the \"namespace\" and \"local part\"\n",
    "attributes of a CURIE."
   ]
  },
  {
   "cell_type": "code",
   "execution_count": 1,
   "metadata": {},
   "outputs": [],
   "source": [
    "import base64\n",
    "import binascii\n",
    "import hashlib\n",
    "\n",
    "digest_size = 24"
   ]
  },
  {
   "cell_type": "markdown",
   "metadata": {},
   "source": [
    "## ① vmc_digest\n",
    "\n",
    "\n",
    "Specifically, the conventions are:\n",
    "* The payload to be digested should be ASCII encoded\n",
    "* The digest is computed by SHA512, truncated to 24 bytes\n",
    "* The truncated digest is encoded using base64 with the URL-safe character set"
   ]
  },
  {
   "cell_type": "code",
   "execution_count": 2,
   "metadata": {},
   "outputs": [
    {
     "data": {
      "text/plain": [
       "'aKF498dAxcJAqme6QYQ7EZ07-fiw8Kw2'"
      ]
     },
     "execution_count": 2,
     "metadata": {},
     "output_type": "execute_result"
    }
   ],
   "source": [
    "# First, a complete example. Here we generate the vmc_digest for the string \"ACGT\" \n",
    "\n",
    "data = \"ACGT\" # unicode\n",
    "blob = data.encode(\"ascii\")\n",
    "digest = hashlib.sha512(blob).digest()\n",
    "truncated_digest = digest[:digest_size]\n",
    "vmc_digest = base64.urlsafe_b64encode(truncated_digest)\n",
    "vmc_digest.decode(\"ascii\")"
   ]
  },
  {
   "cell_type": "code",
   "execution_count": 3,
   "metadata": {},
   "outputs": [],
   "source": [
    "# For code clarity and maintainability, it is preferably to have a single function to generate digests.\n",
    "\n",
    "def vmc_digest(data):\n",
    "    blob = data.encode(\"ascii\")\n",
    "    digest = hashlib.sha512(blob).digest()\n",
    "    tdigest = digest[:digest_size]\n",
    "    vdigest = base64.urlsafe_b64encode(tdigest).decode(\"ascii\")\n",
    "    return vdigest"
   ]
  },
  {
   "cell_type": "code",
   "execution_count": 4,
   "metadata": {},
   "outputs": [
    {
     "data": {
      "text/plain": [
       "'aKF498dAxcJAqme6QYQ7EZ07-fiw8Kw2'"
      ]
     },
     "execution_count": 4,
     "metadata": {},
     "output_type": "execute_result"
    }
   ],
   "source": [
    "vmc_digest(\"ACGT\")"
   ]
  },
  {
   "cell_type": "markdown",
   "metadata": {},
   "source": [
    "## ② computed identifiers and ids"
   ]
  },
  {
   "cell_type": "code",
   "execution_count": 5,
   "metadata": {},
   "outputs": [
    {
     "data": {
      "text/plain": [
       "'L1IS6jOwSUsOpKihGRcqxHul1IwbV-1s'"
      ]
     },
     "execution_count": 5,
     "metadata": {},
     "output_type": "execute_result"
    }
   ],
   "source": [
    "# For structured data, we must first *serialize* the object. VMC defines serialization formats\n",
    "# for all objects. For example, a Location object serialization might be:\n",
    "data = \"<Location|VMC:GS_IIB53T8CNeJJdUqzn9V_JnRtQadwWCbl|<Interval|44908683|44908684>>\"\n",
    "vdigest = vmc_digest(data)\n",
    "vdigest"
   ]
  },
  {
   "cell_type": "code",
   "execution_count": 6,
   "metadata": {},
   "outputs": [
    {
     "data": {
      "text/plain": [
       "{'namespace': 'VMC', 'accession': 'GL_L1IS6jOwSUsOpKihGRcqxHul1IwbV-1s'}"
      ]
     },
     "execution_count": 6,
     "metadata": {},
     "output_type": "execute_result"
    }
   ],
   "source": [
    "# An Identifier is a structured object with a namespace and an accession. Namespace\n",
    "# indicates the origin of the identifier and the accession is the unique key within the namespace.\n",
    "# For VMC objects, the namespace is \"VMC\" and the accession is constructed by prefixing the digest with\n",
    "# a type indicator. For Location objects, the type indicator is \"GL\" (Global Location).\n",
    "ir = {\"namespace\": \"VMC\", \"accession\": \"GL\" + \"_\" + vdigest}\n",
    "ir"
   ]
  },
  {
   "cell_type": "code",
   "execution_count": 7,
   "metadata": {},
   "outputs": [
    {
     "data": {
      "text/plain": [
       "'VMC:GL_L1IS6jOwSUsOpKihGRcqxHul1IwbV-1s'"
      ]
     },
     "execution_count": 7,
     "metadata": {},
     "output_type": "execute_result"
    }
   ],
   "source": [
    "# An Id is a string that may be used as a key for data. One way to generate an Id is to serialize an\n",
    "# Identifier, like so:\n",
    "id = \"{ir[namespace]}:{ir[accession]}\".format(ir=ir)\n",
    "id"
   ]
  },
  {
   "cell_type": "code",
   "execution_count": 8,
   "metadata": {},
   "outputs": [],
   "source": [
    "# VMC makes extensive use of ids when linking objects"
   ]
  }
 ],
 "metadata": {
  "kernelspec": {
   "display_name": "Python 3",
   "language": "python",
   "name": "python3"
  },
  "language_info": {
   "codemirror_mode": {
    "name": "ipython",
    "version": 3
   },
   "file_extension": ".py",
   "mimetype": "text/x-python",
   "name": "python",
   "nbconvert_exporter": "python",
   "pygments_lexer": "ipython3",
   "version": "3.7.3"
  }
 },
 "nbformat": 4,
 "nbformat_minor": 2
}
