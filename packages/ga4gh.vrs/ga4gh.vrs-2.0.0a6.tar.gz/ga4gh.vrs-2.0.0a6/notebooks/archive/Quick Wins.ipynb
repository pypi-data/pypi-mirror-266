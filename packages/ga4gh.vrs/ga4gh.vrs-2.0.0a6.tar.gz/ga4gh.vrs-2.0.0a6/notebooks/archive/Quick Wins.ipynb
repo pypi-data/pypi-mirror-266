{
 "cells": [
  {
   "cell_type": "markdown",
   "metadata": {
    "collapsed": true
   },
   "source": [
    "Need from hgvs...\n",
    "#ENST00000367279:c.139C>G\n",
    "#NM_080588.2:c.139C>G"
   ]
  },
  {
   "cell_type": "markdown",
   "metadata": {},
   "source": [
    "How to distinguish: 1) homozygous from 2) from haploinsufficent from 3) mixed tissue (e.g., mosaic/chimeric or tumor/normal) from 4) unknown?\n"
   ]
  },
  {
   "cell_type": "markdown",
   "metadata": {},
   "source": [
    "multiallele variants\n",
    "e.g., http://gnomad.broadinstitute.org/variant/19-45409837-T-G\n",
    "    "
   ]
  },
  {
   "cell_type": "code",
   "execution_count": null,
   "metadata": {
    "collapsed": true
   },
   "outputs": [],
   "source": []
  }
 ],
 "metadata": {
  "kernelspec": {
   "display_name": "Python 3",
   "language": "python",
   "name": "python3"
  },
  "language_info": {
   "codemirror_mode": {
    "name": "ipython",
    "version": 3
   },
   "file_extension": ".py",
   "mimetype": "text/x-python",
   "name": "python",
   "nbconvert_exporter": "python",
   "pygments_lexer": "ipython3",
   "version": "3.6.5"
  }
 },
 "nbformat": 4,
 "nbformat_minor": 2
}
