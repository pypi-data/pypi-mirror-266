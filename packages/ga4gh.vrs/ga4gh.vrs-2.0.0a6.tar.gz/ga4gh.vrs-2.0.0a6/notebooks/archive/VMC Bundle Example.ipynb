{
 "cells": [
  {
   "cell_type": "markdown",
   "metadata": {},
   "source": [
    "# VMC Bundle Example\n",
    "This example shows how to use VMC in the context of application-defined annotations\n"
   ]
  },
  {
   "cell_type": "code",
   "execution_count": 1,
   "metadata": {},
   "outputs": [],
   "source": [
    "import json\n",
    "\n",
    "from vmc import models\n",
    "\n",
    "bundle_fn = \"ApoE Example.vmc.json\""
   ]
  },
  {
   "cell_type": "code",
   "execution_count": 2,
   "metadata": {},
   "outputs": [],
   "source": [
    "vmcbundle = models.Vmcbundle(**json.load(open(bundle_fn)))"
   ]
  },
  {
   "cell_type": "markdown",
   "metadata": {},
   "source": []
  },
  {
   "cell_type": "code",
   "execution_count": 3,
   "metadata": {},
   "outputs": [
    {
     "data": {
      "text/plain": [
       "['VMC:GA_zsJuMckKGajqHCl16sxKQJtBMjGrFHHZ',\n",
       " 'VMC:GA__8rLiy7YkQDNy-t536RpVFGxIDiWLr6J']"
      ]
     },
     "execution_count": 3,
     "metadata": {},
     "output_type": "execute_result"
    }
   ],
   "source": [
    "list(vmcbundle.alleles.keys())"
   ]
  },
  {
   "cell_type": "code",
   "execution_count": 4,
   "metadata": {},
   "outputs": [
    {
     "data": {
      "text/plain": [
       "<Allele id=VMC:GA_zsJuMckKGajqHCl16sxKQJtBMjGrFHHZ location_id=VMC:GL_L1IS6jOwSUsOpKihGRcqxHul1IwbV-1s state=C>"
      ]
     },
     "execution_count": 4,
     "metadata": {},
     "output_type": "execute_result"
    }
   ],
   "source": [
    "a = vmcbundle.alleles[\"VMC:GA_zsJuMckKGajqHCl16sxKQJtBMjGrFHHZ\"]\n",
    "a"
   ]
  },
  {
   "cell_type": "code",
   "execution_count": 5,
   "metadata": {},
   "outputs": [
    {
     "data": {
      "text/plain": [
       "'VMC:GL_L1IS6jOwSUsOpKihGRcqxHul1IwbV-1s'"
      ]
     },
     "execution_count": 5,
     "metadata": {},
     "output_type": "execute_result"
    }
   ],
   "source": [
    "a.location_id"
   ]
  },
  {
   "cell_type": "code",
   "execution_count": 6,
   "metadata": {},
   "outputs": [
    {
     "data": {
      "text/plain": [
       "<Location id=VMC:GL_L1IS6jOwSUsOpKihGRcqxHul1IwbV-1s interval=<Interval attributes: end, start> sequence_id=VMC:GS_IIB53T8CNeJJdUqzn9V_JnRtQadwWCbl>"
      ]
     },
     "execution_count": 6,
     "metadata": {},
     "output_type": "execute_result"
    }
   ],
   "source": [
    "l = vmcbundle.locations[a.location_id]\n",
    "l"
   ]
  },
  {
   "cell_type": "code",
   "execution_count": 7,
   "metadata": {},
   "outputs": [
    {
     "data": {
      "text/plain": [
       "'VMC:GS_IIB53T8CNeJJdUqzn9V_JnRtQadwWCbl'"
      ]
     },
     "execution_count": 7,
     "metadata": {},
     "output_type": "execute_result"
    }
   ],
   "source": [
    "l.sequence_id"
   ]
  },
  {
   "cell_type": "code",
   "execution_count": 8,
   "metadata": {},
   "outputs": [
    {
     "data": {
      "text/plain": [
       "<#/definitions/Identifiers/<patternProperties>_^.=[{'accession': 'NC_000019.10', 'namespace': 'NCBI'}]>"
      ]
     },
     "execution_count": 8,
     "metadata": {},
     "output_type": "execute_result"
    }
   ],
   "source": [
    "seq_ids = vmcbundle.identifiers[l.sequence_id]\n",
    "seq_ids"
   ]
  },
  {
   "cell_type": "code",
   "execution_count": 9,
   "metadata": {},
   "outputs": [
    {
     "data": {
      "text/plain": [
       "<Identifier accession=NC_000019.10 namespace=NCBI>"
      ]
     },
     "execution_count": 9,
     "metadata": {},
     "output_type": "execute_result"
    }
   ],
   "source": [
    "seq_ids[0]"
   ]
  },
  {
   "cell_type": "code",
   "execution_count": null,
   "metadata": {},
   "outputs": [],
   "source": []
  }
 ],
 "metadata": {
  "kernelspec": {
   "display_name": "Python 3",
   "language": "python",
   "name": "python3"
  },
  "language_info": {
   "codemirror_mode": {
    "name": "ipython",
    "version": 3
   },
   "file_extension": ".py",
   "mimetype": "text/x-python",
   "name": "python",
   "nbconvert_exporter": "python",
   "pygments_lexer": "ipython3",
   "version": "3.6.5"
  }
 },
 "nbformat": 4,
 "nbformat_minor": 2
}
