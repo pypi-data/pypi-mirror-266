{
 "cells": [
  {
   "cell_type": "markdown",
   "metadata": {},
   "source": [
    "# Core Objects in VMC\n",
    "\n",
    "This notebook demonstrates VMC core objects using ApoE alleles, haplotypes, and genotypes.\n",
    "\n",
    "The ApoE gene is associated with risks of Alzheimer's disease and hypercholesterolemia. Risk of AD is attributed to haplotypes comprised of two locations, [rs429358](https://www.ncbi.nlm.nih.gov/snp/rs429358) and [rs7412](https://www.ncbi.nlm.nih.gov/snp/rs7412), both of which are C/T transitions.  The four ApoE haplotypes are defined by the two states (C and T) at the two locations shown below.\n",
    "\n",
    "```\n",
    "                             rs7412 \n",
    "                             NC_000019.10:g.44908822\n",
    "                             NM_000041.3:c.526\n",
    "                             C          T\n",
    "rs429358                 C   APOE-ε4    APOE-ε1\n",
    "NC_000019.10:g.44908684  T   APOE-ε3    APOE-ε2\n",
    "NM_000041.3:c.388\n",
    "```\n",
    "\n",
    "Links:\n",
    "\n",
    "https://ghr.nlm.nih.gov/gene/APOE\n",
    "\n",
    "[APO E4](https://www.ncbi.nlm.nih.gov/clinvar/variation/441269/)\n",
    "\n",
    "http://snpedia.com/index.php/APOE"
   ]
  },
  {
   "cell_type": "markdown",
   "metadata": {},
   "source": [
    "## Setup"
   ]
  },
  {
   "cell_type": "code",
   "execution_count": 1,
   "metadata": {},
   "outputs": [],
   "source": [
    "# Use these strings as the namespaces for ApoE haplotypes and dbSNP locations\n",
    "APOE_NAMESPACE = \"ApoE\"\n",
    "DBSNP_NAMESPACE = \"dbSNP\"\n",
    "\n",
    "\n",
    "import collections\n",
    "import datetime\n",
    "import json\n",
    "import os\n",
    "\n",
    "import jsonschema\n",
    "\n",
    "from vmc import models, computed_id, serialize, schema_path\n",
    "from vmc.utils import id_to_ir, ir_to_id, get_vmc_sequence_identifier\n",
    "\n",
    "# pretty print json\n",
    "def opp(o): print(json.dumps(json.loads(o.serialize()), indent=4, sort_keys=True))"
   ]
  },
  {
   "cell_type": "markdown",
   "metadata": {},
   "source": [
    "## Identifiers\n",
    "The `identifers` map is a map of internal ids to a list of external identifiers.\n",
    "Object relationships will be defined in terms of internal ids.\n",
    "The external identifiers enable others to interpret "
   ]
  },
  {
   "cell_type": "code",
   "execution_count": 2,
   "metadata": {},
   "outputs": [],
   "source": [
    "identifiers = collections.defaultdict(set)"
   ]
  },
  {
   "cell_type": "markdown",
   "metadata": {},
   "source": [
    "## Sequences\n",
    "A description of sequence variation, with VMC or otherwise, requires the availability of sequences in order to define coordinate systems.  Typically sequences are referred to with an accession like NC_000019.10.  There are two issues with using sequence accessions:\n",
    "\n",
    "* Identical sequences have different names (e.g., \"NC_000019.10\" == \"CM000681.2\" == (GRCh38) \"19\" == (GRCh38 UCSC) \"chr19\").  Naive comparison of the same allele defined using different sequence name will fail.\n",
    "* With graph genomes, it will become infeasible to assign sequence identifiers.\n",
    "\n",
    "For these reasons, VMC encourages (but doesn't require) the use of computed identifiers based on a SHA512 digest, truncated to 24 bytes, and URL-safe base64 encoded.\n",
    "\n",
    "get_vmc_sequence_id returns the computed sequence identifier for a given accession."
   ]
  },
  {
   "cell_type": "code",
   "execution_count": 3,
   "metadata": {},
   "outputs": [
    {
     "data": {
      "text/plain": [
       "'VMC:GS_IIB53T8CNeJJdUqzn9V_JnRtQadwWCbl'"
      ]
     },
     "execution_count": 3,
     "metadata": {},
     "output_type": "execute_result"
    }
   ],
   "source": [
    "ir = \"RefSeq:NC_000019.10\"\n",
    "sequence_ir = get_vmc_sequence_identifier(ir)\n",
    "sequence_ir"
   ]
  },
  {
   "cell_type": "code",
   "execution_count": 4,
   "metadata": {},
   "outputs": [],
   "source": [
    "identifiers[sequence_ir].add(ir)"
   ]
  },
  {
   "cell_type": "markdown",
   "metadata": {},
   "source": [
    "## Intervals and Locations\n",
    "An Interval consists of start and end positions in interbase coordinates.\n",
    "A Location refers to a continuous span within a sequence, where the sequence is identified by Id and the span is defined by an Interval."
   ]
  },
  {
   "cell_type": "code",
   "execution_count": 5,
   "metadata": {},
   "outputs": [],
   "source": [
    "locations_by_name = {\n",
    "    \"rs429358\": models.Location(\n",
    "        sequence_id = sequence_ir,\n",
    "        interval = models.Interval(start=44908683, end=44908684),\n",
    "    ),\n",
    "    \"rs7412\": models.Location(\n",
    "        sequence_id = sequence_ir,\n",
    "        interval=models.Interval(start=44908821, end=44908822),\n",
    "    )\n",
    "}\n",
    "for n, l in locations_by_name.items():\n",
    "    l.id = computed_id(l)\n",
    "    identifiers[l.id].add(ir_to_id(models.Identifier(namespace=DBSNP_NAMESPACE, accession=n)))"
   ]
  },
  {
   "cell_type": "code",
   "execution_count": 6,
   "metadata": {},
   "outputs": [
    {
     "data": {
      "text/plain": [
       "'<Location|VMC:GS_IIB53T8CNeJJdUqzn9V_JnRtQadwWCbl|<Interval|44908683|44908684>>'"
      ]
     },
     "execution_count": 6,
     "metadata": {},
     "output_type": "execute_result"
    }
   ],
   "source": [
    "# This is the string that is hashed to generate a computed identifier\n",
    "serialize(locations_by_name[\"rs429358\"])"
   ]
  },
  {
   "cell_type": "code",
   "execution_count": 7,
   "metadata": {
    "scrolled": true
   },
   "outputs": [
    {
     "name": "stdout",
     "output_type": "stream",
     "text": [
      "{\n",
      "    \"id\": \"VMC:GL_L1IS6jOwSUsOpKihGRcqxHul1IwbV-1s\",\n",
      "    \"interval\": {\n",
      "        \"end\": 44908684,\n",
      "        \"start\": 44908683\n",
      "    },\n",
      "    \"sequence_id\": \"VMC:GS_IIB53T8CNeJJdUqzn9V_JnRtQadwWCbl\"\n",
      "}\n"
     ]
    }
   ],
   "source": [
    "opp(locations_by_name[\"rs429358\"])"
   ]
  },
  {
   "cell_type": "markdown",
   "metadata": {},
   "source": [
    "## Alleles"
   ]
  },
  {
   "cell_type": "code",
   "execution_count": 8,
   "metadata": {},
   "outputs": [],
   "source": [
    "alleles_by_name = {\n",
    "    \"rs429358T\": models.Allele(location_id=locations_by_name[\"rs429358\"].id, state=\"T\"),\n",
    "    \"rs429358C\": models.Allele(location_id=locations_by_name[\"rs429358\"].id, state=\"C\"),\n",
    "    \"rs7412T\":   models.Allele(location_id=locations_by_name[\"rs7412\"].id,   state=\"T\"),\n",
    "    \"rs7412C\":   models.Allele(location_id=locations_by_name[\"rs7412\"].id,   state=\"C\"),\n",
    "}\n",
    "for n, a in alleles_by_name.items():\n",
    "    a.id = computed_id(a)\n",
    "    identifiers[a.id].add(ir_to_id(models.Identifier(namespace=DBSNP_NAMESPACE, accession=n)))"
   ]
  },
  {
   "cell_type": "code",
   "execution_count": 9,
   "metadata": {},
   "outputs": [
    {
     "data": {
      "text/plain": [
       "'<Allele|VMC:GL_L1IS6jOwSUsOpKihGRcqxHul1IwbV-1s|C>'"
      ]
     },
     "execution_count": 9,
     "metadata": {},
     "output_type": "execute_result"
    }
   ],
   "source": [
    "serialize(alleles_by_name[\"rs429358C\"])"
   ]
  },
  {
   "cell_type": "code",
   "execution_count": 10,
   "metadata": {},
   "outputs": [
    {
     "name": "stdout",
     "output_type": "stream",
     "text": [
      "{\n",
      "    \"id\": \"VMC:GA_zsJuMckKGajqHCl16sxKQJtBMjGrFHHZ\",\n",
      "    \"location_id\": \"VMC:GL_L1IS6jOwSUsOpKihGRcqxHul1IwbV-1s\",\n",
      "    \"state\": \"C\"\n",
      "}\n"
     ]
    }
   ],
   "source": [
    "opp(alleles_by_name[\"rs429358C\"])"
   ]
  },
  {
   "cell_type": "markdown",
   "metadata": {},
   "source": [
    "## Haplotypes"
   ]
  },
  {
   "cell_type": "code",
   "execution_count": 11,
   "metadata": {
    "scrolled": true
   },
   "outputs": [],
   "source": [
    "haplotypes_by_name = {\n",
    "    \"ε1\": models.Haplotype(\n",
    "        allele_ids = [alleles_by_name[\"rs429358C\"].id, alleles_by_name[\"rs7412T\"].id],\n",
    "        completeness = \"COMPLETE\"\n",
    "    ),\n",
    "    \"ε2\": models.Haplotype(\n",
    "        allele_ids = [alleles_by_name[\"rs429358T\"].id, alleles_by_name[\"rs7412T\"].id],\n",
    "        completeness = \"COMPLETE\"\n",
    "    ),\n",
    "    \"ε3\": models.Haplotype(\n",
    "        allele_ids = [alleles_by_name[\"rs429358T\"].id, alleles_by_name[\"rs7412C\"].id],\n",
    "        completeness = \"COMPLETE\"\n",
    "    ),\n",
    "    \"ε4\": models.Haplotype(\n",
    "        allele_ids = [alleles_by_name[\"rs429358C\"].id, alleles_by_name[\"rs7412C\"].id],\n",
    "        completeness = \"COMPLETE\"\n",
    "    ),\n",
    "}\n",
    "\n",
    "for n, h in haplotypes_by_name.items():\n",
    "    h.id = computed_id(h)\n",
    "    identifiers[h.id].add(ir_to_id(models.Identifier(namespace=APOE_NAMESPACE, accession=n)))"
   ]
  },
  {
   "cell_type": "code",
   "execution_count": 12,
   "metadata": {},
   "outputs": [
    {
     "data": {
      "text/plain": [
       "'<Haplotype||COMPLETE|[VMC:GA_BqFKgQ350SUi4-uaGCvMM1ag7z0dNmvC;VMC:GA_zsJuMckKGajqHCl16sxKQJtBMjGrFHHZ]>'"
      ]
     },
     "execution_count": 12,
     "metadata": {},
     "output_type": "execute_result"
    }
   ],
   "source": [
    "serialize(haplotypes_by_name[\"ε1\"])"
   ]
  },
  {
   "cell_type": "code",
   "execution_count": 13,
   "metadata": {},
   "outputs": [
    {
     "name": "stdout",
     "output_type": "stream",
     "text": [
      "{\n",
      "    \"allele_ids\": [\n",
      "        \"VMC:GA_zsJuMckKGajqHCl16sxKQJtBMjGrFHHZ\",\n",
      "        \"VMC:GA__8rLiy7YkQDNy-t536RpVFGxIDiWLr6J\"\n",
      "    ],\n",
      "    \"completeness\": \"COMPLETE\",\n",
      "    \"id\": \"VMC:GH_xk_4sKZKfwD7ol3H89mDShrBT3dfu5Aq\"\n",
      "}\n"
     ]
    }
   ],
   "source": [
    "opp(haplotypes_by_name[\"ε4\"])"
   ]
  },
  {
   "cell_type": "code",
   "execution_count": 14,
   "metadata": {},
   "outputs": [
    {
     "name": "stdout",
     "output_type": "stream",
     "text": [
      "{\n",
      "    \"allele_ids\": [\n",
      "        \"VMC:GA__8rLiy7YkQDNy-t536RpVFGxIDiWLr6J\",\n",
      "        \"VMC:GA_zsJuMckKGajqHCl16sxKQJtBMjGrFHHZ\"\n",
      "    ],\n",
      "    \"completeness\": \"COMPLETE\",\n",
      "    \"id\": \"VMC:GH_xk_4sKZKfwD7ol3H89mDShrBT3dfu5Aq\"\n",
      "}\n"
     ]
    }
   ],
   "source": [
    "# Reversing allele ids results in the same digest (that's good!)\n",
    "h_ε4r = models.Haplotype(\n",
    "        allele_ids = [alleles_by_name[\"rs7412C\"].id, alleles_by_name[\"rs429358C\"].id],\n",
    "        completeness = \"COMPLETE\"\n",
    ")\n",
    "h_ε4r.id = computed_id(h_ε4r)\n",
    "opp(h_ε4r)"
   ]
  },
  {
   "cell_type": "markdown",
   "metadata": {},
   "source": [
    "## Genotypes"
   ]
  },
  {
   "cell_type": "code",
   "execution_count": 15,
   "metadata": {},
   "outputs": [],
   "source": [
    "genotypes_by_name = {\n",
    "    \"ε2/ε3\": models.Genotype(\n",
    "        haplotype_ids = [haplotypes_by_name[\"ε2\"].id, haplotypes_by_name[\"ε3\"].id],\n",
    "        completeness = \"COMPLETE\"\n",
    "    ),\n",
    "    \"ε3/ε2\": models.Genotype(\n",
    "        haplotype_ids = [haplotypes_by_name[\"ε3\"].id, haplotypes_by_name[\"ε2\"].id],\n",
    "        completeness = \"COMPLETE\"\n",
    "    ),\n",
    "    \"ε4/ε4\": models.Genotype(\n",
    "        haplotype_ids = [haplotypes_by_name[\"ε4\"].id, haplotypes_by_name[\"ε4\"].id],\n",
    "        completeness = \"COMPLETE\"\n",
    "    ),\n",
    "}\n",
    "\n",
    "for n, h in genotypes_by_name.items():\n",
    "    h.id = computed_id(h)\n",
    "    identifiers[h.id].add(ir_to_id(models.Identifier(namespace=APOE_NAMESPACE, accession=n)))"
   ]
  },
  {
   "cell_type": "code",
   "execution_count": 16,
   "metadata": {},
   "outputs": [
    {
     "data": {
      "text/plain": [
       "'<Genotype|COMPLETE|[VMC:GH_xk_4sKZKfwD7ol3H89mDShrBT3dfu5Aq;VMC:GH_xk_4sKZKfwD7ol3H89mDShrBT3dfu5Aq]>'"
      ]
     },
     "execution_count": 16,
     "metadata": {},
     "output_type": "execute_result"
    }
   ],
   "source": [
    "serialize(genotypes_by_name[\"ε4/ε4\"])"
   ]
  },
  {
   "cell_type": "code",
   "execution_count": 17,
   "metadata": {},
   "outputs": [
    {
     "name": "stdout",
     "output_type": "stream",
     "text": [
      "{\n",
      "    \"completeness\": \"COMPLETE\",\n",
      "    \"haplotype_ids\": [\n",
      "        \"VMC:GH_PZt2IfE2__4A_J4inA1Ehkyia5sir3FK\",\n",
      "        \"VMC:GH_VIAXr7XHqVGdcaFeDRHizjXfG83xYEg6\"\n",
      "    ],\n",
      "    \"id\": \"VMC:GG_Y8F4nhC0VAMK_uVrC2DjLcQ_Eed03ahq\"\n",
      "}\n"
     ]
    }
   ],
   "source": [
    "opp(genotypes_by_name[\"ε2/ε3\"])"
   ]
  },
  {
   "cell_type": "code",
   "execution_count": 18,
   "metadata": {},
   "outputs": [
    {
     "name": "stdout",
     "output_type": "stream",
     "text": [
      "{\n",
      "    \"completeness\": \"COMPLETE\",\n",
      "    \"haplotype_ids\": [\n",
      "        \"VMC:GH_VIAXr7XHqVGdcaFeDRHizjXfG83xYEg6\",\n",
      "        \"VMC:GH_PZt2IfE2__4A_J4inA1Ehkyia5sir3FK\"\n",
      "    ],\n",
      "    \"id\": \"VMC:GG_Y8F4nhC0VAMK_uVrC2DjLcQ_Eed03ahq\"\n",
      "}\n"
     ]
    }
   ],
   "source": [
    "opp(genotypes_by_name[\"ε3/ε2\"])"
   ]
  },
  {
   "cell_type": "markdown",
   "metadata": {},
   "source": [
    "## Bundle Serialization, Validation, and Roundtripping"
   ]
  },
  {
   "cell_type": "code",
   "execution_count": 19,
   "metadata": {},
   "outputs": [],
   "source": [
    "bundle = models.Vmcbundle(\n",
    "    meta=models.Meta(\n",
    "            generated_at=datetime.datetime.isoformat(datetime.datetime.now()),\n",
    "            vmc_version=0,\n",
    "        ),\n",
    "    locations = {o.id: o.as_dict() for o in locations_by_name.values()},\n",
    "    alleles = {o.id: o.as_dict() for o in alleles_by_name.values()},\n",
    "    haplotypes = {o.id: o.as_dict() for o in haplotypes_by_name.values()},\n",
    "    genotypes = {o.id: o.as_dict() for o in genotypes_by_name.values()},\n",
    "    identifiers = {n: list(irs) for n, irs in identifiers.items()}\n",
    ")"
   ]
  },
  {
   "cell_type": "code",
   "execution_count": 20,
   "metadata": {},
   "outputs": [
    {
     "name": "stdout",
     "output_type": "stream",
     "text": [
      "{\n",
      "    \"alleles\": {\n",
      "        \"VMC:GA_AnJl99FJB5tNPupduz8I4R8CCuwCpIY0\": {\n",
      "            \"id\": \"VMC:GA_AnJl99FJB5tNPupduz8I4R8CCuwCpIY0\",\n",
      "            \"location_id\": \"VMC:GL_L1IS6jOwSUsOpKihGRcqxHul1IwbV-1s\",\n",
      "            \"state\": \"T\"\n",
      "        },\n",
      "        \"VMC:GA_BqFKgQ350SUi4-uaGCvMM1ag7z0dNmvC\": {\n",
      "            \"id\": \"VMC:GA_BqFKgQ350SUi4-uaGCvMM1ag7z0dNmvC\",\n",
      "            \"location_id\": \"VMC:GL_heG_PQopyF0Vgi4zH6yiLf3diyfyJcV3\",\n",
      "            \"state\": \"T\"\n",
      "        },\n",
      "        \"VMC:GA__8rLiy7YkQDNy-t536RpVFGxIDiWLr6J\": {\n",
      "            \"id\": \"VMC:GA__8rLiy7YkQDNy-t536RpVFGxIDiWLr6J\",\n",
      "            \"location_id\": \"VMC:GL_heG_PQopyF0Vgi4zH6yiLf3diyfyJcV3\",\n",
      "            \"state\": \"C\"\n",
      "        },\n",
      "        \"VMC:GA_zsJuMckKGajqHCl16sxKQJtBMjGrFHHZ\": {\n",
      "            \"id\": \"VMC:GA_zsJuMckKGajqHCl16sxKQJtBMjGrFHHZ\",\n",
      "            \"location_id\": \"VMC:GL_L1IS6jOwSUsOpKihGRcqxHul1IwbV-1s\",\n",
      "            \"state\": \"C\"\n",
      "        }\n",
      "    },\n",
      "    \"genotypes\": {\n",
      "        \"VMC:GG_Pv97fICMeVRmowtCwioFpoFmrsOkZ7es\": {\n",
      "            \"completeness\": \"COMPLETE\",\n",
      "            \"haplotype_ids\": [\n",
      "                \"VMC:GH_xk_4sKZKfwD7ol3H89mDShrBT3dfu5Aq\",\n",
      "                \"VMC:GH_xk_4sKZKfwD7ol3H89mDShrBT3dfu5Aq\"\n",
      "            ],\n",
      "            \"id\": \"VMC:GG_Pv97fICMeVRmowtCwioFpoFmrsOkZ7es\"\n",
      "        },\n",
      "        \"VMC:GG_Y8F4nhC0VAMK_uVrC2DjLcQ_Eed03ahq\": {\n",
      "            \"completeness\": \"COMPLETE\",\n",
      "            \"haplotype_ids\": [\n",
      "                \"VMC:GH_VIAXr7XHqVGdcaFeDRHizjXfG83xYEg6\",\n",
      "                \"VMC:GH_PZt2IfE2__4A_J4inA1Ehkyia5sir3FK\"\n",
      "            ],\n",
      "            \"id\": \"VMC:GG_Y8F4nhC0VAMK_uVrC2DjLcQ_Eed03ahq\"\n",
      "        }\n",
      "    },\n",
      "    \"haplotypes\": {\n",
      "        \"VMC:GH_PZt2IfE2__4A_J4inA1Ehkyia5sir3FK\": {\n",
      "            \"allele_ids\": [\n",
      "                \"VMC:GA_AnJl99FJB5tNPupduz8I4R8CCuwCpIY0\",\n",
      "                \"VMC:GA_BqFKgQ350SUi4-uaGCvMM1ag7z0dNmvC\"\n",
      "            ],\n",
      "            \"completeness\": \"COMPLETE\",\n",
      "            \"id\": \"VMC:GH_PZt2IfE2__4A_J4inA1Ehkyia5sir3FK\"\n",
      "        },\n",
      "        \"VMC:GH_VIAXr7XHqVGdcaFeDRHizjXfG83xYEg6\": {\n",
      "            \"allele_ids\": [\n",
      "                \"VMC:GA_AnJl99FJB5tNPupduz8I4R8CCuwCpIY0\",\n",
      "                \"VMC:GA__8rLiy7YkQDNy-t536RpVFGxIDiWLr6J\"\n",
      "            ],\n",
      "            \"completeness\": \"COMPLETE\",\n",
      "            \"id\": \"VMC:GH_VIAXr7XHqVGdcaFeDRHizjXfG83xYEg6\"\n",
      "        },\n",
      "        \"VMC:GH_rp5N_EV0JIJgVbiJoLE8IrvOn4FHzp8U\": {\n",
      "            \"allele_ids\": [\n",
      "                \"VMC:GA_zsJuMckKGajqHCl16sxKQJtBMjGrFHHZ\",\n",
      "                \"VMC:GA_BqFKgQ350SUi4-uaGCvMM1ag7z0dNmvC\"\n",
      "            ],\n",
      "            \"completeness\": \"COMPLETE\",\n",
      "            \"id\": \"VMC:GH_rp5N_EV0JIJgVbiJoLE8IrvOn4FHzp8U\"\n",
      "        },\n",
      "        \"VMC:GH_xk_4sKZKfwD7ol3H89mDShrBT3dfu5Aq\": {\n",
      "            \"allele_ids\": [\n",
      "                \"VMC:GA_zsJuMckKGajqHCl16sxKQJtBMjGrFHHZ\",\n",
      "                \"VMC:GA__8rLiy7YkQDNy-t536RpVFGxIDiWLr6J\"\n",
      "            ],\n",
      "            \"completeness\": \"COMPLETE\",\n",
      "            \"id\": \"VMC:GH_xk_4sKZKfwD7ol3H89mDShrBT3dfu5Aq\"\n",
      "        }\n",
      "    },\n",
      "    \"identifiers\": {\n",
      "        \"VMC:GA_AnJl99FJB5tNPupduz8I4R8CCuwCpIY0\": [\n",
      "            \"dbSNP:rs429358T\"\n",
      "        ],\n",
      "        \"VMC:GA_BqFKgQ350SUi4-uaGCvMM1ag7z0dNmvC\": [\n",
      "            \"dbSNP:rs7412T\"\n",
      "        ],\n",
      "        \"VMC:GA__8rLiy7YkQDNy-t536RpVFGxIDiWLr6J\": [\n",
      "            \"dbSNP:rs7412C\"\n",
      "        ],\n",
      "        \"VMC:GA_zsJuMckKGajqHCl16sxKQJtBMjGrFHHZ\": [\n",
      "            \"dbSNP:rs429358C\"\n",
      "        ],\n",
      "        \"VMC:GG_Pv97fICMeVRmowtCwioFpoFmrsOkZ7es\": [\n",
      "            \"ApoE:\\u03b54/\\u03b54\"\n",
      "        ],\n",
      "        \"VMC:GG_Y8F4nhC0VAMK_uVrC2DjLcQ_Eed03ahq\": [\n",
      "            \"ApoE:\\u03b53/\\u03b52\",\n",
      "            \"ApoE:\\u03b52/\\u03b53\"\n",
      "        ],\n",
      "        \"VMC:GH_PZt2IfE2__4A_J4inA1Ehkyia5sir3FK\": [\n",
      "            \"ApoE:\\u03b52\"\n",
      "        ],\n",
      "        \"VMC:GH_VIAXr7XHqVGdcaFeDRHizjXfG83xYEg6\": [\n",
      "            \"ApoE:\\u03b53\"\n",
      "        ],\n",
      "        \"VMC:GH_rp5N_EV0JIJgVbiJoLE8IrvOn4FHzp8U\": [\n",
      "            \"ApoE:\\u03b51\"\n",
      "        ],\n",
      "        \"VMC:GH_xk_4sKZKfwD7ol3H89mDShrBT3dfu5Aq\": [\n",
      "            \"ApoE:\\u03b54\"\n",
      "        ],\n",
      "        \"VMC:GL_L1IS6jOwSUsOpKihGRcqxHul1IwbV-1s\": [\n",
      "            \"dbSNP:rs429358\"\n",
      "        ],\n",
      "        \"VMC:GL_heG_PQopyF0Vgi4zH6yiLf3diyfyJcV3\": [\n",
      "            \"dbSNP:rs7412\"\n",
      "        ],\n",
      "        \"VMC:GS_IIB53T8CNeJJdUqzn9V_JnRtQadwWCbl\": [\n",
      "            \"RefSeq:NC_000019.10\"\n",
      "        ]\n",
      "    },\n",
      "    \"locations\": {\n",
      "        \"VMC:GL_L1IS6jOwSUsOpKihGRcqxHul1IwbV-1s\": {\n",
      "            \"id\": \"VMC:GL_L1IS6jOwSUsOpKihGRcqxHul1IwbV-1s\",\n",
      "            \"interval\": {\n",
      "                \"end\": 44908684,\n",
      "                \"start\": 44908683\n",
      "            },\n",
      "            \"sequence_id\": \"VMC:GS_IIB53T8CNeJJdUqzn9V_JnRtQadwWCbl\"\n",
      "        },\n",
      "        \"VMC:GL_heG_PQopyF0Vgi4zH6yiLf3diyfyJcV3\": {\n",
      "            \"id\": \"VMC:GL_heG_PQopyF0Vgi4zH6yiLf3diyfyJcV3\",\n",
      "            \"interval\": {\n",
      "                \"end\": 44908822,\n",
      "                \"start\": 44908821\n",
      "            },\n",
      "            \"sequence_id\": \"VMC:GS_IIB53T8CNeJJdUqzn9V_JnRtQadwWCbl\"\n",
      "        }\n",
      "    },\n",
      "    \"meta\": {\n",
      "        \"generated_at\": \"2018-10-21T19:22:44.222186\",\n",
      "        \"vmc_version\": 0\n",
      "    }\n",
      "}\n"
     ]
    }
   ],
   "source": [
    "opp(bundle)"
   ]
  },
  {
   "cell_type": "markdown",
   "metadata": {},
   "source": [
    "### Validate against schema"
   ]
  },
  {
   "cell_type": "code",
   "execution_count": 21,
   "metadata": {},
   "outputs": [],
   "source": [
    "s = bundle.serialize()  # same as above opp(bundle), but not pretty printed"
   ]
  },
  {
   "cell_type": "code",
   "execution_count": 22,
   "metadata": {},
   "outputs": [],
   "source": [
    "schema = json.load(open(schema_path))\n",
    "jsonschema.validate(bundle.as_dict(), schema)"
   ]
  },
  {
   "cell_type": "markdown",
   "metadata": {},
   "source": [
    "### Verify that bundle roundtrips to same structure"
   ]
  },
  {
   "cell_type": "code",
   "execution_count": 23,
   "metadata": {},
   "outputs": [],
   "source": [
    "bundle_round_trip = models.Vmcbundle(**json.loads(s))"
   ]
  },
  {
   "cell_type": "code",
   "execution_count": 24,
   "metadata": {},
   "outputs": [
    {
     "data": {
      "text/plain": [
       "True"
      ]
     },
     "execution_count": 24,
     "metadata": {},
     "output_type": "execute_result"
    }
   ],
   "source": [
    "bundle == bundle_round_trip"
   ]
  },
  {
   "cell_type": "markdown",
   "metadata": {},
   "source": [
    "### Save bundle\n",
    "This will be used in the VMC Bundle Example"
   ]
  },
  {
   "cell_type": "code",
   "execution_count": 25,
   "metadata": {},
   "outputs": [
    {
     "data": {
      "text/plain": [
       "3418"
      ]
     },
     "execution_count": 25,
     "metadata": {},
     "output_type": "execute_result"
    }
   ],
   "source": [
    "open(\"ApoE Example.vmc.json\", \"w\").write(s)"
   ]
  },
  {
   "cell_type": "code",
   "execution_count": null,
   "metadata": {},
   "outputs": [],
   "source": []
  }
 ],
 "metadata": {
  "kernelspec": {
   "display_name": "Python 3",
   "language": "python",
   "name": "python3"
  },
  "language_info": {
   "codemirror_mode": {
    "name": "ipython",
    "version": 3
   },
   "file_extension": ".py",
   "mimetype": "text/x-python",
   "name": "python",
   "nbconvert_exporter": "python",
   "pygments_lexer": "ipython3",
   "version": "3.6.7rc1"
  }
 },
 "nbformat": 4,
 "nbformat_minor": 2
}
