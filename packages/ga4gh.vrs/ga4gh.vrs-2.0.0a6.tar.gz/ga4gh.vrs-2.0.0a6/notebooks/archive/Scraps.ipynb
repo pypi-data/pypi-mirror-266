{
 "cells": [
  {
   "cell_type": "code",
   "execution_count": 1,
   "metadata": {},
   "outputs": [],
   "source": [
    "import vmc"
   ]
  },
  {
   "cell_type": "code",
   "execution_count": 9,
   "metadata": {},
   "outputs": [
    {
     "data": {
      "text/plain": [
       "'<Haplotype|VMC:GL_GARHq5s3QFT7K_iRaU1iw-QXPx0CuAMc|COMPLETE|[]>'"
      ]
     },
     "execution_count": 9,
     "metadata": {},
     "output_type": "execute_result"
    }
   ],
   "source": [
    "# absence of variation in ApoE on GRCh38\n",
    "# https://www.ncbi.nlm.nih.gov/gene/348\n",
    "# NC_000019.10 (44905749..44909395)\n",
    "\n",
    "seq_id = vmc.get_vmc_sequence_identifier(\"NC_000019.10\")\n",
    "interval = vmc.models.Interval(start=44905748, end=44909395)\n",
    "location = vmc.models.Location(sequence_id = seq_id, interval=interval)\n",
    "location.id = vmc.computed_id(location)\n",
    "haplotype = vmc.models.Haplotype(allele_ids=[], completeness=\"COMPLETE\", location_id=location.id)\n",
    "haplotype.id = vmc.computed_id(haplotype)\n",
    "vmc.serialize(haplotype)"
   ]
  },
  {
   "cell_type": "code",
   "execution_count": null,
   "metadata": {},
   "outputs": [],
   "source": []
  }
 ],
 "metadata": {
  "kernelspec": {
   "display_name": "Python 3",
   "language": "python",
   "name": "python3"
  },
  "language_info": {
   "codemirror_mode": {
    "name": "ipython",
    "version": 3
   },
   "file_extension": ".py",
   "mimetype": "text/x-python",
   "name": "python",
   "nbconvert_exporter": "python",
   "pygments_lexer": "ipython3",
   "version": "3.6.7rc1"
  }
 },
 "nbformat": 4,
 "nbformat_minor": 2
}
